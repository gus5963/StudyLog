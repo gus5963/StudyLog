{
 "cells": [
  {
   "cell_type": "code",
   "execution_count": 10,
   "id": "ff28b702",
   "metadata": {},
   "outputs": [],
   "source": [
    "import pandas as pd\n",
    "import numpy as np\n",
    "from pandas import Series, DataFrame"
   ]
  },
  {
   "cell_type": "markdown",
   "id": "47258961",
   "metadata": {},
   "source": [
    "# pandas 1\n",
    "- 구조화된 데이터의 처리를 지원하는 python 라이브러리\n",
    "- 고성능 array계산 라이브러리인 Numpy와 통합하여, 강력한 스프레드시트 처리 기능을 제공\n",
    "- 인덱싱, 연산용 함수, 전처리 함수 등을 제공\n",
    "\n",
    "## pandas 구성\n",
    "\n",
    "### Series\n",
    "- Dataframe 중 하나의 column에 해당하는 데이터의 모음 object, numpy의 vector와 비슷하다.\n",
    "- data index 접근 시 numpy와 다른 점은 지정한 index name으로 접근이 가능하다는 것이다. 마치 dict처럼"
   ]
  },
  {
   "cell_type": "code",
   "execution_count": 7,
   "id": "7d71a485",
   "metadata": {},
   "outputs": [],
   "source": [
    "list_data = [1,2,3,4,5]\n",
    "list_name = ['a','b','c','d','e']\n",
    "example_obj = Series(list_data,index=list_name)"
   ]
  },
  {
   "cell_type": "code",
   "execution_count": 8,
   "id": "e7540f2f",
   "metadata": {},
   "outputs": [
    {
     "data": {
      "text/plain": [
       "a    1\n",
       "b    2\n",
       "c    3\n",
       "d    4\n",
       "e    5\n",
       "dtype: int64"
      ]
     },
     "execution_count": 8,
     "metadata": {},
     "output_type": "execute_result"
    }
   ],
   "source": [
    "example_obj"
   ]
  },
  {
   "cell_type": "code",
   "execution_count": 14,
   "id": "e4d17faa",
   "metadata": {},
   "outputs": [
    {
     "data": {
      "text/plain": [
       "array([2, 3])"
      ]
     },
     "execution_count": 14,
     "metadata": {},
     "output_type": "execute_result"
    }
   ],
   "source": [
    "ad = np.array([1,2,3,4,5,6])\n",
    "ad[1:3]"
   ]
  },
  {
   "cell_type": "markdown",
   "id": "83e55d4a",
   "metadata": {},
   "source": [
    "### Dataframe\n",
    "- Data Table 전체를 포함하는 Object \n",
    "- 2차원(matrix)\n",
    "- index와 columns가 있으며 row와 column의 index만 알면 value에 접근이 가능"
   ]
  },
  {
   "cell_type": "markdown",
   "id": "fd66bff3",
   "metadata": {},
   "source": [
    "## lambda, map, apply\n",
    "- lambda argument : expression  ex) lambda x,y : x+y\n",
    "- map(function, sequence)\n",
    "- map for series\n",
    "    - pandas의 series type의 데이터에도 map 함수 사용가능\n",
    "    - function 대신 dict, seqeunce형 자료등으로 대체 가능 ex) df.column_name.map({'a':1, 'b':0})\n",
    "    - 비슷한 방식으로 replace가 있다.\n",
    "- apply for dataframe\n",
    "    - map과 달리, series 전체(column)에 해당 함수를 적용\n",
    "    - 입력값이 series 데이터로 입력받아 handling가능"
   ]
  },
  {
   "cell_type": "markdown",
   "id": "60809086",
   "metadata": {},
   "source": [
    "## pandas bulit-in function\n",
    "- describe : numeric type 데이터의 요약정보를 보여준다.\n",
    "- unique : series data의 유일한 값을 list를 반환"
   ]
  }
 ],
 "metadata": {
  "kernelspec": {
   "display_name": "Python 3 (ipykernel)",
   "language": "python",
   "name": "python3"
  },
  "language_info": {
   "codemirror_mode": {
    "name": "ipython",
    "version": 3
   },
   "file_extension": ".py",
   "mimetype": "text/x-python",
   "name": "python",
   "nbconvert_exporter": "python",
   "pygments_lexer": "ipython3",
   "version": "3.9.7"
  }
 },
 "nbformat": 4,
 "nbformat_minor": 5
}
