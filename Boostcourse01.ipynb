{
 "cells": [
  {
   "cell_type": "markdown",
   "id": "e7bcc341",
   "metadata": {},
   "source": [
    "인공지능 강의 : 인공지능(AI)기초 다지기\n",
    "# Basic computer class for newbies"
   ]
  },
  {
   "cell_type": "markdown",
   "id": "0169104a",
   "metadata": {},
   "source": [
    "## File System\n",
    "* os에서 파일을 저장하는 **트리구조** 저장체계\n",
    "\n",
    "### 파일의 기본 체계 - 파일 / 디렉토리\n",
    "#### 디렉토리\n",
    "- 폴더 또는 디렉토리로 불림\n",
    "- 파일과 다른 디렉토리를 포함할 수 있다.\n",
    "\n",
    "#### 파일\n",
    "- 컴퓨터에서 정보를 저장하는 논리적 단위(wikipedia)\n",
    "- 파일은 파일명과 확장자로 식별됨(예 : hello.py  <= hello: 파일명 / py: 확장자)\n",
    "- 실행, 쓰기, 읽기 등을 할 수 있음\n",
    "\n",
    "### 절대 경로와 상대 경로\n",
    "#### 경로\n",
    "- 컴퓨터 파일의 고유한 위치, 트리구조상 노드의 연결\n",
    "\n",
    "#### 절대 경로\n",
    "- 루트 디렉토리부터 파일위치까지의 경로  \n",
    "ex) C:\\user\\docs\\test.txt\n",
    "\n",
    "#### 상대 경로\n",
    "- 현재 있는 디렉토리부터 타깃 파일까지의 경로  \n",
    "ex) ../../newfile.txt  \n",
    "\n",
    "### 터미널\n",
    "* 마우스가 아닌 키보드로 명령을 입력 프로그램 실행 **C**ommand **L**ine **I**nterface  \n",
    "\n",
    "#### Command Line Interface\n",
    "* Graphic User Interface(GUI)와 달리 Text를 사용하여 컴퓨터에 명령을 입력하는 인터페이스 체계\n",
    "* Windows os : CMD window, Windows Terminal\n",
    "* Mac, Linux : Terminal\n",
    "* Console = Terminal = CMD창\n",
    "\n",
    "#### 기본 명령어\n",
    "* 각 터미널에서는 프로그램을 작동하는 shell이 존재 -> shell마다 다른 명령어를 사용\n",
    "* cd(change directory) / mkdir (make directory) / ls (list) / cp A B (A의 위치를 B에 복사) / rm (remove)"
   ]
  },
  {
   "cell_type": "markdown",
   "id": "6c93e426",
   "metadata": {},
   "source": [
    "# Python Overview\n",
    "\n",
    "## 플랫폼 독립적\n",
    "* 플랫폼 = OS  \n",
    "=> 운영체제 상관없이 돌아가는 언어  \n",
    "* 독립적인 = 관계없는, 상관없는  \n",
    "=> OS에 상관없이 한번 프로그램을 작성하면 사용가능  \n",
    "* 인터프리터 = 통역기를 사용하는 언어  \n",
    "=> 소스코드를 바로 실행할 수 있게 지원하는 프로그램 실행 방법  \n",
    "=> 파이썬의 문법으로 만들어진 코드를 어느 특정 운영체제에 돌아가게 하려면 인터프리터라는 프로그램을 돌려야 한다.\n",
    "\n",
    "## 인터프리터 언어\n",
    "* 작동방식 : 별도의 번역과정 없이 소스코드를 실행시점에 해석하여 컴퓨터가 처리할 수 있도록 함\n",
    "* 장단점 : 간단히 작성, 메모리가 적게 필요, 실행 속도가 느림\n",
    "* 주요 언어 : 파이썬, 스칼라\n",
    "* 최근 언어는 대부분 인터프리터 언어\n",
    "\n",
    "## 객체지향\n",
    "* <u>실행 순서가 아닌 단위 모듈(객체) 중심으로 프로그램을 작성</u>  \n",
    "=> 하나의 객체는 어떤 목적을 달성하기 위한 행동(method)과 속성(attribute)을 갖고 있다.\n",
    "\n",
    "\n",
    "## 동적 타이핑 언어\n",
    "* 프로그램이 <u>실행하는 시점에 프로그램</u>이 사용해야할 <u>데이터에 대한 타입을 결정</u>함\n"
   ]
  },
  {
   "cell_type": "markdown",
   "id": "827915a1",
   "metadata": {},
   "source": [
    "# 파이썬 기초 문법\n",
    "## Variable\n",
    "* 가장 기초적인 프로그래밍 문법 개념\n",
    "* 데이터를 저장하기 위한 메모리 공간의 프로그래밍상 이름  \n",
    "i = 'PHS' 라는 의미는\n",
    "i에 PHS를 넣어라. 정확히는 i 라는 **<u>변수</u>**에 \"PHS\"라는 **<u>값</u>**을 넣으라는 의미이다.\n",
    "\n",
    "### *그렇다면 변수는 어디에 저장이 될까?*  \n",
    "프로그래밍에서는 변수는 **<u>값을 저장하는 장소</u>**, 변수는 **<u>메모리 주소</u>**를 갖고있고 변수에 들어가는 **<u>값</u>**은 **<u>메모리 주소</u>**에 할당됨\n",
    "* **a=8의 의미는 파이썬이 os에 a라는 공간을 메모리에 잡아달라 요청을 했고 그 a라는 공간이 메모리에 저장되어 있는데 거기에 8을 저장했다 라고 이해하면 된다.**\n",
    "\n",
    "### 변수 이름 작명법\n",
    "* 알파벳, 숫자, 언더스코어(_)로 선언이 가능하다.  \n",
    "* 변수명은 의미있는 단어로 표기하는 것이 좋다.  \n",
    "* 대소문자가 구분\n",
    "* 예약어는 쓰지 않는다.\n",
    "\n",
    "## Basic Operation(간단한 연산)\n",
    "### 기본 자료형(primitive data types)\n",
    "* data type\n",
    "    * 수치자료형\n",
    "        * 정수형(integer)\n",
    "        * 실수형(float)\n",
    "    * 문자형(string)\n",
    "    * 논리/불린 자료형(boolean)\\\n",
    "    => <u>***data type 마다 메모리를 차지하는 공간의 크기가 다르다.***</u>\\\n",
    "    integer(32bit), float(64bit) 등 정해져 있다.\n",
    "    * Dynamic Typing(동적 타이핑 언어)\n",
    "        * 코드 실행시점에 데이터의 type을 결정하는 방법\n",
    "\n",
    "### 연산자와 피연산자\n",
    "* 연산자 +,-,*,/,**,%,//\n",
    "* 피연산자는 연산자에 의해 계산되는 숫자들\n",
    "* 문자간에도 + 연산이 가능 => concatenate  ex) \"a\"+\"b\"\n",
    "* 증가 또는 감소 연산\n",
    "    * a += 1\n",
    "    * b -= 1\n",
    "* 데이터 형 변환 : 정수 <-> 실수\n",
    "    * float( 10 ) => 10.0 / int(3.14) => 3\n",
    "\n",
    "## List\n",
    "* 시퀀스 자료형, 여러 데이터들의 집합\n",
    "* int, float 같은 다양한 데이터 타입 포함\n",
    "\n",
    "### list 특징\n",
    "#### 1. indexting\n",
    "* list에 있는 값들을 주소(offset)를 가짐 => 주소를 사용해 할당된 값 호출\n",
    "\n",
    "#### 2. slicing\n",
    "* list의 값들을 잘라서 쓰는 것이 슬라이싱\n",
    "* list의 주소값을 기반으로 부분 값을 반환\\\n",
    "=> lists[ begin index : end index : step ]\n",
    "\n",
    "#### 3. 리스트 연산\n",
    "* concatenate가 가능하다.\n",
    "* is_in\n",
    "* 연산 함수들\n",
    "\n",
    "#### 4. 추가 및 삭제\n",
    "* list의 index 번지를 지정해줘서 추가 또는 삭제가 가능하다.\n",
    "* append, extend, insert, remove, del 등 활용 가능\\\n",
    "=> append, extend와 insert의 차이를 알아야 한다\n",
    "    * append는 있는 값 그대로 맨 뒤에 추가한다. list에 list추가시 list가 들간다.\n",
    "    * extend는 append와 다르게 list에 list 추가시 그 값만 맨 뒤에 추가가 된다.\n",
    "    * insert 는 2개의 인자를 갖는다. insert(index, 추가할 값)\n",
    "* 다양한 Data Type이 하나의 list에 들어갈 수 있다. list내 list를 넣을 수 있다.\\\n",
    "=> a = [ ['a','b',12, 3.16 ],'c','d' ]\n",
    "\n",
    "#### 5. 메모리 저장 방식\n",
    "* \" = \"의 의미는 같다가 아닌 메모리 주소에 해당 값을 할당(연결)한다는 의미"
   ]
  },
  {
   "cell_type": "code",
   "execution_count": 34,
   "id": "0ec39ad2",
   "metadata": {},
   "outputs": [],
   "source": [
    "a = [5, 4, 3, 2, 1]\n",
    "b = [1, 2, 3, 4, 5]\n",
    "# a 라는 공간과 b라는 공간이 각각 생성되어 값이 저장된다."
   ]
  },
  {
   "cell_type": "code",
   "execution_count": 35,
   "id": "9eafd625",
   "metadata": {},
   "outputs": [],
   "source": [
    "# 이전까지는 a와 b가 각각의 공간을 사용했는데\n",
    "b = a\n",
    "# 위의 공식을 선언 후 b는 a와 같은 메모리 공간을 사용하기 시작\n",
    "# 그래서 a의 데이터 값이 변하게 되면 b도 같이 변하게 된다."
   ]
  },
  {
   "cell_type": "code",
   "execution_count": 36,
   "id": "3a83521b",
   "metadata": {},
   "outputs": [
    {
     "data": {
      "text/plain": [
       "[5, 4, 3, 2, 1]"
      ]
     },
     "execution_count": 36,
     "metadata": {},
     "output_type": "execute_result"
    }
   ],
   "source": [
    "a"
   ]
  },
  {
   "cell_type": "code",
   "execution_count": 37,
   "id": "beff66cd",
   "metadata": {},
   "outputs": [
    {
     "data": {
      "text/plain": [
       "[5, 4, 3, 2, 1]"
      ]
     },
     "execution_count": 37,
     "metadata": {},
     "output_type": "execute_result"
    }
   ],
   "source": [
    "b"
   ]
  },
  {
   "cell_type": "code",
   "execution_count": 39,
   "id": "053eb673",
   "metadata": {},
   "outputs": [
    {
     "data": {
      "text/plain": [
       "[1, 2, 3, 4, 5]"
      ]
     },
     "execution_count": 39,
     "metadata": {},
     "output_type": "execute_result"
    }
   ],
   "source": [
    "a.sort()\n",
    "a"
   ]
  },
  {
   "cell_type": "code",
   "execution_count": 40,
   "id": "86ec8a91",
   "metadata": {},
   "outputs": [
    {
     "data": {
      "text/plain": [
       "[1, 2, 3, 4, 5]"
      ]
     },
     "execution_count": 40,
     "metadata": {},
     "output_type": "execute_result"
    }
   ],
   "source": [
    "b\n",
    "# b도 같이 변하는 것을 볼 수 있다.\n",
    "# 이전까지는 그냥 값이 동일하다로만 알고 있었는데 이후 메모리 공간을 공유한다로 생각"
   ]
  },
  {
   "cell_type": "code",
   "execution_count": 41,
   "id": "dfc54f40",
   "metadata": {},
   "outputs": [
    {
     "data": {
      "text/plain": [
       "[1, 2, 3, 100, 5]"
      ]
     },
     "execution_count": 41,
     "metadata": {},
     "output_type": "execute_result"
    }
   ],
   "source": [
    "a[3] = 100\n",
    "a"
   ]
  },
  {
   "cell_type": "code",
   "execution_count": 42,
   "id": "c4d0085b",
   "metadata": {
    "scrolled": true
   },
   "outputs": [
    {
     "data": {
      "text/plain": [
       "[1, 2, 3, 100, 5]"
      ]
     },
     "execution_count": 42,
     "metadata": {},
     "output_type": "execute_result"
    }
   ],
   "source": [
    "b"
   ]
  },
  {
   "cell_type": "code",
   "execution_count": 46,
   "id": "9339e79b",
   "metadata": {},
   "outputs": [],
   "source": [
    "# 그래서 값을 다르게 하려면 데이터에 입력될 값을 재지정 해줘야 한다.\n",
    "b = [5,4,3,2,1]"
   ]
  },
  {
   "cell_type": "code",
   "execution_count": 45,
   "id": "3d14f7ba",
   "metadata": {},
   "outputs": [
    {
     "data": {
      "text/plain": [
       "[1, 2, 3, 100, 5]"
      ]
     },
     "execution_count": 45,
     "metadata": {},
     "output_type": "execute_result"
    }
   ],
   "source": [
    "a"
   ]
  },
  {
   "cell_type": "code",
   "execution_count": 47,
   "id": "1e831539",
   "metadata": {},
   "outputs": [
    {
     "data": {
      "text/plain": [
       "[5, 4, 3, 2, 1]"
      ]
     },
     "execution_count": 47,
     "metadata": {},
     "output_type": "execute_result"
    }
   ],
   "source": [
    "b"
   ]
  },
  {
   "cell_type": "markdown",
   "id": "4e9eece6",
   "metadata": {},
   "source": [
    "* 만일 값만 동일하게 하고 메모리 공간은 다르게 사용하고 싶다면?"
   ]
  },
  {
   "cell_type": "code",
   "execution_count": 48,
   "id": "8e559ca8",
   "metadata": {},
   "outputs": [
    {
     "data": {
      "text/plain": [
       "[1, 2, 3, 100, 5]"
      ]
     },
     "execution_count": 48,
     "metadata": {},
     "output_type": "execute_result"
    }
   ],
   "source": [
    "# a의 값들을 갖고 오게 해야한다.\n",
    "a"
   ]
  },
  {
   "cell_type": "code",
   "execution_count": 49,
   "id": "d03fd9ac",
   "metadata": {},
   "outputs": [
    {
     "data": {
      "text/plain": [
       "[5, 4, 3, 2, 1]"
      ]
     },
     "execution_count": 49,
     "metadata": {},
     "output_type": "execute_result"
    }
   ],
   "source": [
    "b"
   ]
  },
  {
   "cell_type": "code",
   "execution_count": 61,
   "id": "5c9ad35f",
   "metadata": {},
   "outputs": [],
   "source": [
    "b = a[:]\n",
    "# [:]를 사용하게 되면 a의 값을 복사하는 식이 된다."
   ]
  },
  {
   "cell_type": "code",
   "execution_count": 51,
   "id": "994c6a38",
   "metadata": {},
   "outputs": [
    {
     "data": {
      "text/plain": [
       "[1, 2, 3, 100, 5]"
      ]
     },
     "execution_count": 51,
     "metadata": {},
     "output_type": "execute_result"
    }
   ],
   "source": [
    "a"
   ]
  },
  {
   "cell_type": "code",
   "execution_count": 52,
   "id": "1abacc4e",
   "metadata": {},
   "outputs": [
    {
     "data": {
      "text/plain": [
       "[1, 2, 3, 100, 5]"
      ]
     },
     "execution_count": 52,
     "metadata": {},
     "output_type": "execute_result"
    }
   ],
   "source": [
    "b"
   ]
  },
  {
   "cell_type": "code",
   "execution_count": 57,
   "id": "ee8c9d30",
   "metadata": {},
   "outputs": [],
   "source": [
    "a.sort(reverse=True)"
   ]
  },
  {
   "cell_type": "code",
   "execution_count": 58,
   "id": "81e90b56",
   "metadata": {},
   "outputs": [
    {
     "data": {
      "text/plain": [
       "[100, 5, 3, 2, 1]"
      ]
     },
     "execution_count": 58,
     "metadata": {},
     "output_type": "execute_result"
    }
   ],
   "source": [
    "a"
   ]
  },
  {
   "cell_type": "code",
   "execution_count": 60,
   "id": "fe2d848c",
   "metadata": {},
   "outputs": [
    {
     "data": {
      "text/plain": [
       "[1, 2, 3, 100, 5]"
      ]
     },
     "execution_count": 60,
     "metadata": {},
     "output_type": "execute_result"
    }
   ],
   "source": [
    "b\n",
    "# 이전에는 동일한 값을 갖고 오지만 지금은 각자의 메모리 공간을 사용하기에 다르게 나옴"
   ]
  },
  {
   "cell_type": "markdown",
   "id": "b3eb0032",
   "metadata": {},
   "source": [
    "#### 6. 패킹과 언패킹\n",
    "* 패킹 : 한 변수에 여러 개의 데이터를 넣는것"
   ]
  },
  {
   "cell_type": "code",
   "execution_count": 62,
   "id": "c513644f",
   "metadata": {},
   "outputs": [],
   "source": [
    "t = [1,2,3]\n",
    "# 1, 2, 3을 변수 t에 패킹"
   ]
  },
  {
   "cell_type": "markdown",
   "id": "4ce15c39",
   "metadata": {},
   "source": [
    "* 언패킹 : 한 변수의 데이터를 각각의 변수로 변환"
   ]
  },
  {
   "cell_type": "code",
   "execution_count": 63,
   "id": "ccfa7d85",
   "metadata": {},
   "outputs": [],
   "source": [
    "a, b, c = t\n",
    "# t에 있는 값 1, 2, 3을 변수 a, b, c에 언패킹"
   ]
  },
  {
   "cell_type": "markdown",
   "id": "83d4f464",
   "metadata": {},
   "source": [
    "**언 패킹을 하려면 변수의 개수는 패킹한 변수에 들어있는 요소(element)의 개수와 동일해야 한다.**"
   ]
  },
  {
   "cell_type": "code",
   "execution_count": 64,
   "id": "e9aa2818",
   "metadata": {},
   "outputs": [
    {
     "name": "stdout",
     "output_type": "stream",
     "text": [
      "[1, 2, 3] 1 2 3\n"
     ]
    }
   ],
   "source": [
    "print(t, a, b, c)"
   ]
  },
  {
   "cell_type": "code",
   "execution_count": 65,
   "id": "6ed3826d",
   "metadata": {},
   "outputs": [
    {
     "data": {
      "text/plain": [
       "1"
      ]
     },
     "execution_count": 65,
     "metadata": {},
     "output_type": "execute_result"
    }
   ],
   "source": [
    "a"
   ]
  },
  {
   "cell_type": "code",
   "execution_count": 66,
   "id": "f7009406",
   "metadata": {},
   "outputs": [
    {
     "data": {
      "text/plain": [
       "2"
      ]
     },
     "execution_count": 66,
     "metadata": {},
     "output_type": "execute_result"
    }
   ],
   "source": [
    "b"
   ]
  },
  {
   "cell_type": "code",
   "execution_count": 67,
   "id": "ac242b88",
   "metadata": {},
   "outputs": [
    {
     "data": {
      "text/plain": [
       "3"
      ]
     },
     "execution_count": 67,
     "metadata": {},
     "output_type": "execute_result"
    }
   ],
   "source": [
    "c"
   ]
  },
  {
   "cell_type": "markdown",
   "id": "6cdde2a0",
   "metadata": {},
   "source": [
    "#### 7. 이차원 리스트\n",
    "* 리스트 안에 리스트를 만들어 행렬(Matrix)생성"
   ]
  },
  {
   "cell_type": "code",
   "execution_count": 79,
   "id": "69aa0af9",
   "metadata": {},
   "outputs": [],
   "source": [
    "kor_score = [12,23,34,45,56]\n",
    "math_score = [23,34,45,56,67]\n",
    "eng_score = [34,45,56,67,78]\n",
    "midterm_score = [kor_score,math_score, eng_score]"
   ]
  },
  {
   "cell_type": "code",
   "execution_count": 80,
   "id": "1db565af",
   "metadata": {},
   "outputs": [
    {
     "data": {
      "text/plain": [
       "[[12, 23, 34, 45, 56], [23, 34, 45, 56, 67], [34, 45, 56, 67, 78]]"
      ]
     },
     "execution_count": 80,
     "metadata": {},
     "output_type": "execute_result"
    }
   ],
   "source": [
    "midterm_score"
   ]
  },
  {
   "cell_type": "markdown",
   "id": "b2abe6cf",
   "metadata": {},
   "source": [
    "midterm_score는 2 dimension(2차원 리스트)라고 한다."
   ]
  },
  {
   "cell_type": "code",
   "execution_count": 70,
   "id": "7b26174e",
   "metadata": {},
   "outputs": [
    {
     "name": "stdout",
     "output_type": "stream",
     "text": [
      "23\n"
     ]
    }
   ],
   "source": [
    "print(midterm_score[0][1])"
   ]
  },
  {
   "cell_type": "markdown",
   "id": "b54e8a9c",
   "metadata": {},
   "source": [
    "* 이차원 리스트를 복사하는 방법?\\\n",
    "=> 아까와 같은 방법으로 하면 되지 않을까 ?"
   ]
  },
  {
   "cell_type": "code",
   "execution_count": 71,
   "id": "5f2d8dd5",
   "metadata": {},
   "outputs": [
    {
     "data": {
      "text/plain": [
       "[[12, 23, 34, 45, 56], [23, 34, 45, 56, 67], [34, 45, 56, 67, 78]]"
      ]
     },
     "execution_count": 71,
     "metadata": {},
     "output_type": "execute_result"
    }
   ],
   "source": [
    "midterm_score"
   ]
  },
  {
   "cell_type": "code",
   "execution_count": 72,
   "id": "c24d6c6e",
   "metadata": {},
   "outputs": [],
   "source": [
    "midterm_copy = midterm_score[:]"
   ]
  },
  {
   "cell_type": "code",
   "execution_count": 73,
   "id": "31989d65",
   "metadata": {},
   "outputs": [
    {
     "data": {
      "text/plain": [
       "[[12, 23, 34, 45, 56], [23, 34, 45, 56, 67], [34, 45, 56, 67, 78]]"
      ]
     },
     "execution_count": 73,
     "metadata": {},
     "output_type": "execute_result"
    }
   ],
   "source": [
    "midterm_copy\n",
    "# 이렇게만 보면 복사하는 것과 같다."
   ]
  },
  {
   "cell_type": "code",
   "execution_count": 74,
   "id": "e4e26ef5",
   "metadata": {},
   "outputs": [],
   "source": [
    "midterm_score[0][2] = 100\n",
    "# midterm_score의 kor_score의 34를 100으로 바꿨을 떄"
   ]
  },
  {
   "cell_type": "code",
   "execution_count": 75,
   "id": "9c3fe51f",
   "metadata": {},
   "outputs": [
    {
     "data": {
      "text/plain": [
       "[[12, 23, 100, 45, 56], [23, 34, 45, 56, 67], [34, 45, 56, 67, 78]]"
      ]
     },
     "execution_count": 75,
     "metadata": {},
     "output_type": "execute_result"
    }
   ],
   "source": [
    "midterm_score"
   ]
  },
  {
   "cell_type": "code",
   "execution_count": 76,
   "id": "1378a6ea",
   "metadata": {},
   "outputs": [
    {
     "data": {
      "text/plain": [
       "[[12, 23, 100, 45, 56], [23, 34, 45, 56, 67], [34, 45, 56, 67, 78]]"
      ]
     },
     "execution_count": 76,
     "metadata": {},
     "output_type": "execute_result"
    }
   ],
   "source": [
    "# 그렇다면 midterm_copy?\n",
    "midterm_copy\n",
    "\n",
    "# 값이 바뀌어 있다."
   ]
  },
  {
   "cell_type": "markdown",
   "id": "4915395a",
   "metadata": {},
   "source": [
    "**복사가 일어나는 [ : ] 방식이 one dimension은 가능한데 two dimension에서는 불가능하다.**\n",
    "\n",
    "### 복사하는 방법은 copy를 import 하면 된다."
   ]
  },
  {
   "cell_type": "code",
   "execution_count": 78,
   "id": "50143720",
   "metadata": {},
   "outputs": [],
   "source": [
    "import copy"
   ]
  },
  {
   "cell_type": "code",
   "execution_count": 84,
   "id": "ba68c2c3",
   "metadata": {},
   "outputs": [
    {
     "data": {
      "text/plain": [
       "[[12, 23, 34, 45, 56], [23, 34, 45, 56, 67], [34, 45, 56, 67, 78]]"
      ]
     },
     "execution_count": 84,
     "metadata": {},
     "output_type": "execute_result"
    }
   ],
   "source": [
    "kor_score = [12,23,34,45,56]\n",
    "math_score = [23,34,45,56,67]\n",
    "eng_score = [34,45,56,67,78]\n",
    "midterm_score = [kor_score,math_score, eng_score]\n",
    "midterm_score"
   ]
  },
  {
   "cell_type": "code",
   "execution_count": 85,
   "id": "206f058d",
   "metadata": {},
   "outputs": [
    {
     "data": {
      "text/plain": [
       "[[12, 23, 34, 45, 56], [23, 34, 45, 56, 67], [34, 45, 56, 67, 78]]"
      ]
     },
     "execution_count": 85,
     "metadata": {},
     "output_type": "execute_result"
    }
   ],
   "source": [
    "midterm_copy = copy.deepcopy(midterm_score)\n",
    "midterm_copy"
   ]
  },
  {
   "cell_type": "code",
   "execution_count": 86,
   "id": "3eb76566",
   "metadata": {},
   "outputs": [
    {
     "data": {
      "text/plain": [
       "[[100, 23, 34, 45, 56], [23, 34, 45, 56, 67], [34, 45, 56, 67, 78]]"
      ]
     },
     "execution_count": 86,
     "metadata": {},
     "output_type": "execute_result"
    }
   ],
   "source": [
    "midterm_copy[0][0] = 100\n",
    "midterm_copy"
   ]
  },
  {
   "cell_type": "code",
   "execution_count": 87,
   "id": "3d398e0c",
   "metadata": {},
   "outputs": [
    {
     "data": {
      "text/plain": [
       "[[12, 23, 34, 45, 56], [23, 34, 45, 56, 67], [34, 45, 56, 67, 78]]"
      ]
     },
     "execution_count": 87,
     "metadata": {},
     "output_type": "execute_result"
    }
   ],
   "source": [
    "midterm_score\n",
    "# 값이 다르다는 걸 확인할 수 있다."
   ]
  },
  {
   "cell_type": "code",
   "execution_count": null,
   "id": "4a66df2f",
   "metadata": {},
   "outputs": [],
   "source": []
  }
 ],
 "metadata": {
  "kernelspec": {
   "display_name": "Python 3 (ipykernel)",
   "language": "python",
   "name": "python3"
  },
  "language_info": {
   "codemirror_mode": {
    "name": "ipython",
    "version": 3
   },
   "file_extension": ".py",
   "mimetype": "text/x-python",
   "name": "python",
   "nbconvert_exporter": "python",
   "pygments_lexer": "ipython3",
   "version": "3.9.7"
  }
 },
 "nbformat": 4,
 "nbformat_minor": 5
}
