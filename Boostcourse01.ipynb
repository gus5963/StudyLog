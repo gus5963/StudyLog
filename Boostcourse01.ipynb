{
 "cells": [
  {
   "cell_type": "code",
   "execution_count": 53,
   "id": "d1ae3275",
   "metadata": {},
   "outputs": [],
   "source": [
    "import time\n",
    "from collections import deque\n",
    "from collections import defaultdict\n",
    "from collections import Counter\n",
    "import re"
   ]
  },
  {
   "cell_type": "markdown",
   "id": "e7bcc341",
   "metadata": {},
   "source": [
    "인공지능 강의 : 인공지능(AI)기초 다지기\n",
    "# Basic computer class for newbies"
   ]
  },
  {
   "cell_type": "markdown",
   "id": "0169104a",
   "metadata": {},
   "source": [
    "## File System\n",
    "* os에서 파일을 저장하는 **트리구조** 저장체계\n",
    "\n",
    "### 파일의 기본 체계 - 파일 / 디렉토리\n",
    "#### 디렉토리\n",
    "- 폴더 또는 디렉토리로 불림\n",
    "- 파일과 다른 디렉토리를 포함할 수 있다.\n",
    "\n",
    "#### 파일\n",
    "- 컴퓨터에서 정보를 저장하는 논리적 단위(wikipedia)\n",
    "- 파일은 파일명과 확장자로 식별됨(예 : hello.py  <= hello: 파일명 / py: 확장자)\n",
    "- 실행, 쓰기, 읽기 등을 할 수 있음\n",
    "\n",
    "### 절대 경로와 상대 경로\n",
    "#### 경로\n",
    "- 컴퓨터 파일의 고유한 위치, 트리구조상 노드의 연결\n",
    "\n",
    "#### 절대 경로\n",
    "- 루트 디렉토리부터 파일위치까지의 경로  \n",
    "ex) C:\\user\\docs\\test.txt\n",
    "\n",
    "#### 상대 경로\n",
    "- 현재 있는 디렉토리부터 타깃 파일까지의 경로  \n",
    "ex) ../../newfile.txt  \n",
    "\n",
    "### 터미널\n",
    "* 마우스가 아닌 키보드로 명령을 입력 프로그램 실행 **C**ommand **L**ine **I**nterface  \n",
    "\n",
    "#### Command Line Interface\n",
    "* Graphic User Interface(GUI)와 달리 Text를 사용하여 컴퓨터에 명령을 입력하는 인터페이스 체계\n",
    "* Windows os : CMD window, Windows Terminal\n",
    "* Mac, Linux : Terminal\n",
    "* Console = Terminal = CMD창\n",
    "\n",
    "#### 기본 명령어\n",
    "* 각 터미널에서는 프로그램을 작동하는 shell이 존재 -> shell마다 다른 명령어를 사용\n",
    "* cd(change directory) / mkdir (make directory) / ls (list) / cp A B (A의 위치를 B에 복사) / rm (remove)"
   ]
  },
  {
   "cell_type": "markdown",
   "id": "6c93e426",
   "metadata": {},
   "source": [
    "# Python Overview\n",
    "\n",
    "## 플랫폼 독립적\n",
    "* 플랫폼 = OS  \n",
    "=> 운영체제 상관없이 돌아가는 언어  \n",
    "* 독립적인 = 관계없는, 상관없는  \n",
    "=> OS에 상관없이 한번 프로그램을 작성하면 사용가능  \n",
    "* 인터프리터 = 통역기를 사용하는 언어  \n",
    "=> 소스코드를 바로 실행할 수 있게 지원하는 프로그램 실행 방법  \n",
    "=> 파이썬의 문법으로 만들어진 코드를 어느 특정 운영체제에 돌아가게 하려면 인터프리터라는 프로그램을 돌려야 한다.\n",
    "\n",
    "## 인터프리터 언어\n",
    "* 작동방식 : 별도의 번역과정 없이 소스코드를 실행시점에 해석하여 컴퓨터가 처리할 수 있도록 함\n",
    "* 장단점 : 간단히 작성, 메모리가 적게 필요, 실행 속도가 느림\n",
    "* 주요 언어 : 파이썬, 스칼라\n",
    "* 최근 언어는 대부분 인터프리터 언어\n",
    "\n",
    "## 객체지향\n",
    "* <u>실행 순서가 아닌 단위 모듈(객체) 중심으로 프로그램을 작성</u>  \n",
    "=> 하나의 객체는 어떤 목적을 달성하기 위한 행동(method)과 속성(attribute)을 갖고 있다.\n",
    "\n",
    "\n",
    "## 동적 타이핑 언어\n",
    "* 프로그램이 <u>실행하는 시점에 프로그램</u>이 사용해야할 <u>데이터에 대한 타입을 결정</u>함\n"
   ]
  },
  {
   "cell_type": "markdown",
   "id": "827915a1",
   "metadata": {},
   "source": [
    "# 파이썬 기초 문법\n",
    "## Variable\n",
    "* 가장 기초적인 프로그래밍 문법 개념\n",
    "* 데이터를 저장하기 위한 메모리 공간의 프로그래밍상 이름  \n",
    "i = 'PHS' 라는 의미는\n",
    "i에 PHS를 넣어라. 정확히는 i 라는 **<u>변수</u>**에 \"PHS\"라는 **<u>값</u>**을 넣으라는 의미이다.\n",
    "\n",
    "### *그렇다면 변수는 어디에 저장이 될까?*  \n",
    "프로그래밍에서는 변수는 **<u>값을 저장하는 장소</u>**, 변수는 **<u>메모리 주소</u>**를 갖고있고 변수에 들어가는 **<u>값</u>**은 **<u>메모리 주소</u>**에 할당됨\n",
    "* **a=8의 의미는 파이썬이 os에 a라는 공간을 메모리에 잡아달라 요청을 했고 그 a라는 공간이 메모리에 저장되어 있는데 거기에 8을 저장했다 라고 이해하면 된다.**\n",
    "\n",
    "### 변수 이름 작명법\n",
    "* 알파벳, 숫자, 언더스코어(_)로 선언이 가능하다.  \n",
    "* 변수명은 의미있는 단어로 표기하는 것이 좋다.  \n",
    "* 대소문자가 구분\n",
    "* 예약어는 쓰지 않는다.\n",
    "\n",
    "## Basic Operation(간단한 연산)\n",
    "### 기본 자료형(primitive data types)\n",
    "* data type\n",
    "    * 수치자료형\n",
    "        * 정수형(integer)\n",
    "        * 실수형(float)\n",
    "    * 문자형(string)\n",
    "    * 논리/불린 자료형(boolean)\\\n",
    "    => <u>***data type 마다 메모리를 차지하는 공간의 크기가 다르다.***</u>\\\n",
    "    integer(32bit), float(64bit) 등 정해져 있다.\n",
    "    * Dynamic Typing(동적 타이핑 언어)\n",
    "        * 코드 실행시점에 데이터의 type을 결정하는 방법\n",
    "\n",
    "### 연산자와 피연산자\n",
    "* 연산자 +,-,*,/,**,%,//\n",
    "* 피연산자는 연산자에 의해 계산되는 숫자들\n",
    "* 문자간에도 + 연산이 가능 => concatenate  ex) \"a\"+\"b\"\n",
    "* 증가 또는 감소 연산\n",
    "    * a += 1\n",
    "    * b -= 1\n",
    "* 데이터 형 변환 : 정수 <-> 실수\n",
    "    * float( 10 ) => 10.0 / int(3.14) => 3\n",
    "\n",
    "## List\n",
    "* 시퀀스 자료형, 여러 데이터들의 집합\n",
    "* int, float 같은 다양한 데이터 타입 포함\n",
    "\n",
    "### list 특징\n",
    "#### 1. indexting\n",
    "* list에 있는 값들을 주소(offset)를 가짐 => 주소를 사용해 할당된 값 호출\n",
    "\n",
    "#### 2. slicing\n",
    "* list의 값들을 잘라서 쓰는 것이 슬라이싱\n",
    "* list의 주소값을 기반으로 부분 값을 반환\\\n",
    "=> lists[ begin index : end index : step ]\n",
    "\n",
    "#### 3. 리스트 연산\n",
    "* concatenate가 가능하다.\n",
    "* is_in\n",
    "* 연산 함수들\n",
    "\n",
    "#### 4. 추가 및 삭제\n",
    "* list의 index 번지를 지정해줘서 추가 또는 삭제가 가능하다.\n",
    "* append, extend, insert, remove, del 등 활용 가능\\\n",
    "=> append, extend와 insert의 차이를 알아야 한다\n",
    "    * append는 있는 값 그대로 맨 뒤에 추가한다. list에 list추가시 list가 들간다.\n",
    "    * extend는 append와 다르게 list에 list 추가시 그 값만 맨 뒤에 추가가 된다.\n",
    "    * insert 는 2개의 인자를 갖는다. insert(index, 추가할 값)\n",
    "* 다양한 Data Type이 하나의 list에 들어갈 수 있다. list내 list를 넣을 수 있다.\\\n",
    "=> a = [ ['a','b',12, 3.16 ],'c','d' ]\n",
    "\n",
    "#### 5. 메모리 저장 방식\n",
    "* \" = \"의 의미는 같다가 아닌 메모리 주소에 해당 값을 할당(연결)한다는 의미"
   ]
  },
  {
   "cell_type": "code",
   "execution_count": 34,
   "id": "0ec39ad2",
   "metadata": {},
   "outputs": [],
   "source": [
    "a = [5, 4, 3, 2, 1]\n",
    "b = [1, 2, 3, 4, 5]\n",
    "# a 라는 공간과 b라는 공간이 각각 생성되어 값이 저장된다."
   ]
  },
  {
   "cell_type": "code",
   "execution_count": 35,
   "id": "9eafd625",
   "metadata": {},
   "outputs": [],
   "source": [
    "# 이전까지는 a와 b가 각각의 공간을 사용했는데\n",
    "b = a\n",
    "# 위의 공식을 선언 후 b는 a와 같은 메모리 공간을 사용하기 시작\n",
    "# 그래서 a의 데이터 값이 변하게 되면 b도 같이 변하게 된다."
   ]
  },
  {
   "cell_type": "code",
   "execution_count": 36,
   "id": "3a83521b",
   "metadata": {},
   "outputs": [
    {
     "data": {
      "text/plain": [
       "[5, 4, 3, 2, 1]"
      ]
     },
     "execution_count": 36,
     "metadata": {},
     "output_type": "execute_result"
    }
   ],
   "source": [
    "a"
   ]
  },
  {
   "cell_type": "code",
   "execution_count": 37,
   "id": "beff66cd",
   "metadata": {},
   "outputs": [
    {
     "data": {
      "text/plain": [
       "[5, 4, 3, 2, 1]"
      ]
     },
     "execution_count": 37,
     "metadata": {},
     "output_type": "execute_result"
    }
   ],
   "source": [
    "b"
   ]
  },
  {
   "cell_type": "code",
   "execution_count": 39,
   "id": "053eb673",
   "metadata": {},
   "outputs": [
    {
     "data": {
      "text/plain": [
       "[1, 2, 3, 4, 5]"
      ]
     },
     "execution_count": 39,
     "metadata": {},
     "output_type": "execute_result"
    }
   ],
   "source": [
    "a.sort()\n",
    "a"
   ]
  },
  {
   "cell_type": "code",
   "execution_count": 40,
   "id": "86ec8a91",
   "metadata": {},
   "outputs": [
    {
     "data": {
      "text/plain": [
       "[1, 2, 3, 4, 5]"
      ]
     },
     "execution_count": 40,
     "metadata": {},
     "output_type": "execute_result"
    }
   ],
   "source": [
    "b\n",
    "# b도 같이 변하는 것을 볼 수 있다.\n",
    "# 이전까지는 그냥 값이 동일하다로만 알고 있었는데 이후 메모리 공간을 공유한다로 생각"
   ]
  },
  {
   "cell_type": "code",
   "execution_count": 41,
   "id": "dfc54f40",
   "metadata": {},
   "outputs": [
    {
     "data": {
      "text/plain": [
       "[1, 2, 3, 100, 5]"
      ]
     },
     "execution_count": 41,
     "metadata": {},
     "output_type": "execute_result"
    }
   ],
   "source": [
    "a[3] = 100\n",
    "a"
   ]
  },
  {
   "cell_type": "code",
   "execution_count": 42,
   "id": "c4d0085b",
   "metadata": {
    "scrolled": true
   },
   "outputs": [
    {
     "data": {
      "text/plain": [
       "[1, 2, 3, 100, 5]"
      ]
     },
     "execution_count": 42,
     "metadata": {},
     "output_type": "execute_result"
    }
   ],
   "source": [
    "b"
   ]
  },
  {
   "cell_type": "code",
   "execution_count": 46,
   "id": "9339e79b",
   "metadata": {},
   "outputs": [],
   "source": [
    "# 그래서 값을 다르게 하려면 데이터에 입력될 값을 재지정 해줘야 한다.\n",
    "b = [5,4,3,2,1]"
   ]
  },
  {
   "cell_type": "code",
   "execution_count": 45,
   "id": "3d14f7ba",
   "metadata": {},
   "outputs": [
    {
     "data": {
      "text/plain": [
       "[1, 2, 3, 100, 5]"
      ]
     },
     "execution_count": 45,
     "metadata": {},
     "output_type": "execute_result"
    }
   ],
   "source": [
    "a"
   ]
  },
  {
   "cell_type": "code",
   "execution_count": 47,
   "id": "1e831539",
   "metadata": {},
   "outputs": [
    {
     "data": {
      "text/plain": [
       "[5, 4, 3, 2, 1]"
      ]
     },
     "execution_count": 47,
     "metadata": {},
     "output_type": "execute_result"
    }
   ],
   "source": [
    "b"
   ]
  },
  {
   "cell_type": "markdown",
   "id": "4e9eece6",
   "metadata": {},
   "source": [
    "* 만일 값만 동일하게 하고 메모리 공간은 다르게 사용하고 싶다면?"
   ]
  },
  {
   "cell_type": "code",
   "execution_count": 48,
   "id": "8e559ca8",
   "metadata": {},
   "outputs": [
    {
     "data": {
      "text/plain": [
       "[1, 2, 3, 100, 5]"
      ]
     },
     "execution_count": 48,
     "metadata": {},
     "output_type": "execute_result"
    }
   ],
   "source": [
    "# a의 값들을 갖고 오게 해야한다.\n",
    "a"
   ]
  },
  {
   "cell_type": "code",
   "execution_count": 49,
   "id": "d03fd9ac",
   "metadata": {},
   "outputs": [
    {
     "data": {
      "text/plain": [
       "[5, 4, 3, 2, 1]"
      ]
     },
     "execution_count": 49,
     "metadata": {},
     "output_type": "execute_result"
    }
   ],
   "source": [
    "b"
   ]
  },
  {
   "cell_type": "code",
   "execution_count": 61,
   "id": "5c9ad35f",
   "metadata": {},
   "outputs": [],
   "source": [
    "b = a[:]\n",
    "# [:]를 사용하게 되면 a의 값을 복사하는 식이 된다."
   ]
  },
  {
   "cell_type": "code",
   "execution_count": 51,
   "id": "994c6a38",
   "metadata": {},
   "outputs": [
    {
     "data": {
      "text/plain": [
       "[1, 2, 3, 100, 5]"
      ]
     },
     "execution_count": 51,
     "metadata": {},
     "output_type": "execute_result"
    }
   ],
   "source": [
    "a"
   ]
  },
  {
   "cell_type": "code",
   "execution_count": 52,
   "id": "1abacc4e",
   "metadata": {},
   "outputs": [
    {
     "data": {
      "text/plain": [
       "[1, 2, 3, 100, 5]"
      ]
     },
     "execution_count": 52,
     "metadata": {},
     "output_type": "execute_result"
    }
   ],
   "source": [
    "b"
   ]
  },
  {
   "cell_type": "code",
   "execution_count": 57,
   "id": "ee8c9d30",
   "metadata": {},
   "outputs": [],
   "source": [
    "a.sort(reverse=True)"
   ]
  },
  {
   "cell_type": "code",
   "execution_count": 58,
   "id": "81e90b56",
   "metadata": {},
   "outputs": [
    {
     "data": {
      "text/plain": [
       "[100, 5, 3, 2, 1]"
      ]
     },
     "execution_count": 58,
     "metadata": {},
     "output_type": "execute_result"
    }
   ],
   "source": [
    "a"
   ]
  },
  {
   "cell_type": "code",
   "execution_count": 60,
   "id": "fe2d848c",
   "metadata": {},
   "outputs": [
    {
     "data": {
      "text/plain": [
       "[1, 2, 3, 100, 5]"
      ]
     },
     "execution_count": 60,
     "metadata": {},
     "output_type": "execute_result"
    }
   ],
   "source": [
    "b\n",
    "# 이전에는 동일한 값을 갖고 오지만 지금은 각자의 메모리 공간을 사용하기에 다르게 나옴"
   ]
  },
  {
   "cell_type": "markdown",
   "id": "b3eb0032",
   "metadata": {},
   "source": [
    "#### 6. 패킹과 언패킹\n",
    "* 패킹 : 한 변수에 여러 개의 데이터를 넣는것"
   ]
  },
  {
   "cell_type": "code",
   "execution_count": 62,
   "id": "c513644f",
   "metadata": {},
   "outputs": [],
   "source": [
    "t = [1,2,3]\n",
    "# 1, 2, 3을 변수 t에 패킹"
   ]
  },
  {
   "cell_type": "markdown",
   "id": "4ce15c39",
   "metadata": {},
   "source": [
    "* 언패킹 : 한 변수의 데이터를 각각의 변수로 변환"
   ]
  },
  {
   "cell_type": "code",
   "execution_count": 63,
   "id": "ccfa7d85",
   "metadata": {},
   "outputs": [],
   "source": [
    "a, b, c = t\n",
    "# t에 있는 값 1, 2, 3을 변수 a, b, c에 언패킹"
   ]
  },
  {
   "cell_type": "markdown",
   "id": "83d4f464",
   "metadata": {},
   "source": [
    "**언 패킹을 하려면 변수의 개수는 패킹한 변수에 들어있는 요소(element)의 개수와 동일해야 한다.**"
   ]
  },
  {
   "cell_type": "code",
   "execution_count": 64,
   "id": "e9aa2818",
   "metadata": {},
   "outputs": [
    {
     "name": "stdout",
     "output_type": "stream",
     "text": [
      "[1, 2, 3] 1 2 3\n"
     ]
    }
   ],
   "source": [
    "print(t, a, b, c)"
   ]
  },
  {
   "cell_type": "code",
   "execution_count": 65,
   "id": "6ed3826d",
   "metadata": {},
   "outputs": [
    {
     "data": {
      "text/plain": [
       "1"
      ]
     },
     "execution_count": 65,
     "metadata": {},
     "output_type": "execute_result"
    }
   ],
   "source": [
    "a"
   ]
  },
  {
   "cell_type": "code",
   "execution_count": 66,
   "id": "f7009406",
   "metadata": {},
   "outputs": [
    {
     "data": {
      "text/plain": [
       "2"
      ]
     },
     "execution_count": 66,
     "metadata": {},
     "output_type": "execute_result"
    }
   ],
   "source": [
    "b"
   ]
  },
  {
   "cell_type": "code",
   "execution_count": 67,
   "id": "ac242b88",
   "metadata": {},
   "outputs": [
    {
     "data": {
      "text/plain": [
       "3"
      ]
     },
     "execution_count": 67,
     "metadata": {},
     "output_type": "execute_result"
    }
   ],
   "source": [
    "c"
   ]
  },
  {
   "cell_type": "markdown",
   "id": "6cdde2a0",
   "metadata": {},
   "source": [
    "#### 7. 이차원 리스트\n",
    "* 리스트 안에 리스트를 만들어 행렬(Matrix)생성"
   ]
  },
  {
   "cell_type": "code",
   "execution_count": 79,
   "id": "69aa0af9",
   "metadata": {},
   "outputs": [],
   "source": [
    "kor_score = [12,23,34,45,56]\n",
    "math_score = [23,34,45,56,67]\n",
    "eng_score = [34,45,56,67,78]\n",
    "midterm_score = [kor_score,math_score, eng_score]"
   ]
  },
  {
   "cell_type": "code",
   "execution_count": 80,
   "id": "1db565af",
   "metadata": {},
   "outputs": [
    {
     "data": {
      "text/plain": [
       "[[12, 23, 34, 45, 56], [23, 34, 45, 56, 67], [34, 45, 56, 67, 78]]"
      ]
     },
     "execution_count": 80,
     "metadata": {},
     "output_type": "execute_result"
    }
   ],
   "source": [
    "midterm_score"
   ]
  },
  {
   "cell_type": "markdown",
   "id": "b2abe6cf",
   "metadata": {},
   "source": [
    "midterm_score는 2 dimension(2차원 리스트)라고 한다."
   ]
  },
  {
   "cell_type": "code",
   "execution_count": 70,
   "id": "7b26174e",
   "metadata": {},
   "outputs": [
    {
     "name": "stdout",
     "output_type": "stream",
     "text": [
      "23\n"
     ]
    }
   ],
   "source": [
    "print(midterm_score[0][1])"
   ]
  },
  {
   "cell_type": "markdown",
   "id": "b54e8a9c",
   "metadata": {},
   "source": [
    "* 이차원 리스트를 복사하는 방법?\\\n",
    "=> 아까와 같은 방법으로 하면 되지 않을까 ?"
   ]
  },
  {
   "cell_type": "code",
   "execution_count": 71,
   "id": "5f2d8dd5",
   "metadata": {},
   "outputs": [
    {
     "data": {
      "text/plain": [
       "[[12, 23, 34, 45, 56], [23, 34, 45, 56, 67], [34, 45, 56, 67, 78]]"
      ]
     },
     "execution_count": 71,
     "metadata": {},
     "output_type": "execute_result"
    }
   ],
   "source": [
    "midterm_score"
   ]
  },
  {
   "cell_type": "code",
   "execution_count": 72,
   "id": "c24d6c6e",
   "metadata": {},
   "outputs": [],
   "source": [
    "midterm_copy = midterm_score[:]"
   ]
  },
  {
   "cell_type": "code",
   "execution_count": 73,
   "id": "31989d65",
   "metadata": {},
   "outputs": [
    {
     "data": {
      "text/plain": [
       "[[12, 23, 34, 45, 56], [23, 34, 45, 56, 67], [34, 45, 56, 67, 78]]"
      ]
     },
     "execution_count": 73,
     "metadata": {},
     "output_type": "execute_result"
    }
   ],
   "source": [
    "midterm_copy\n",
    "# 이렇게만 보면 복사하는 것과 같다."
   ]
  },
  {
   "cell_type": "code",
   "execution_count": 74,
   "id": "e4e26ef5",
   "metadata": {},
   "outputs": [],
   "source": [
    "midterm_score[0][2] = 100\n",
    "# midterm_score의 kor_score의 34를 100으로 바꿨을 떄"
   ]
  },
  {
   "cell_type": "code",
   "execution_count": 75,
   "id": "9c3fe51f",
   "metadata": {},
   "outputs": [
    {
     "data": {
      "text/plain": [
       "[[12, 23, 100, 45, 56], [23, 34, 45, 56, 67], [34, 45, 56, 67, 78]]"
      ]
     },
     "execution_count": 75,
     "metadata": {},
     "output_type": "execute_result"
    }
   ],
   "source": [
    "midterm_score"
   ]
  },
  {
   "cell_type": "code",
   "execution_count": 76,
   "id": "1378a6ea",
   "metadata": {},
   "outputs": [
    {
     "data": {
      "text/plain": [
       "[[12, 23, 100, 45, 56], [23, 34, 45, 56, 67], [34, 45, 56, 67, 78]]"
      ]
     },
     "execution_count": 76,
     "metadata": {},
     "output_type": "execute_result"
    }
   ],
   "source": [
    "# 그렇다면 midterm_copy?\n",
    "midterm_copy\n",
    "\n",
    "# 값이 바뀌어 있다."
   ]
  },
  {
   "cell_type": "markdown",
   "id": "4915395a",
   "metadata": {},
   "source": [
    "**복사가 일어나는 [ : ] 방식이 one dimension은 가능한데 two dimension에서는 불가능하다.**\n",
    "\n",
    "### 복사하는 방법은 copy를 import 하면 된다."
   ]
  },
  {
   "cell_type": "code",
   "execution_count": 78,
   "id": "50143720",
   "metadata": {},
   "outputs": [],
   "source": [
    "import copy"
   ]
  },
  {
   "cell_type": "code",
   "execution_count": 84,
   "id": "ba68c2c3",
   "metadata": {},
   "outputs": [
    {
     "data": {
      "text/plain": [
       "[[12, 23, 34, 45, 56], [23, 34, 45, 56, 67], [34, 45, 56, 67, 78]]"
      ]
     },
     "execution_count": 84,
     "metadata": {},
     "output_type": "execute_result"
    }
   ],
   "source": [
    "kor_score = [12,23,34,45,56]\n",
    "math_score = [23,34,45,56,67]\n",
    "eng_score = [34,45,56,67,78]\n",
    "midterm_score = [kor_score,math_score, eng_score]\n",
    "midterm_score"
   ]
  },
  {
   "cell_type": "code",
   "execution_count": 85,
   "id": "206f058d",
   "metadata": {},
   "outputs": [
    {
     "data": {
      "text/plain": [
       "[[12, 23, 34, 45, 56], [23, 34, 45, 56, 67], [34, 45, 56, 67, 78]]"
      ]
     },
     "execution_count": 85,
     "metadata": {},
     "output_type": "execute_result"
    }
   ],
   "source": [
    "midterm_copy = copy.deepcopy(midterm_score)\n",
    "midterm_copy"
   ]
  },
  {
   "cell_type": "code",
   "execution_count": 86,
   "id": "3eb76566",
   "metadata": {},
   "outputs": [
    {
     "data": {
      "text/plain": [
       "[[100, 23, 34, 45, 56], [23, 34, 45, 56, 67], [34, 45, 56, 67, 78]]"
      ]
     },
     "execution_count": 86,
     "metadata": {},
     "output_type": "execute_result"
    }
   ],
   "source": [
    "midterm_copy[0][0] = 100\n",
    "midterm_copy"
   ]
  },
  {
   "cell_type": "code",
   "execution_count": 87,
   "id": "3d398e0c",
   "metadata": {},
   "outputs": [
    {
     "data": {
      "text/plain": [
       "[[12, 23, 34, 45, 56], [23, 34, 45, 56, 67], [34, 45, 56, 67, 78]]"
      ]
     },
     "execution_count": 87,
     "metadata": {},
     "output_type": "execute_result"
    }
   ],
   "source": [
    "midterm_score\n",
    "# 값이 다르다는 걸 확인할 수 있다."
   ]
  },
  {
   "cell_type": "markdown",
   "id": "c2ef565e",
   "metadata": {},
   "source": [
    "## Function and Console I/O\n",
    "### Function\n",
    "- 어떤 일을 수행하는 코드의 덩어리\n",
    "- 반복적인 수행을 1회만 작성 후 호출\n",
    "- 코드를 논리적인 단위로 분리 / 코드 = 하나의 보고서, 개조식으로 작성된 글로 생각\n",
    "- 캡슐화 : 인터페이스만 알면 타인의 코드 사용\n",
    "\n",
    "#### 함수 선언 문법\n",
    "- 함수 이름, parameter, indentation(들여쓰기), return value(optional)"
   ]
  },
  {
   "cell_type": "code",
   "execution_count": 2,
   "id": "1283f54e",
   "metadata": {},
   "outputs": [
    {
     "name": "stdout",
     "output_type": "stream",
     "text": [
      "사각형 x의 길이 :  10\n",
      "사각형 y의 길이 :  20\n",
      "사각형의 넓이 : 200\n"
     ]
    }
   ],
   "source": [
    "# 함수 선언 예시\n",
    "def calculate_rectangle_area(x, y):\n",
    "    return x*y  # return이 있기에 반환이 된다.\n",
    "\n",
    "rectangle_x = 10\n",
    "rectangle_y = 20\n",
    "print('사각형 x의 길이 : ',rectangle_x)\n",
    "print('사각형 y의 길이 : ',rectangle_y)\n",
    "\n",
    "# 넓이를 구하는 함수 호출\n",
    "print('사각형의 넓이 :',calculate_rectangle_area(rectangle_x,rectangle_y))"
   ]
  },
  {
   "cell_type": "markdown",
   "id": "02586d74",
   "metadata": {},
   "source": [
    "- parameter : 함수의 입력 값 인터페이스"
   ]
  },
  {
   "cell_type": "code",
   "execution_count": 3,
   "id": "9baef74f",
   "metadata": {},
   "outputs": [],
   "source": [
    "def df(x):  # x가 parameter\n",
    "    return 2*x+7"
   ]
  },
  {
   "cell_type": "markdown",
   "id": "41832bf1",
   "metadata": {},
   "source": [
    "- argument : 실제 parameter에 대입된 값"
   ]
  },
  {
   "cell_type": "code",
   "execution_count": 4,
   "id": "28865f70",
   "metadata": {},
   "outputs": [
    {
     "name": "stdout",
     "output_type": "stream",
     "text": [
      "11\n"
     ]
    }
   ],
   "source": [
    "print(df(2))  # 2가 argument"
   ]
  },
  {
   "cell_type": "markdown",
   "id": "2b3ecf00",
   "metadata": {},
   "source": [
    "- parameter 유무, 반환값(return)유무에 따라 함수의 형태가 다르다.\n",
    "\n",
    "||parameter 없음|parameter 존재|\n",
    "|---:|:---|:---|\n",
    "|반환 값 없음|함수내의 수행문만 수행|parameter를 사용, 수행문만 수행|\n",
    "|반환 값 존재|parameter없이, 수행문 수행 후 결과값 반환|parameter를 사용하여 수행문 수행 후 결과값 반환|\n",
    "\n"
   ]
  },
  {
   "cell_type": "code",
   "execution_count": 5,
   "id": "f6112015",
   "metadata": {},
   "outputs": [
    {
     "name": "stdout",
     "output_type": "stream",
     "text": [
      "20\n"
     ]
    }
   ],
   "source": [
    "# 예시\n",
    "def f(x):\n",
    "    print(x + 10)\n",
    "    \n",
    "f(10)"
   ]
  },
  {
   "cell_type": "code",
   "execution_count": 6,
   "id": "7b5e7acb",
   "metadata": {},
   "outputs": [
    {
     "name": "stdout",
     "output_type": "stream",
     "text": [
      "20\n"
     ]
    }
   ],
   "source": [
    "c = f(10)"
   ]
  },
  {
   "cell_type": "code",
   "execution_count": 8,
   "id": "6482e7d0",
   "metadata": {},
   "outputs": [
    {
     "name": "stdout",
     "output_type": "stream",
     "text": [
      "None\n"
     ]
    }
   ],
   "source": [
    "c\n",
    "print(c)"
   ]
  },
  {
   "cell_type": "markdown",
   "id": "52bfc492",
   "metadata": {},
   "source": [
    "- c의 값이 안 나오는 이유는 화면에 f(x)의 print값만 표시해줄 뿐 아무런 반환 값이 없기에 할당이 되지 않은 것."
   ]
  },
  {
   "cell_type": "code",
   "execution_count": 9,
   "id": "aa374752",
   "metadata": {},
   "outputs": [
    {
     "data": {
      "text/plain": [
       "20"
      ]
     },
     "execution_count": 9,
     "metadata": {},
     "output_type": "execute_result"
    }
   ],
   "source": [
    "def f(x):\n",
    "    return x +10\n",
    "f(10)"
   ]
  },
  {
   "cell_type": "code",
   "execution_count": 10,
   "id": "baf358ad",
   "metadata": {},
   "outputs": [],
   "source": [
    "c = f(10)"
   ]
  },
  {
   "cell_type": "code",
   "execution_count": 11,
   "id": "366a1fef",
   "metadata": {},
   "outputs": [
    {
     "data": {
      "text/plain": [
       "20"
      ]
     },
     "execution_count": 11,
     "metadata": {},
     "output_type": "execute_result"
    }
   ],
   "source": [
    "c\n",
    "# return이 되어서 c에 할당이 됐다."
   ]
  },
  {
   "cell_type": "code",
   "execution_count": 12,
   "id": "8e2e0e1a",
   "metadata": {},
   "outputs": [
    {
     "data": {
      "text/plain": [
       "20"
      ]
     },
     "execution_count": 12,
     "metadata": {},
     "output_type": "execute_result"
    }
   ],
   "source": [
    "f(10)"
   ]
  },
  {
   "cell_type": "markdown",
   "id": "e4312a5e",
   "metadata": {},
   "source": [
    "- list에서의 특징 확인"
   ]
  },
  {
   "cell_type": "code",
   "execution_count": 13,
   "id": "4dd7429d",
   "metadata": {},
   "outputs": [
    {
     "data": {
      "text/plain": [
       "[5, 4, 3, 2, 1]"
      ]
     },
     "execution_count": 13,
     "metadata": {},
     "output_type": "execute_result"
    }
   ],
   "source": [
    "list_ex = [5,4,3,2,1]\n",
    "list_ex"
   ]
  },
  {
   "cell_type": "code",
   "execution_count": 14,
   "id": "ac7c71c6",
   "metadata": {},
   "outputs": [
    {
     "data": {
      "text/plain": [
       "[1, 2, 3, 4, 5]"
      ]
     },
     "execution_count": 14,
     "metadata": {},
     "output_type": "execute_result"
    }
   ],
   "source": [
    "sorted(list_ex)"
   ]
  },
  {
   "cell_type": "code",
   "execution_count": 15,
   "id": "d0bac371",
   "metadata": {},
   "outputs": [
    {
     "data": {
      "text/plain": [
       "[5, 4, 3, 2, 1]"
      ]
     },
     "execution_count": 15,
     "metadata": {},
     "output_type": "execute_result"
    }
   ],
   "source": [
    "list_ex"
   ]
  },
  {
   "cell_type": "markdown",
   "id": "9d830de6",
   "metadata": {},
   "source": [
    "- 값이 변하지 않는 이유는 sorted는 return값이 있어서 그런것\n",
    "- list의 값을 sorting해주고 복사한 다음 return으로 반환을 해준 것이다."
   ]
  },
  {
   "cell_type": "code",
   "execution_count": 16,
   "id": "4e0a9b3f",
   "metadata": {},
   "outputs": [],
   "source": [
    "list_ex.sort()\n",
    "# 변화만 일어날 뿐 화면에 뜨지 않는다.\n",
    "# Return값이 없기 때문"
   ]
  },
  {
   "cell_type": "code",
   "execution_count": 17,
   "id": "c8367518",
   "metadata": {},
   "outputs": [
    {
     "data": {
      "text/plain": [
       "[1, 2, 3, 4, 5]"
      ]
     },
     "execution_count": 17,
     "metadata": {},
     "output_type": "execute_result"
    }
   ],
   "source": [
    "list_ex\n",
    "# 값이 변경됨."
   ]
  },
  {
   "cell_type": "markdown",
   "id": "11583f62",
   "metadata": {},
   "source": [
    "**주의!!**"
   ]
  },
  {
   "cell_type": "code",
   "execution_count": 20,
   "id": "130563ef",
   "metadata": {},
   "outputs": [
    {
     "name": "stdout",
     "output_type": "stream",
     "text": [
      "20\n"
     ]
    }
   ],
   "source": [
    "def f(x):\n",
    "    return print(x+10)\n",
    "\n",
    "f(10)"
   ]
  },
  {
   "cell_type": "code",
   "execution_count": 21,
   "id": "535b0351",
   "metadata": {},
   "outputs": [
    {
     "name": "stdout",
     "output_type": "stream",
     "text": [
      "20\n"
     ]
    }
   ],
   "source": [
    "c = f(10)"
   ]
  },
  {
   "cell_type": "code",
   "execution_count": 23,
   "id": "5d48cbce",
   "metadata": {},
   "outputs": [
    {
     "name": "stdout",
     "output_type": "stream",
     "text": [
      "None\n"
     ]
    }
   ],
   "source": [
    "c\n",
    "print(c)"
   ]
  },
  {
   "cell_type": "markdown",
   "id": "916bac3f",
   "metadata": {},
   "source": [
    "print에는 return값이 없기 때문이다. \n",
    "계산한 값이 print를 통해 보여지고 return이 없어 none이 나온 값을 함수에서 return을 하게 된 것 그래서 c의 값은 none으로 표기가 된 것이다."
   ]
  },
  {
   "cell_type": "markdown",
   "id": "74dba9f5",
   "metadata": {},
   "source": [
    "### console I/O\n",
    "- 어떻게 프로그램과 데이터를 주고 받을 것인가?\n",
    "\n",
    "#### 콘솔창 입출력 I - input\n",
    "- input()함수는 콘솔창에서 문자열을 입력 받는 함수"
   ]
  },
  {
   "cell_type": "code",
   "execution_count": 24,
   "id": "8ec30bc5",
   "metadata": {},
   "outputs": [
    {
     "name": "stdout",
     "output_type": "stream",
     "text": [
      "enter your name:\n",
      "phs\n",
      "hi phs how are you today?\n"
     ]
    }
   ],
   "source": [
    "print('enter your name:')\n",
    "somebody = input()  # 콘솔창에서 입력한 값을 somebody에 저장\n",
    "print(\"hi {} how are you today?\".format(somebody))"
   ]
  },
  {
   "cell_type": "code",
   "execution_count": 26,
   "id": "b242c80b",
   "metadata": {},
   "outputs": [
    {
     "name": "stdout",
     "output_type": "stream",
     "text": [
      "enter your age:\n",
      "567890\n",
      "i'm 567890 years old\n"
     ]
    }
   ],
   "source": [
    "# input은 기본으로 string으로 받기 때문에 형 변환을 해줘야 한다.\n",
    "print('enter your age:')\n",
    "someage = int(input())\n",
    "print(\"i'm {} years old\".format(someage))"
   ]
  },
  {
   "cell_type": "markdown",
   "id": "a02a8718",
   "metadata": {},
   "source": [
    "#### print문을 활용해서 결과 formatting하기\n",
    "- 프린트 문은 기본적인 출력 외에 출력의 양식을 형식을 지정 가능하다.\n",
    "1. %string\n",
    "2. format()\n",
    "3. fstring"
   ]
  },
  {
   "cell_type": "markdown",
   "id": "13b9db68",
   "metadata": {},
   "source": [
    "#### old school formating"
   ]
  },
  {
   "cell_type": "code",
   "execution_count": 32,
   "id": "a1cd5ace",
   "metadata": {},
   "outputs": [
    {
     "name": "stdout",
     "output_type": "stream",
     "text": [
      "one 2 43.23413\n",
      "one 2\n"
     ]
    }
   ],
   "source": [
    "print('%s %d %2.5f'%('one',2,43.23413413))\n",
    "print('{} {}'.format('one',2))"
   ]
  },
  {
   "cell_type": "markdown",
   "id": "bdf75915",
   "metadata": {},
   "source": [
    "#### padding\n",
    "- 여유공간을 지정하여 글자배열 + 소수점 자릿수를 맞추기"
   ]
  },
  {
   "cell_type": "code",
   "execution_count": 40,
   "id": "038d614f",
   "metadata": {},
   "outputs": [
    {
     "name": "stdout",
     "output_type": "stream",
     "text": [
      "product:     apple, Price per unit:5.24300\n",
      "product:     apple, Price per unit:5.24300\n"
     ]
    }
   ],
   "source": [
    "print('product:%10s, Price per unit:%.5f'%('apple',5.243))\n",
    "\n",
    "print('product:%10s, Price per unit:%.5f'%('apple',5.243))"
   ]
  },
  {
   "cell_type": "markdown",
   "id": "b453dc10",
   "metadata": {},
   "source": [
    "#### f-string"
   ]
  },
  {
   "cell_type": "code",
   "execution_count": 50,
   "id": "57dc3109",
   "metadata": {},
   "outputs": [
    {
     "name": "stdout",
     "output_type": "stream",
     "text": [
      "Hello , phs. you are 11\n",
      "phs                 \n",
      "                 phs\n",
      "*****************phs\n",
      "phs*****************\n",
      "********phs*********\n",
      "3.12\n"
     ]
    }
   ],
   "source": [
    "name = \"phs\"\n",
    "age  = 11\n",
    "print(f'Hello , {name}. you are {age}')\n",
    "print(f'{name:20}')\n",
    "print(f'{name:>20}')\n",
    "print(f'{name:*>20}')\n",
    "print(f'{name:*<20}')\n",
    "print(f'{name:*^20}')\n",
    "\n",
    "number = 3.123123123123\n",
    "print(f'{number:.2f}')"
   ]
  },
  {
   "cell_type": "markdown",
   "id": "77156877",
   "metadata": {},
   "source": [
    "### Lab : Fahrenheit Converter(섭씨와 화씨)"
   ]
  },
  {
   "cell_type": "code",
   "execution_count": 54,
   "id": "adf7355a",
   "metadata": {},
   "outputs": [
    {
     "name": "stdout",
     "output_type": "stream",
     "text": [
      "본 프로그램은 섭씨를 화씨로 변환해주는 프로그램입니다.\n",
      "변환하고 싶은 섭씨 온도를 입력해주세요 : \n",
      "123123123123\n",
      "섭씨온도 : 123123123123.00\n",
      "화씨온도 : 221621621653.40\n"
     ]
    }
   ],
   "source": [
    "def c_to_f(x):\n",
    "    cal = ((9/5)*x)+32\n",
    "    return cal\n",
    "\n",
    "print('본 프로그램은 섭씨를 화씨로 변환해주는 프로그램입니다.')\n",
    "print('변환하고 싶은 섭씨 온도를 입력해주세요 : ')\n",
    "c_temp = float(input())\n",
    "\n",
    "print(f\"섭씨온도 : {c_temp:.2f}\")\n",
    "print(f'화씨온도 : {c_to_f(c_temp):.2f}')"
   ]
  },
  {
   "cell_type": "markdown",
   "id": "57fc0987",
   "metadata": {},
   "source": [
    "## Conditionals(조건문) and Loops(반복문)\n",
    "### conditionals(조건문)\n",
    "- 조건에 따라 특정한 동작을 하게하는 명령어\n",
    "- **조건을 나타내는 기준**과 **실행해야 할 명령**으로 구성\n",
    "- 조건의 참/거짓에 따라 실행해야 할 명령이 수행되거나 되지 않음\n",
    "- if, else, elif등의 예약어를 사용\n",
    "\n",
    "#### 비교 연산자\n",
    "- <, >, ==, is, !=, is not, >=, <=\n",
    "\n",
    "##### 비교 연산자 중 특이한 점!\n",
    "- 같음을 표시하는 것은 2개가 있다.\n",
    "- ==, is\n",
    "- x와 y가 같은지 검사하는데 <u>**is같은 경우**</u>에는 <u>**값**</u>과 <u>**메모리 주소**</u>를 같이 비교를 한다!"
   ]
  },
  {
   "cell_type": "code",
   "execution_count": 60,
   "id": "bfbfe3a4",
   "metadata": {},
   "outputs": [
    {
     "name": "stdout",
     "output_type": "stream",
     "text": [
      "x = 100 , y = 100\n",
      "x == y: True\n",
      "x is y: True\n"
     ]
    }
   ],
   "source": [
    "# 예\n",
    "x = 100\n",
    "y = 100\n",
    "print('x = 100 , y = 100')\n",
    "print('x == y:',x == y)\n",
    "print('x is y:',x is y)"
   ]
  },
  {
   "cell_type": "code",
   "execution_count": 61,
   "id": "25b29a62",
   "metadata": {},
   "outputs": [
    {
     "name": "stdout",
     "output_type": "stream",
     "text": [
      "x2 = 300 , y2 = 300\n",
      "x2 == y: True\n",
      "x2 is y: False\n"
     ]
    }
   ],
   "source": [
    "x2 = 300\n",
    "y2 = 300\n",
    "print('x2 = 300 , y2 = 300')\n",
    "print('x2 == y:',x2 == y2)\n",
    "print('x2 is y:',x2 is y2)"
   ]
  },
  {
   "cell_type": "markdown",
   "id": "58cc6e65",
   "metadata": {},
   "source": [
    "### is 연산은 memory의 주소를 비교하기 때문에 False가 뜬다.\n",
    "- -5 ~ 256까지 python에서 실행이 되면 메모리 공간에 해당 숫자를 저장한다.\n",
    "- -5 ~ 256은 자주 사용하는 숫자로 정했었다. 그래서 정적 메모리로 잡아 놓기 때문에 저 사이의 숫자들은 같은 메모리 주소를 사용하게 된다.|"
   ]
  },
  {
   "cell_type": "markdown",
   "id": "405aec95",
   "metadata": {},
   "source": [
    "#### 논리 키워드 사용\n",
    "- and, or, not\n",
    "- boolean type으로 return된다."
   ]
  },
  {
   "cell_type": "code",
   "execution_count": 62,
   "id": "bc7c1967",
   "metadata": {},
   "outputs": [
    {
     "data": {
      "text/plain": [
       "False"
      ]
     },
     "execution_count": 62,
     "metadata": {},
     "output_type": "execute_result"
    }
   ],
   "source": [
    "boolean_list = [True, True, False, True, True]\n",
    "all(boolean_list)"
   ]
  },
  {
   "cell_type": "code",
   "execution_count": 63,
   "id": "5c1b503f",
   "metadata": {},
   "outputs": [
    {
     "data": {
      "text/plain": [
       "True"
      ]
     },
     "execution_count": 63,
     "metadata": {},
     "output_type": "execute_result"
    }
   ],
   "source": [
    "boolean_list = [True, True, False, True, True]\n",
    "any(boolean_list)"
   ]
  },
  {
   "cell_type": "markdown",
   "id": "925f6bc5",
   "metadata": {},
   "source": [
    "* 삼항 연산자(Ternary operator)\n",
    "    - 조건문을 사용하여 참일 경우와 거짓일 경우의 결과를 한줄로 표현\n",
    "    - "
   ]
  },
  {
   "cell_type": "code",
   "execution_count": 64,
   "id": "25f82338",
   "metadata": {},
   "outputs": [
    {
     "name": "stdout",
     "output_type": "stream",
     "text": [
      "True\n"
     ]
    }
   ],
   "source": [
    "value = 12\n",
    "is_even = True if value%2 ==0 else False\n",
    "print(is_even)"
   ]
  },
  {
   "cell_type": "code",
   "execution_count": 99,
   "id": "4618833d",
   "metadata": {},
   "outputs": [
    {
     "name": "stdout",
     "output_type": "stream",
     "text": [
      "예제\n",
      "태어난 연도를 계산하여 학교 종류를 맞추는 프로그램\n",
      "당신이 태어난 연도를 입력하세요\n",
      "1992\n",
      "학생이 아닙니다.\n"
     ]
    }
   ],
   "source": [
    "print('예제')\n",
    "print('태어난 연도를 계산하여 학교 종류를 맞추는 프로그램')\n",
    "print('당신이 태어난 연도를 입력하세요')\n",
    "birth = int(input())\n",
    "def cal_age(x):\n",
    "    return 2022 - x +1    \n",
    "\n",
    "def school_conditional(x):\n",
    "    if (26 >= x and x >= 20):  # and 조건으로 나눠서 표시를 해주는게 좋다.\n",
    "        print('대학생')\n",
    "    elif (20> x and x >= 17):\n",
    "        print('고등학생')\n",
    "    elif (17> x and x >=14):\n",
    "        print('중학생')\n",
    "    elif (14> x and x >=8):\n",
    "        print('초등학생')\n",
    "    else:\n",
    "        print('학생이 아닙니다.')\n",
    "    \n",
    "\n",
    "if len(str(birth))==4:\n",
    "    age = cal_age(birth)\n",
    "    school_conditional(age)\n",
    "else:\n",
    "    print('연도 4자리를 입력하세요!')"
   ]
  },
  {
   "cell_type": "markdown",
   "id": "566a65c0",
   "metadata": {},
   "source": [
    "### Loops\n",
    "- 정해진 동작을 반복적으로 수행하게 하는 명령문\n",
    "- **반복 시작 조건**, **종료 조건**, **수행 명령**으로 구성됨\n",
    "- for, while 등의 명령 키워드 사용\n",
    "\n",
    "#### for loop"
   ]
  },
  {
   "cell_type": "code",
   "execution_count": 75,
   "id": "aa1ac451",
   "metadata": {},
   "outputs": [
    {
     "name": "stdout",
     "output_type": "stream",
     "text": [
      "기본적인 반복문\n",
      "hello count 1\n",
      "hello count 2\n",
      "hello count 3\n",
      "hello count 4\n",
      "hello count 5\n"
     ]
    }
   ],
   "source": [
    "print('기본적인 반복문')\n",
    "for looper in [1,2,3,4,5]:\n",
    "    print(f'hello count {looper}')"
   ]
  },
  {
   "cell_type": "markdown",
   "id": "6005bc04",
   "metadata": {},
   "source": [
    "- range()를 사용하기"
   ]
  },
  {
   "cell_type": "code",
   "execution_count": 93,
   "id": "3b165efe",
   "metadata": {},
   "outputs": [
    {
     "name": "stdout",
     "output_type": "stream",
     "text": [
      "hello count 1\n",
      "hello count 2\n",
      "hello count 3\n",
      "hello count 4\n",
      "hello count 5\n",
      "hello count 6\n",
      "hello count 7\n",
      "hello count 8\n",
      "hello count 9\n",
      "hello count 10\n"
     ]
    }
   ],
   "source": [
    "for i in range(0,10):\n",
    "    print(f'hello count {i+1}')"
   ]
  },
  {
   "cell_type": "markdown",
   "id": "bd3a8390",
   "metadata": {},
   "source": [
    "## [알아두면 상식] 반복문\n",
    "### 반복문 변수명\n",
    "- 임시적인 반복 변수는 대부분 i,j,k로 정함\n",
    "- 이것은 수학에서 변수를 x,y,z로 정화는 것과 유사한 관례\n",
    "\n",
    "### 0부터 시작하는 반복문\n",
    "- 반복문은 대부분 0부터 반복을 시작\n",
    "- 이것도 일종의 관례로 1부터 시작하는 언어도 존재\n",
    "- 2진수가 0부터 시작하기 때문에 0부터 시작하는 걸 권장\n",
    "\n",
    "### 무한 loop\n",
    "- 반복 명령이 끝나지 않는 프로그램 오류\n",
    "- CPU와 메모리 등 컴퓨터의 리소스를 과다하게 점유"
   ]
  },
  {
   "cell_type": "code",
   "execution_count": 82,
   "id": "02d999d9",
   "metadata": {
    "scrolled": false
   },
   "outputs": [
    {
     "name": "stdout",
     "output_type": "stream",
     "text": [
      "문자열을 한자씩 리스트로 처리 - 시퀀스형 자료형\n",
      "a\n",
      "b\n",
      "c\n",
      "d\n",
      "\n",
      "각각의 문자열 리스트로 처리\n",
      "asd\n",
      "sdf\n",
      "dfa\n"
     ]
    }
   ],
   "source": [
    "print('문자열을 한자씩 리스트로 처리 - 시퀀스형 자료형')\n",
    "for i in \"abcd\":\n",
    "    print(i)\n",
    "print()\n",
    "print('각각의 문자열 리스트로 처리')\n",
    "for i in ['asd','sdf','dfa']:\n",
    "    print(i)"
   ]
  },
  {
   "cell_type": "code",
   "execution_count": 84,
   "id": "b5f41f19",
   "metadata": {},
   "outputs": [
    {
     "name": "stdout",
     "output_type": "stream",
     "text": [
      "간격을 두고 세기\n",
      "0\n",
      "2\n",
      "4\n",
      "6\n",
      "8\n",
      "\n",
      "역순으로 반복문 수행\n",
      "10\n",
      "9\n",
      "8\n",
      "7\n",
      "6\n",
      "5\n",
      "4\n",
      "3\n",
      "2\n",
      "1\n"
     ]
    }
   ],
   "source": [
    "print('간격을 두고 세기')\n",
    "for i in range(0,10,2):\n",
    "    print(i)\n",
    "print()\n",
    "print('역순으로 반복문 수행')\n",
    "for i in range(10,0,-1):\n",
    "    print(i)"
   ]
  },
  {
   "cell_type": "markdown",
   "id": "4ea9e16d",
   "metadata": {},
   "source": [
    "### while문\n",
    "- for와는 다르게 ***조건이 만족하는 동안*** 반복 명령문을 수행\n",
    "- for문은 반복 실행 횟수를 명확히 알 때 보통 사용\n",
    "- while문은 반복 실행횟수가 명확하지 않을 때 사용"
   ]
  },
  {
   "cell_type": "code",
   "execution_count": 94,
   "id": "67aca143",
   "metadata": {},
   "outputs": [
    {
     "name": "stdout",
     "output_type": "stream",
     "text": [
      "0 : hello\n",
      "1 : hello\n",
      "2 : hello\n",
      "3 : hello\n",
      "4 : hello\n",
      "5 : hello\n",
      "6 : hello\n",
      "7 : hello\n",
      "8 : hello\n",
      "9 : hello\n"
     ]
    }
   ],
   "source": [
    "# 예시\n",
    "i = 0\n",
    "while i < 10:\n",
    "    print(f\"{i} : hello\")\n",
    "    i += 1"
   ]
  },
  {
   "cell_type": "markdown",
   "id": "785f92b1",
   "metadata": {},
   "source": [
    "### 반복의 제어 - break, continue\n",
    "- break"
   ]
  },
  {
   "cell_type": "code",
   "execution_count": 96,
   "id": "90e109cc",
   "metadata": {},
   "outputs": [
    {
     "name": "stdout",
     "output_type": "stream",
     "text": [
      "0\n",
      "1\n",
      "2\n",
      "3\n",
      "4\n",
      "EOP\n"
     ]
    }
   ],
   "source": [
    "for i in range(10):\n",
    "    if i ==5:\n",
    "        break\n",
    "    print(i)\n",
    "print('EOP')"
   ]
  },
  {
   "cell_type": "code",
   "execution_count": 97,
   "id": "58e5ea09",
   "metadata": {},
   "outputs": [
    {
     "name": "stdout",
     "output_type": "stream",
     "text": [
      "0\n",
      "1\n",
      "2\n",
      "3\n",
      "4\n",
      "6\n",
      "7\n",
      "8\n",
      "9\n",
      "EOP\n"
     ]
    }
   ],
   "source": [
    "for i in range(10):\n",
    "    if i ==5:\n",
    "        continue\n",
    "    print(i)\n",
    "print('EOP')"
   ]
  },
  {
   "cell_type": "code",
   "execution_count": 100,
   "id": "9418e939",
   "metadata": {},
   "outputs": [
    {
     "name": "stdout",
     "output_type": "stream",
     "text": [
      "0\n",
      "1\n",
      "2\n",
      "3\n",
      "4\n",
      "5\n",
      "6\n",
      "7\n",
      "8\n",
      "9\n",
      "EOP\n"
     ]
    }
   ],
   "source": [
    "for i in range(10):\n",
    "    print(i,)\n",
    "else:\n",
    "    print('EOP')"
   ]
  },
  {
   "cell_type": "code",
   "execution_count": 105,
   "id": "cde78266",
   "metadata": {},
   "outputs": [
    {
     "name": "stdout",
     "output_type": "stream",
     "text": [
      "예제\n",
      "구구단 몇 단을 계산할까요?\n",
      "2\n",
      "구구단 2단을 계산합니다.\n",
      "2 X 1 = 2\n",
      "2 X 2 = 4\n",
      "2 X 3 = 6\n",
      "2 X 4 = 8\n",
      "2 X 5 = 10\n",
      "2 X 6 = 12\n",
      "2 X 7 = 14\n",
      "2 X 8 = 16\n",
      "2 X 9 = 18\n"
     ]
    }
   ],
   "source": [
    "print(\"예제\")\n",
    "print('구구단 몇 단을 계산할까요?')\n",
    "def multiplication_table(x):\n",
    "    print(f'구구단 {x}단을 계산합니다.')\n",
    "    for i in range(1,10):\n",
    "        answer = i * x\n",
    "        print(f\"{x} X {i} = {answer}\")\n",
    "        \n",
    "number = int(input())\n",
    "multiplication_table(number)"
   ]
  },
  {
   "cell_type": "code",
   "execution_count": 106,
   "id": "0a08a773",
   "metadata": {},
   "outputs": [
    {
     "name": "stdout",
     "output_type": "stream",
     "text": [
      "2\n",
      "구구단 2단을 계산합니다.\n",
      "2 X 1 = 2\n",
      "2 X 2 = 4\n",
      "2 X 3 = 6\n",
      "2 X 4 = 8\n",
      "2 X 5 = 10\n",
      "2 X 6 = 12\n",
      "2 X 7 = 14\n",
      "2 X 8 = 16\n",
      "2 X 9 = 18\n"
     ]
    }
   ],
   "source": [
    "def multiplication _table(x):\n",
    "    print(f'구구단 {x}단을 계산합니다.')\n",
    "    i = 1\n",
    "    while i < 10:\n",
    "        answer = i * x\n",
    "        print(f\"{x} X {i} = {answer}\")\n",
    "        i += 1\n",
    "        \n",
    "number = int(input())\n",
    "multiplication_table(number)"
   ]
  },
  {
   "cell_type": "markdown",
   "id": "e2f303dd",
   "metadata": {},
   "source": [
    "### loop review\n",
    "- loop은 복잡하기 때문에 중간중간 코드를 확인할 필요가 있다."
   ]
  },
  {
   "cell_type": "code",
   "execution_count": 111,
   "id": "ca259e40",
   "metadata": {},
   "outputs": [
    {
     "name": "stdout",
     "output_type": "stream",
     "text": [
      "REVERSE #1 \n",
      "REVERSE #2 i\n",
      "REVERSE #1 i\n",
      "REVERSE #2  i\n",
      "REVERSE #1  i\n",
      "REVERSE #2 l i\n",
      "REVERSE #1 l i\n",
      "REVERSE #2 ol i\n",
      "REVERSE #1 ol i\n",
      "REVERSE #2 vol i\n",
      "REVERSE #1 vol i\n",
      "REVERSE #2 evol i\n",
      "REVERSE #1 evol i\n",
      "REVERSE #2  evol i\n",
      "REVERSE #1  evol i\n",
      "REVERSE #2 y evol i\n",
      "REVERSE #1 y evol i\n",
      "REVERSE #2 oy evol i\n",
      "REVERSE #1 oy evol i\n",
      "REVERSE #2 uoy evol i\n"
     ]
    }
   ],
   "source": [
    "sentence  = \"i love you\"\n",
    "reverse_sentence = ''\n",
    "for char in sentence:\n",
    "    print(\"REVERSE #1\",reverse_sentence)\n",
    "    reverse_sentence = char + reverse_sentence\n",
    "    print(\"REVERSE #2\",reverse_sentence)"
   ]
  },
  {
   "cell_type": "code",
   "execution_count": 12,
   "id": "7a633c47",
   "metadata": {},
   "outputs": [
    {
     "name": "stdout",
     "output_type": "stream",
     "text": [
      "예제 2진수로 변환하기\n",
      "수를 입력하세요! :100\n",
      "1100100\n",
      "CPU times: user 12.7 ms, sys: 10.1 ms, total: 22.8 ms\n",
      "Wall time: 1.99 s\n"
     ]
    }
   ],
   "source": [
    "%%time\n",
    "print('예제 2진수로 변환하기')\n",
    "# 내가 작성한 코드...\n",
    "def decimal(num):\n",
    "    result = ''\n",
    "    while (num > 0):  # while을 쓴 이유는 반복하는 횟수를 알 수 없기에 while을 사용한 것.\n",
    "        result = str(num % 2) + result\n",
    "        num = num // 2\n",
    "        if num < 2:  # 몫이 2 밑으로 가면 더이상 할 수 없기에 끝내야 한다.\n",
    "            result = str(num)+result\n",
    "            break\n",
    "    print(result)\n",
    "\n",
    "num = int(input('수를 입력하세요! : '))\n",
    "decimal(num)\n"
   ]
  },
  {
   "cell_type": "code",
   "execution_count": 13,
   "id": "43b35710",
   "metadata": {},
   "outputs": [
    {
     "name": "stdout",
     "output_type": "stream",
     "text": [
      "수를 입력하세요! :100\n",
      "1100100\n",
      "CPU times: user 8.5 ms, sys: 7.3 ms, total: 15.8 ms\n",
      "Wall time: 1.02 s\n"
     ]
    }
   ],
   "source": [
    "%%time\n",
    "\n",
    "# 강의 코드    \n",
    "def decimalNew(num):\n",
    "    n_result = ''\n",
    "    while(num > 0):\n",
    "        i = num%2\n",
    "        num = num//2\n",
    "        n_result = str(i)+n_result  # if 구문을 사용하지 않아도 되는 이유!! 1이 되어봤자 몫은 0이기 때문에 그거에 대한 나머지 값만 갖고오고 루프를 끝내버린다.\n",
    "    print(n_result)\n",
    "    \n",
    "num = int(input('수를 입력하세요! : '))\n",
    "decimalNew(num)"
   ]
  },
  {
   "cell_type": "markdown",
   "id": "a2b7903f",
   "metadata": {},
   "source": [
    "## loop & control lab\n",
    "### 가변적인 중첩 반복문\n",
    "- 실제 프로그램에서는 반복문은 사용자의 입력에 따라 가변적으로 반복되고 하나의 반복이 아닌 중복되어 반복이 일어난다."
   ]
  },
  {
   "cell_type": "code",
   "execution_count": 42,
   "id": "df0f9fbf",
   "metadata": {},
   "outputs": [
    {
     "name": "stdout",
     "output_type": "stream",
     "text": [
      "숫자를 맞춰보세요!(1~100)\n",
      "숫자 입력하기 : 100\n",
      "숫자가 큽니다.\n",
      "숫자 입력하기 : 200\n",
      "숫자가 큽니다.\n",
      "숫자 입력하기 : 30\n",
      "숫자가 작습니다!\n",
      "숫자 입력하기 : 40\n",
      "숫자가 작습니다!\n",
      "숫자 입력하기 : 50\n",
      "숫자가 큽니다.\n",
      "숫자 입력하기 : 45\n",
      "숫자가 작습니다!\n",
      "숫자 입력하기 : 46\n",
      "숫자가 작습니다!\n",
      "숫자 입력하기 : 47\n",
      "숫자가 작습니다!\n",
      "숫자 입력하기 : 48\n",
      "숫자가 작습니다!\n",
      "숫자 입력하기 : 49\n",
      "정답입니다!!!!! 입력한 숫자는 49\n"
     ]
    }
   ],
   "source": [
    "print('연습')\n",
    "answer = random.randint(1,101)\n",
    "print('숫자를 맞춰보세요!(1~100)')\n",
    "i=1\n",
    "while(i>0) :\n",
    "    numb = int(input('숫자 입력하기 : '))\n",
    "    if numb > answer:\n",
    "        print('숫자가 큽니다.')\n",
    "    elif numb < answer:\n",
    "        print('숫자가 작습니다!')\n",
    "    else:\n",
    "        print(f'정답입니다!!!!! 입력한 숫자는 {numb}')\n",
    "        break\n",
    "    i += 1"
   ]
  },
  {
   "cell_type": "code",
   "execution_count": 53,
   "id": "ee9ace2b",
   "metadata": {
    "scrolled": false
   },
   "outputs": [
    {
     "name": "stdout",
     "output_type": "stream",
     "text": [
      "연습\n",
      "구구단 몇 단을 계산할까요(1~9)\n",
      "10\n",
      "구구단을 종료합니다.\n"
     ]
    }
   ],
   "source": [
    "print('연습')\n",
    "print('구구단 몇 단을 계산할까요(1~9)')\n",
    "\n",
    "def multi_matrix(numb):\n",
    "    print(f'*****구구단 {numb}단 시작!!*****')\n",
    "    for i in range(1,10):\n",
    "        print(f'{numb}X{i}={numb*i}')\n",
    "    print(f'*****구구단 {numb}단 끝!!*****')\n",
    "\n",
    "while(True):\n",
    "    numb = int(input())\n",
    "    if 10> numb and numb > 0:\n",
    "        multi_matrix(numb)\n",
    "    else:\n",
    "        print('구구단을 종료합니다.')\n",
    "        break"
   ]
  },
  {
   "cell_type": "markdown",
   "id": "992e0471",
   "metadata": {},
   "source": [
    "## debugging\n",
    "- 코드의 오류를 발견하여 수정하는 과정\n",
    "- 오류의 '원인'을 알고 '해결책'을 찾아야 한다.\n",
    "- **문법적 에러**를 찾기 위한 에러 메시지 분석\n",
    "- **논리적 에러**를 찾기 위한 테스트도 중요\n",
    "\n",
    "### 논리적 에러\n",
    "- 뜻대로 실행이 안되는 코드\n",
    "- 중간중간 프린터 문을 찍어서 확인\n",
    "- loop review 처럼 해보기"
   ]
  },
  {
   "cell_type": "markdown",
   "id": "879e6439",
   "metadata": {},
   "source": [
    "## String and advanced function concept\n",
    "### String(문자열)\n",
    "- **시퀀스 자료형**으로 문자형 data를 메모리에 저장\n",
    "- 영문자 한 글자는 1byte의 메모리공간을 사용\n",
    "\n",
    "#### 1btye??\n",
    "- 이진수 한 자릿수는 1bit로 저장됨\n",
    "- 즉 1bit는 0 또는 1\n",
    "- 1byte = 8bit = 2^8 = 256 까지 저장 가능\n",
    "\n",
    "#### 특징 - indexing\n",
    "- 문자열의 각 문자는 개별주소(offset)를 가짐\n",
    "- 이 주소를 사용해 할당된 값을 가져오는 것이 인덱싱\n",
    "- List와 같은 형태로 데이터를 처리\n",
    "\n",
    "#### 특징 - slicing\n",
    "- 문자열의 주소값을 기반으로 문자열의 부분값을 반환\n",
    "- list의 slicing과 같은 방법으로 하면 된다.\n",
    "- copy도 가능 ex) a = text[:]\n",
    "\n",
    "#### 문자열 함수\n",
    "- len(a) : 문자열의 문자 개수를 반환\n",
    "- upper() / lower()\n",
    "- capitalize() : 첫 문자를 대문자로 변환\n",
    "- title() : 제목 형태로 변환\n",
    "- count('a') : 문자열에 'a'가 들어간 횟수 반환\n",
    "- find(), rfind()\n",
    "- startswith('ab'), endswith('ab')\n",
    "- strip() : 좌우 공백을 없앰\n",
    "- rstrip(), lstrip()\n",
    "- split() : 공백을 기준으로 나눠 리스토로 반환\n",
    "- split(',') : ','을 기분으로 나눠 리스트로 반환\n",
    "\n",
    "### Function II - call by object reference\n",
    "#### 함수에서 parameter를 전달하는 방식\n",
    "1. 값에 의한 호출(call by value)\n",
    "- 함수에 인자를 넘길 때 값만 넘김\n",
    "- 함수 내에 인자 값 변경 시, 호출자에게 영향을 주지 않음.\n",
    "\n",
    "2. 참조의 의한 호출(call by reference)\n",
    "- 함수에 인자를 넘길 때 메모리 주소를 넘김 ( == C언어의 point)\n",
    "- 함수 내에 인자 값 변경 시, 호출자의 값도 변경됨\n",
    "\n",
    "3. 객체 참조에 의한 호출(call by object reference)\n",
    "- 파이썬은 **객체의 주소**가 함수로 전달되는 방식\n",
    "- 전달된 객체를 참조하여 변경 시 호출자에게 영향을 주나, 새로운 객체를 만들 경우 호출자에게 영향을 주지 않음."
   ]
  },
  {
   "cell_type": "code",
   "execution_count": 2,
   "id": "fb2fa91d",
   "metadata": {},
   "outputs": [
    {
     "name": "stdout",
     "output_type": "stream",
     "text": [
      "[2, 3]\n",
      "[0, 1]\n"
     ]
    }
   ],
   "source": [
    "# call by object reference 예시\n",
    "def spam(eggs):\n",
    "    eggs.append(1)  # 인자와 호출자가 같은 메모리 주소를 공유하고 있다.\n",
    "    eggs = [2,3]  # 새로운 객체를 생성하면서 기존에 메모리 주소를 공유한게 끊긴다.\n",
    "    print(eggs)\n",
    "\n",
    "ham = [0]\n",
    "spam(ham)\n",
    "print(ham)  #[0, 1]"
   ]
  },
  {
   "cell_type": "markdown",
   "id": "01080d36",
   "metadata": {},
   "source": [
    "#### Swap\n",
    "- 함수를 통해 변수 간의 값을 교환(swap) 하는 함수\n",
    "- call by xxxx를 설명하기 위한 전통적이 함수 예시다."
   ]
  },
  {
   "cell_type": "code",
   "execution_count": 19,
   "id": "7295e960",
   "metadata": {},
   "outputs": [],
   "source": [
    "def swap_value(x, y):\n",
    "    temp = x\n",
    "    x = y\n",
    "    y = temp\n",
    "    \n",
    "def swap_offset(idx_x, idx_y):\n",
    "    temp = lst[idx_x]\n",
    "    lst[idx_x] = lst[idx_y]\n",
    "    lst[idx_y] = temp\n",
    "    \n",
    "def swap_reference_noncopy(lst, idx_x, idx_y):\n",
    "    temp_lst = lst\n",
    "    temp = temp_lst[idx_x]\n",
    "    temp_lst[idx_x] = temp_lst[idx_y]\n",
    "    temp_lst[idx_y] = temp\n",
    "    \n",
    "def swap_reference_copy(lst, idx_x, idx_y):\n",
    "    temp_lst = lst[:]\n",
    "    temp = temp_lst[idx_x]\n",
    "    temp_lst[idx_x] = temp_lst[idx_y]\n",
    "    temp_lst[idx_y] = temp"
   ]
  },
  {
   "cell_type": "code",
   "execution_count": 20,
   "id": "71d6bf5e",
   "metadata": {},
   "outputs": [
    {
     "data": {
      "text/plain": [
       "[1, 2, 3, 4, 5]"
      ]
     },
     "execution_count": 20,
     "metadata": {},
     "output_type": "execute_result"
    }
   ],
   "source": [
    "lst = [1,2,3,4,5]\n",
    "swap_value(0,1)\n",
    "lst\n",
    "# value만 사용했기 호출자가 변화된 것이 없다."
   ]
  },
  {
   "cell_type": "code",
   "execution_count": 21,
   "id": "de62af5f",
   "metadata": {},
   "outputs": [
    {
     "data": {
      "text/plain": [
       "[2, 1, 3, 4, 5]"
      ]
     },
     "execution_count": 21,
     "metadata": {},
     "output_type": "execute_result"
    }
   ],
   "source": [
    "swap_offset(0, 1)\n",
    "lst\n",
    "# index번지를 갖고오며 호출자 lst에 적용이 되었기 때문에 호출자가 변하게 되었다."
   ]
  },
  {
   "cell_type": "code",
   "execution_count": 22,
   "id": "7d07e9fb",
   "metadata": {},
   "outputs": [
    {
     "data": {
      "text/plain": [
       "[1, 2, 3, 4, 5]"
      ]
     },
     "execution_count": 22,
     "metadata": {},
     "output_type": "execute_result"
    }
   ],
   "source": [
    "lst = [1,2,3,4,5]\n",
    "swap_reference_copy(lst, 0, 1)\n",
    "lst\n",
    "# lst를 copy했기 때문에 같은 메모미 주소를 공유하고 있지 않아 lst의 값이 동일하게 출력됨"
   ]
  },
  {
   "cell_type": "code",
   "execution_count": 23,
   "id": "95aba25d",
   "metadata": {},
   "outputs": [
    {
     "data": {
      "text/plain": [
       "[2, 1, 3, 4, 5]"
      ]
     },
     "execution_count": 23,
     "metadata": {},
     "output_type": "execute_result"
    }
   ],
   "source": [
    "lst = [1,2,3,4,5]\n",
    "swap_reference_noncopy(lst, 0, 1)\n",
    "lst\n",
    "# lst를 copy하지 않아서 메모리 주소를 공유하게 되어 lst에도 값이 변하게 됨."
   ]
  },
  {
   "cell_type": "markdown",
   "id": "9e05268a",
   "metadata": {},
   "source": [
    "# 중요!! function 내에서 새롭게 들어온 값을 사용할 때는 반드시 복사를 해주는 것이 좋다. 들어온 list를 되도록이면 복사를 해줘서 사용해줘야 안전하다."
   ]
  },
  {
   "cell_type": "markdown",
   "id": "7da58ec4",
   "metadata": {},
   "source": [
    "### Scoping Rule\n",
    "- 변수가 사용되는 범위(함수 또는 메인 프로그램)\n",
    "- 지역변수(local variable) : 함수 내에서만 사용\n",
    "- 전역변수(Global variable) : 프로그램전체에서 사용\n",
    "- 전역변수는 함수에서 사용 가능\n",
    "- But, 함수 내에서 전역 변수와 같은 이름의 변수를 선언하면 새로운 지역 변수가 생김\n",
    "- 함수 내에서 전역변수 사용 시 global 키워드 사용"
   ]
  },
  {
   "cell_type": "code",
   "execution_count": 25,
   "id": "2fe91f26",
   "metadata": {},
   "outputs": [
    {
     "name": "stdout",
     "output_type": "stream",
     "text": [
      "10\n",
      "In function : 20\n"
     ]
    },
    {
     "ename": "NameError",
     "evalue": "name 'x' is not defined",
     "output_type": "error",
     "traceback": [
      "\u001b[0;31m---------------------------------------------------------------------------\u001b[0m",
      "\u001b[0;31mNameError\u001b[0m                                 Traceback (most recent call last)",
      "\u001b[0;32m/var/folders/28/zb5jqy4s6kn2xld_bfr5mpdw0000gn/T/ipykernel_50832/2338278412.py\u001b[0m in \u001b[0;36m<module>\u001b[0;34m\u001b[0m\n\u001b[1;32m      6\u001b[0m \u001b[0mt\u001b[0m \u001b[0;34m=\u001b[0m \u001b[0;36m10\u001b[0m  \u001b[0;31m# global variable이여서 함수에서 사용이 가능하다.\u001b[0m\u001b[0;34m\u001b[0m\u001b[0;34m\u001b[0m\u001b[0m\n\u001b[1;32m      7\u001b[0m \u001b[0mtest\u001b[0m\u001b[0;34m(\u001b[0m\u001b[0mt\u001b[0m\u001b[0;34m)\u001b[0m\u001b[0;34m\u001b[0m\u001b[0;34m\u001b[0m\u001b[0m\n\u001b[0;32m----> 8\u001b[0;31m \u001b[0mprint\u001b[0m\u001b[0;34m(\u001b[0m\u001b[0mx\u001b[0m\u001b[0;34m)\u001b[0m  \u001b[0;31m# local variable이기 때문에 함수 밖에서는 사용 불가.\u001b[0m\u001b[0;34m\u001b[0m\u001b[0;34m\u001b[0m\u001b[0m\n\u001b[0m",
      "\u001b[0;31mNameError\u001b[0m: name 'x' is not defined"
     ]
    }
   ],
   "source": [
    "def test(x):\n",
    "    print(t)\n",
    "    x  = 20\n",
    "    print('In function :', x)\n",
    "\n",
    "t = 10  # global variable이여서 함수에서 사용이 가능하다.\n",
    "test(t)\n",
    "print(x)  # local variable이기 때문에 함수 밖에서는 사용 불가."
   ]
  },
  {
   "cell_type": "code",
   "execution_count": 27,
   "id": "57cd86ae",
   "metadata": {},
   "outputs": [
    {
     "name": "stdout",
     "output_type": "stream",
     "text": [
      "before : 10\n",
      "In function : 20\n",
      "after : 10\n"
     ]
    }
   ],
   "source": [
    "def test(x):\n",
    "    x  = 20\n",
    "    print('In function :', x)\n",
    "\n",
    "t = 10  # global variable이여서 함수에서 사용이 가능하다.\n",
    "print(f'before : {t}')\n",
    "test(t)\n",
    "print(f'after : {t}')  # 10, 이전과 동일하게 출력, 함수 내에서 x는 새로운 주소값을 갖게 되어서임."
   ]
  },
  {
   "cell_type": "code",
   "execution_count": 30,
   "id": "cc326bf4",
   "metadata": {},
   "outputs": [
    {
     "name": "stdout",
     "output_type": "stream",
     "text": [
      "before : I love Seoul\n",
      "In function : I love Incheon\n",
      "after : I love Incheon\n"
     ]
    }
   ],
   "source": [
    "def f():\n",
    "    global s\n",
    "    s = \"I love Incheon\"\n",
    "    print(f'In function : {s}')\n",
    "\n",
    "s = 'I love Seoul'\n",
    "print(f'before : {s}')\n",
    "f()\n",
    "print(f'after : {s}')"
   ]
  },
  {
   "cell_type": "markdown",
   "id": "a352da41",
   "metadata": {},
   "source": [
    "### Recursive Function(재귀함수)\n",
    "- 자기자신을 호출하는 함수\n",
    "- 점화식과 같은 재귀적 수학 모형을 표현할 때 사용\n",
    "- 재귀 종료 조건 존재, 종료 조건까지 함수호출 반복 "
   ]
  },
  {
   "cell_type": "code",
   "execution_count": 37,
   "id": "e686887e",
   "metadata": {},
   "outputs": [
    {
     "name": "stdout",
     "output_type": "stream",
     "text": [
      "input number for facotrial Cal : 6\n",
      "720\n"
     ]
    }
   ],
   "source": [
    "# 재귀함수 예시\n",
    "def factorial(x):\n",
    "    if x == 1:\n",
    "        return 1\n",
    "    else:\n",
    "        return x * factorial(x-1)  # 재귀함수의 point!\n",
    "\n",
    "# 자기 자신을 다시 호출하는 형식이다.\n",
    "print(factorial(int(input('input number for facotrial Cal : '))))"
   ]
  },
  {
   "cell_type": "code",
   "execution_count": 68,
   "id": "a77fd9d2",
   "metadata": {},
   "outputs": [
    {
     "name": "stdout",
     "output_type": "stream",
     "text": [
      "재귀함수를 일반적인 loop를 활용해보기\n",
      "5\n"
     ]
    },
    {
     "data": {
      "text/plain": [
       "120"
      ]
     },
     "execution_count": 68,
     "metadata": {},
     "output_type": "execute_result"
    }
   ],
   "source": [
    "print('재귀함수를 일반적인 loop를 활용해보기')\n",
    "i = int(input())\n",
    "\n",
    "def factorial(i):   \n",
    "    s = 1\n",
    "    while i>0:\n",
    "        if i == 0:\n",
    "            return 0\n",
    "        else: \n",
    "            s *= i\n",
    "            i -= 1\n",
    "    return s\n",
    "factorial(i)"
   ]
  },
  {
   "cell_type": "markdown",
   "id": "5b147129",
   "metadata": {},
   "source": [
    "## Function type hints\n",
    "- 파이썬의 가장 큰 특징 : dynamic typing\\\n",
    "    -> 처음 함수를 사용하는 사용자가 Interface를 알기 어렵다는 단점이 있음\\\n",
    "    -> dynamic typing은 해당 함수가 무엇인지 모르더라도 적당한 데이터를 넣어서 함수를 돌려볼 수 있다.\n",
    "    \n",
    "- python 3.5 버전 이후로는 PEP 484에 기반하여 type hints 기능 제공"
   ]
  },
  {
   "cell_type": "code",
   "execution_count": null,
   "id": "91708c80",
   "metadata": {},
   "outputs": [],
   "source": [
    "def do_fn(var_name:var_type) -> return_type:\n",
    "    pass\n",
    "\n",
    "def type_hint_ex(name:str) -> str:\n",
    "    return f'Hello, {name}'"
   ]
  },
  {
   "cell_type": "markdown",
   "id": "a01c69bd",
   "metadata": {},
   "source": [
    "* type hints의 장점\n",
    "1. 사용자에게 **인터페이스**를 명확히 알려줄 수 있다.\n",
    "2. 함수의 문서화시 **parameter에 대한 정보**를 명확히 알 수 있다.\n",
    "3. mypy 또는 IDE, linter 등을 통해 코드의 **발생 가능한 오류를 사전에 확인**\n",
    "4. 시스템 전체적인 **안전성**을 확보할 수 있다."
   ]
  },
  {
   "cell_type": "markdown",
   "id": "a76999bb",
   "metadata": {},
   "source": [
    "## Function docstring\n",
    "- 파이썬 함수에 대한 상세스펙을 사전에 작성 -> 함수 사용자의 이행도 UP\n",
    "- 세개의 따옴표로 docstring 영역 표시"
   ]
  },
  {
   "cell_type": "code",
   "execution_count": 71,
   "id": "89e80319",
   "metadata": {},
   "outputs": [],
   "source": [
    "def kos_root():\n",
    "    \"\"\"Return the pathname of the KOS root directory\"\"\"\n",
    "    global _kos_root\n",
    "    pass"
   ]
  },
  {
   "cell_type": "markdown",
   "id": "cdbbc238",
   "metadata": {},
   "source": [
    "## 함수 작성 가이드 라인\n",
    "- 함수는 가능하면 짧게 작성할 것 (줄 수를 줄일 것) \n",
    "- 함수 이름에 함수의 역할, 의도가 명확히 들어낼 것 ex) print(v)_hello_world(o)\n",
    "- 하나의 함수에는 유사한 역할을 하는 코드만 포함\n",
    "- 인자로 받은 값 자체를 바꾸진 말 것(임시변수 선언)\n",
    "\n",
    "### 함수는 언제 만드는가?\n",
    "- 공통적으로 사용되는 코드는 함수로 변환\n",
    "- 복잡한 수식 -> 식별 가능한 이름의 함수로 변환\n",
    "- 복잡한 조건 -> 식별 가능한 이름의 함수로 변환 "
   ]
  },
  {
   "cell_type": "markdown",
   "id": "1870237d",
   "metadata": {},
   "source": [
    "## 파이썬 코딩 컨벤션\n",
    "- 명확한 규칙은 없음\n",
    "- 때로는 팀마다, 프로젝트마다 따로\n",
    "- 중요한건 **일관성!!!!!!!**\n",
    "- 읽기 좋은 코드가 좋은 코드\n",
    "- 들여쓰기는 Tab or 4 spaces 논쟁\n",
    "- 일반적으로 4 spaces를 권장함\n",
    "- 중요한건 혼합하지 않으면 됨!!!!\n",
    "- 불필요한 공백은 피함\n",
    "- = 연산자는 1칸 이상 안 띄움 ex) variable_example= 12\n",
    "- 주석은 항상 갱신, 불필요한 주석은 삭제\n",
    "- 코드의 마지막에는 항상 한 줄 추가\n",
    "- 소문자 l , 대문자 O, 대문자 I 로 함수명은 되도록 금지\n",
    "- 함수명은 소문자로 구성, 필요하면 밑줄로 나눔\n",
    "- 'flake8' 모듈로 체크 (conda install -c anaconda flake 8"
   ]
  },
  {
   "cell_type": "markdown",
   "id": "916c2d17",
   "metadata": {},
   "source": [
    "## Python Data Structure\n",
    "- 스택과 큐 (stack & queue with list)\n",
    "- 튜플과 집합 (tuple & set)\n",
    "- 사전 (dictionary)\n",
    "- collection 모듈\n",
    "\n",
    "### Stack\n",
    "- 나중에 넣은 데이터를 먼저 반환하도록 설계된 메모리 구조\n",
    "- Last In First Out (LIFO)\n",
    "- Data의 입력을 Push, 출력은 Pop이라고 함. \n",
    "    - push는 append(), pop은 pop()을 사용"
   ]
  },
  {
   "cell_type": "code",
   "execution_count": 10,
   "id": "d00b0aa4",
   "metadata": {},
   "outputs": [
    {
     "name": "stdout",
     "output_type": "stream",
     "text": [
      "input wordhello\n",
      "['o', 'l', 'l', 'e', 'h']\n"
     ]
    }
   ],
   "source": [
    "#pop의 예제\n",
    "word = input('input word')\n",
    "word_list = list(word)\n",
    "reverse_list = []\n",
    "for i in range(len(word_list)):\n",
    "    reverse_list.append(word_list.pop())\n",
    "print(reverse_list)"
   ]
  },
  {
   "cell_type": "markdown",
   "id": "56623517",
   "metadata": {},
   "source": [
    "### queue\n",
    "- 먼저 넣은 데이터를 먼저 반환하도록 설계된 메모리 구조\n",
    "- First In First Out (FIFO)\n",
    "- Stack과 반대되는 개념\n",
    "    - Put을 append(), get을 pop(0)을 사용"
   ]
  },
  {
   "cell_type": "markdown",
   "id": "8fa7b63c",
   "metadata": {},
   "source": [
    "### Tuple \n",
    "- ***값의 변경이 불가능한 리스트***\n",
    "- 선언 시 \"[ ]\"가 아닌 \"( )\"를 사용\n",
    "- 리스트의 연산, 인덱싱, 슬라이싱 등을 동일하게 사용"
   ]
  },
  {
   "cell_type": "code",
   "execution_count": 13,
   "id": "9280863f",
   "metadata": {},
   "outputs": [
    {
     "name": "stdout",
     "output_type": "stream",
     "text": [
      "연산 (1, 2, 3, 1, 2, 3) (1, 2, 3, 1, 2, 3)\n",
      "길이 3\n",
      "인덱싱 2\n",
      "슬라이싱 (1, 2)\n",
      "슬라이싱 (1,)\n"
     ]
    },
    {
     "ename": "TypeError",
     "evalue": "'tuple' object does not support item assignment",
     "output_type": "error",
     "traceback": [
      "\u001b[0;31m---------------------------------------------------------------------------\u001b[0m",
      "\u001b[0;31mTypeError\u001b[0m                                 Traceback (most recent call last)",
      "\u001b[0;32m/var/folders/28/zb5jqy4s6kn2xld_bfr5mpdw0000gn/T/ipykernel_60900/4032195562.py\u001b[0m in \u001b[0;36m<module>\u001b[0;34m\u001b[0m\n\u001b[1;32m      7\u001b[0m \u001b[0mprint\u001b[0m\u001b[0;34m(\u001b[0m\u001b[0;34m'슬라이싱'\u001b[0m\u001b[0;34m,\u001b[0m\u001b[0mt\u001b[0m\u001b[0;34m[\u001b[0m\u001b[0;36m0\u001b[0m\u001b[0;34m:\u001b[0m\u001b[0;36m1\u001b[0m\u001b[0;34m]\u001b[0m\u001b[0;34m)\u001b[0m\u001b[0;34m\u001b[0m\u001b[0;34m\u001b[0m\u001b[0m\n\u001b[1;32m      8\u001b[0m \u001b[0;34m\u001b[0m\u001b[0m\n\u001b[0;32m----> 9\u001b[0;31m \u001b[0mt\u001b[0m\u001b[0;34m[\u001b[0m\u001b[0;36m1\u001b[0m\u001b[0;34m]\u001b[0m \u001b[0;34m=\u001b[0m \u001b[0;36m5\u001b[0m  \u001b[0;31m# error\u001b[0m\u001b[0;34m\u001b[0m\u001b[0;34m\u001b[0m\u001b[0m\n\u001b[0m",
      "\u001b[0;31mTypeError\u001b[0m: 'tuple' object does not support item assignment"
     ]
    }
   ],
   "source": [
    "# 튜플 예시\n",
    "t = (1,2,3)\n",
    "print('연산',t+t, t*2)  #(1,2,3,1,2,3)(1,2,3,1,2,3)\n",
    "print('길이',len(t))  # 3\n",
    "print('인덱싱',t[1])  # 2\n",
    "print('슬라이싱',t[0:2])  #(1, 2)\n",
    "print('슬라이싱',t[0:1])  #(1, ) \n",
    "\n",
    "t[1] = 5  # error"
   ]
  },
  {
   "cell_type": "markdown",
   "id": "3c1e3b3b",
   "metadata": {},
   "source": [
    "## 그럼 튜플을 왜 쓸까??\n",
    "- 프로그램을 작동하는 동안 변경되지 않은 데이터의 저장 (학번, 이름, 우편번호 등등)\n",
    "- 함수의 반환 값등 사용자의 실수에 의한 에러를 방지"
   ]
  },
  {
   "cell_type": "markdown",
   "id": "b9dba05c",
   "metadata": {},
   "source": [
    "## set(집합)\n",
    "- **값을 순서없이 저장, 중복 불허하는 자료형**\n",
    "- set 객체 선언을 이용하여 객체 생성"
   ]
  },
  {
   "cell_type": "code",
   "execution_count": 19,
   "id": "a3dbccc0",
   "metadata": {},
   "outputs": [
    {
     "data": {
      "text/plain": [
       "{1, 2, 3}"
      ]
     },
     "execution_count": 19,
     "metadata": {},
     "output_type": "execute_result"
    }
   ],
   "source": [
    "s = set([1,2,3,1,2,3])\n",
    "s  # 중복을 제거하는 모습"
   ]
  },
  {
   "cell_type": "code",
   "execution_count": 20,
   "id": "bf6d7701",
   "metadata": {},
   "outputs": [
    {
     "data": {
      "text/plain": [
       "{1, 2, 3}"
      ]
     },
     "execution_count": 20,
     "metadata": {},
     "output_type": "execute_result"
    }
   ],
   "source": [
    "s.add(1)  # 한 원소 1만 추가\n",
    "s  # 추가, 중복 불허로 추가가 되지 않음"
   ]
  },
  {
   "cell_type": "code",
   "execution_count": 21,
   "id": "f206d11b",
   "metadata": {},
   "outputs": [
    {
     "data": {
      "text/plain": [
       "{2, 3}"
      ]
     },
     "execution_count": 21,
     "metadata": {},
     "output_type": "execute_result"
    }
   ],
   "source": [
    "s.remove(1)  # 한 원소 1만 삭제\n",
    "s  # 삭제 가능"
   ]
  },
  {
   "cell_type": "code",
   "execution_count": 22,
   "id": "54b8e76e",
   "metadata": {},
   "outputs": [
    {
     "data": {
      "text/plain": [
       "{1, 2, 3}"
      ]
     },
     "execution_count": 22,
     "metadata": {},
     "output_type": "execute_result"
    }
   ],
   "source": [
    "s.add(1)  # 1만 추가\n",
    "s"
   ]
  },
  {
   "cell_type": "code",
   "execution_count": 23,
   "id": "b7356b0b",
   "metadata": {},
   "outputs": [
    {
     "data": {
      "text/plain": [
       "{1, 2, 3, 5, 7, 9}"
      ]
     },
     "execution_count": 23,
     "metadata": {},
     "output_type": "execute_result"
    }
   ],
   "source": [
    "s.update([1,3,5,7,9])\n",
    "s  # 중복을 제외한 값들의 추가"
   ]
  },
  {
   "cell_type": "code",
   "execution_count": 24,
   "id": "f99b3935",
   "metadata": {},
   "outputs": [
    {
     "data": {
      "text/plain": [
       "{1, 2, 5, 7, 9}"
      ]
     },
     "execution_count": 24,
     "metadata": {},
     "output_type": "execute_result"
    }
   ],
   "source": [
    "s.discard(3)  # 3 삭제\n",
    "s"
   ]
  },
  {
   "cell_type": "code",
   "execution_count": 25,
   "id": "6c895563",
   "metadata": {},
   "outputs": [],
   "source": [
    "s1 = s\n",
    "s2 = set([2,3,4,5,6])"
   ]
  },
  {
   "cell_type": "code",
   "execution_count": 26,
   "id": "330add38",
   "metadata": {},
   "outputs": [
    {
     "data": {
      "text/plain": [
       "{1, 2, 5, 7, 9}"
      ]
     },
     "execution_count": 26,
     "metadata": {},
     "output_type": "execute_result"
    }
   ],
   "source": [
    "s1"
   ]
  },
  {
   "cell_type": "code",
   "execution_count": 27,
   "id": "6dd9e5db",
   "metadata": {},
   "outputs": [
    {
     "data": {
      "text/plain": [
       "{2, 3, 4, 5, 6}"
      ]
     },
     "execution_count": 27,
     "metadata": {},
     "output_type": "execute_result"
    }
   ],
   "source": [
    "s2"
   ]
  },
  {
   "cell_type": "code",
   "execution_count": 28,
   "id": "b96a85ea",
   "metadata": {},
   "outputs": [
    {
     "data": {
      "text/plain": [
       "{1, 2, 3, 4, 5, 6, 7, 9}"
      ]
     },
     "execution_count": 28,
     "metadata": {},
     "output_type": "execute_result"
    }
   ],
   "source": [
    "s1 | s2  # 합집합"
   ]
  },
  {
   "cell_type": "code",
   "execution_count": 29,
   "id": "cf5f42da",
   "metadata": {},
   "outputs": [
    {
     "data": {
      "text/plain": [
       "{2, 5}"
      ]
     },
     "execution_count": 29,
     "metadata": {},
     "output_type": "execute_result"
    }
   ],
   "source": [
    "s1.intersection(s2)  # 교집합"
   ]
  },
  {
   "cell_type": "code",
   "execution_count": 30,
   "id": "0c94c59d",
   "metadata": {},
   "outputs": [
    {
     "data": {
      "text/plain": [
       "{2, 5}"
      ]
     },
     "execution_count": 30,
     "metadata": {},
     "output_type": "execute_result"
    }
   ],
   "source": [
    "s1 & s2  # 교집합"
   ]
  },
  {
   "cell_type": "code",
   "execution_count": 31,
   "id": "64a6135c",
   "metadata": {},
   "outputs": [
    {
     "data": {
      "text/plain": [
       "{1, 7, 9}"
      ]
     },
     "execution_count": 31,
     "metadata": {},
     "output_type": "execute_result"
    }
   ],
   "source": [
    "s1 - s2  # 차집합"
   ]
  },
  {
   "cell_type": "code",
   "execution_count": 32,
   "id": "17694368",
   "metadata": {},
   "outputs": [
    {
     "data": {
      "text/plain": [
       "{1, 7, 9}"
      ]
     },
     "execution_count": 32,
     "metadata": {},
     "output_type": "execute_result"
    }
   ],
   "source": [
    "s1.difference(s2)  # 차집합"
   ]
  },
  {
   "cell_type": "markdown",
   "id": "2a68d835",
   "metadata": {},
   "source": [
    "## dict\n",
    "- 데이터를 저장할 때는 구분 지을 수 있는 값을 함께 저장\\\n",
    "ex) 주민등록번호, 제품 모델 번호\n",
    "- 구분을 위한 데이터 고유 값을 Identifier 또는 Key라고 함\n",
    "- key값을 활용하여, 데이터 값(value)를 관리함\n",
    "- key와 value를 매칭하여 key로 value를 검색\n",
    "- 다른 언어에서는 hash table이라는 용어를 사용"
   ]
  },
  {
   "cell_type": "code",
   "execution_count": 33,
   "id": "2e29142e",
   "metadata": {},
   "outputs": [
    {
     "data": {
      "text/plain": [
       "{'name': 'PHS', 'age': 12, 'sex': 'male'}"
      ]
     },
     "execution_count": 33,
     "metadata": {},
     "output_type": "execute_result"
    }
   ],
   "source": [
    "dict_name = {'name':'PHS','age':12,'sex':'male'}\n",
    "dict_name"
   ]
  },
  {
   "cell_type": "code",
   "execution_count": 39,
   "id": "acbacba6",
   "metadata": {},
   "outputs": [
    {
     "data": {
      "text/plain": [
       "dict_keys(['name', 'age', 'sex'])"
      ]
     },
     "execution_count": 39,
     "metadata": {},
     "output_type": "execute_result"
    }
   ],
   "source": [
    "dict_name.keys()"
   ]
  },
  {
   "cell_type": "code",
   "execution_count": 40,
   "id": "450af6bd",
   "metadata": {},
   "outputs": [
    {
     "data": {
      "text/plain": [
       "dict_values(['PHS', 12, 'male'])"
      ]
     },
     "execution_count": 40,
     "metadata": {},
     "output_type": "execute_result"
    }
   ],
   "source": [
    "dict_name.values()"
   ]
  },
  {
   "cell_type": "code",
   "execution_count": 41,
   "id": "b1cf32e7",
   "metadata": {},
   "outputs": [
    {
     "name": "stdout",
     "output_type": "stream",
     "text": [
      "key : name, value : PHS\n",
      "key : age, value : 12\n",
      "key : sex, value : male\n"
     ]
    }
   ],
   "source": [
    "for key, value in dict_name.items():\n",
    "    print(f'key : {key}, value : {value}')"
   ]
  },
  {
   "cell_type": "code",
   "execution_count": 36,
   "id": "184451a9",
   "metadata": {},
   "outputs": [
    {
     "name": "stdout",
     "output_type": "stream",
     "text": [
      "('name', 'PHS')\n",
      "<class 'tuple'>\n",
      "('age', 12)\n",
      "<class 'tuple'>\n",
      "('sex', 'male')\n",
      "<class 'tuple'>\n"
     ]
    }
   ],
   "source": [
    "for items in dict_name.items():\n",
    "    print(items)\n",
    "    print(type(items))\n",
    "\n",
    "# tuple이기 때문에 값을 변경할 수 없다!"
   ]
  },
  {
   "cell_type": "code",
   "execution_count": 42,
   "id": "58f5f2c6",
   "metadata": {},
   "outputs": [
    {
     "data": {
      "text/plain": [
       "{'name': 'PHS', 'age': 12, 'sex': 'male', 'live': 'korea'}"
      ]
     },
     "execution_count": 42,
     "metadata": {},
     "output_type": "execute_result"
    }
   ],
   "source": [
    "dict_name['live'] = 'korea'\n",
    "dict_name"
   ]
  },
  {
   "cell_type": "code",
   "execution_count": 50,
   "id": "27939ca5",
   "metadata": {},
   "outputs": [],
   "source": [
    "import csv"
   ]
  },
  {
   "cell_type": "code",
   "execution_count": 83,
   "id": "eb5f7dd7",
   "metadata": {
    "collapsed": true
   },
   "outputs": [
    {
     "data": {
      "text/plain": [
       "[['command', 'id'],\n",
       " ['_raw', 'source'],\n",
       " ['vi gowithflow.py ', 'tiana'],\n",
       " ['python3.4 submit_assignment.py -submit gowithflow.py', 'tiana'],\n",
       " ['vi gowithflow.py', 'white_rabbit'],\n",
       " ['python3.4 gowithflow.py', 'white_rabbit'],\n",
       " ['vi gowithflow.py', 'white_rabbit'],\n",
       " ['python3.4 gowithflow.py', 'white_rabbit'],\n",
       " ['vi gowithflow.py ', 'tiana'],\n",
       " ['python3.4 submit_assignment.py -submit gowithflow.py', 'tiana'],\n",
       " ['vi gowithflow.py', 'white_rabbit'],\n",
       " ['python3.4 gowithflow.py ', 'white_rabbit'],\n",
       " ['python3.4 submit_assignment.py -submit gowithflow.py', 'tiana'],\n",
       " ['vi gowithflow.py', 'flo'],\n",
       " ['python3.4', 'flo'],\n",
       " ['vi gowithflow.py', 'flo'],\n",
       " ['python3.4', 'flo'],\n",
       " ['vi gowithflow.py', 'flo'],\n",
       " ['vi gowithflow.py ', 'tiana'],\n",
       " ['python3.4', 'flo'],\n",
       " ['vi gowithflow.py', 'flo'],\n",
       " ['python3.4', 'flo'],\n",
       " ['vi gowithflow.py', 'flo'],\n",
       " ['python3.4', 'tiana'],\n",
       " ['vi gowithflow.py', 'flo'],\n",
       " ['python3.4', 'flo'],\n",
       " ['vi gowithflow.py', 'flo'],\n",
       " ['python3.4', 'flo'],\n",
       " ['python3.4', 'flo'],\n",
       " ['vi gowithflow.py', 'flo'],\n",
       " ['python3.4', 'flo'],\n",
       " ['vi gowithflow.py', 'flo'],\n",
       " ['vi gowithflow.py ', 'tiana'],\n",
       " ['python3.4', 'flo'],\n",
       " ['python3.4 submit_assignment.py -submit gowithflow.py', 'chum'],\n",
       " ['vi gowithflow.py ', 'chum'],\n",
       " ['python3.4', 'chum'],\n",
       " ['vi gowithflow.py ', 'chum'],\n",
       " ['vi gowithflow.py', 'flo'],\n",
       " ['python3.4', 'chum'],\n",
       " ['vi gowithflow.py ', 'chum'],\n",
       " ['#1442490232\\nvi g', 'chum'],\n",
       " ['vi gowithflow.py', 'tiana'],\n",
       " ['python3.4 submit_assignment.py -submit gowithflow.py', 'chum'],\n",
       " ['python3.4 submit_assignment.py -submit gowithflow.py', 'chum'],\n",
       " ['python3.4 submit_assignment.py -submit gowithflow.py', 'tiana'],\n",
       " ['python3.4 submit_assignment.py -submit gowithflow.py', 'tiana'],\n",
       " ['python3.4', 'tiana'],\n",
       " ['python3.4', 'flo'],\n",
       " ['vi gowithflow.py ', 'chum'],\n",
       " ['vi gowithflow.py ', 'tiana'],\n",
       " ['vi gowithflow.py', 'flo'],\n",
       " ['python3.4', 'flo'],\n",
       " ['python3.4', 'chum'],\n",
       " ['vi gowithflow.py', 'flo'],\n",
       " ['vi gowithflow.py ', 'chum'],\n",
       " ['python3.4', 'flo'],\n",
       " ['python3.4', 'tiana'],\n",
       " ['vi gowithflow.py', 'flo'],\n",
       " ['python3.4', 'flo'],\n",
       " ['python3.4', 'chum'],\n",
       " ['vi gowithflow.py ', 'tiana'],\n",
       " ['#1442489813\\nexit', 'rocket_raccoon'],\n",
       " ['vi gowithflow.py', 'chum'],\n",
       " ['python3.4', 'tiana'],\n",
       " [':vi gowithflow.py ', 'chum'],\n",
       " ['vi gowithflow.py ', 'rocket_raccoon'],\n",
       " ['python3.4', 'chum'],\n",
       " ['vi gowithflow.py ', 'chum'],\n",
       " ['python3.4', 'chum'],\n",
       " ['python3.4 submit_assignment.py -submit gowithflow.py ', 'rocket_raccoon'],\n",
       " ['#1442489489', 'rocket_raccoon'],\n",
       " ['vi gowithflow.py ', 'chum'],\n",
       " ['python3.4 submit_assignment.py -submit gowithflow.py ', 'rocket_raccoon'],\n",
       " ['python3.4', 'chum'],\n",
       " ['vi gowithflow.py ', 'chum'],\n",
       " ['python3.4', 'chum'],\n",
       " ['vi gowithflow.py ', 'chum'],\n",
       " ['python3.4', 'chum'],\n",
       " ['vi gowithflow.py ', 'rocket_raccoon'],\n",
       " ['vi gowithflow.py ', 'chum'],\n",
       " ['python3.4 submit_assignment.py -submit gowithflow.py ', 'rocket_raccoon'],\n",
       " ['python3.4', 'chum'],\n",
       " ['vi gowithflow.py ', 'tiana'],\n",
       " ['python3.4', 'tiana'],\n",
       " ['vi gowithflow.py ', 'rocket_raccoon'],\n",
       " ['python3.4 submit_assignment.py -submit gowithflow.py ', 'rocket_raccoon'],\n",
       " ['vi gowithflow.py ', 'chum'],\n",
       " ['python3.4', 'chum'],\n",
       " ['vi gowithflow.py', 'flo'],\n",
       " ['vi gowithflow.py ', 'rocket_raccoon'],\n",
       " ['python3.4 submit_assignment.py -submit gowithflow.py ', 'rocket_raccoon'],\n",
       " ['python3.4', 'flo'],\n",
       " ['vi gowithflow.py', 'flo'],\n",
       " ['vi fahrenheit_converter.py', 'faline'],\n",
       " ['python3.4', 'flo'],\n",
       " ['vi gowithflow.py ', 'rocket_raccoon'],\n",
       " ['python3.4 submit_assignment.py -submit gowithflow.py ', 'rocket_raccoon'],\n",
       " ['vi gowithflow.py', 'flo'],\n",
       " ['python3.4', 'flo'],\n",
       " ['vi gowithflow.py ', 'rocket_raccoon'],\n",
       " ['vi gowithflow.py', 'flo'],\n",
       " ['python3.4', 'flo'],\n",
       " ['python3.4 submit_assignment.py -submit gowithflow.py ', 'rocket_raccoon'],\n",
       " ['vi gowithflow.py', 'flo'],\n",
       " ['python3.4', 'flo'],\n",
       " ['vi gowithflow.py ', 'rocket_raccoon'],\n",
       " ['vi gowithflow.py ', 'tiana'],\n",
       " ['python3.4 submit_assignment.py -submit gowithflow.py ', 'rocket_raccoon'],\n",
       " ['python3.4', 'tiana'],\n",
       " ['vi gowithflow.py', 'chum'],\n",
       " ['#1442488382\\nls', 'chum'],\n",
       " ['vi gowithflow.py ', 'chum'],\n",
       " ['vi gowithflow.py ', 'tiana'],\n",
       " ['vi gowithflow.py ', 'rocket_raccoon'],\n",
       " ['vi gowithflow.py', 'flo'],\n",
       " ['python3.4', 'flo'],\n",
       " ['python3.4 submit_assignment.py -submit gowithflow.py ', 'rocket_raccoon'],\n",
       " ['vi gowithflow.py ', 'rocket_raccoon'],\n",
       " ['python3.4 submit_assignment.py -submit gowithflow.py ', 'rocket_raccoon'],\n",
       " ['vi gowithflow.py', 'flo'],\n",
       " ['python3.4', 'flo'],\n",
       " ['vi gowithflow.py ', 'rocket_raccoon'],\n",
       " ['python3.4 submit_assignment.py -submit gowithflow.py ', 'rocket_raccoon'],\n",
       " ['vi exam_grader.py', 'kristoff'],\n",
       " ['vi gowithflow.py ', 'rocket_raccoon'],\n",
       " ['python3.4 submit_assignment.py -submit gowithflow.py ', 'rocket_raccoon'],\n",
       " ['vi gowithflow.py', 'kristoff'],\n",
       " ['python3.4', 'kristoff'],\n",
       " ['vi gowithflow.py', 'kristoff'],\n",
       " ['vi gowithflow.py ', 'tiana'],\n",
       " ['python3.4', 'kristoff'],\n",
       " ['#1442487662\\nclear', 'kristoff'],\n",
       " ['vi gowithflow.py', 'flo'],\n",
       " ['vi gowithflow.py', 'kristoff'],\n",
       " ['python3.4', 'kristoff'],\n",
       " ['vi gowithflow.py ', 'rocket_raccoon'],\n",
       " ['python3.4 submit_assignment.py -submit gowithflow.py ', 'rocket_raccoon'],\n",
       " ['vi gowithflow.py', 'kristoff'],\n",
       " ['python3.4', 'kristoff'],\n",
       " ['vi gowithflow.py', 'kristoff'],\n",
       " ['vi gowithflow.py ', 'rocket_raccoon'],\n",
       " ['python3.4 submit_assignment.py -submit gowithflow.py ', 'rocket_raccoon'],\n",
       " ['python3.4', 'kristoff'],\n",
       " ['python3.4', 'flo'],\n",
       " ['vi gowithflow.py', 'kristoff'],\n",
       " ['vi gowithflow.py ', 'rocket_raccoon'],\n",
       " ['python3.4', 'kristoff'],\n",
       " ['python3.4 submit_assignment.py -submit gowithflow.py ', 'rocket_raccoon'],\n",
       " ['vi gowithflow.py', 'kristoff'],\n",
       " ['python3.4', 'kristoff'],\n",
       " ['vi gowithflow.py', 'kristoff'],\n",
       " ['python3.4', 'tiana'],\n",
       " ['vi gowithflow.py ', 'rocket_raccoon'],\n",
       " ['python3.4', 'kristoff'],\n",
       " ['python3.4 submit_assignment.py -submit gowithflow.py ', 'rocket_raccoon'],\n",
       " ['vi gowithflow.py ', 'tiana'],\n",
       " ['vi gowithflow.py', 'kristoff'],\n",
       " ['python3.4', 'kristoff'],\n",
       " ['python3.4', 'tiana'],\n",
       " ['vi gowithflow.py', 'kristoff'],\n",
       " ['vi gowithflow.py ', 'rocket_raccoon'],\n",
       " ['python3.4', 'kristoff'],\n",
       " ['vi gowithflow.py ', 'tiana'],\n",
       " ['vi gowithflow.py', 'kristoff'],\n",
       " ['python3.4 submit_assignment.py -submit gowithflow.py ', 'rocket_raccoon'],\n",
       " ['python3.4', 'tiana'],\n",
       " ['python3.4', 'flo'],\n",
       " ['vi gowithflow.py ', 'rocket_raccoon'],\n",
       " ['python3.4 submit_assignment.py -submit gowithflow.py ', 'rocket_raccoon'],\n",
       " ['vi gowithflow.py ', 'tiana'],\n",
       " ['python3.4 submit_assignment.py -get gowithflow', 'tiana'],\n",
       " ['python3.4 submit_assignment.py -get gowithflow', 'tiana'],\n",
       " ['vi gowithflow.py ', 'rocket_raccoon'],\n",
       " ['python3.4 submit_assignment.py -get gowithflow', 'tiana'],\n",
       " ['python3.4 submit_assignment.py -get gowithflow', 'tiana'],\n",
       " ['python3.4 submit_assignment.py -submit gowithflow.py ', 'rocket_raccoon'],\n",
       " ['vi gowithflow.py', 'flo'],\n",
       " ['vi gowithflow.py ', 'rocket_raccoon'],\n",
       " ['python3.4 submit_assignment.py -submit gowithflow.py ', 'rocket_raccoon'],\n",
       " ['vi gowithflow.py ', 'rocket_raccoon'],\n",
       " ['python3.4', 'flo'],\n",
       " ['python3.4 submit_assignment.py -submit gowithflow.py ', 'rocket_raccoon'],\n",
       " ['#1442486597\\nLogic', 'rocket_raccoon'],\n",
       " ['vi gowithflow.py ', 'rocket_raccoon'],\n",
       " ['python3.4 submit_assignment.py -submit gowithflow.py', 'rocket_raccoon'],\n",
       " ['vi gowithflow.py ', 'rocket_raccoon'],\n",
       " ['python3.4 submit_assignment.py -submit gowithflow.py', 'rocket_raccoon'],\n",
       " ['vi gowithflow.py ', 'rocket_raccoon'],\n",
       " ['python3.4 submit_assignment.py -submit gowithflow.py', 'rocket_raccoon'],\n",
       " ['python3.4 gowithflow.py ', 'rocket_raccoon'],\n",
       " ['vi gowithflow.py ', 'rocket_raccoon'],\n",
       " ['python3.4 gowithflow.py ', 'rocket_raccoon'],\n",
       " ['#1442485948\\nexit', 'tinker_bell'],\n",
       " ['wget https://raw.githubusercontent.com/TeamLab/lab_for_gachon_cs50/master/lab_1_vimrc/yesterday_test.py',\n",
       "  'tinker_bell'],\n",
       " ['#1442485945\\nexit', 'tinker_bell'],\n",
       " ['python3.4 submit_assignment.py -submit gowithflow.py', 'tinker_bell'],\n",
       " ['#1442485930\\nexit', 'crush'],\n",
       " ['vi gowithflow.py', 'crush'],\n",
       " ['vi gowithflow.py', 'tinker_bell'],\n",
       " ['python3.4 submit_assignment.py -submit gowithflow.py', 'tinker_bell'],\n",
       " ['python3.4 submit_assignment.py -submit gowithflow.py', 'flik'],\n",
       " ['vi gowithflow.py', 'flik'],\n",
       " ['vi gowithflow.py', 'flik'],\n",
       " ['python3.4 submit_assignment.py -submit gowithflow.py', 'flik'],\n",
       " ['python3.4 submit_assignment.py -submit gowithflow.py', 'flik'],\n",
       " ['vi gowithflow.py', 'tinker_bell'],\n",
       " ['python3.4 submit_assignment.py -submit gowithflow.py', 'tinker_bell'],\n",
       " ['#1442485758\\nexit', 'crush'],\n",
       " ['#1442485757\\nexit', 'crush'],\n",
       " ['vi gowithflow.py', 'flik'],\n",
       " ['vi gowithflow.py', 'tinker_bell'],\n",
       " ['python3.4 submit_assignment.py -submit gowithflow.py', 'flik'],\n",
       " ['#1442485729\\nexit', 'claire_wheeler'],\n",
       " ['vi fahrenheit_converter.py', 'claire_wheeler'],\n",
       " ['python3.4 submit_assignment.py -submit gowithflow.py', 'flik'],\n",
       " ['python3.4 submit_assignment.py -submit gowithflow.py', 'tinker_bell'],\n",
       " ['python3.4 submit_assignment.py -submit gowithflow.py', 'crush'],\n",
       " ['vi gowithflow.py', 'flik'],\n",
       " ['vi gowithflow.py ', 'claire_wheeler'],\n",
       " ['python3.4 submit_assignment.py -submit gowithflow.py', 'flik'],\n",
       " ['python3.4 submit_assignment.py -submit gowithflow.py', 'flik'],\n",
       " ['vi gowithflow.py', 'tinker_bell'],\n",
       " ['python3.4 submit_assignment.py -submit gowithflow.py', 'tinker_bell'],\n",
       " ['python3.4 submit_assignment.py -submit gowithflow.py', 'tinker_bell'],\n",
       " ['vi gowithflow.py', 'crush'],\n",
       " ['python3.4', 'tinker_bell'],\n",
       " ['vi gowithflow.py', 'tinker_bell'],\n",
       " ['vi gowithflow.py', 'tinker_bell'],\n",
       " ['python3.4 submit_assignment.py -submit gowithflow.py', 'crush'],\n",
       " ['vi gowithflow.py', 'flik'],\n",
       " ['python3.4 submit_assignment.py -submit gowithflow.py', 'crush'],\n",
       " ['python3.4', 'tinker_bell'],\n",
       " ['python3.4 submit_assignment.py -submit gowithflow.py', 'flik'],\n",
       " ['python3.4', 'tinker_bell'],\n",
       " ['python3.4', 'crush'],\n",
       " ['#1442485522\\nexit', 'claire_wheeler'],\n",
       " ['#1442485522\\nexit', 'claire_wheeler'],\n",
       " ['exit', 'claire_wheeler'],\n",
       " ['#1442485519\\nexit', 'claire_wheeler'],\n",
       " ['#1442485519\\nexit', 'claire_wheeler'],\n",
       " ['vi gowithflow.py', 'tinker_bell'],\n",
       " ['vi gowithflow.py', 'tinker_bell'],\n",
       " ['python3.4 submit_assignment.py -submit gowithflow.py', 'crush'],\n",
       " ['python3.4 submit_assignment.py -submit gowithflow.py', 'flik'],\n",
       " ['python3.4 submit_assignment.py -submit gowithflow.py', 'crush'],\n",
       " ['python3.4 submit_assignment.py -submit gowithflow.py', 'tinker_bell'],\n",
       " ['python3.4 submit_assignment.py -submit gowithflow.py', 'tinker_bell'],\n",
       " ['python3.4 submit_assignment.py -submit gowithflow.py', 'tinker_bell'],\n",
       " ['python3.4 submit_assignment.py -submit gowithflow.py', 'tinker_bell'],\n",
       " ['python3.4 submit_assignment.py -submit gowithflow.py', 'crush'],\n",
       " ['python3.4', 'tinker_bell'],\n",
       " ['python3.4', 'tinker_bell'],\n",
       " ['#1442485450\\nwq', 'crush'],\n",
       " ['vi gowithflow.py', 'flik'],\n",
       " ['python3.4 submit_assignment.py -submit gowithflow.py', 'flik'],\n",
       " ['python3.4 submit_assignment.py -submit gowithflow.py', 'flik'],\n",
       " ['vi gowithflow.py ', 'claire_wheeler'],\n",
       " ['vi gowithflow.py ', 'claire_wheeler'],\n",
       " ['vi gowithflow.py', 'crush'],\n",
       " ['python3.4 submit_assignment.py -submit gowithflow.py', 'flik'],\n",
       " ['vi gowithflow.py', 'tinker_bell'],\n",
       " ['vi gowithflow.py', 'tinker_bell'],\n",
       " ['python3.4 submit_assignment.py -submit gowithflow.py', 'tinker_bell'],\n",
       " ['python3.4 submit_assignment.py -submit gowithflow.py', 'crush'],\n",
       " ['python3.4 submit_assignment.py -submit gowithflow.py', 'tinker_bell'],\n",
       " ['python3.4 submit_assignment.py -submit gowithflow.py', 'flik'],\n",
       " ['vi gowithflow.py', 'flo'],\n",
       " ['python3.4 submit_assignment.py -submit gowithflow.py', 'crush'],\n",
       " ['python3.4 submit_assignment.py -submit gowithflow.py', 'flo'],\n",
       " ['vi gowithflow.py', 'flo'],\n",
       " ['python3.4 submit_assignment.py -submit gowithflow.py', 'flo'],\n",
       " ['vi gowithflow.py', 'flik'],\n",
       " ['vi gowithflow.py ', 'rocket_raccoon'],\n",
       " ['python3.4 submit_assignment.py -submit gowithflow.py', 'flik'],\n",
       " ['python3.4 basic_operations.py ', 'meg'],\n",
       " ['python3.4', 'flik'],\n",
       " ['python3.4 ahn12', 'fillmore'],\n",
       " ['vi gowithflow.py', 'tinker_bell'],\n",
       " ['vi gowithflow.py', 'tinker_bell'],\n",
       " ['vi gowithflow.py', 'flo'],\n",
       " ['python3.4 submit_assignment.py -submit gowithflow.py', 'rocket_raccoon'],\n",
       " ['python3.4 submit_assignment.py -submit gowithflow.py', 'white_rabbit'],\n",
       " ['python3.4', 'tinker_bell'],\n",
       " ['python3.4', 'tinker_bell'],\n",
       " ['python3.4 submit_assignment.py -submit gowithflow.py', 'meg'],\n",
       " ['python3.4 submit_assignment.py -submit gowithflow.py', 'meg'],\n",
       " ['python3.4 submit_assignment.py -submit gowithflow.py', 'white_rabbit'],\n",
       " ['vi gowithflow.py', 'crush'],\n",
       " ['python3.4 exam_grader.py', 'tarzan'],\n",
       " ['python3.4 submit_assignment.py -submit gowithflow.py', 'tinker_bell'],\n",
       " ['python3.4 submit_assignment.py -submit gowithflow.py', 'tinker_bell'],\n",
       " ['vi factorial_calculator.py', 'bomb_voyage'],\n",
       " ['python3.4 submit_assignment.py -submit gowithflow.py', 'tinker_bell'],\n",
       " ['python3.4 submit_assignment.py -submit gowithflow.py', 'tinker_bell'],\n",
       " ['python3.4 submit_assignment.py -submit gowithflow.py', 'crush'],\n",
       " ['python3.4 submit_assignment.py -submit gowithflow.py', 'crush'],\n",
       " ['vi gowithflow.py ', 'prince_naveen'],\n",
       " ['vi gowithflow.py', 'meg'],\n",
       " ['python3.4 submit_assignment.py -submit gowithflow.py', 'meg'],\n",
       " ['vi gowithflow.py ', 'claire_wheeler'],\n",
       " ['vi gowithflow.py ', 'claire_wheeler'],\n",
       " ['vi gowithflow.py', 'flik'],\n",
       " ['python3.4 submit_assignment.py -submit gowithflow.py', 'claire_wheeler'],\n",
       " ['python3.4 submit_assignment.py -submit gowithflow.py', 'claire_wheeler'],\n",
       " ['python3.4 submit_assignment.py -submit gowithflow.py', 'tarzan'],\n",
       " ['python3.4', 'flik'],\n",
       " ['python3.4 submit_assignment.py -submit gowithflow.py', 'tarzan'],\n",
       " ['vi gowithflow.py', 'meg'],\n",
       " ['vi gowithflow.py', 'bomb_voyage'],\n",
       " ['python3.4 submit_assignment.py -submit gowithflow.py', 'flik'],\n",
       " ['python3.4', 'claire_wheeler'],\n",
       " ['python3.4', 'claire_wheeler'],\n",
       " ['python3.4 submit_assignment.py -submit gowithflow.py', 'flik'],\n",
       " ['vi goflowwith.py', 'bomb_voyage'],\n",
       " ['vi gowithflow.py', 'tarzan'],\n",
       " ['python3.4 submit_assignment.py -submit gowithflow.py', 'tarzan'],\n",
       " ['vi gowithflow.py ', 'claire_wheeler'],\n",
       " ['vi gowithflow.py ', 'claire_wheeler'],\n",
       " ['python3.4', 'meg'],\n",
       " ['vi gowithflow.py ', 'rocket_raccoon'],\n",
       " ['python3.4', 'claire_wheeler'],\n",
       " ['python3.4', 'claire_wheeler'],\n",
       " ['vi gowithflow.py', 'flik'],\n",
       " ['python3.4 submit_assignment.py -submit gowithflow.py', 'flik'],\n",
       " ['python3.4 submit_assignment.py -submit gowithflow.py', 'flik'],\n",
       " ['vi gowithflow.py ', 'claire_wheeler'],\n",
       " ['vi gowithflow.py ', 'claire_wheeler'],\n",
       " ['python3.4 submit_assignment.py -submit gowithflow.py', 'flik'],\n",
       " ['vi gowithflow.py', 'white_rabbit'],\n",
       " ['python3.4', 'claire_wheeler'],\n",
       " ['python3.4', 'claire_wheeler'],\n",
       " ['vi gowithflow.py', 'tarzan'],\n",
       " ['vi gowithflow.py', 'meg'],\n",
       " ['python3.4 submit_assignment.py -submit gowithflow.py', 'fillmore'],\n",
       " ['python3.4 submit_assignment.py -submit gowithflow.py', 'fillmore'],\n",
       " ['vi gowithflow.py ', 'claire_wheeler'],\n",
       " ['vi gowithflow.py ', 'claire_wheeler'],\n",
       " ['python3.4 submit_assignment.py -submit gowithflow.py', 'meg'],\n",
       " ['python3.4 submit_assignment.py -submit gowithflow.py', 'white_rabbit'],\n",
       " ['python3.4', 'claire_wheeler'],\n",
       " ['python3.4', 'claire_wheeler'],\n",
       " ['vi gowithflow.py', 'meg'],\n",
       " ['python3.4 submit_assignment.py -submit gowithflow.py', 'white_rabbit'],\n",
       " ['python3.4 submit_assignment.py -submit gowithflow.py', 'claire_wheeler'],\n",
       " ['python3.4 submit_assignment.py -submit gowithflow.py', 'claire_wheeler'],\n",
       " ['python3.4 submit_assignment.py -submit gowithflow.py', 'claire_wheeler'],\n",
       " ['python3.4 submit_assignment.py -submit gowithflow.py', 'claire_wheeler'],\n",
       " ['python3.4 submit_assignment.py -submit gowithflow.py', 'white_rabbit'],\n",
       " ['python3.4', 'meg'],\n",
       " ['python3.4 submit_assignment.py -submit gowithflow.py', 'white_rabbit'],\n",
       " ['vi gowithflow.py', 'tinker_bell'],\n",
       " ['vi gowithflow.py', 'tinker_bell'],\n",
       " ['python3.4 submit_assignment.py -submit gowithflow.py', 'meg'],\n",
       " ['vi gowithflow.py', 'fillmore'],\n",
       " ['python3.4', 'flo'],\n",
       " ['python3.4', 'tarzan'],\n",
       " ['python3.4', 'fillmore'],\n",
       " ['vi gowithflow.py', 'fillmore'],\n",
       " ['vi gowithflow.py', 'tarzan'],\n",
       " ['vi gowithflow.py', 'flik'],\n",
       " ['vi gowithflow.py', 'flo'],\n",
       " ['python3.4 submit_assignment.py -submit gowithflow.py', 'tarzan'],\n",
       " ['python3.4 submit_assignment.py -submit gowithflow.py', 'tarzan'],\n",
       " ['python3.4 submit_assignment.py -submit gowithflow.py', 'flo'],\n",
       " ['python3.4', 'fillmore'],\n",
       " ['vi gowithflow.py', 'fillmore'],\n",
       " ['vi gowithflow.py ', 'white_rabbit'],\n",
       " ['python3.4', 'fillmore'],\n",
       " ['vi gowithflow.py ', 'claire_wheeler'],\n",
       " ['vi gowithflow.py ', 'claire_wheeler'],\n",
       " ['python3.4 gowithflow.py ', 'claire_wheeler'],\n",
       " ['python3.4 gowithflow.py ', 'claire_wheeler'],\n",
       " ['python3.4', 'tarzan'],\n",
       " ['vi gowithflow.py ', 'claire_wheeler'],\n",
       " ['vi gowithflow.py ', 'claire_wheeler'],\n",
       " ['python3.4 gowithflow.py ', 'claire_wheeler'],\n",
       " ['python3.4 gowithflow.py ', 'claire_wheeler'],\n",
       " ['vi gowithflow.py ', 'claire_wheeler'],\n",
       " ['vi gowithflow.py ', 'claire_wheeler'],\n",
       " ['vi gowithflow.py', 'tarzan'],\n",
       " ['vi gowithflow.py', 'disgust'],\n",
       " ['vi gowithflow.py', 'flo'],\n",
       " ['python3.4', 'tarzan'],\n",
       " ['vi gowithflow.py', 'tarzan'],\n",
       " ['python3.4 submit_assignment.py -submit gowithflow.py', 'flo'],\n",
       " ['python3.4', 'tarzan'],\n",
       " ['python3.4', 'flo'],\n",
       " ['vi gowithflow.py', 'flo'],\n",
       " ['vi gowithflow.py ', 'claire_wheeler'],\n",
       " ['vi gowithflow.py ', 'claire_wheeler'],\n",
       " ['vi gowithflow.py', 'flo'],\n",
       " ['vi test.py', 'claire_wheeler'],\n",
       " ['vi test.py', 'claire_wheeler'],\n",
       " ['python3.', 'claire_wheeler'],\n",
       " ['python3.', 'claire_wheeler'],\n",
       " ['#1442484420\\nexit', 'rocket_raccoon'],\n",
       " ['python3.4 submit_assignment.py -submit gowithflow.py', 'bo_peep'],\n",
       " ['python3.4', 'flo'],\n",
       " ['python3.4 submit_assignment.py -submit gowithflow.py', 'bo_peep'],\n",
       " ['vi test.py', 'claire_wheeler'],\n",
       " ['vi test.py', 'claire_wheeler'],\n",
       " ['vi gowithflow.py', 'flo'],\n",
       " ['python3.4', 'flo'],\n",
       " ['python3.4 gowithflow.py', 'white_rabbit'],\n",
       " ['vi gowithflow.py', 'flo'],\n",
       " ['vi gowithflow.py ', 'bo_peep'],\n",
       " ['python3.4 gowithflow.py ', 'bo_peep'],\n",
       " ['vi gowithflow.py ', 'rocket_raccoon'],\n",
       " ['python3.4 gowithflow.py ', 'bo_peep'],\n",
       " ['vi gowithflow.py ', 'claire_wheeler'],\n",
       " ['vi gowithflow.py ', 'claire_wheeler'],\n",
       " ['python3.4 gowithflow.py ', 'claire_wheeler'],\n",
       " ['python3.4 gowithflow.py ', 'claire_wheeler'],\n",
       " ['python3.4 submit_assignment.py -submit gowithflow.py', 'rocket_raccoon'],\n",
       " ['vi gowithflow.py', 'meg'],\n",
       " ['python3.4 gowithflow.py ', 'rocket_raccoon'],\n",
       " ['python3.4', 'flo'],\n",
       " ['python3.4', 'meg'],\n",
       " ['vi gowithflow.py ', 'claire_wheeler'],\n",
       " ['vi gowithflow.py ', 'claire_wheeler'],\n",
       " ['python3.4 gowithflow.py ', 'claire_wheeler'],\n",
       " ['python3.4 gowithflow.py ', 'claire_wheeler'],\n",
       " ['vi gowithflow.py ', 'rocket_raccoon'],\n",
       " ['vi gowithflow.py', 'white_rabbit'],\n",
       " ['vi gowithflow.py ', 'claire_wheeler'],\n",
       " ['vi gowithflow.py ', 'claire_wheeler'],\n",
       " ['python3.4 gowithflow.py ', 'rocket_raccoon'],\n",
       " ['vi gowithflow.py', 'flo'],\n",
       " ['vi gowithflow.py ', 'claire_wheeler'],\n",
       " ['vi gowithflow.py ', 'claire_wheeler'],\n",
       " ['vi gowithflow.py', 'tarzan'],\n",
       " ['python3.4 gowithflow.py ', 'claire_wheeler'],\n",
       " ['python3.4 gowithflow.py ', 'claire_wheeler'],\n",
       " ['python3.4', 'tarzan'],\n",
       " ['python3.4 gowithflow.py', 'bo_peep'],\n",
       " ['python3.4 submit_assignment.py -get exam_grader', 'francis'],\n",
       " ['python3.4 gowithflow.py', 'bo_peep'],\n",
       " ['python3.4 factorial_calculator.py', 'francis'],\n",
       " ['python3.4', 'tarzan'],\n",
       " ['python3.4', 'flo'],\n",
       " ['vi gowithflow.py', 'fillmore'],\n",
       " ['vi gowithflow.py ', 'bo_peep'],\n",
       " ['vi gowithflow.py ', 'flik'],\n",
       " ['python3.4 gowithflow.py', 'bo_peep'],\n",
       " ['python3.4 submit_assignment.py -submit gowithflow.py', 'flik'],\n",
       " ['vi gowithflow.py', 'tarzan'],\n",
       " ['python3.4 submit_assignment.py -submit gowithflow.py', 'flik'],\n",
       " ['python3.4 submit_assignment.py -submit gowithflow.py', 'tarzan'],\n",
       " ['vi gowithflow.py ', 'claire_wheeler'],\n",
       " ['vi gowithflow.py ', 'claire_wheeler'],\n",
       " ['python3.4 gowithflow.py ', 'claire_wheeler'],\n",
       " ['python3.4 gowithflow.py ', 'claire_wheeler'],\n",
       " ['python3.4', 'fillmore'],\n",
       " ['vi gowithflow.py ', 'claire_wheeler'],\n",
       " ['vi gowithflow.py ', 'claire_wheeler'],\n",
       " ['python3.4 gowithflow.py ', 'claire_wheeler'],\n",
       " ['python3.4 gowithflow.py ', 'claire_wheeler'],\n",
       " ['vi gowithflow.py ', 'claire_wheeler'],\n",
       " ['vi gowithflow.py ', 'claire_wheeler'],\n",
       " ['python3.4 gowithflow.py ', 'claire_wheeler'],\n",
       " ['python3.4 gowithflow.py ', 'claire_wheeler'],\n",
       " ['vi gowithflow.py', 'tarzan'],\n",
       " ['vi gowithflow.py ', 'bo_peep'],\n",
       " ['vi gowithflow.py ', 'claire_wheeler'],\n",
       " ['vi gowithflow.py ', 'claire_wheeler'],\n",
       " ['python3.4 gowithflow.py ', 'claire_wheeler'],\n",
       " ['python3.4 gowithflow.py ', 'claire_wheeler'],\n",
       " ['python3.4', 'tarzan'],\n",
       " ['vi gowithflow.py ', 'claire_wheeler'],\n",
       " ['vi gowithflow.py ', 'claire_wheeler'],\n",
       " ['python3.4 gowithflow.py ', 'claire_wheeler'],\n",
       " ['python3.4 gowithflow.py ', 'claire_wheeler'],\n",
       " ['vi gowithflow.py ', 'claire_wheeler'],\n",
       " ['vi gowithflow.py ', 'claire_wheeler'],\n",
       " ['python3.4 gowithflow.py ', 'claire_wheeler'],\n",
       " ['python3.4 gowithflow.py ', 'claire_wheeler'],\n",
       " ['python3.4 gowithflow.py', 'bo_peep'],\n",
       " ['vi gowithflow.py ', 'claire_wheeler'],\n",
       " ['vi gowithflow.py ', 'claire_wheeler'],\n",
       " ['python3.4 gowithflow.py ', 'claire_wheeler'],\n",
       " ['python3.4 gowithflow.py ', 'claire_wheeler'],\n",
       " ['python3.4', 'bo_peep'],\n",
       " ['vi gowithflow.py ', 'claire_wheeler'],\n",
       " ['vi gowithflow.py ', 'claire_wheeler'],\n",
       " ['python3.4 gowithflow.py ', 'claire_wheeler'],\n",
       " ['python3.4 gowithflow.py ', 'claire_wheeler'],\n",
       " ['vi gowithflow.py ', 'claire_wheeler'],\n",
       " ['vi gowithflow.py ', 'claire_wheeler'],\n",
       " ['python3.4 gowithflow.py ', 'claire_wheeler'],\n",
       " ['python3.4 gowithflow.py ', 'claire_wheeler'],\n",
       " ['python3.4 gowithflow.py ', 'claire_wheeler'],\n",
       " ['python3.4 gowithflow.py ', 'claire_wheeler'],\n",
       " ['python3.4 gowithflow.py ', 'claire_wheeler'],\n",
       " ['python3.4 gowithflow.py ', 'claire_wheeler'],\n",
       " ['python3.4 gowithflow.py ', 'claire_wheeler'],\n",
       " ['python3.4 gowithflow.py ', 'claire_wheeler'],\n",
       " ['python3.4 gowithflow.py ', 'claire_wheeler'],\n",
       " ['python3.4 gowithflow.py ', 'claire_wheeler'],\n",
       " ['vi gowithflow.py', 'tarzan'],\n",
       " ['vi gowithflow.py ', 'rocket_raccoon'],\n",
       " ['python3.4 submit_assignment.py -submit gowithflow.py', 'tarzan'],\n",
       " ['python3.4 submit_assignment.py -submit gowithflow.py', 'tarzan'],\n",
       " ['python3.4 submit_assignment.py -submit gowithflow.py', 'rocket_raccoon'],\n",
       " ['python3.4 gowithflow.py ', 'rocket_raccoon'],\n",
       " ['vi gowithflow.py ', 'claire_wheeler'],\n",
       " ['vi gowithflow.py ', 'claire_wheeler'],\n",
       " ['python3.4 gowithflow.py ', 'claire_wheeler'],\n",
       " ['python3.4 gowithflow.py ', 'claire_wheeler'],\n",
       " ['vi gowithflow.py ', 'claire_wheeler'],\n",
       " ['vi gowithflow.py ', 'claire_wheeler'],\n",
       " ['python3.4 gowithflow.py ', 'claire_wheeler'],\n",
       " ['python3.4 gowithflow.py ', 'claire_wheeler'],\n",
       " ['python3.4 gowithflow.py ', 'claire_wheeler'],\n",
       " ['python3.4 gowithflow.py ', 'claire_wheeler'],\n",
       " ['vi gowithflow.py ', 'bo_peep'],\n",
       " ['python3.4 submit_assignment.py -submit gowithflow.py', 'bo_peep'],\n",
       " ['vi gowithflow.py ', 'bo_peep'],\n",
       " ['python3.4 submit_assignment.py -submit gowithflow.py', 'bo_peep'],\n",
       " ['vi gowithflow.py', 'meg'],\n",
       " ['vi gowithflow.py ', 'claire_wheeler'],\n",
       " ['vi gowithflow.py ', 'claire_wheeler'],\n",
       " ['vi factorial_calculator.py', 'francis'],\n",
       " ['python3.4 factorial_calculator.py', 'francis'],\n",
       " ['python3.4', 'claire_wheeler'],\n",
       " ['python3.4', 'claire_wheeler'],\n",
       " ['python3.4', 'meg'],\n",
       " ['vi gowithflow.py ', 'rocket_raccoon'],\n",
       " ['#1442483637\\nls', 'claire_wheeler'],\n",
       " ['#1442483637\\nls', 'claire_wheeler'],\n",
       " ['python3.4 gowithflow.py ', 'claire_wheeler'],\n",
       " ['python3.4 gowithflow.py ', 'claire_wheeler'],\n",
       " ['python3.4 submit_assignment.py -submit gowithflow.py', 'rocket_raccoon'],\n",
       " ['vi factorial_calculator.py', 'francis'],\n",
       " ['#1442483627\\nls', 'claire_wheeler'],\n",
       " ['#1442483627\\nls', 'claire_wheeler'],\n",
       " ['#1442483626\\nl', 'claire_wheeler'],\n",
       " ['#1442483626\\nl', 'claire_wheeler'],\n",
       " ['#1442483624\\nll', 'claire_wheeler'],\n",
       " ['#1442483624\\nll', 'claire_wheeler'],\n",
       " ['python3.4 factorial_calculator.py', 'francis'],\n",
       " ['#1442483530\\nexit', 'rocket_raccoon'],\n",
       " ['vi gowithflow.py ', 'flik'],\n",
       " ['vi gowithflow.py ', 'bo_peep'],\n",
       " ['python3.4 submit_assignment.py -submit gowithflow.py', 'rocket_raccoon'],\n",
       " ['vi factorial_calculator.py', 'francis'],\n",
       " ['python3.4', 'flik'],\n",
       " ['vi gowithflow.py', 'fillmore'],\n",
       " ['vi gowithflow.py ', 'flik'],\n",
       " ['python3.4 submit_assignment.py -submit gowithflow.py', 'flik'],\n",
       " ['python3.4 submit_assignment.py -submit gowithflow.py', 'flik'],\n",
       " ['vi gowithflow.py ', 'flik'],\n",
       " ['#1442483290\\nls -a', 'flik'],\n",
       " ['vi a.py', 'francis'],\n",
       " [' rm -rf .gowithflow.py.sw*', 'flik'],\n",
       " ['python3.4 submit_assignment.py -submit gowithflow.py', 'aladdin'],\n",
       " ['#1442483268\\nls -a', 'fillmore'],\n",
       " ['#1442483251\\nls  -a', 'flik'],\n",
       " ['vi gowithflow.py', 'disgust'],\n",
       " ['vi gowithflow.py', 'flik'],\n",
       " ['vi gowithflow.py', 'white_rabbit'],\n",
       " ['vi gowithflow.py', 'flo'],\n",
       " ['python3.4 submit_assignment.py -submit gowithflow.py', 'white_rabbit'],\n",
       " ['python3.4', 'flik'],\n",
       " ['python3.4 submit_assignment.py -submit gowithflow.py', 'white_rabbit'],\n",
       " ['python3.4 submit_assignment.py -submit gowithflow.py', 'tinker_bell'],\n",
       " ['python3.4 submit_assignment.py -submit gowithflow.py', 'tinker_bell'],\n",
       " ['vi gowithflow.py', 'meg'],\n",
       " ['python3.4 submit_assignment.py -submit gowithflow.py', 'tinker_bell'],\n",
       " ['python3.4 submit_assignment.py -submit gowithflow.py', 'tinker_bell'],\n",
       " ['vi gowithflow.py', 'aladdin'],\n",
       " ['python3.4 gowithflow.py', 'white_rabbit'],\n",
       " ['python3.4 submit_assignment.py -submit gowithflow.py', 'meg'],\n",
       " ['python3.4 submit_assignment.py -submit gowithflow.py', 'aladdin'],\n",
       " ['vi gowithflow.py ', 'bo_peep'],\n",
       " ['python3.4 submit_assignment.py -submit gowithflow.py', 'aladdin'],\n",
       " ['python3.4 submit_assignment.py -submit gowithflow.py', 'aladdin'],\n",
       " ['vi gowithflow.py', 'fillmore'],\n",
       " ['vi gowithflow.py', 'aladdin'],\n",
       " ['python3.4 submit_assignment.py -submit gowithflow.py', 'aladdin'],\n",
       " ['python3.4', 'meg'],\n",
       " ['vi gowithflow.py', 'fillmore'],\n",
       " ['vi gowithflow.py ', 'rocket_raccoon'],\n",
       " ['vi gowithflow.py', 'meg'],\n",
       " ['python3.4', 'fillmore'],\n",
       " ['vi gowithflow.py', 'aladdin'],\n",
       " ['vi gowithflow.py', 'fillmore'],\n",
       " ['python3.4', 'fillmore'],\n",
       " ['vi gowithflow.py', 'fillmore'],\n",
       " ['vi basic_opeartions.py', 'kristoff'],\n",
       " ['python3.4', 'fillmore'],\n",
       " ['python3.4 submit_assignment.py -submit gowithflow.py', 'aladdin'],\n",
       " ['python3.4', 'meg'],\n",
       " ['python3.4 submit_assignment.py -submit gowithflow.py', 'aladdin'],\n",
       " ['python3.4 submit_assignment.py -submit gowithflow.py', 'aladdin'],\n",
       " ['vi gowithflow.py', 'kristoff'],\n",
       " ['vi gowithflow.py', 'kristoff'],\n",
       " ['python3.4', 'kristoff'],\n",
       " ['python3.4', 'kristoff'],\n",
       " ['vi gowithflow.py', 'meg'],\n",
       " ['vi gowithflow.py', 'francis'],\n",
       " ['python3.4 submit_assignment.py -submit gowithflow.py', 'francis'],\n",
       " ['python3.4 submit_assignment.py -submit gowithflow.py', 'francis'],\n",
       " ['python3.4 submit_assignment.py -submit gowithflow.py', 'meg'],\n",
       " ['vi gowithflow.py', 'kristoff'],\n",
       " ['vi gowithflow.py', 'kristoff'],\n",
       " ['python3.4', 'kristoff'],\n",
       " ['python3.4', 'kristoff'],\n",
       " ['vi gowithflow.py ', 'bo_peep'],\n",
       " ['vi gowithflow.py', 'meg'],\n",
       " ['vi gowithflow.py', 'tinker_bell'],\n",
       " ['vi gowithflow.py', 'tinker_bell'],\n",
       " ['python3.4 submit_assignment.py -submit gowithflow.py', 'bo_peep'],\n",
       " ['vi gowithflow.py ', 'bo_peep'],\n",
       " ['python3.4 submit_assignment.py -submit gowithflow.py', 'meg'],\n",
       " ['python3.4 submit_assignment.py -submit gowithflow.py', 'bo_peep'],\n",
       " ['python3.4 submit_assignment.py -submit gowithflow.py', 'tinker_bell'],\n",
       " ['python3.4 submit_assignment.py -submit gowithflow.py', 'tinker_bell'],\n",
       " ['python3.4 submit_assignment.py -submit gowithflow.py', 'tinker_bell'],\n",
       " ['python3.4 submit_assignment.py -submit gowithflow.py', 'tinker_bell'],\n",
       " ['vi gowithflow.py ', 'eve'],\n",
       " ['vi gowithflow.py', 'tinker_bell'],\n",
       " ['vi gowithflow.py', 'tinker_bell'],\n",
       " ['python3.4 submit_assignment.py -submit gowithflow.py', 'tinker_bell'],\n",
       " ['python3.4 submit_assignment.py -submit gowithflow.py', 'tinker_bell'],\n",
       " ['vi love.py ', 'rocket_raccoon'],\n",
       " ['python3.4 submit_assignment.py -submit gowithflow.py', 'aladdin'],\n",
       " ['python3.4 submit_assignment.py -submit gowithflow.py', 'aladdin'],\n",
       " ['python3.4 love.py', 'rocket_raccoon'],\n",
       " ['python3.4 submit_assignment.py -submit gowithflow.py', 'aladdin'],\n",
       " ['#1442482595\\nimport gowithflow as gwf', 'eve'],\n",
       " ['vi gowithflow.py', 'disgust'],\n",
       " ['#1442482588\\nimport', 'eve'],\n",
       " ['vi gowithflow.py', 'tinker_bell'],\n",
       " ['vi gowithflow.py', 'tinker_bell'],\n",
       " ['vi gowithflow.py', 'flik'],\n",
       " ['python3.4 submit_assignment.py -submit gowithflow.py', 'tinker_bell'],\n",
       " ['python3.4 submit_assignment.py -submit gowithflow.py', 'tinker_bell'],\n",
       " ['vi gowithflow.py', 'meg'],\n",
       " ['python3.4 submit_assignment.py -submit gowithflow.py', 'flik'],\n",
       " ['python3.4 submit_assignment.py -submit gowithflow.py', 'flik'],\n",
       " ['python3.4', 'tinker_bell'],\n",
       " ['python3.4', 'tinker_bell'],\n",
       " ['vi gowithflow.py', 'francis'],\n",
       " ['vi love.py', 'rocket_raccoon'],\n",
       " ['python3.4 submit_assignment.py -submit gowithflow.py', 'meg'],\n",
       " ['vi gowithflow.py ', 'bo_peep'],\n",
       " ['python3.4 submit_assignment.py -submit gowithflow.py', 'francis'],\n",
       " ['python3.4', 'meg'],\n",
       " ['vi gowithflow.py', 'tinker_bell'],\n",
       " ['vi gowithflow.py', 'tinker_bell'],\n",
       " ['python3.4 submit_assignment.py -submit gowithflow.py', 'bo_peep'],\n",
       " ['python3.4', 'tinker_bell'],\n",
       " ['python3.4', 'tinker_bell'],\n",
       " ['vi gowithflow.py', 'tinker_bell'],\n",
       " ['vi gowithflow.py', 'tinker_bell'],\n",
       " ['vi gowithflow.py ', 'claire_wheeler'],\n",
       " ['vi gowithflow.py ', 'claire_wheeler'],\n",
       " ['python3.4', 'tinker_bell'],\n",
       " ['python3.4', 'tinker_bell'],\n",
       " ['vi gowithflow.py', 'meg'],\n",
       " ['vi gowithflow.py', 'tarzan'],\n",
       " ['python3.4', 'claire_wheeler'],\n",
       " ['python3.4', 'claire_wheeler'],\n",
       " ['vi gowithflow.py ', 'chum'],\n",
       " ['rm a.py ', 'chum'],\n",
       " ['python3.4 99.py', 'rocket_raccoon'],\n",
       " ['vi gowithflow.py', 'tinker_bell'],\n",
       " ['vi gowithflow.py', 'tinker_bell'],\n",
       " ['python3.4', 'meg'],\n",
       " ['python3.4', 'tinker_bell'],\n",
       " ['python3.4', 'tinker_bell'],\n",
       " ['vi a.py ', 'chum'],\n",
       " ['python3.4 submit_assignment.py -submit gowithflow.py', 'meg'],\n",
       " ['python a.py', 'chum'],\n",
       " ['python3.4 submit_assignment.py -submit gowithflow.py', 'tinker_bell'],\n",
       " ['python3.4 submit_assignment.py -submit gowithflow.py', 'tinker_bell'],\n",
       " ['python3.4 submit_assignment.py -submit gowithflow.py', 'tinker_bell'],\n",
       " ['python3.4 submit_assignment.py -submit gowithflow.py', 'tinker_bell'],\n",
       " ['python3.4 submit_assignment.py -submit gowithflow.py', 'meg'],\n",
       " ['python3.4', 'meg'],\n",
       " ['vi gowithflow.py', 'francis'],\n",
       " ['python3.4', 'meg'],\n",
       " ['vi a.py ', 'chum'],\n",
       " ['python a.py', 'chum'],\n",
       " ['python3.4 submit_assignment.py -submit gowithflow.py', 'francis'],\n",
       " ['python3.4 submit_assignment.py -submit gowithflow.py', 'francis'],\n",
       " ['vi gowithflow.py', 'tinker_bell'],\n",
       " ['vi gowithflow.py', 'tinker_bell'],\n",
       " ['vi gowithflow.py', 'meg'],\n",
       " ['#1442482375\\nfrancis@cs', 'francis'],\n",
       " ['vi 99.py', 'rocket_raccoon'],\n",
       " ['python3.4', 'tinker_bell'],\n",
       " ['python3.4', 'tinker_bell'],\n",
       " ['python3.4 gowithflow.py', 'francis'],\n",
       " ['vi gowithflow.py ', 'eve'],\n",
       " ['python3.4 submit_assignment.py -submit gowithflow.py', 'tinker_bell'],\n",
       " ['python3.4 submit_assignment.py -submit gowithflow.py', 'tinker_bell'],\n",
       " ['vi a.py ', 'chum'],\n",
       " ['python3.4 submit_assignment.py -submit gowithflow.py', 'tinker_bell'],\n",
       " ['python3.4 submit_assignment.py -submit gowithflow.py', 'tinker_bell'],\n",
       " ['vi 구구??계??기.py', 'rocket_raccoon'],\n",
       " ['vi gowithflow.py ', 'chum'],\n",
       " ['python a.py', 'chum'],\n",
       " ['#1442482327\\nclear', 'rocket_raccoon'],\n",
       " ['vi gowithflow.py ', 'chum'],\n",
       " ['python3.4', 'eve'],\n",
       " ['python3.4', 'meg'],\n",
       " ['python3.4 a.py', 'rocket_raccoon'],\n",
       " ['vi gowithflow.py ', 'eve'],\n",
       " ['vi a.py', 'chum'],\n",
       " ['vi gowithflow.py ', 'chum'],\n",
       " ['vi gowithflow.py', 'francis'],\n",
       " ['vi gowithflow.py', 'kristoff'],\n",
       " ['vi gowithflow.py', 'kristoff'],\n",
       " ['vi gowithflow.py ', 'bo_peep'],\n",
       " ['vi a.py', 'rocket_raccoon'],\n",
       " ['vi gowithflow.py', 'fillmore'],\n",
       " ['vi gowithflow.py ', 'chum'],\n",
       " ['vi strip.py', 'chum'],\n",
       " ['vi gowithflow.py', 'fillmore'],\n",
       " ['python3.4 aaa.py', 'rocket_raccoon'],\n",
       " ['python3.4 submit_assignment.py -submit gowithflow.py', 'bo_peep'],\n",
       " ['python3.4', 'eve'],\n",
       " ['#1442482232', 'bo_peep'],\n",
       " ['vi gowithflow.py ', 'chum'],\n",
       " ['vi aaa.py', 'rocket_raccoon'],\n",
       " ['python3.4 aaa.py', 'rocket_raccoon'],\n",
       " ['python3.4', 'fillmore'],\n",
       " ['vi gowithflow.py ', 'chum'],\n",
       " ['vi aaa.py', 'rocket_raccoon'],\n",
       " ['python3.4 aaa.py', 'rocket_raccoon'],\n",
       " ['vi gowithflow.py', 'fillmore'],\n",
       " ['vi aaa.py', 'rocket_raccoon'],\n",
       " ['vi gowithflow.py', 'meg'],\n",
       " ['vi gowithflow.py', 'crush'],\n",
       " ['python3.4 aaa.py', 'rocket_raccoon'],\n",
       " ['vi case.py', 'kristoff'],\n",
       " ['vi case.py', 'kristoff'],\n",
       " ['vi gowithflow.py', 'fillmore'],\n",
       " ['python3.4 submit_assignment.py -submit gowithflow.py', 'meg'],\n",
       " ['python3.4 submit_assignment.py -submit gowithflow.py', 'meg'],\n",
       " ['python3.4 submit_assignment.py -submit gowithflow.py', 'meg'],\n",
       " ['python3.4 submit_assignment.py -submit gowithflow.py', 'meg'],\n",
       " ['vi aaa.py', 'rocket_raccoon'],\n",
       " ['python3.4 submit_assignment.py -submit gowithflow.py', 'crush'],\n",
       " ['python3.4 submit_assignment.py -submit gowithflow.py', 'meg'],\n",
       " ['python3.4 submit_assignment.py -submit gowithflow.py', 'meg'],\n",
       " ['python3.4 submit_assignment.py -submit gowithflow.py', 'meg'],\n",
       " ['python3.4 submit_assignment.py -submit gowithflow.py', 'crush'],\n",
       " ['python3.4 submit_assignment.py -submit gowithflow.py', 'meg'],\n",
       " ['python3.4 submit_assignment.py -submit gowithflow.py', 'meg'],\n",
       " ['python3.4 submit_assignment.py -submit gowithflow.py', 'meg'],\n",
       " ['python3.4 submit_assignment.py -submit gowithflow.py', 'meg'],\n",
       " ['python3.4 submit_assignment.py -submit gowithflow.py', 'meg'],\n",
       " ['vi gowithflow.py', 'kristoff'],\n",
       " ['vi gowithflow.py', 'kristoff'],\n",
       " ['python3.4  fahrenheit_converter.py', 'bookworm'],\n",
       " ['python3.4 submit_assignment.py -submit gowithflow.py', 'meg'],\n",
       " ['python3.4', 'meg'],\n",
       " ['python3.4 submit_assignment.py -submit gowithflow.py', 'meg'],\n",
       " ['python3.4 submit_assignment.py -submit gowithflow.py', 'meg'],\n",
       " ['python3.4 submit_assignment.py -submit gowithflow.py', 'meg'],\n",
       " ['python3.4 submit_assignment.py -submit gowithflow.py', 'meg'],\n",
       " ['vi gowithflow.py ', 'eve'],\n",
       " ['vi gowithflow.py', 'tinker_bell'],\n",
       " ['vi gowithflow.py', 'tinker_bell'],\n",
       " ['vi factorial_calculator.py ', 'cheshire_cat'],\n",
       " ['python3.4 submit_assignment.py -submit gowithflow.py', 'tinker_bell'],\n",
       " ['python3.4 submit_assignment.py -submit gowithflow.py', 'tinker_bell'],\n",
       " ['vi gowithflow.py', 'white_rabbit'],\n",
       " ['python3.4 submit_assignment.py -submit gowithflow.py', 'tinker_bell'],\n",
       " ['python3.4 submit_assignment.py -submit gowithflow.py', 'tinker_bell'],\n",
       " ['vi gowithflow.py', 'flik'],\n",
       " ['python3.4', 'eve'],\n",
       " ['vi case.py ', 'cheshire_cat'],\n",
       " ['python3.4 gowithflow.py', 'white_rabbit'],\n",
       " ['vi binary.py ', 'cheshire_cat'],\n",
       " ['python3.4 submit_assignment.py -submit gowithflow.py', 'meg'],\n",
       " ['python3.4 submit_assignment.py -submit gowithflow.py', 'meg'],\n",
       " [' python3.4 submit_assignment.py -submit gowithflow.py', 'flik'],\n",
       " [' python3.4 submit_assignment.py -submit gowithflow.py', 'flik'],\n",
       " ['vi gowithflow.py', 'fillmore'],\n",
       " ['vi gowithflow.py ', 'eve'],\n",
       " ['python3.4', 'fillmore'],\n",
       " ['python3.4 submit_assignment.py -submit gowithflow.py', 'meg'],\n",
       " ['python3.4 submit_assignment.py -submit gowithflow.py', 'meg'],\n",
       " ['#1442481857\\nclear', 'kristoff'],\n",
       " ['#1442481857\\nclear', 'kristoff'],\n",
       " ['python3.4', 'flik'],\n",
       " ['python3.4 submit_assignment.py -submit gowithflow.py', 'meg'],\n",
       " ['python3.4 submit_assignment.py -submit gowithflow.py', 'meg'],\n",
       " ['python3.4 submit_assignment.py -submit gowithflow.py', 'meg'],\n",
       " ['python3.4 submit_assignment.py -submit gowithflow.py', 'meg'],\n",
       " ['vi gowithflow.py', 'fillmore'],\n",
       " ['python3.4 submit_assignment.py -submit gowithflow.py', 'meg'],\n",
       " ['python3.4 submit_assignment.py -submit gowithflow.py', 'meg'],\n",
       " ['python3.4 submit_assignment.py -submit gowithflow.py', 'meg'],\n",
       " ['python3.4 submit_assignment.py -submit gowithflow.py', 'meg'],\n",
       " ['python3.4 submit_assignment.py -submit gowithflow.py', 'meg'],\n",
       " ['python3.4 submit_assignment.py -submit gowithflow.py', 'meg'],\n",
       " ['vi gowithflow.py', 'bo_peep'],\n",
       " ['vi gowithflow.py', 'flik'],\n",
       " ['python3.4', 'eve'],\n",
       " ['vi gowithflow.py', 'tinker_bell'],\n",
       " ['vi gowithflow.py ', 'claire_wheeler'],\n",
       " ['vi gowithflow.py', 'tinker_bell'],\n",
       " ['vi gowithflow.py ', 'claire_wheeler'],\n",
       " ['python3.4 submit_assignment.py -submit vimrc_test.py', 'meg'],\n",
       " ['python3.4 submit_assignment.py -submit gowithflow.py', 'meg'],\n",
       " ['python3.4 submit_assignment.py -submit gowithflow.py', 'meg'],\n",
       " ['python3.4 submit_assignment.py -submit gowithflow.py', 'meg'],\n",
       " ['python3.4 submit_assignment.py -submit gowithflow.py', 'meg'],\n",
       " ['python3.4 submit_assignment.py -submit gowithflow.py', 'meg'],\n",
       " ['python3.4 submit_assignment.py -submit gowithflow.py', 'meg'],\n",
       " ['python3.4 submit_assignment.py -submit gowithflow.py', 'meg'],\n",
       " ['python3.4 submit_assignment.py -submit gowithflow.py', 'meg'],\n",
       " ['python3.4 submit_assignment.py -submit gowithflow.py', 'meg'],\n",
       " ['python3.4 submit_assignment.py -submit gowithflow.py', 'meg'],\n",
       " ['python3.4 submit_assignment.py -submit gowithflow.py', 'meg'],\n",
       " ['python3.4 submit_assignment.py -submit gowithflow.py', 'meg'],\n",
       " ['python3.4 submit_assignment.py -submit gowithflow.py', 'meg'],\n",
       " ['python3.4 submit_assignment.py -submit gowithflow.py', 'meg'],\n",
       " ['python3.4 submit_assignment.py -submit gowithflow.py', 'meg'],\n",
       " ['python3.4 submit_assignment.py -submit gowithflow.py', 'tinker_bell'],\n",
       " ['python3.4 submit_assignment.py -submit gowithflow.py', 'tinker_bell'],\n",
       " ['python3.4 submit_assignment.py -submit gowithflow.py', 'meg'],\n",
       " ['python3.4 submit_assignment.py -submit gowithflow.py', 'meg'],\n",
       " ['python3.4 submit_assignment.py -submit gowithflow.py', 'meg'],\n",
       " ['python3.4', 'fillmore'],\n",
       " ['python3.4 submit_assignment.py -submit gowithflow.py', 'bo_peep'],\n",
       " ['python3.4', 'flik'],\n",
       " ['vi gowithflow.py', 'meg'],\n",
       " ['vi gowithflow.py', 'meg'],\n",
       " ['vi gowithflow.py', 'meg'],\n",
       " ['#1442481794', 'bo_peep'],\n",
       " ['vi gowithflow.py', 'aladdin'],\n",
       " ['python3.4', 'claire_wheeler'],\n",
       " ['python3.4', 'claire_wheeler'],\n",
       " ['python3.4 submit_assignment.py -submit gowithflow.py', 'aladdin'],\n",
       " ['python3.4 submit_assignment.py -submit gowithflow.py', 'meg'],\n",
       " ['python3.4 submit_assignment.py -submit gowithflow.py', 'meg'],\n",
       " ['python3.4 submit_assignment.py -submit gowithflow.py', 'meg'],\n",
       " ['vi gowithflow.py', 'fillmore'],\n",
       " ['vi gowithflow.py', 'meg'],\n",
       " ['python3.4', 'fillmore'],\n",
       " ['vi gowithflow.py', 'meg'],\n",
       " ['vi gowithflow.py', 'meg'],\n",
       " ['vi school.py', 'rocket_raccoon'],\n",
       " ['vi gowithflow.py', 'aladdin'],\n",
       " ['python3.4 submit_assignment.py -submit gowithflow.py', 'meg'],\n",
       " ['python3.4 submit_assignment.py -submit gowithflow.py', 'meg'],\n",
       " ['python3.4 submit_assignment.py -submit gowithflow.py', 'meg'],\n",
       " ['python3.4 submit_assignment.py -submit gowithflow.py', 'tinker_bell'],\n",
       " ['python3.4 submit_assignment.py -submit gowithflow.py', 'tinker_bell'],\n",
       " ['python3.4 submit_assignment.py -submit gowithflow.py', 'tinker_bell'],\n",
       " ['python3.4 submit_assignment.py -submit gowithflow.py', 'tinker_bell'],\n",
       " ['vi gowithflow.py', 'flik'],\n",
       " ['python3.4', 'aladdin'],\n",
       " ['vi arithmetic_function.py', 'meg'],\n",
       " ['vi gowithflow.py', 'aladdin'],\n",
       " ['python3.4 aaa.py', 'rocket_raccoon'],\n",
       " ['python3.4 submit_assignment.py -submit gowithflow.py', 'meg'],\n",
       " ['python3.4', 'fillmore'],\n",
       " ['python3.4 submit_assignment.py -submit gowithflow.py', 'meg'],\n",
       " ['python3.4 submit_assignment.py -submit gowithflow.py', 'meg'],\n",
       " ['python3.4 submit_assignment.py -submit gowithflow.py', 'meg'],\n",
       " ['python3.4 submit_assignment.py -submit gowithflow.py', 'meg'],\n",
       " ['python3.4 submit_assignment.py -submit gowithflow.py', 'meg'],\n",
       " ['python3.4 submit_assignment.py -submit gowithflow.py', 'meg'],\n",
       " ['python3.4 submit_assignment.py -submit gowithflow.py', 'meg'],\n",
       " ['python3.4 submit_assignment.py -submit gowithflow.py', 'meg'],\n",
       " ['python3.4 submit_assignment.py -submit gowithflow.py', 'meg'],\n",
       " ['python3.4 submit_assignment.py -submit gowithflow.py', 'meg'],\n",
       " ['python3.4 submit_assignment.py -submit gowithflow.py', 'meg'],\n",
       " ['python3.4 submit_assignment.py -submit gowithflow.py', 'meg'],\n",
       " ['vi factorial_calculator.py', 'fillmore'],\n",
       " ['python3.4 submit_assignment.py -submit gowithflow.py', 'meg'],\n",
       " ['python3.4 submit_assignment.py -submit gowithflow.py', 'meg'],\n",
       " ['python3.4 submit_assignment.py -submit gowithflow.py', 'meg'],\n",
       " ['python3.4 submit_assignment.py -submit gowithflow.py', 'aladdin'],\n",
       " ['vi gowithflow.py ', 'claire_wheeler'],\n",
       " ['vi gowithflow.py ', 'claire_wheeler'],\n",
       " ['python3.4 submit_assignment.py -submit gowithflow.pyy', 'meg'],\n",
       " ['python3.4 submit_assignment.py -submit gowithflow.pyy', 'meg'],\n",
       " ['python3.4 submit_assignment.py -submit gowithflow.pyy', 'meg'],\n",
       " ['python3.4 submit_assignment.py -submit gowithflow.pyy', 'meg'],\n",
       " ['python3.4', 'flik'],\n",
       " ['python3.4 submit_assignment.py -submit gowithflow.pyy', 'meg'],\n",
       " ['python3.4 submit_assignment.py -submit gowithflow.py', 'aladdin'],\n",
       " ['python3.4 submit_assignment.py -submit gowithflow.pyy', 'meg'],\n",
       " ['python3.4 submit_assignment.py -submit gowithflow.pyy', 'meg'],\n",
       " ['python3.4 submit_assignment.py -submit gowithflow.pyy', 'meg'],\n",
       " ['python3.4 submit_assignment.py -submit gowithflow.pyy', 'meg'],\n",
       " ['python3.4 submit_assignment.py -submit gowithflow.pyy', 'meg'],\n",
       " ['python3.4 submit_assignment.py -submit gowithflow.pyy', 'meg'],\n",
       " ['python3.4 submit_assignment.py -submit gowithflow.pyy', 'meg'],\n",
       " ['python3.4 submit_assignment.py -submit gowithflow.pyy', 'meg'],\n",
       " ['python3.4 submit_assignment.py -submit gowithflow.pyy', 'meg'],\n",
       " ['python3.4 submit_assignment.py -submit gowithflow.pyy', 'meg'],\n",
       " ['python3.4 submit_assignment.py -submit gowithflow.pyy', 'meg'],\n",
       " ['python3.4 submit_assignment.py -submit gowithflow.pyy', 'meg'],\n",
       " ['python3.4 submit_assignment.py -submit gowithflow.pyy', 'meg'],\n",
       " ['python3.4 submit_assignment.py -submit gowithflow.pyy', 'meg'],\n",
       " ['python3.4 submit_assignment.py -submit gowithflow.pyy', 'meg'],\n",
       " ['python3.4 submit_assignment.py -submit gowithflow.py', 'meg'],\n",
       " ['python3.4 submit_assignment.py -submit gowithflow.py', 'meg'],\n",
       " ['python3.4 submit_assignment.py -submit gowithflow.py', 'meg'],\n",
       " ['python3.4 submit_assignment.py -submit gowithflow.py', 'meg'],\n",
       " ['python3.4 submit_assignment.py -submit gowithflow.py', 'meg'],\n",
       " ['python3.4 submit_assignment.py -submit gowithflow.py', 'meg'],\n",
       " ['python3.4 submit_assignment.py -submit gowithflow.py', 'meg'],\n",
       " ['python3.4 submit_assignment.py -submit gowithflow.py', 'meg'],\n",
       " ['python3.4 submit_assignment.py -submit gowithflow.py', 'meg'],\n",
       " ['python3.4 submit_assignment.py -submit gowithflow.py', 'meg'],\n",
       " ['python3.4 submit_assignment.py -submit gowithflow.py', 'meg'],\n",
       " ['python3.4 submit_assignment.py -submit gowithflow.py', 'meg'],\n",
       " ['python3.4 submit_assignment.py -submit gowithflow.py', 'meg'],\n",
       " ['python3.4 submit_assignment.py -submit gowithflow.py', 'meg'],\n",
       " ['python3.4 submit_assignment.py -submit gowithflow.py', 'meg'],\n",
       " ['python3.4 submit_assignment.py -submit gowithflow.py', 'meg'],\n",
       " ['vi gowithflow.py', 'fillmore'],\n",
       " ['vi aaa.py', 'rocket_raccoon'],\n",
       " ['python3.4 submit_assignment.py -submit gowithflow.py', 'meg'],\n",
       " ['python3.4 submit_assignment.py -submit gowithflow.py', 'meg'],\n",
       " ['python3.4 submit_assignment.py -submit gowithflow.py', 'meg'],\n",
       " ['python3.4 submit_assignment.py -submit gowithflow.py', 'meg'],\n",
       " ['python3.4 submit_assignment.py -submit gowithflow.py', 'meg'],\n",
       " ['python3.4 submit_assignment.py -submit gowithflow.py', 'meg'],\n",
       " ['python3.4 submit_assignment.py -submit gowithflow.py', 'meg'],\n",
       " ['python3.4 submit_assignment.py -submit gowithflow.py', 'meg'],\n",
       " ['python3.4 submit_assignment.py -submit gowithflow.py', 'meg'],\n",
       " ['python3.4 submit_assignment.py -submit gowithflow.py', 'meg'],\n",
       " ['python3.4 submit_assignment.py -submit gowithflow.py', 'meg'],\n",
       " ['python3.4 submit_assignment.py -submit gowithflow.py', 'meg'],\n",
       " ['python3.4 submit_assignment.py -submit gowithflow.py', 'meg'],\n",
       " ['python3.4 submit_assignment.py -submit gowithflow.py', 'meg'],\n",
       " ['python3.4 submit_assignment.py -submit gowithflow.py', 'meg'],\n",
       " ['python3.4 submit_assignment.py -submit gowithflow.py', 'meg'],\n",
       " ['python3.4 aaa.py', 'rocket_raccoon'],\n",
       " ['vi gowithflow.py', 'meg'],\n",
       " ['vi gowithflow.py', 'meg'],\n",
       " ['vi gowithflow.py', 'meg'],\n",
       " ['vi gowithflow.py', 'meg'],\n",
       " ['python3.4 aaa', 'rocket_raccoon'],\n",
       " ['python3.4 submit_assignment.py -submit gowithflow.py', 'meg'],\n",
       " ['python3.4 submit_assignment.py -submit gowithflow.py', 'meg'],\n",
       " ['python3.4 submit_assignment.py -submit gowithflow.py', 'meg'],\n",
       " ['python3.4 submit_assignment.py -submit gowithflow.py', 'meg'],\n",
       " ['python3.4 submit_assignment.py -submit gowithflow.py', 'aladdin'],\n",
       " ['vi gowithflow.py', 'anna'],\n",
       " ['python3.4', 'claire_wheeler'],\n",
       " ['python3.4', 'claire_wheeler'],\n",
       " ['python3.4 submit_assignment.py -submit gowithflow.py', 'aladdin'],\n",
       " ['python3.4 submit_assignment.py -submit gowithflow.py', 'claire_wheeler'],\n",
       " ['python3.4 submit_assignment.py -submit gowithflow.py', 'claire_wheeler'],\n",
       " ['vi gowithflow.py', 'meg'],\n",
       " ['vi gowithflow.py', 'meg'],\n",
       " ['vi gowithflow.py', 'meg'],\n",
       " ['vi gowithflow.py', 'meg'],\n",
       " ['vi gowithflow.py', 'aladdin'],\n",
       " ['vi gowithflow.py ', 'claire_wheeler'],\n",
       " ['vi gowithflow.py ', 'claire_wheeler'],\n",
       " ['python3.4 submit_assignment.py -submit yesterday_test.py', 'emperor_zurg'],\n",
       " ['python3.4', 'aladdin'],\n",
       " ['python3.4 submit_assignment.py -submit gowithflow.py', 'meg'],\n",
       " ['vi aaa.py', 'rocket_raccoon'],\n",
       " ['python3.4 submit_assignment.py -submit gowithflow.py', 'meg'],\n",
       " ['python3.4 submit_assignment.py -submit gowithflow.py', 'meg'],\n",
       " ['python3.4 submit_assignment.py -submit gowithflow.py', 'meg'],\n",
       " ['vi gowithflow.py', 'emperor_zurg'],\n",
       " ['python3.4 submit_assignment.py -submit gowithflow.py', 'meg'],\n",
       " ['python3.4 submit_assignment.py -submit gowithflow.py', 'meg'],\n",
       " ['python3.4 submit_assignment.py -submit gowithflow.py', 'meg'],\n",
       " ['python3.4 submit_assignment.py -submit gowithflow.py', 'meg'],\n",
       " ['python3.4 aaa.py', 'rocket_raccoon'],\n",
       " ['python3.4', 'claire_wheeler'],\n",
       " ['python3.4', 'claire_wheeler'],\n",
       " ['python3.4 submit_assignment.py -submit arithmetic_function.py', 'meg'],\n",
       " ['python3.4 submit_assignment.py -submit gowithflow.py', 'meg'],\n",
       " ['python3.4 submit_assignment.py -submit gowithflow.py', 'meg'],\n",
       " ['python3.4 submit_assignment.py -submit gowithflow.py', 'meg'],\n",
       " ['python3.4 submit_assignment.py -submit gowithflow.py', 'meg'],\n",
       " ['python3.4 submit_assignment.py -submit gowithflow.py', 'meg'],\n",
       " ['python3.4 submit_assignment.py -submit basic_operations.py ', 'the_dodo'],\n",
       " ['python3.4', 'emperor_zurg'],\n",
       " ['#1442481611\\nclear', 'emperor_zurg'],\n",
       " ['python3.4 submit_assignment.py -submit gowithflow.py', 'meg'],\n",
       " ['python3.4 submit_assignment.py -submit gowithflow.py', 'meg'],\n",
       " ['python3.4 submit_assignment.py -submit gowithflow.py', 'meg'],\n",
       " ['python3.4 submit_assignment.py -submit gowithflow.py', 'meg'],\n",
       " ['python3.4 submit_assignment.py -submit gowithflow.py', 'meg'],\n",
       " ['vi aaa.py', 'rocket_raccoon'],\n",
       " ['python3.4 aaa.py ', 'rocket_raccoon'],\n",
       " ['vi gowithflow.py', 'tinker_bell'],\n",
       " ['vi gowithflow.py', 'tinker_bell'],\n",
       " ['vi gowithflow.py ', 'claire_wheeler'],\n",
       " ['vi gowithflow.py ', 'claire_wheeler'],\n",
       " ['python3.4 submit_assignment.py -submit gowithflow.py', 'claire_wheeler'],\n",
       " ['python3.4 submit_assignment.py -submit gowithflow.py', 'claire_wheeler'],\n",
       " ...]"
      ]
     },
     "execution_count": 83,
     "metadata": {},
     "output_type": "execute_result"
    }
   ],
   "source": [
    "path = './command_data.csv'\n",
    "\n",
    "def getKey(item):   # 정렬을 위함 함수 \n",
    "    return item[1]  # 신경 쓸 필요 없음\n",
    "\n",
    "\n",
    "command_data = []\n",
    "with open(path, 'r') as csvfile:\n",
    "    spamreader = csv.reader(csvfile, delimiter = ',', quotechar='\"')\n",
    "    for row in spamreader:\n",
    "        command_data.append(row)\n",
    "command_data"
   ]
  },
  {
   "cell_type": "code",
   "execution_count": 90,
   "id": "0bb36c1e",
   "metadata": {},
   "outputs": [],
   "source": [
    "command_counters = {}\n",
    "for data in command_data:\n",
    "    if data[1] in command_counters.keys():\n",
    "        command_counters[data[1]] += 1\n",
    "    else:\n",
    "        command_counters[data[1]] = 1\n"
   ]
  },
  {
   "cell_type": "code",
   "execution_count": 98,
   "id": "eee7db63",
   "metadata": {
    "collapsed": true
   },
   "outputs": [
    {
     "data": {
      "text/plain": [
       "[['id', 1],\n",
       " ['source', 1],\n",
       " ['tiana', 167],\n",
       " ['white_rabbit', 237],\n",
       " ['flo', 324],\n",
       " ['chum', 311],\n",
       " ['rocket_raccoon', 473],\n",
       " ['faline', 3115],\n",
       " ['kristoff', 4934],\n",
       " ['tinker_bell', 696],\n",
       " ['crush', 231],\n",
       " ['flik', 424],\n",
       " ['claire_wheeler', 2777],\n",
       " ['meg', 3098],\n",
       " ['fillmore', 7394],\n",
       " ['tarzan', 4193],\n",
       " ['bomb_voyage', 337],\n",
       " ['prince_naveen', 425],\n",
       " ['disgust', 305],\n",
       " ['bo_peep', 407],\n",
       " ['francis', 5978],\n",
       " ['aladdin', 402],\n",
       " ['eve', 239],\n",
       " ['bookworm', 8500],\n",
       " ['cheshire_cat', 200],\n",
       " ['anna', 304],\n",
       " ['emperor_zurg', 4470],\n",
       " ['the_dodo', 1364],\n",
       " ['finn_mcmissile', 319],\n",
       " ['barricade', 5],\n",
       " ['fear', 2968],\n",
       " ['marlon_the_alligator', 3203],\n",
       " ['don_carlton', 2773],\n",
       " ['alice', 123],\n",
       " ['carrie_williams', 223],\n",
       " ['boo', 304],\n",
       " ['bing_bong', 311],\n",
       " ['charlie', 363],\n",
       " ['snow_white', 115],\n",
       " ['elsa', 7500],\n",
       " ['emile', 168],\n",
       " ['django', 371],\n",
       " ['fred', 244],\n",
       " ['bambi', 275],\n",
       " ['fa_zhou', 299],\n",
       " ['fritz', 94],\n",
       " ['duke_of_weselton', 264],\n",
       " ['nani_pelekai', 319],\n",
       " ['the_magic_mirror', 116],\n",
       " ['mulan', 188],\n",
       " ['thor', 98],\n",
       " ['flynn_rider', 1996],\n",
       " ['lilo_pelekai', 190],\n",
       " ['anton_ego', 5819],\n",
       " ['queen_grimhilde', 5000],\n",
       " ['tiger_lily', 1846],\n",
       " ['mungo', 237],\n",
       " ['tigger', 884],\n",
       " ['guido', 2541],\n",
       " ['stitch', 3742],\n",
       " ['mama_odie', 1883],\n",
       " ['shell_history', 60],\n",
       " ['flora', 247],\n",
       " ['chick_hicks', 1678],\n",
       " ['francesco_bernoulli', 292],\n",
       " ['darla_sherman', 1861],\n",
       " ['brent_mustangburger', 4838],\n",
       " ['charlotte_la_bouff', 472],\n",
       " ['riley_anderson', 330],\n",
       " ['joy', 258],\n",
       " ['sadness', 133],\n",
       " ['prince_hans', 275],\n",
       " ['chatter_telephone', 372],\n",
       " ['rapunzel', 219],\n",
       " ['peter_pig', 500],\n",
       " ['dory', 410],\n",
       " ['jane_porter', 852],\n",
       " ['chunk', 126],\n",
       " ['louis_the_alligator', 1374],\n",
       " ['brock_pearson', 242],\n",
       " ['coral', 186],\n",
       " ['darrell_cartrip', 146],\n",
       " ['maximus', 172],\n",
       " ['ray_the_firefly', 998],\n",
       " ['bumblebee', 260],\n",
       " ['kocoum', 438],\n",
       " ['al_mcwhiggin', 777],\n",
       " ['auguste_gusteau', 153],\n",
       " ['auto', 458],\n",
       " ['roo', 2782],\n",
       " ['roger_rabbit', 211],\n",
       " ['captain_hook', 403],\n",
       " ['collette_tatou', 206],\n",
       " ['eudora', 191],\n",
       " ['storm', 19],\n",
       " ['dim', 240],\n",
       " ['dolly', 254],\n",
       " ['aurora', 267],\n",
       " ['pocahontas', 312],\n",
       " ['genie', 61],\n",
       " ['splunk_teamlab', 115],\n",
       " ['pascal', 224],\n",
       " ['peter_pan', 463],\n",
       " ['merryweather', 219],\n",
       " ['wendy_darling', 218],\n",
       " ['nakoma', 133],\n",
       " ['hadoop_teamlab', 53],\n",
       " ['abominable_snowman', 1],\n",
       " ['silver_surfer', 1],\n",
       " ['sven', 1],\n",
       " ['clayton', 1],\n",
       " ['tootles', 1],\n",
       " ['bullseye', 1],\n",
       " ['acer', 1],\n",
       " ['oaken', 1],\n",
       " ['alfredo_linguini', 1]]"
      ]
     },
     "execution_count": 98,
     "metadata": {},
     "output_type": "execute_result"
    }
   ],
   "source": [
    "dictList = []\n",
    "for k,v in command_counters.items():\n",
    "    dictList.append([k, v])\n",
    "    \n",
    "dictList"
   ]
  },
  {
   "cell_type": "code",
   "execution_count": 101,
   "id": "b88c0bdb",
   "metadata": {},
   "outputs": [
    {
     "data": {
      "text/plain": [
       "[['bookworm', 8500],\n",
       " ['elsa', 7500],\n",
       " ['fillmore', 7394],\n",
       " ['francis', 5978],\n",
       " ['anton_ego', 5819],\n",
       " ['queen_grimhilde', 5000],\n",
       " ['kristoff', 4934],\n",
       " ['brent_mustangburger', 4838],\n",
       " ['emperor_zurg', 4470],\n",
       " ['tarzan', 4193]]"
      ]
     },
     "execution_count": 101,
     "metadata": {},
     "output_type": "execute_result"
    }
   ],
   "source": [
    "sorted_dictlist = sorted(dictList, key = getKey, reverse = True)\n",
    "\n",
    "sorted_dictlist[:10]"
   ]
  },
  {
   "cell_type": "markdown",
   "id": "28e49d59",
   "metadata": {},
   "source": [
    "## collections module\n",
    "- List, tuple, Dict에 대한 python built-in 확장 자료 구조(모듈)\n",
    "- 편의성, 실행 효율 등을 사용자에게 제공함 \n",
    "- 아래의 모듈이 존재\\\n",
    "from collections import deque\\\n",
    "from collections import Counter\\\n",
    "from collections import OrderedDict\\\n",
    "from collections import defaultdict\\\n",
    "from collections import namedtuple\n",
    "\n",
    "### deque\n",
    "- stack과 Queue를 지원하는 모듈\n",
    "- list에 비해 효율적인 = 빠른 자료 저장방식을 지원"
   ]
  },
  {
   "cell_type": "code",
   "execution_count": 102,
   "id": "e42b0a8d",
   "metadata": {},
   "outputs": [
    {
     "name": "stdout",
     "output_type": "stream",
     "text": [
      "deque([0, 1, 2, 3, 4])\n",
      "deque([10, 0, 1, 2, 3, 4])\n"
     ]
    }
   ],
   "source": [
    "deque_list = deque()\n",
    "for i in range(5):\n",
    "    deque_list.append(i)\n",
    "print(deque_list)\n",
    "deque_list.appendleft(10)\n",
    "print(deque_list)"
   ]
  },
  {
   "cell_type": "markdown",
   "id": "00a61e71",
   "metadata": {},
   "source": [
    "- rotate, reverse등 linked list의 특성을 지원함\n",
    "    - linked list란?\\\n",
    "        -> Array처럼 선형 데이터 자료구조이지만, Array는 물리적인 배치 구조자체가 연속적으로 저장되어 있고 linked list는 노드의 다음 부분에 다음 노드의 위치를 저장함으로써 선형적인 데이터 자료구조를 갖는다.\\\n",
    "        -> list의 삽입과 삭제의 시간복잡도가 O(n)만큼 걸리는 것은 배열이 물리적인 데이터의 저장 위치가 연속적이어야 하므로 데이터를 옮기는 연산작업이 필요하기 때문이다.\\\n",
    "        -> 하지만 linked list는 데이터를 삽입, 삭제할 경우, 노드의 next 부분에 저장한 다음 노드의 포인터만 변경해주면 되므로 배열과 비교하였을 때 Linked list가 효율적으로 데이터를 삽입, 삭제할 수 있다.\\\n",
    "        -> 단, 특정 위치의 데이터를 탐색하기 위해서는 첫 노드부터 탐색을 시작한다. 그 시간이 O(n)만큼 걸리게 되므로 탐색에 있어서는 배열이나 트리 구조에 비해 느림\n",
    "- 기존 list 형태의 함수를 모두 지원함 "
   ]
  },
  {
   "cell_type": "code",
   "execution_count": 131,
   "id": "4eec96c7",
   "metadata": {},
   "outputs": [
    {
     "name": "stdout",
     "output_type": "stream",
     "text": [
      "deque([2, 3, 4, 10, 0, 1])\n",
      "deque([1, 2, 3, 4, 10, 0])\n",
      "deque([0, 10, 4, 3, 2, 1])\n"
     ]
    }
   ],
   "source": [
    "deque_list.rotate(1)\n",
    "print(deque_list)  # 오른쪽으로 2칸씩 옮겨갔다\n",
    "deque_list.rotate(1)\n",
    "print(deque_list)\n",
    "print(deque(reversed(deque_list)))"
   ]
  },
  {
   "cell_type": "code",
   "execution_count": 132,
   "id": "37fbc93d",
   "metadata": {},
   "outputs": [
    {
     "data": {
      "text/plain": [
       "deque([1, 2, 3, 4, 10, 0, 5, 6, 7])"
      ]
     },
     "execution_count": 132,
     "metadata": {},
     "output_type": "execute_result"
    }
   ],
   "source": [
    "deque_list.extend([5,6,7])\n",
    "deque_list"
   ]
  },
  {
   "cell_type": "code",
   "execution_count": 135,
   "id": "bdd1ce24",
   "metadata": {},
   "outputs": [
    {
     "data": {
      "text/plain": [
       "deque([2, 1, 0, 2, 0, 0, 1, 2, 3, 4, 10, 0, 5, 6, 7])"
      ]
     },
     "execution_count": 135,
     "metadata": {},
     "output_type": "execute_result"
    }
   ],
   "source": [
    "deque_list.extendleft([0,1,2])  # 왼쪽으로 하나씩 채워나가서 보이는 건 반대로\n",
    "deque_list"
   ]
  },
  {
   "cell_type": "markdown",
   "id": "9dac3b03",
   "metadata": {},
   "source": [
    "- deque는 기존 list보다 효율적인 자료구조를 제공\n",
    "- 효육적 메모리 구조로 처리 속도 향상"
   ]
  },
  {
   "cell_type": "code",
   "execution_count": 8,
   "id": "af5c2799",
   "metadata": {},
   "outputs": [
    {
     "name": "stdout",
     "output_type": "stream",
     "text": [
      "list\n",
      "3.53 ms ± 21 µs per loop (mean ± std. dev. of 7 runs, 100 loops each)\n"
     ]
    }
   ],
   "source": [
    "# list와 deque의 처리 속도 비교\n",
    "print('list')\n",
    "def general_list():\n",
    "    just_list = []\n",
    "    for i in range(100):\n",
    "        for i in range(100):\n",
    "            just_list.append(i)\n",
    "            just_list.pop()\n",
    "            \n",
    "            \n",
    "%timeit general_list()"
   ]
  },
  {
   "cell_type": "code",
   "execution_count": 9,
   "id": "ffd8f6e6",
   "metadata": {},
   "outputs": [
    {
     "name": "stdout",
     "output_type": "stream",
     "text": [
      "deque\n",
      "1.09 ms ± 429 ns per loop (mean ± std. dev. of 7 runs, 1000 loops each)\n"
     ]
    }
   ],
   "source": [
    "print('deque')\n",
    "def deque_list():\n",
    "    deque_list = deque()\n",
    "    for i in range(100):\n",
    "        for i in range(100):\n",
    "            deque_list.append(i)\n",
    "            deque_list.pop()\n",
    "            \n",
    "            \n",
    "%timeit deque_list()"
   ]
  },
  {
   "cell_type": "markdown",
   "id": "a2b6ab34",
   "metadata": {},
   "source": [
    "### OrderedDict\n",
    "- dict와 달리, 데이터를 입력한ㄷ 순서대로 dict를 반환함\n",
    "- 그러나 dict도 python3.6부터 입력 순서를 보장하여 출력\n",
    "- 그냥 이런게 있다 정도만 보면 된다.\n",
    "\n",
    "### defaultdict\n",
    "- dict type의 값에 기본 값을 지정, 신규값 생성시 사용하는 방법\n",
    "- 하나의 지문에 각 단어들이 몇 개나 있는지 세고 싶을 경우\n",
    "- text-mining 접근법 - vector space model"
   ]
  },
  {
   "cell_type": "code",
   "execution_count": 25,
   "id": "29ed4743",
   "metadata": {},
   "outputs": [],
   "source": [
    "text = '''Wikis are enabled by wiki software, otherwise known as wiki engines. A wiki engine, being a form of a content management system, differs from other web-based systems such as blog software, in that the content is created without any defined owner or leader, and wikis have little inherent structure, allowing structure to emerge according to the needs of the users.[1] Wiki engines usually allow content to be written using a simplified markup language and sometimes edited with the help of a rich-text editor.[2] There are dozens of different wiki engines in use, both standalone and part of other software, such as bug tracking systems. Some wiki engines are open-source, whereas others are proprietary. Some permit control over different functions (levels of access); for example, editing rights may permit changing, adding, or removing material. Others may permit access without enforcing access control. Other rules may be imposed to organize content.'''.lower()"
   ]
  },
  {
   "cell_type": "code",
   "execution_count": 34,
   "id": "12f31568",
   "metadata": {},
   "outputs": [],
   "source": [
    "new_text = re.sub('[.\\(\\)\\[\\],]','',text)"
   ]
  },
  {
   "cell_type": "code",
   "execution_count": 35,
   "id": "2d030032",
   "metadata": {},
   "outputs": [
    {
     "data": {
      "text/plain": [
       "'wikis are enabled by wiki software otherwise known as wiki engines a wiki engine being a form of a content management system differs from other web-based systems such as blog software in that the content is created without any defined owner or leader and wikis have little inherent structure allowing structure to emerge according to the needs of the users1 wiki engines usually allow content to be written using a simplified markup language and sometimes edited with the help of a rich-text editor2 there are dozens of different wiki engines in use both standalone and part of other software such as bug tracking systems some wiki engines are open-source whereas others are proprietary some permit control over different functions levels of access; for example editing rights may permit changing adding or removing material others may permit access without enforcing access control other rules may be imposed to organize content'"
      ]
     },
     "execution_count": 35,
     "metadata": {},
     "output_type": "execute_result"
    }
   ],
   "source": [
    "new_text"
   ]
  },
  {
   "cell_type": "code",
   "execution_count": 52,
   "id": "1be0b638",
   "metadata": {},
   "outputs": [
    {
     "name": "stdout",
     "output_type": "stream",
     "text": [
      "('wiki', 6)\n",
      "('of', 6)\n",
      "('a', 5)\n",
      "('are', 4)\n",
      "('engines', 4)\n",
      "('content', 4)\n",
      "('the', 4)\n",
      "('to', 4)\n",
      "('software', 3)\n",
      "('as', 3)\n",
      "('other', 3)\n",
      "('and', 3)\n",
      "('permit', 3)\n",
      "('may', 3)\n",
      "('wikis', 2)\n",
      "('systems', 2)\n",
      "('such', 2)\n",
      "('in', 2)\n",
      "('without', 2)\n",
      "('or', 2)\n",
      "('structure', 2)\n",
      "('be', 2)\n",
      "('different', 2)\n",
      "('some', 2)\n",
      "('others', 2)\n",
      "('control', 2)\n",
      "('access', 2)\n",
      "('enabled', 1)\n",
      "('by', 1)\n",
      "('otherwise', 1)\n",
      "('known', 1)\n",
      "('engine', 1)\n",
      "('being', 1)\n",
      "('form', 1)\n",
      "('management', 1)\n",
      "('system', 1)\n",
      "('differs', 1)\n",
      "('from', 1)\n",
      "('web-based', 1)\n",
      "('blog', 1)\n",
      "('that', 1)\n",
      "('is', 1)\n",
      "('created', 1)\n",
      "('any', 1)\n",
      "('defined', 1)\n",
      "('owner', 1)\n",
      "('leader', 1)\n",
      "('have', 1)\n",
      "('little', 1)\n",
      "('inherent', 1)\n",
      "('allowing', 1)\n",
      "('emerge', 1)\n",
      "('according', 1)\n",
      "('needs', 1)\n",
      "('users1', 1)\n",
      "('usually', 1)\n",
      "('allow', 1)\n",
      "('written', 1)\n",
      "('using', 1)\n",
      "('simplified', 1)\n",
      "('markup', 1)\n",
      "('language', 1)\n",
      "('sometimes', 1)\n",
      "('edited', 1)\n",
      "('with', 1)\n",
      "('help', 1)\n",
      "('rich-text', 1)\n",
      "('editor2', 1)\n",
      "('there', 1)\n",
      "('dozens', 1)\n",
      "('use', 1)\n",
      "('both', 1)\n",
      "('standalone', 1)\n",
      "('part', 1)\n",
      "('bug', 1)\n",
      "('tracking', 1)\n",
      "('open-source', 1)\n",
      "('whereas', 1)\n",
      "('proprietary', 1)\n",
      "('over', 1)\n",
      "('functions', 1)\n",
      "('levels', 1)\n",
      "('access;', 1)\n",
      "('for', 1)\n",
      "('example', 1)\n",
      "('editing', 1)\n",
      "('rights', 1)\n",
      "('changing', 1)\n",
      "('adding', 1)\n",
      "('removing', 1)\n",
      "('material', 1)\n",
      "('enforcing', 1)\n",
      "('rules', 1)\n",
      "('imposed', 1)\n",
      "('organize', 1)\n"
     ]
    },
    {
     "data": {
      "text/plain": [
       "{'wiki': 6,\n",
       " 'of': 6,\n",
       " 'a': 5,\n",
       " 'are': 4,\n",
       " 'engines': 4,\n",
       " 'content': 4,\n",
       " 'the': 4,\n",
       " 'to': 4,\n",
       " 'software': 3,\n",
       " 'as': 3,\n",
       " 'other': 3,\n",
       " 'and': 3,\n",
       " 'permit': 3,\n",
       " 'may': 3,\n",
       " 'wikis': 2,\n",
       " 'systems': 2,\n",
       " 'such': 2,\n",
       " 'in': 2,\n",
       " 'without': 2,\n",
       " 'or': 2,\n",
       " 'structure': 2,\n",
       " 'be': 2,\n",
       " 'different': 2,\n",
       " 'some': 2,\n",
       " 'others': 2,\n",
       " 'control': 2,\n",
       " 'access': 2,\n",
       " 'enabled': 1,\n",
       " 'by': 1,\n",
       " 'otherwise': 1,\n",
       " 'known': 1,\n",
       " 'engine': 1,\n",
       " 'being': 1,\n",
       " 'form': 1,\n",
       " 'management': 1,\n",
       " 'system': 1,\n",
       " 'differs': 1,\n",
       " 'from': 1,\n",
       " 'web-based': 1,\n",
       " 'blog': 1,\n",
       " 'that': 1,\n",
       " 'is': 1,\n",
       " 'created': 1,\n",
       " 'any': 1,\n",
       " 'defined': 1,\n",
       " 'owner': 1,\n",
       " 'leader': 1,\n",
       " 'have': 1,\n",
       " 'little': 1,\n",
       " 'inherent': 1,\n",
       " 'allowing': 1,\n",
       " 'emerge': 1,\n",
       " 'according': 1,\n",
       " 'needs': 1,\n",
       " 'users1': 1,\n",
       " 'usually': 1,\n",
       " 'allow': 1,\n",
       " 'written': 1,\n",
       " 'using': 1,\n",
       " 'simplified': 1,\n",
       " 'markup': 1,\n",
       " 'language': 1,\n",
       " 'sometimes': 1,\n",
       " 'edited': 1,\n",
       " 'with': 1,\n",
       " 'help': 1,\n",
       " 'rich-text': 1,\n",
       " 'editor2': 1,\n",
       " 'there': 1,\n",
       " 'dozens': 1,\n",
       " 'use': 1,\n",
       " 'both': 1,\n",
       " 'standalone': 1,\n",
       " 'part': 1,\n",
       " 'bug': 1,\n",
       " 'tracking': 1,\n",
       " 'open-source': 1,\n",
       " 'whereas': 1,\n",
       " 'proprietary': 1,\n",
       " 'over': 1,\n",
       " 'functions': 1,\n",
       " 'levels': 1,\n",
       " 'access;': 1,\n",
       " 'for': 1,\n",
       " 'example': 1,\n",
       " 'editing': 1,\n",
       " 'rights': 1,\n",
       " 'changing': 1,\n",
       " 'adding': 1,\n",
       " 'removing': 1,\n",
       " 'material': 1,\n",
       " 'enforcing': 1,\n",
       " 'rules': 1,\n",
       " 'imposed': 1,\n",
       " 'organize': 1}"
      ]
     },
     "execution_count": 52,
     "metadata": {},
     "output_type": "execute_result"
    }
   ],
   "source": [
    "def get_key(x):\n",
    "    return x[1]  # 0으로 할 경우 key, 1로 할 경우 value를 기준으로 정렬\n",
    "\n",
    "d = defaultdict(lambda : 0)  # d를 0으로 초기화 해준는 것.\n",
    "\n",
    "for word in new_text.split():\n",
    "    d[word] += 1\n",
    "\n",
    "word_dict = {}\n",
    "for i in sorted(d.items(), key=get_key, reverse = True):\n",
    "    print(i)\n",
    "    \n",
    "for k, v in sorted(d.items(), key=get_key, reverse = True):\n",
    "    word_dict[k] = v\n",
    "\n",
    "word_dict    "
   ]
  },
  {
   "cell_type": "markdown",
   "id": "2d166807",
   "metadata": {},
   "source": [
    "### Counter\n",
    "- sequence type의 data element들의 갯수를 dict 형태로 반환"
   ]
  },
  {
   "cell_type": "code",
   "execution_count": 55,
   "id": "9c87af2a",
   "metadata": {},
   "outputs": [
    {
     "data": {
      "text/plain": [
       "Counter({'B': 4, 'S': 5})"
      ]
     },
     "execution_count": 55,
     "metadata": {},
     "output_type": "execute_result"
    }
   ],
   "source": [
    "ball_or_strike_list = [\"B\",'S','B','S','S','B','S','S','B']\n",
    "\n",
    "c = Counter(ball_or_strike_list)\n",
    "c"
   ]
  },
  {
   "cell_type": "markdown",
   "id": "d055dea5",
   "metadata": {},
   "source": [
    "- set의 연산들을 지원한다."
   ]
  },
  {
   "cell_type": "code",
   "execution_count": 56,
   "id": "e3fecef2",
   "metadata": {},
   "outputs": [
    {
     "name": "stdout",
     "output_type": "stream",
     "text": [
      "Counter({'a': 9, 'b': 3, 'c': 3})\n",
      "Counter({'a': 5, 'c': 3, 'b': 2})\n",
      "Counter({'a': 4, 'b': 1})\n"
     ]
    }
   ],
   "source": [
    "c=Counter(a=4,b=2,c=0,d=-2)\n",
    "d=Counter(a=5,b=1,c=3,d=-9)\n",
    "print(c+d)\n",
    "print(c|d)\n",
    "print(c&d)\n"
   ]
  },
  {
   "cell_type": "markdown",
   "id": "84f6e1ef",
   "metadata": {},
   "source": [
    "### namedtuple\n",
    "- tuple 형태로 data구조체를 저장하는 방법\n",
    "- 저장되는 data의 variable을 사전에 지정해서 저장함"
   ]
  },
  {
   "cell_type": "markdown",
   "id": "d02d9268",
   "metadata": {},
   "source": [
    "## pythonic code\n",
    "- 파이썬 스타일의 코딩 기법\n",
    "- 파이썬 특유의 문법을 활용하여 효율적으로 코드를 표현함\n",
    "- 그러나 더 이상 파이썬 특유는 아님, 많은 언어들이 서로의 장점을 채용\n",
    "- 고급 코드를 작성 할수록 더 많이 필요\n",
    "- for loop을 하지 않고 한줄로 표현하는 기법을 사용하기도 함.\n",
    "\n",
    "### 다양한 문법\n",
    "- split, join\n",
    "- list comprehension\n",
    "- enumerate & zip\n",
    "- lambda & map & reduce\n",
    "- generator\n",
    "- asterisk\n",
    "\n",
    "### why pythonic code?\n",
    "- 다른 사람의 코드에 대한 이해도\\\n",
    "=> 당연시 하게 많은 개발자들이 python 스타일로 코딩을 하기 때문\n",
    "- 효율\\\n",
    "=> 단순 for loop append보다 list가 조금 더 빠르다.\\\n",
    "=> 익숙해지면 코드도 짧아진다.\n",
    "- 간지\\\n",
    "=> 쓰면 왠지 코드 잘 짜는 거처럼 보임...."
   ]
  },
  {
   "cell_type": "markdown",
   "id": "ae128bf9",
   "metadata": {},
   "source": [
    "## split & join\n",
    "- string type의 값을 '기준값'으로 나눠서 list 형태로 변환\n",
    "- split(\"기준값\")\n",
    "- \"기준값\".join()"
   ]
  },
  {
   "cell_type": "markdown",
   "id": "a2e5a293",
   "metadata": {},
   "source": [
    "## list comprehension ( 중요 )\n",
    "- 기존 list 사용하여 간단히 다른 list를 만드는 기법\n",
    "- 포괄적인 list, 포함되는 리스트라는 의미로 사용\n",
    "- 파이썬에서 가장 많이 사용되는 기법\n",
    "- 일반적으로 for + append 보다 속다가 빠름"
   ]
  },
  {
   "cell_type": "code",
   "execution_count": 63,
   "id": "4d27252e",
   "metadata": {},
   "outputs": [
    {
     "name": "stdout",
     "output_type": "stream",
     "text": [
      "예제\n"
     ]
    },
    {
     "data": {
      "text/plain": [
       "[0, 2, 4, 6, 8]"
      ]
     },
     "execution_count": 63,
     "metadata": {},
     "output_type": "execute_result"
    }
   ],
   "source": [
    "print('예제')\n",
    "\n",
    "result = [i for i in range(10) if i % 2 == 0]\n",
    "result"
   ]
  },
  {
   "cell_type": "code",
   "execution_count": 74,
   "id": "039a3c3e",
   "metadata": {},
   "outputs": [],
   "source": [
    "multi_box = [f'{i}단! {i}*{j}={i*j}' for i in range(1,10) for j in range(1,10)]"
   ]
  },
  {
   "cell_type": "code",
   "execution_count": 75,
   "id": "e75f161d",
   "metadata": {},
   "outputs": [
    {
     "data": {
      "text/plain": [
       "['1단! 1*1=1',\n",
       " '1단! 1*2=2',\n",
       " '1단! 1*3=3',\n",
       " '1단! 1*4=4',\n",
       " '1단! 1*5=5',\n",
       " '1단! 1*6=6',\n",
       " '1단! 1*7=7',\n",
       " '1단! 1*8=8',\n",
       " '1단! 1*9=9',\n",
       " '2단! 2*1=2',\n",
       " '2단! 2*2=4',\n",
       " '2단! 2*3=6',\n",
       " '2단! 2*4=8',\n",
       " '2단! 2*5=10',\n",
       " '2단! 2*6=12',\n",
       " '2단! 2*7=14',\n",
       " '2단! 2*8=16',\n",
       " '2단! 2*9=18',\n",
       " '3단! 3*1=3',\n",
       " '3단! 3*2=6',\n",
       " '3단! 3*3=9',\n",
       " '3단! 3*4=12',\n",
       " '3단! 3*5=15',\n",
       " '3단! 3*6=18',\n",
       " '3단! 3*7=21',\n",
       " '3단! 3*8=24',\n",
       " '3단! 3*9=27',\n",
       " '4단! 4*1=4',\n",
       " '4단! 4*2=8',\n",
       " '4단! 4*3=12',\n",
       " '4단! 4*4=16',\n",
       " '4단! 4*5=20',\n",
       " '4단! 4*6=24',\n",
       " '4단! 4*7=28',\n",
       " '4단! 4*8=32',\n",
       " '4단! 4*9=36',\n",
       " '5단! 5*1=5',\n",
       " '5단! 5*2=10',\n",
       " '5단! 5*3=15',\n",
       " '5단! 5*4=20',\n",
       " '5단! 5*5=25',\n",
       " '5단! 5*6=30',\n",
       " '5단! 5*7=35',\n",
       " '5단! 5*8=40',\n",
       " '5단! 5*9=45',\n",
       " '6단! 6*1=6',\n",
       " '6단! 6*2=12',\n",
       " '6단! 6*3=18',\n",
       " '6단! 6*4=24',\n",
       " '6단! 6*5=30',\n",
       " '6단! 6*6=36',\n",
       " '6단! 6*7=42',\n",
       " '6단! 6*8=48',\n",
       " '6단! 6*9=54',\n",
       " '7단! 7*1=7',\n",
       " '7단! 7*2=14',\n",
       " '7단! 7*3=21',\n",
       " '7단! 7*4=28',\n",
       " '7단! 7*5=35',\n",
       " '7단! 7*6=42',\n",
       " '7단! 7*7=49',\n",
       " '7단! 7*8=56',\n",
       " '7단! 7*9=63',\n",
       " '8단! 8*1=8',\n",
       " '8단! 8*2=16',\n",
       " '8단! 8*3=24',\n",
       " '8단! 8*4=32',\n",
       " '8단! 8*5=40',\n",
       " '8단! 8*6=48',\n",
       " '8단! 8*7=56',\n",
       " '8단! 8*8=64',\n",
       " '8단! 8*9=72',\n",
       " '9단! 9*1=9',\n",
       " '9단! 9*2=18',\n",
       " '9단! 9*3=27',\n",
       " '9단! 9*4=36',\n",
       " '9단! 9*5=45',\n",
       " '9단! 9*6=54',\n",
       " '9단! 9*7=63',\n",
       " '9단! 9*8=72',\n",
       " '9단! 9*9=81']"
      ]
     },
     "execution_count": 75,
     "metadata": {},
     "output_type": "execute_result"
    }
   ],
   "source": [
    "multi_box"
   ]
  },
  {
   "cell_type": "code",
   "execution_count": 80,
   "id": "88682b38",
   "metadata": {},
   "outputs": [
    {
     "name": "stdout",
     "output_type": "stream",
     "text": [
      "['ad', 'ae', 'aa', 'bd', 'be', 'ba', 'cd', 'ce', 'ca']\n",
      "\n",
      "filter를 사용\n",
      "['ad', 'ae', 'bd', 'be', 'ba', 'cd', 'ce', 'ca']\n",
      "['ad', 'ae', 'a', 'bd', 'be', 'ba', 'cd', 'ce', 'ca']\n"
     ]
    }
   ],
   "source": [
    "case_1 = ['a','b','c']\n",
    "case_2 = ['d','e','a']\n",
    "\n",
    "result = [i+j for i in case_1 for j in case_2]\n",
    "print(result)\n",
    "print()\n",
    "print('filter를 사용')\n",
    "result_2 = [i+j for i in case_1 for j in case_2 if i!=j ]\n",
    "print(result_2)\n",
    "# filter : i랑 j가 같다면 list에 추가하지 않음\n",
    "# filter는 맨 뒤에다가 작성해주면 된다.\n",
    "\n",
    "# 삼항식으로 사용할 경우 for문 앞에 작성하면 된다. if else 사용\n",
    "result_3 = [i+j if i!=j else i for i in case_1 for j in case_2]\n",
    "print(result_3)"
   ]
  },
  {
   "cell_type": "code",
   "execution_count": 83,
   "id": "edef5334",
   "metadata": {},
   "outputs": [
    {
     "name": "stdout",
     "output_type": "stream",
     "text": [
      "two dimensional vs one dimensional\n",
      "one_dimensional : ['ad', 'ae', 'aa', 'bd', 'be', 'ba', 'cd', 'ce', 'ca']\n",
      "two_dimensional : [['ad', 'bd', 'cd'], ['ae', 'be', 'ce'], ['aa', 'ba', 'ca']]\n"
     ]
    }
   ],
   "source": [
    "print('two dimensional vs one dimensional')\n",
    "one_dimensional = [i+j for i in case_1 for j in case_2]\n",
    "two_dimensional = [[i+j for i in case_1] for j in case_2]\n",
    "print(f'one_dimensional : {one_dimensional}')\n",
    "print(f'two_dimensional : {two_dimensional}')\n",
    "# two dimensional 같은 경우를 보면 list 안에 list의 for 보다 밖에 있는 for case_2가 먼저 작동이 된다."
   ]
  },
  {
   "cell_type": "markdown",
   "id": "35e8dce6",
   "metadata": {},
   "source": [
    "### enumerate\n",
    "- list의 element를 추출할 때 번호를 붙여서 추출"
   ]
  },
  {
   "cell_type": "code",
   "execution_count": 85,
   "id": "5db048bc",
   "metadata": {},
   "outputs": [
    {
     "name": "stdout",
     "output_type": "stream",
     "text": [
      "example\n",
      "index : 0, value : tic\n",
      "index : 1, value : tac\n",
      "index : 2, value : toe\n"
     ]
    }
   ],
   "source": [
    "print('example')\n",
    "for index, value in enumerate(['tic','tac','toe']):\n",
    "    print(f'index : {index}, value : {value}')"
   ]
  },
  {
   "cell_type": "code",
   "execution_count": 87,
   "id": "45e3c897",
   "metadata": {},
   "outputs": [
    {
     "data": {
      "text/plain": [
       "{'d': 0, 'e': 1, 'a': 2}"
      ]
     },
     "execution_count": 87,
     "metadata": {},
     "output_type": "execute_result"
    }
   ],
   "source": [
    "{v : i for i,v in enumerate(case_2)}"
   ]
  },
  {
   "cell_type": "markdown",
   "id": "b38e948a",
   "metadata": {},
   "source": [
    "### zip\n",
    "- 두 개의 list의 값을 병렬적으로 추출함\n",
    "- 같은 index 번지 끼리 묶어준다."
   ]
  },
  {
   "cell_type": "code",
   "execution_count": 89,
   "id": "1e43014e",
   "metadata": {},
   "outputs": [
    {
     "data": {
      "text/plain": [
       "[['a', 'd'], ['b', 'e'], ['c', 'a']]"
      ]
     },
     "execution_count": 89,
     "metadata": {},
     "output_type": "execute_result"
    }
   ],
   "source": [
    "[[a,b] for a, b in zip(case_1, case_2)]"
   ]
  },
  {
   "cell_type": "code",
   "execution_count": 90,
   "id": "18b47cf7",
   "metadata": {},
   "outputs": [
    {
     "data": {
      "text/plain": [
       "[('a', 'd'), ('b', 'e'), ('c', 'a')]"
      ]
     },
     "execution_count": 90,
     "metadata": {},
     "output_type": "execute_result"
    }
   ],
   "source": [
    "[(a,b) for a, b in zip(case_1, case_2)]"
   ]
  },
  {
   "cell_type": "code",
   "execution_count": 91,
   "id": "7d611ee4",
   "metadata": {},
   "outputs": [
    {
     "data": {
      "text/plain": [
       "[('a', 'd'), ('b', 'e'), ('c', 'a')]"
      ]
     },
     "execution_count": 91,
     "metadata": {},
     "output_type": "execute_result"
    }
   ],
   "source": [
    "[c for c in zip(case_1, case_2)]"
   ]
  },
  {
   "cell_type": "markdown",
   "id": "fc390390",
   "metadata": {},
   "source": [
    "### lambda\n",
    "- 함수 이름 없이, 함수처럼 쓸 수 있는 익명함수\n",
    "- python 3부터는 권장하지 않으나... 여전히 많이 사용한다.\\\n",
    "=> 어려운 문법\\\n",
    "=> ***테스트의 어려움***\\\n",
    "=> 문서화 docstring지원 미비\\\n",
    "=> 코드 해석의 어려움\\\n",
    "=> 이름이 존재하지 않는 함수의 출현\\\n",
    "=> 그래도 많이 쓴다..."
   ]
  },
  {
   "cell_type": "code",
   "execution_count": 93,
   "id": "290a3ba1",
   "metadata": {},
   "outputs": [
    {
     "name": "stdout",
     "output_type": "stream",
     "text": [
      "12\n",
      "7\n",
      "7\n"
     ]
    }
   ],
   "source": [
    "def general_f(x,y):\n",
    "    return x + y\n",
    "\n",
    "lambda_f = lambda x,y : x+y\n",
    "print((lambda x,y : x+y)(10,2))\n",
    "print(general_f(3,4))\n",
    "print(lambda_f(3,4))"
   ]
  },
  {
   "cell_type": "markdown",
   "id": "31fe834a",
   "metadata": {},
   "source": [
    "### map function\n",
    "- 두 개 이상의 list에도 적용 가능함, if filter도 사용 가능\n",
    "- sequence type data가 있고 어떤 함수가 있을 때 각 Element에 함수를 적용하여 결괏값을 받아내는 것.\n",
    "- lambda와 마찬가지로 최근에는 권장하지 않지만 사용한다..."
   ]
  },
  {
   "cell_type": "code",
   "execution_count": 98,
   "id": "23ef52d5",
   "metadata": {},
   "outputs": [
    {
     "data": {
      "text/plain": [
       "[1, 4, 9, 16, 25]"
      ]
     },
     "execution_count": 98,
     "metadata": {},
     "output_type": "execute_result"
    }
   ],
   "source": [
    "ex = [1,2,3,4,5]\n",
    "f = lambda x: x**2\n",
    "\n",
    "list(map(f,ex))"
   ]
  },
  {
   "cell_type": "code",
   "execution_count": 112,
   "id": "864cbc76",
   "metadata": {},
   "outputs": [
    {
     "data": {
      "text/plain": [
       "[1, 4, 3, 16, 5]"
      ]
     },
     "execution_count": 112,
     "metadata": {},
     "output_type": "execute_result"
    }
   ],
   "source": [
    "ex = [1,2,3,4,5]\n",
    "\n",
    "list(map(lambda x: x**2 if x % 2 == 0 else x, ex))"
   ]
  },
  {
   "cell_type": "code",
   "execution_count": 118,
   "id": "e9cf1c7a",
   "metadata": {},
   "outputs": [
    {
     "name": "stdout",
     "output_type": "stream",
     "text": [
      "[1, 4, 3, 16, 5]\n",
      "[1, 4, 3, 16, 5]\n"
     ]
    }
   ],
   "source": [
    "f = lambda value : value**2 if value % 2 == 0 else value\n",
    "\n",
    "print([f(value) for value in ex])\n",
    "print(list(map(f,ex)))"
   ]
  },
  {
   "cell_type": "markdown",
   "id": "48092abe",
   "metadata": {},
   "source": [
    "### reduce function\n",
    "- map function과 달리 list에 똑같은 함수를 적용하여 통합한다.\n",
    "- list의 원소들을 중처하여 하나의 값으로 만드는 과정을 처리하는 함수"
   ]
  },
  {
   "cell_type": "code",
   "execution_count": 123,
   "id": "b4ef5ad9",
   "metadata": {},
   "outputs": [
    {
     "name": "stdout",
     "output_type": "stream",
     "text": [
      "example\n",
      "15\n"
     ]
    },
    {
     "data": {
      "text/plain": [
       "15"
      ]
     },
     "execution_count": 123,
     "metadata": {},
     "output_type": "execute_result"
    }
   ],
   "source": [
    "from functools import reduce\n",
    "print('example')\n",
    "lst = [1,2,3,4,5]\n",
    "print(reduce((lambda x,y : x+y),lst))\n",
    "sum(lst)\n",
    "# 흠... "
   ]
  },
  {
   "cell_type": "code",
   "execution_count": 127,
   "id": "363643e8",
   "metadata": {},
   "outputs": [
    {
     "name": "stdout",
     "output_type": "stream",
     "text": [
      "abcde\n",
      "abcde\n"
     ]
    },
    {
     "ename": "TypeError",
     "evalue": "unsupported operand type(s) for +: 'int' and 'str'",
     "output_type": "error",
     "traceback": [
      "\u001b[0;31m---------------------------------------------------------------------------\u001b[0m",
      "\u001b[0;31mTypeError\u001b[0m                                 Traceback (most recent call last)",
      "\u001b[0;32m/var/folders/28/zb5jqy4s6kn2xld_bfr5mpdw0000gn/T/ipykernel_1296/2349949995.py\u001b[0m in \u001b[0;36m<module>\u001b[0;34m\u001b[0m\n\u001b[1;32m      2\u001b[0m \u001b[0mprint\u001b[0m\u001b[0;34m(\u001b[0m\u001b[0mreduce\u001b[0m\u001b[0;34m(\u001b[0m\u001b[0;32mlambda\u001b[0m \u001b[0mx\u001b[0m\u001b[0;34m,\u001b[0m\u001b[0my\u001b[0m\u001b[0;34m:\u001b[0m \u001b[0mx\u001b[0m\u001b[0;34m+\u001b[0m\u001b[0my\u001b[0m\u001b[0;34m,\u001b[0m \u001b[0mstr_lst\u001b[0m\u001b[0;34m)\u001b[0m\u001b[0;34m)\u001b[0m\u001b[0;34m\u001b[0m\u001b[0;34m\u001b[0m\u001b[0m\n\u001b[1;32m      3\u001b[0m \u001b[0mprint\u001b[0m\u001b[0;34m(\u001b[0m\u001b[0;34m''\u001b[0m\u001b[0;34m.\u001b[0m\u001b[0mjoin\u001b[0m\u001b[0;34m(\u001b[0m\u001b[0mstr_lst\u001b[0m\u001b[0;34m)\u001b[0m\u001b[0;34m)\u001b[0m\u001b[0;34m\u001b[0m\u001b[0;34m\u001b[0m\u001b[0m\n\u001b[0;32m----> 4\u001b[0;31m \u001b[0mprint\u001b[0m\u001b[0;34m(\u001b[0m\u001b[0msum\u001b[0m\u001b[0;34m(\u001b[0m\u001b[0mstr_lst\u001b[0m\u001b[0;34m)\u001b[0m\u001b[0;34m)\u001b[0m\u001b[0;34m\u001b[0m\u001b[0;34m\u001b[0m\u001b[0m\n\u001b[0m",
      "\u001b[0;31mTypeError\u001b[0m: unsupported operand type(s) for +: 'int' and 'str'"
     ]
    }
   ],
   "source": [
    "str_lst = ['a','b','c','d','e']\n",
    "print(reduce(lambda x,y: x+y, str_lst))\n",
    "print(''.join(str_lst))\n",
    "print(sum(str_lst))\n",
    "# sum은 숫자만 가능하기 때문에 상황에 맞게 잘 사용하면 될 듯..."
   ]
  },
  {
   "cell_type": "markdown",
   "id": "53e5a4de",
   "metadata": {},
   "source": [
    "### iterable object\n",
    "- sequence 형 자료형에서 데이터를 순서대로 추출하는 object\n",
    "- list, tuple, string etc..\n",
    "\n",
    "#### 특징\n",
    "- 내부적 구현으로 \\_\\_iter__ 와 \\_\\_next__ 가 사용됨\n",
    "- iter()와 next()함수로 iterable 객체를 iterator object로 사용\n",
    "- iter() 하면 해당 메모리의 주소를 갖고오게 된다."
   ]
  },
  {
   "cell_type": "code",
   "execution_count": 135,
   "id": "edb7d0f0",
   "metadata": {},
   "outputs": [
    {
     "name": "stdout",
     "output_type": "stream",
     "text": [
      "<list_iterator object at 0x7f86e9698b50>\n",
      "seoul\n",
      "incheon\n",
      "jeju\n"
     ]
    }
   ],
   "source": [
    "cities = ['seoul','incheon','jeju']\n",
    "iter_obj = iter(cities)\n",
    "print(iter_obj)\n",
    "print(next(iter_obj))  # seoul 다음에, 다음에 해당하는 메모리 주소(예시로는 inchoen의 메모리 주소)가 저장되어 있어서 next 사용 시 다음 메모리주소로 이동하게 된다.\n",
    "print(next(iter_obj))\n",
    "print(next(iter_obj))\n",
    "#print(next(iter_obj))  # 더이상 element가 없기 때문에 오류가 발생한다."
   ]
  },
  {
   "cell_type": "markdown",
   "id": "2777918c",
   "metadata": {},
   "source": [
    "## generator\n",
    "- iterable object를 특수한 형태로 사용해주는 함수\n",
    "- element가 사용되기 전에는 메모리 주소값만 갖고 있다가 사용되는 시점에 값을 메모리에 반환 : yield를 사용해 한번에 하나의 element만 반환함"
   ]
  },
  {
   "cell_type": "code",
   "execution_count": 136,
   "id": "3d602719",
   "metadata": {},
   "outputs": [],
   "source": [
    "def general_list(value):\n",
    "    result = []\n",
    "    for i in range(value):\n",
    "        result.append(i)\n",
    "    return result"
   ]
  },
  {
   "cell_type": "code",
   "execution_count": 138,
   "id": "79175f11",
   "metadata": {},
   "outputs": [
    {
     "name": "stdout",
     "output_type": "stream",
     "text": [
      "[0, 1, 2, 3, 4, 5, 6, 7, 8, 9, 10, 11, 12, 13, 14, 15, 16, 17, 18, 19, 20, 21, 22, 23, 24, 25, 26, 27, 28, 29, 30, 31, 32, 33, 34, 35, 36, 37, 38, 39, 40, 41, 42, 43, 44, 45, 46, 47, 48, 49]\n"
     ]
    }
   ],
   "source": [
    "print(general_list(50))"
   ]
  },
  {
   "cell_type": "code",
   "execution_count": 139,
   "id": "9c9ff873",
   "metadata": {},
   "outputs": [
    {
     "data": {
      "text/plain": [
       "472"
      ]
     },
     "execution_count": 139,
     "metadata": {},
     "output_type": "execute_result"
    }
   ],
   "source": [
    "import sys\n",
    "result = general_list(50)\n",
    "sys.getsizeof(result)  # byte"
   ]
  },
  {
   "cell_type": "code",
   "execution_count": 140,
   "id": "c6b2a834",
   "metadata": {},
   "outputs": [],
   "source": [
    "def generator_list(value):\n",
    "    result = []\n",
    "    for i in range(value):\n",
    "        yield i\n",
    "\n",
    "# yield 는 호출할 때 데이터를 보내준다."
   ]
  },
  {
   "cell_type": "code",
   "execution_count": 143,
   "id": "bc02cba0",
   "metadata": {},
   "outputs": [
    {
     "name": "stdout",
     "output_type": "stream",
     "text": [
      "<generator object generator_list at 0x7f86e9199970>\n"
     ]
    },
    {
     "data": {
      "text/plain": [
       "112"
      ]
     },
     "execution_count": 143,
     "metadata": {},
     "output_type": "execute_result"
    }
   ],
   "source": [
    "print(generator_list(50))\n",
    "result_2 = generator_list(50)\n",
    "sys.getsizeof(result_2)  # byte\n",
    "# 확실히 데이터의 양이 적다. 그래서 대용량일 경우에는 데이터를 아낄 수 있다."
   ]
  },
  {
   "cell_type": "code",
   "execution_count": 142,
   "id": "b834a1ac",
   "metadata": {
    "collapsed": true
   },
   "outputs": [
    {
     "name": "stdout",
     "output_type": "stream",
     "text": [
      "0\n",
      "1\n",
      "2\n",
      "3\n",
      "4\n",
      "5\n",
      "6\n",
      "7\n",
      "8\n",
      "9\n",
      "10\n",
      "11\n",
      "12\n",
      "13\n",
      "14\n",
      "15\n",
      "16\n",
      "17\n",
      "18\n",
      "19\n",
      "20\n",
      "21\n",
      "22\n",
      "23\n",
      "24\n",
      "25\n",
      "26\n",
      "27\n",
      "28\n",
      "29\n",
      "30\n",
      "31\n",
      "32\n",
      "33\n",
      "34\n",
      "35\n",
      "36\n",
      "37\n",
      "38\n",
      "39\n",
      "40\n",
      "41\n",
      "42\n",
      "43\n",
      "44\n",
      "45\n",
      "46\n",
      "47\n",
      "48\n",
      "49\n"
     ]
    }
   ],
   "source": [
    "# generator는 언제 값을 볼 수 있냐면 for loop을 사용하면 된다.\n",
    "for i in generator_list(50):\n",
    "    print(i)\n",
    "\n",
    "# 값을 메모리에 안 올려 놓고 주소값만 갖고 있다가 for loop에서 값을 보여달라는 요청이 들어오게 되면 그때 yield에서 값을 보내주게 된다."
   ]
  },
  {
   "cell_type": "markdown",
   "id": "cf15e8cd",
   "metadata": {},
   "source": [
    "### generator comprehension\n",
    "- list comprehension과 유사한 형태로 generator 형태의 list 생성\n",
    "- generator expression 이라는 이름으로도 부름\n",
    "- [  ] 대신에 ( )를 사용하여 표현한다."
   ]
  },
  {
   "cell_type": "code",
   "execution_count": 159,
   "id": "9376bc0f",
   "metadata": {},
   "outputs": [
    {
     "name": "stdout",
     "output_type": "stream",
     "text": [
      "<class 'generator'>\n",
      "<generator object <genexpr> at 0x7f86c9691890>\n",
      "[0, 1, 4, 9, 16, 25, 36, 49, 64, 81]\n"
     ]
    }
   ],
   "source": [
    "gen_ex = (n*n for n in range(500))\n",
    "print(type(gen_ex))\n",
    "print(gen_ex)\n",
    "print(list(gen_ex)[:10])\n",
    "for i in gen_ex:\n",
    "    print(i)"
   ]
  },
  {
   "cell_type": "markdown",
   "id": "84dee382",
   "metadata": {},
   "source": [
    "## why generator??\n",
    "\n",
    "- 일반적인 iterator는 generator에 반해 훨신 끈 메모리 용량 사용\n",
    "- list 타입의 데이터를 반환해주는 **함수**는 generator로 만들어라!\\\n",
    "=> 읽기 쉬운 장점, 중간 과정에서 loop이 중단될 수 있을 때\n",
    "- 큰 데이터를 처리할 때는 generator expression을 고려하라!\\\n",
    "=> 데이터가 커도 처리의 어려움이 없음\n",
    "- 파일 데이터를 처리할 때도 generator를 쓰자\n"
   ]
  },
  {
   "cell_type": "code",
   "execution_count": 161,
   "id": "c17c22d7",
   "metadata": {},
   "outputs": [
    {
     "name": "stdout",
     "output_type": "stream",
     "text": [
      "gen_ex size : 112\n",
      "list gen_ex size : 444376\n",
      "list_ex size : 444376\n"
     ]
    }
   ],
   "source": [
    "from sys import getsizeof\n",
    "gen_ex = (n**2 for n in range(50000))\n",
    "print(f'gen_ex size : {getsizeof(gen_ex)}')\n",
    "print(f'list gen_ex size : {getsizeof(list(gen_ex))}')\n",
    "list_ex = [n**2 for n in range(50000)]\n",
    "print(f'list_ex size : {getsizeof(list_ex)}')\n",
    "\n",
    "# generator를 사용하기 전에는 용량이 적기 때문에 메모리 용량에 대한 효율성이 있다."
   ]
  },
  {
   "cell_type": "markdown",
   "id": "9eadb4ff",
   "metadata": {},
   "source": [
    "## function passing arguments\n",
    "- 함수에 입력되는 arguments의 다양한 형태\n",
    "\n",
    "### keyword arguments\n",
    "- 함수에 입력되는 parameter의 변수명을 사용, arguments를 넘김\n",
    "- 순서대로 하지 않을 경우에는 keyword를 사용"
   ]
  },
  {
   "cell_type": "code",
   "execution_count": 162,
   "id": "78ca5ebc",
   "metadata": {},
   "outputs": [
    {
     "name": "stdout",
     "output_type": "stream",
     "text": [
      "hello yjh, i'm phs\n"
     ]
    }
   ],
   "source": [
    "def some_fn(my_name, your_name):\n",
    "    print(f\"hello {your_name}, i'm {my_name}\")\n",
    "\n",
    "some_fn(your_name='yjh', my_name='phs')"
   ]
  },
  {
   "cell_type": "markdown",
   "id": "dc329bed",
   "metadata": {},
   "source": [
    "### default arguments\n",
    "- parameter의 기본값을 사용, 입력하지 않을 경우 기본값 출력"
   ]
  },
  {
   "cell_type": "code",
   "execution_count": 177,
   "id": "d09365a8",
   "metadata": {},
   "outputs": [
    {
     "name": "stdout",
     "output_type": "stream",
     "text": [
      "hello yjh, i'm phs\n",
      "hello XXX, i'm phs\n",
      "hello yyy, i'm phs\n"
     ]
    }
   ],
   "source": [
    "def some_fn(my_name, your_name='XXX'):\n",
    "    print(f\"hello {your_name}, i'm {my_name}\")\n",
    "\n",
    "some_fn(your_name='yjh', my_name='phs')\n",
    "some_fn(my_name='phs')\n",
    "some_fn('phs','yyy')\n",
    "# some_fn(my_name='phs','yyy')  # 이렇게는 에러가 뜬다."
   ]
  },
  {
   "cell_type": "markdown",
   "id": "84368c92",
   "metadata": {},
   "source": [
    "### variable-length asterisk\n",
    "함수의 parameter가 정해지지 않았다? / 다항 방적식 ? / 마트의 물건 계산 함수?!\\\n",
    "\n",
    "***가변인자 using asterisk***\n",
    "- **개수가 정해지지 않은 변수**를 함수의 parameter로 사용하는 법\n",
    "- keyword arguments와 함께, argument 추가가 가능\n",
    "- **Asterisk( \\* )** 기호를 사용하여 함수의 parameter를 표시함\n",
    "- 입력된 값은 **tuple type**으로 사용할 수 있음\n",
    "- 가변인자는 오직 한 개만 맨 마지막 parameter 위치에 사용 가능"
   ]
  },
  {
   "cell_type": "code",
   "execution_count": 168,
   "id": "105b05d6",
   "metadata": {},
   "outputs": [
    {
     "name": "stdout",
     "output_type": "stream",
     "text": [
      "args :  (3, 4, 5)\n",
      "list : [3, 4, 5]\n",
      "type of args : <class 'tuple'>\n"
     ]
    },
    {
     "data": {
      "text/plain": [
       "15"
      ]
     },
     "execution_count": 168,
     "metadata": {},
     "output_type": "execute_result"
    }
   ],
   "source": [
    "def asterisk_test(a,b,*args):\n",
    "    print('args : ',args)\n",
    "    print('list :',list(args))\n",
    "    print('type of args :',type(args))\n",
    "    return a+b+sum(args)\n",
    "\n",
    "asterisk_test(1,2,3,4,5)"
   ]
  },
  {
   "cell_type": "code",
   "execution_count": 170,
   "id": "3c7a737a",
   "metadata": {},
   "outputs": [
    {
     "name": "stdout",
     "output_type": "stream",
     "text": [
      "unpacking\n"
     ]
    },
    {
     "data": {
      "text/plain": [
       "[1, 2, 3]"
      ]
     },
     "execution_count": 170,
     "metadata": {},
     "output_type": "execute_result"
    }
   ],
   "source": [
    "print('unpacking')\n",
    "def as_test(*args):\n",
    "    x,y,z = args\n",
    "    return [x,y,z]\n",
    "\n",
    "as_test(1,2,3)"
   ]
  },
  {
   "cell_type": "markdown",
   "id": "76c8b12a",
   "metadata": {},
   "source": [
    "#### keyword variable-length\n",
    "- parameter 이름을 따로 지정하지 않고 입력하는 방법\n",
    "- **asterisk( \\* ) 두개를 사용**하여 함수의 parameter를 표시함\n",
    "- 입력된 값은 **dict type**으로 사용할 수 있음\n",
    "- 가변인자는 오직 한 개만 기존 가변인자 다음에 사용\n",
    "- argument의 순서는 중요하다!!"
   ]
  },
  {
   "cell_type": "code",
   "execution_count": 172,
   "id": "deb68570",
   "metadata": {},
   "outputs": [
    {
     "name": "stdout",
     "output_type": "stream",
     "text": [
      "<class 'dict'>\n",
      "{'first': 1, 'second': 2, 'third': 3}\n"
     ]
    }
   ],
   "source": [
    "def kwargs_test(**kwargs):\n",
    "    print(type(kwargs))\n",
    "    print(kwargs)\n",
    "    \n",
    "kwargs_test(first=1,second=2,third=3)"
   ]
  },
  {
   "cell_type": "code",
   "execution_count": 182,
   "id": "e54dbcc1",
   "metadata": {},
   "outputs": [],
   "source": [
    "def test(one, two=10,*args,**kwargs):\n",
    "    print(f'one : {one}')\n",
    "    print(f'two : {two}')\n",
    "    print(f'args : {args}')\n",
    "    print(f'sum : {one+two+sum(args)}')\n",
    "    print(kwargs)\n",
    "\n",
    "# test(3,4,5,6,7,8,third=1,fourth=10,fifth=34)\n",
    "# test(3,4,5,6,7,8,third=1,fourth=10,fifth=34, 10)  # 10을 맨 뒤에 작성하면 SyntaxError가 발생 즉, 가변인자의 순서를 지켜줘야 한다.\n",
    "\n",
    "# test(one = 3,tow = 4,5,6,7,8,third=1,fourth=10,fifth=34)\n",
    "# 키워드 형태로 argument를 넣어줬으면 뒤에 있는 5,6,7,8은 못 쓰게 된다 왜냐하면 **kwargs는 맨 뒤에 있기 때문"
   ]
  },
  {
   "cell_type": "markdown",
   "id": "1cf47452",
   "metadata": {},
   "source": [
    "### asterisk\n",
    "- 흔히 알고있는 \\*를 의미함\n",
    "- 단순 곱셈, 제곱연산, 가변인자 활용 등 다양하게 사용된다.\n",
    "- 추가로 **unpacking a container** 가 있다.\\\n",
    "=> tuple, dict 등 자료형에 들어가 있는 값을 unpacking\\\n",
    "=> \\*(1,2,3,4,5) ==> 변수가 1개에서 unpacking이 되어 5개의 변수로 바뀌는 것\\\n",
    "=> keyword unpacking은 \\*를 2개 사용하면 된다. \\*\\*{'d':1,'f':2}\\\n",
    "=> 함수의 입력값, zip 등에 유용하게 사용가능"
   ]
  },
  {
   "cell_type": "code",
   "execution_count": 184,
   "id": "eae94cca",
   "metadata": {},
   "outputs": [],
   "source": [
    "def ast_test(a, *args):\n",
    "    print(f'arg를 그대로 사용 : {a, args}')\n",
    "    print(f'arg를 unpacking : {a, *args}')\n",
    "    print(f'arg의 type : {type(args)}')\n",
    "    print(f'unpacking한 arg의 type : {type(*args)}')\n",
    "    \n",
    "test = (2,3,4,5,6)\n",
    "test_lst = [2,3,4,5,6,7]"
   ]
  },
  {
   "cell_type": "code",
   "execution_count": 186,
   "id": "2e34c359",
   "metadata": {},
   "outputs": [
    {
     "name": "stdout",
     "output_type": "stream",
     "text": [
      "test를 unpacking 하지 않았을 경우\n",
      "\n",
      "arg를 그대로 사용 : (1, ((2, 3, 4, 5, 6),))\n",
      "arg를 unpacking : (1, (2, 3, 4, 5, 6))\n",
      "arg의 type : <class 'tuple'>\n",
      "unpacking한 arg의 type : <class 'tuple'>\n"
     ]
    }
   ],
   "source": [
    "print('test를 unpacking 하지 않았을 경우')\n",
    "print()\n",
    "ast_test(1, test)"
   ]
  },
  {
   "cell_type": "code",
   "execution_count": 187,
   "id": "a71ec5af",
   "metadata": {},
   "outputs": [
    {
     "name": "stdout",
     "output_type": "stream",
     "text": [
      "test를 unpacking 했을 경우 경우\n",
      "\n",
      "arg를 그대로 사용 : (1, (2, 3, 4, 5, 6))\n",
      "arg를 unpacking : (1, 2, 3, 4, 5, 6)\n",
      "arg의 type : <class 'tuple'>\n"
     ]
    },
    {
     "ename": "TypeError",
     "evalue": "type() takes 1 or 3 arguments",
     "output_type": "error",
     "traceback": [
      "\u001b[0;31m---------------------------------------------------------------------------\u001b[0m",
      "\u001b[0;31mTypeError\u001b[0m                                 Traceback (most recent call last)",
      "\u001b[0;32m/var/folders/28/zb5jqy4s6kn2xld_bfr5mpdw0000gn/T/ipykernel_1296/4038501203.py\u001b[0m in \u001b[0;36m<module>\u001b[0;34m\u001b[0m\n\u001b[1;32m      1\u001b[0m \u001b[0mprint\u001b[0m\u001b[0;34m(\u001b[0m\u001b[0;34m'test를 unpacking 했을 경우 경우'\u001b[0m\u001b[0;34m)\u001b[0m\u001b[0;34m\u001b[0m\u001b[0;34m\u001b[0m\u001b[0m\n\u001b[1;32m      2\u001b[0m \u001b[0mprint\u001b[0m\u001b[0;34m(\u001b[0m\u001b[0;34m)\u001b[0m\u001b[0;34m\u001b[0m\u001b[0;34m\u001b[0m\u001b[0m\n\u001b[0;32m----> 3\u001b[0;31m \u001b[0mast_test\u001b[0m\u001b[0;34m(\u001b[0m\u001b[0;36m1\u001b[0m\u001b[0;34m,\u001b[0m \u001b[0;34m*\u001b[0m\u001b[0mtest\u001b[0m\u001b[0;34m)\u001b[0m\u001b[0;34m\u001b[0m\u001b[0;34m\u001b[0m\u001b[0m\n\u001b[0m",
      "\u001b[0;32m/var/folders/28/zb5jqy4s6kn2xld_bfr5mpdw0000gn/T/ipykernel_1296/803963793.py\u001b[0m in \u001b[0;36mast_test\u001b[0;34m(a, *args)\u001b[0m\n\u001b[1;32m      3\u001b[0m     \u001b[0mprint\u001b[0m\u001b[0;34m(\u001b[0m\u001b[0;34mf'arg를 unpacking : {a, *args}'\u001b[0m\u001b[0;34m)\u001b[0m\u001b[0;34m\u001b[0m\u001b[0;34m\u001b[0m\u001b[0m\n\u001b[1;32m      4\u001b[0m     \u001b[0mprint\u001b[0m\u001b[0;34m(\u001b[0m\u001b[0;34mf'arg의 type : {type(args)}'\u001b[0m\u001b[0;34m)\u001b[0m\u001b[0;34m\u001b[0m\u001b[0;34m\u001b[0m\u001b[0m\n\u001b[0;32m----> 5\u001b[0;31m     \u001b[0mprint\u001b[0m\u001b[0;34m(\u001b[0m\u001b[0;34mf'unpacking한 arg의 type : {type(*args)}'\u001b[0m\u001b[0;34m)\u001b[0m\u001b[0;34m\u001b[0m\u001b[0;34m\u001b[0m\u001b[0m\n\u001b[0m\u001b[1;32m      6\u001b[0m \u001b[0;34m\u001b[0m\u001b[0m\n\u001b[1;32m      7\u001b[0m \u001b[0mtest\u001b[0m \u001b[0;34m=\u001b[0m \u001b[0;34m(\u001b[0m\u001b[0;36m2\u001b[0m\u001b[0;34m,\u001b[0m\u001b[0;36m3\u001b[0m\u001b[0;34m,\u001b[0m\u001b[0;36m4\u001b[0m\u001b[0;34m,\u001b[0m\u001b[0;36m5\u001b[0m\u001b[0;34m,\u001b[0m\u001b[0;36m6\u001b[0m\u001b[0;34m)\u001b[0m\u001b[0;34m\u001b[0m\u001b[0;34m\u001b[0m\u001b[0m\n",
      "\u001b[0;31mTypeError\u001b[0m: type() takes 1 or 3 arguments"
     ]
    }
   ],
   "source": [
    "print('test를 unpacking 했을 경우')\n",
    "print()\n",
    "ast_test(1, *test)"
   ]
  },
  {
   "cell_type": "code",
   "execution_count": 188,
   "id": "9f508421",
   "metadata": {},
   "outputs": [
    {
     "name": "stdout",
     "output_type": "stream",
     "text": [
      "test_list를 unpacking 하지 않았을 경우\n",
      "\n",
      "arg를 그대로 사용 : (1, ([2, 3, 4, 5, 6, 7],))\n",
      "arg를 unpacking : (1, [2, 3, 4, 5, 6, 7])\n",
      "arg의 type : <class 'tuple'>\n",
      "unpacking한 arg의 type : <class 'list'>\n"
     ]
    }
   ],
   "source": [
    "print('test_list를 unpacking 하지 않았을 경우')\n",
    "print()\n",
    "ast_test(1, test_lst)"
   ]
  },
  {
   "cell_type": "code",
   "execution_count": 189,
   "id": "2a2defb1",
   "metadata": {},
   "outputs": [
    {
     "name": "stdout",
     "output_type": "stream",
     "text": [
      "test_list를 unpacking 했을 경우\n",
      "\n",
      "arg를 그대로 사용 : (1, (2, 3, 4, 5, 6, 7))\n",
      "arg를 unpacking : (1, 2, 3, 4, 5, 6, 7)\n",
      "arg의 type : <class 'tuple'>\n"
     ]
    },
    {
     "ename": "TypeError",
     "evalue": "type() takes 1 or 3 arguments",
     "output_type": "error",
     "traceback": [
      "\u001b[0;31m---------------------------------------------------------------------------\u001b[0m",
      "\u001b[0;31mTypeError\u001b[0m                                 Traceback (most recent call last)",
      "\u001b[0;32m/var/folders/28/zb5jqy4s6kn2xld_bfr5mpdw0000gn/T/ipykernel_1296/3209932944.py\u001b[0m in \u001b[0;36m<module>\u001b[0;34m\u001b[0m\n\u001b[1;32m      1\u001b[0m \u001b[0mprint\u001b[0m\u001b[0;34m(\u001b[0m\u001b[0;34m'test_list를 unpacking 했을 경우'\u001b[0m\u001b[0;34m)\u001b[0m\u001b[0;34m\u001b[0m\u001b[0;34m\u001b[0m\u001b[0m\n\u001b[1;32m      2\u001b[0m \u001b[0mprint\u001b[0m\u001b[0;34m(\u001b[0m\u001b[0;34m)\u001b[0m\u001b[0;34m\u001b[0m\u001b[0;34m\u001b[0m\u001b[0m\n\u001b[0;32m----> 3\u001b[0;31m \u001b[0mast_test\u001b[0m\u001b[0;34m(\u001b[0m\u001b[0;36m1\u001b[0m\u001b[0;34m,\u001b[0m \u001b[0;34m*\u001b[0m\u001b[0mtest_lst\u001b[0m\u001b[0;34m)\u001b[0m\u001b[0;34m\u001b[0m\u001b[0;34m\u001b[0m\u001b[0m\n\u001b[0m",
      "\u001b[0;32m/var/folders/28/zb5jqy4s6kn2xld_bfr5mpdw0000gn/T/ipykernel_1296/803963793.py\u001b[0m in \u001b[0;36mast_test\u001b[0;34m(a, *args)\u001b[0m\n\u001b[1;32m      3\u001b[0m     \u001b[0mprint\u001b[0m\u001b[0;34m(\u001b[0m\u001b[0;34mf'arg를 unpacking : {a, *args}'\u001b[0m\u001b[0;34m)\u001b[0m\u001b[0;34m\u001b[0m\u001b[0;34m\u001b[0m\u001b[0m\n\u001b[1;32m      4\u001b[0m     \u001b[0mprint\u001b[0m\u001b[0;34m(\u001b[0m\u001b[0;34mf'arg의 type : {type(args)}'\u001b[0m\u001b[0;34m)\u001b[0m\u001b[0;34m\u001b[0m\u001b[0;34m\u001b[0m\u001b[0m\n\u001b[0;32m----> 5\u001b[0;31m     \u001b[0mprint\u001b[0m\u001b[0;34m(\u001b[0m\u001b[0;34mf'unpacking한 arg의 type : {type(*args)}'\u001b[0m\u001b[0;34m)\u001b[0m\u001b[0;34m\u001b[0m\u001b[0;34m\u001b[0m\u001b[0m\n\u001b[0m\u001b[1;32m      6\u001b[0m \u001b[0;34m\u001b[0m\u001b[0m\n\u001b[1;32m      7\u001b[0m \u001b[0mtest\u001b[0m \u001b[0;34m=\u001b[0m \u001b[0;34m(\u001b[0m\u001b[0;36m2\u001b[0m\u001b[0;34m,\u001b[0m\u001b[0;36m3\u001b[0m\u001b[0;34m,\u001b[0m\u001b[0;36m4\u001b[0m\u001b[0;34m,\u001b[0m\u001b[0;36m5\u001b[0m\u001b[0;34m,\u001b[0m\u001b[0;36m6\u001b[0m\u001b[0;34m)\u001b[0m\u001b[0;34m\u001b[0m\u001b[0;34m\u001b[0m\u001b[0m\n",
      "\u001b[0;31mTypeError\u001b[0m: type() takes 1 or 3 arguments"
     ]
    }
   ],
   "source": [
    "print('test_list를 unpacking 했을 경우')\n",
    "print()\n",
    "ast_test(1, *test_lst)"
   ]
  },
  {
   "cell_type": "code",
   "execution_count": 195,
   "id": "04a88def",
   "metadata": {},
   "outputs": [
    {
     "name": "stdout",
     "output_type": "stream",
     "text": [
      "10 3 7 1\n"
     ]
    }
   ],
   "source": [
    "def kwargs_test(a,b,c,d):\n",
    "    print(a,b,c,d)\n",
    "\n",
    "data = {'b':3,'c':7,'d':1}\n",
    "\n",
    "kwargs_test(10, **data)"
   ]
  },
  {
   "cell_type": "code",
   "execution_count": 196,
   "id": "44e982d0",
   "metadata": {},
   "outputs": [
    {
     "name": "stdout",
     "output_type": "stream",
     "text": [
      "with zip\n",
      "([1, 2],)\n",
      "([3, 4],)\n",
      "([5, 6],)\n",
      "([7, 8],)\n",
      "([9, 10],)\n",
      "([11, 12],)\n",
      "([13, 14],)\n"
     ]
    }
   ],
   "source": [
    "print('with zip')\n",
    "print('not unpacking')\n",
    "ex = ([1,2],[3,4],[5,6],[7,8],[9,10],[11,12],[13,14])\n",
    "for value in zip(ex):\n",
    "    print(value)\n",
    "    \n",
    "# ex가 지금 하나의 변수로 되어 있기 때문에 아래와 같은 결과값이 나오게 된다."
   ]
  },
  {
   "cell_type": "code",
   "execution_count": 198,
   "id": "0bb0e3ea",
   "metadata": {},
   "outputs": [
    {
     "name": "stdout",
     "output_type": "stream",
     "text": [
      "unpacking\n",
      "(1, 3, 5, 7, 9, 11, 13)\n",
      "49\n",
      "(2, 4, 6, 8, 10, 12, 14)\n",
      "56\n"
     ]
    }
   ],
   "source": [
    "print('unpacking')\n",
    "ex = ([1,2],[3,4],[5,6],[7,8],[9,10],[11,12],[13,14])\n",
    "for value in zip(*ex):\n",
    "    print(value)\n",
    "    print(sum(value))\n",
    "\n",
    "# ex를 unpacking 하여 튜플이 사라지고 여러 변수값으로 바뀌게 된 것."
   ]
  },
  {
   "cell_type": "code",
   "execution_count": null,
   "id": "10672957",
   "metadata": {},
   "outputs": [],
   "source": []
  }
 ],
 "metadata": {
  "kernelspec": {
   "display_name": "Python 3 (ipykernel)",
   "language": "python",
   "name": "python3"
  },
  "language_info": {
   "codemirror_mode": {
    "name": "ipython",
    "version": 3
   },
   "file_extension": ".py",
   "mimetype": "text/x-python",
   "name": "python",
   "nbconvert_exporter": "python",
   "pygments_lexer": "ipython3",
   "version": "3.9.7"
  }
 },
 "nbformat": 4,
 "nbformat_minor": 5
}
