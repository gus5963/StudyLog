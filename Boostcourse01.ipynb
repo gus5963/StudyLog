{
 "cells": [
  {
   "cell_type": "code",
   "execution_count": 9,
   "id": "d1ae3275",
   "metadata": {},
   "outputs": [],
   "source": [
    "import time"
   ]
  },
  {
   "cell_type": "markdown",
   "id": "e7bcc341",
   "metadata": {},
   "source": [
    "인공지능 강의 : 인공지능(AI)기초 다지기\n",
    "# Basic computer class for newbies"
   ]
  },
  {
   "cell_type": "markdown",
   "id": "0169104a",
   "metadata": {},
   "source": [
    "## File System\n",
    "* os에서 파일을 저장하는 **트리구조** 저장체계\n",
    "\n",
    "### 파일의 기본 체계 - 파일 / 디렉토리\n",
    "#### 디렉토리\n",
    "- 폴더 또는 디렉토리로 불림\n",
    "- 파일과 다른 디렉토리를 포함할 수 있다.\n",
    "\n",
    "#### 파일\n",
    "- 컴퓨터에서 정보를 저장하는 논리적 단위(wikipedia)\n",
    "- 파일은 파일명과 확장자로 식별됨(예 : hello.py  <= hello: 파일명 / py: 확장자)\n",
    "- 실행, 쓰기, 읽기 등을 할 수 있음\n",
    "\n",
    "### 절대 경로와 상대 경로\n",
    "#### 경로\n",
    "- 컴퓨터 파일의 고유한 위치, 트리구조상 노드의 연결\n",
    "\n",
    "#### 절대 경로\n",
    "- 루트 디렉토리부터 파일위치까지의 경로  \n",
    "ex) C:\\user\\docs\\test.txt\n",
    "\n",
    "#### 상대 경로\n",
    "- 현재 있는 디렉토리부터 타깃 파일까지의 경로  \n",
    "ex) ../../newfile.txt  \n",
    "\n",
    "### 터미널\n",
    "* 마우스가 아닌 키보드로 명령을 입력 프로그램 실행 **C**ommand **L**ine **I**nterface  \n",
    "\n",
    "#### Command Line Interface\n",
    "* Graphic User Interface(GUI)와 달리 Text를 사용하여 컴퓨터에 명령을 입력하는 인터페이스 체계\n",
    "* Windows os : CMD window, Windows Terminal\n",
    "* Mac, Linux : Terminal\n",
    "* Console = Terminal = CMD창\n",
    "\n",
    "#### 기본 명령어\n",
    "* 각 터미널에서는 프로그램을 작동하는 shell이 존재 -> shell마다 다른 명령어를 사용\n",
    "* cd(change directory) / mkdir (make directory) / ls (list) / cp A B (A의 위치를 B에 복사) / rm (remove)"
   ]
  },
  {
   "cell_type": "markdown",
   "id": "6c93e426",
   "metadata": {},
   "source": [
    "# Python Overview\n",
    "\n",
    "## 플랫폼 독립적\n",
    "* 플랫폼 = OS  \n",
    "=> 운영체제 상관없이 돌아가는 언어  \n",
    "* 독립적인 = 관계없는, 상관없는  \n",
    "=> OS에 상관없이 한번 프로그램을 작성하면 사용가능  \n",
    "* 인터프리터 = 통역기를 사용하는 언어  \n",
    "=> 소스코드를 바로 실행할 수 있게 지원하는 프로그램 실행 방법  \n",
    "=> 파이썬의 문법으로 만들어진 코드를 어느 특정 운영체제에 돌아가게 하려면 인터프리터라는 프로그램을 돌려야 한다.\n",
    "\n",
    "## 인터프리터 언어\n",
    "* 작동방식 : 별도의 번역과정 없이 소스코드를 실행시점에 해석하여 컴퓨터가 처리할 수 있도록 함\n",
    "* 장단점 : 간단히 작성, 메모리가 적게 필요, 실행 속도가 느림\n",
    "* 주요 언어 : 파이썬, 스칼라\n",
    "* 최근 언어는 대부분 인터프리터 언어\n",
    "\n",
    "## 객체지향\n",
    "* <u>실행 순서가 아닌 단위 모듈(객체) 중심으로 프로그램을 작성</u>  \n",
    "=> 하나의 객체는 어떤 목적을 달성하기 위한 행동(method)과 속성(attribute)을 갖고 있다.\n",
    "\n",
    "\n",
    "## 동적 타이핑 언어\n",
    "* 프로그램이 <u>실행하는 시점에 프로그램</u>이 사용해야할 <u>데이터에 대한 타입을 결정</u>함\n"
   ]
  },
  {
   "cell_type": "markdown",
   "id": "827915a1",
   "metadata": {},
   "source": [
    "# 파이썬 기초 문법\n",
    "## Variable\n",
    "* 가장 기초적인 프로그래밍 문법 개념\n",
    "* 데이터를 저장하기 위한 메모리 공간의 프로그래밍상 이름  \n",
    "i = 'PHS' 라는 의미는\n",
    "i에 PHS를 넣어라. 정확히는 i 라는 **<u>변수</u>**에 \"PHS\"라는 **<u>값</u>**을 넣으라는 의미이다.\n",
    "\n",
    "### *그렇다면 변수는 어디에 저장이 될까?*  \n",
    "프로그래밍에서는 변수는 **<u>값을 저장하는 장소</u>**, 변수는 **<u>메모리 주소</u>**를 갖고있고 변수에 들어가는 **<u>값</u>**은 **<u>메모리 주소</u>**에 할당됨\n",
    "* **a=8의 의미는 파이썬이 os에 a라는 공간을 메모리에 잡아달라 요청을 했고 그 a라는 공간이 메모리에 저장되어 있는데 거기에 8을 저장했다 라고 이해하면 된다.**\n",
    "\n",
    "### 변수 이름 작명법\n",
    "* 알파벳, 숫자, 언더스코어(_)로 선언이 가능하다.  \n",
    "* 변수명은 의미있는 단어로 표기하는 것이 좋다.  \n",
    "* 대소문자가 구분\n",
    "* 예약어는 쓰지 않는다.\n",
    "\n",
    "## Basic Operation(간단한 연산)\n",
    "### 기본 자료형(primitive data types)\n",
    "* data type\n",
    "    * 수치자료형\n",
    "        * 정수형(integer)\n",
    "        * 실수형(float)\n",
    "    * 문자형(string)\n",
    "    * 논리/불린 자료형(boolean)\\\n",
    "    => <u>***data type 마다 메모리를 차지하는 공간의 크기가 다르다.***</u>\\\n",
    "    integer(32bit), float(64bit) 등 정해져 있다.\n",
    "    * Dynamic Typing(동적 타이핑 언어)\n",
    "        * 코드 실행시점에 데이터의 type을 결정하는 방법\n",
    "\n",
    "### 연산자와 피연산자\n",
    "* 연산자 +,-,*,/,**,%,//\n",
    "* 피연산자는 연산자에 의해 계산되는 숫자들\n",
    "* 문자간에도 + 연산이 가능 => concatenate  ex) \"a\"+\"b\"\n",
    "* 증가 또는 감소 연산\n",
    "    * a += 1\n",
    "    * b -= 1\n",
    "* 데이터 형 변환 : 정수 <-> 실수\n",
    "    * float( 10 ) => 10.0 / int(3.14) => 3\n",
    "\n",
    "## List\n",
    "* 시퀀스 자료형, 여러 데이터들의 집합\n",
    "* int, float 같은 다양한 데이터 타입 포함\n",
    "\n",
    "### list 특징\n",
    "#### 1. indexting\n",
    "* list에 있는 값들을 주소(offset)를 가짐 => 주소를 사용해 할당된 값 호출\n",
    "\n",
    "#### 2. slicing\n",
    "* list의 값들을 잘라서 쓰는 것이 슬라이싱\n",
    "* list의 주소값을 기반으로 부분 값을 반환\\\n",
    "=> lists[ begin index : end index : step ]\n",
    "\n",
    "#### 3. 리스트 연산\n",
    "* concatenate가 가능하다.\n",
    "* is_in\n",
    "* 연산 함수들\n",
    "\n",
    "#### 4. 추가 및 삭제\n",
    "* list의 index 번지를 지정해줘서 추가 또는 삭제가 가능하다.\n",
    "* append, extend, insert, remove, del 등 활용 가능\\\n",
    "=> append, extend와 insert의 차이를 알아야 한다\n",
    "    * append는 있는 값 그대로 맨 뒤에 추가한다. list에 list추가시 list가 들간다.\n",
    "    * extend는 append와 다르게 list에 list 추가시 그 값만 맨 뒤에 추가가 된다.\n",
    "    * insert 는 2개의 인자를 갖는다. insert(index, 추가할 값)\n",
    "* 다양한 Data Type이 하나의 list에 들어갈 수 있다. list내 list를 넣을 수 있다.\\\n",
    "=> a = [ ['a','b',12, 3.16 ],'c','d' ]\n",
    "\n",
    "#### 5. 메모리 저장 방식\n",
    "* \" = \"의 의미는 같다가 아닌 메모리 주소에 해당 값을 할당(연결)한다는 의미"
   ]
  },
  {
   "cell_type": "code",
   "execution_count": 34,
   "id": "0ec39ad2",
   "metadata": {},
   "outputs": [],
   "source": [
    "a = [5, 4, 3, 2, 1]\n",
    "b = [1, 2, 3, 4, 5]\n",
    "# a 라는 공간과 b라는 공간이 각각 생성되어 값이 저장된다."
   ]
  },
  {
   "cell_type": "code",
   "execution_count": 35,
   "id": "9eafd625",
   "metadata": {},
   "outputs": [],
   "source": [
    "# 이전까지는 a와 b가 각각의 공간을 사용했는데\n",
    "b = a\n",
    "# 위의 공식을 선언 후 b는 a와 같은 메모리 공간을 사용하기 시작\n",
    "# 그래서 a의 데이터 값이 변하게 되면 b도 같이 변하게 된다."
   ]
  },
  {
   "cell_type": "code",
   "execution_count": 36,
   "id": "3a83521b",
   "metadata": {},
   "outputs": [
    {
     "data": {
      "text/plain": [
       "[5, 4, 3, 2, 1]"
      ]
     },
     "execution_count": 36,
     "metadata": {},
     "output_type": "execute_result"
    }
   ],
   "source": [
    "a"
   ]
  },
  {
   "cell_type": "code",
   "execution_count": 37,
   "id": "beff66cd",
   "metadata": {},
   "outputs": [
    {
     "data": {
      "text/plain": [
       "[5, 4, 3, 2, 1]"
      ]
     },
     "execution_count": 37,
     "metadata": {},
     "output_type": "execute_result"
    }
   ],
   "source": [
    "b"
   ]
  },
  {
   "cell_type": "code",
   "execution_count": 39,
   "id": "053eb673",
   "metadata": {},
   "outputs": [
    {
     "data": {
      "text/plain": [
       "[1, 2, 3, 4, 5]"
      ]
     },
     "execution_count": 39,
     "metadata": {},
     "output_type": "execute_result"
    }
   ],
   "source": [
    "a.sort()\n",
    "a"
   ]
  },
  {
   "cell_type": "code",
   "execution_count": 40,
   "id": "86ec8a91",
   "metadata": {},
   "outputs": [
    {
     "data": {
      "text/plain": [
       "[1, 2, 3, 4, 5]"
      ]
     },
     "execution_count": 40,
     "metadata": {},
     "output_type": "execute_result"
    }
   ],
   "source": [
    "b\n",
    "# b도 같이 변하는 것을 볼 수 있다.\n",
    "# 이전까지는 그냥 값이 동일하다로만 알고 있었는데 이후 메모리 공간을 공유한다로 생각"
   ]
  },
  {
   "cell_type": "code",
   "execution_count": 41,
   "id": "dfc54f40",
   "metadata": {},
   "outputs": [
    {
     "data": {
      "text/plain": [
       "[1, 2, 3, 100, 5]"
      ]
     },
     "execution_count": 41,
     "metadata": {},
     "output_type": "execute_result"
    }
   ],
   "source": [
    "a[3] = 100\n",
    "a"
   ]
  },
  {
   "cell_type": "code",
   "execution_count": 42,
   "id": "c4d0085b",
   "metadata": {
    "scrolled": true
   },
   "outputs": [
    {
     "data": {
      "text/plain": [
       "[1, 2, 3, 100, 5]"
      ]
     },
     "execution_count": 42,
     "metadata": {},
     "output_type": "execute_result"
    }
   ],
   "source": [
    "b"
   ]
  },
  {
   "cell_type": "code",
   "execution_count": 46,
   "id": "9339e79b",
   "metadata": {},
   "outputs": [],
   "source": [
    "# 그래서 값을 다르게 하려면 데이터에 입력될 값을 재지정 해줘야 한다.\n",
    "b = [5,4,3,2,1]"
   ]
  },
  {
   "cell_type": "code",
   "execution_count": 45,
   "id": "3d14f7ba",
   "metadata": {},
   "outputs": [
    {
     "data": {
      "text/plain": [
       "[1, 2, 3, 100, 5]"
      ]
     },
     "execution_count": 45,
     "metadata": {},
     "output_type": "execute_result"
    }
   ],
   "source": [
    "a"
   ]
  },
  {
   "cell_type": "code",
   "execution_count": 47,
   "id": "1e831539",
   "metadata": {},
   "outputs": [
    {
     "data": {
      "text/plain": [
       "[5, 4, 3, 2, 1]"
      ]
     },
     "execution_count": 47,
     "metadata": {},
     "output_type": "execute_result"
    }
   ],
   "source": [
    "b"
   ]
  },
  {
   "cell_type": "markdown",
   "id": "4e9eece6",
   "metadata": {},
   "source": [
    "* 만일 값만 동일하게 하고 메모리 공간은 다르게 사용하고 싶다면?"
   ]
  },
  {
   "cell_type": "code",
   "execution_count": 48,
   "id": "8e559ca8",
   "metadata": {},
   "outputs": [
    {
     "data": {
      "text/plain": [
       "[1, 2, 3, 100, 5]"
      ]
     },
     "execution_count": 48,
     "metadata": {},
     "output_type": "execute_result"
    }
   ],
   "source": [
    "# a의 값들을 갖고 오게 해야한다.\n",
    "a"
   ]
  },
  {
   "cell_type": "code",
   "execution_count": 49,
   "id": "d03fd9ac",
   "metadata": {},
   "outputs": [
    {
     "data": {
      "text/plain": [
       "[5, 4, 3, 2, 1]"
      ]
     },
     "execution_count": 49,
     "metadata": {},
     "output_type": "execute_result"
    }
   ],
   "source": [
    "b"
   ]
  },
  {
   "cell_type": "code",
   "execution_count": 61,
   "id": "5c9ad35f",
   "metadata": {},
   "outputs": [],
   "source": [
    "b = a[:]\n",
    "# [:]를 사용하게 되면 a의 값을 복사하는 식이 된다."
   ]
  },
  {
   "cell_type": "code",
   "execution_count": 51,
   "id": "994c6a38",
   "metadata": {},
   "outputs": [
    {
     "data": {
      "text/plain": [
       "[1, 2, 3, 100, 5]"
      ]
     },
     "execution_count": 51,
     "metadata": {},
     "output_type": "execute_result"
    }
   ],
   "source": [
    "a"
   ]
  },
  {
   "cell_type": "code",
   "execution_count": 52,
   "id": "1abacc4e",
   "metadata": {},
   "outputs": [
    {
     "data": {
      "text/plain": [
       "[1, 2, 3, 100, 5]"
      ]
     },
     "execution_count": 52,
     "metadata": {},
     "output_type": "execute_result"
    }
   ],
   "source": [
    "b"
   ]
  },
  {
   "cell_type": "code",
   "execution_count": 57,
   "id": "ee8c9d30",
   "metadata": {},
   "outputs": [],
   "source": [
    "a.sort(reverse=True)"
   ]
  },
  {
   "cell_type": "code",
   "execution_count": 58,
   "id": "81e90b56",
   "metadata": {},
   "outputs": [
    {
     "data": {
      "text/plain": [
       "[100, 5, 3, 2, 1]"
      ]
     },
     "execution_count": 58,
     "metadata": {},
     "output_type": "execute_result"
    }
   ],
   "source": [
    "a"
   ]
  },
  {
   "cell_type": "code",
   "execution_count": 60,
   "id": "fe2d848c",
   "metadata": {},
   "outputs": [
    {
     "data": {
      "text/plain": [
       "[1, 2, 3, 100, 5]"
      ]
     },
     "execution_count": 60,
     "metadata": {},
     "output_type": "execute_result"
    }
   ],
   "source": [
    "b\n",
    "# 이전에는 동일한 값을 갖고 오지만 지금은 각자의 메모리 공간을 사용하기에 다르게 나옴"
   ]
  },
  {
   "cell_type": "markdown",
   "id": "b3eb0032",
   "metadata": {},
   "source": [
    "#### 6. 패킹과 언패킹\n",
    "* 패킹 : 한 변수에 여러 개의 데이터를 넣는것"
   ]
  },
  {
   "cell_type": "code",
   "execution_count": 62,
   "id": "c513644f",
   "metadata": {},
   "outputs": [],
   "source": [
    "t = [1,2,3]\n",
    "# 1, 2, 3을 변수 t에 패킹"
   ]
  },
  {
   "cell_type": "markdown",
   "id": "4ce15c39",
   "metadata": {},
   "source": [
    "* 언패킹 : 한 변수의 데이터를 각각의 변수로 변환"
   ]
  },
  {
   "cell_type": "code",
   "execution_count": 63,
   "id": "ccfa7d85",
   "metadata": {},
   "outputs": [],
   "source": [
    "a, b, c = t\n",
    "# t에 있는 값 1, 2, 3을 변수 a, b, c에 언패킹"
   ]
  },
  {
   "cell_type": "markdown",
   "id": "83d4f464",
   "metadata": {},
   "source": [
    "**언 패킹을 하려면 변수의 개수는 패킹한 변수에 들어있는 요소(element)의 개수와 동일해야 한다.**"
   ]
  },
  {
   "cell_type": "code",
   "execution_count": 64,
   "id": "e9aa2818",
   "metadata": {},
   "outputs": [
    {
     "name": "stdout",
     "output_type": "stream",
     "text": [
      "[1, 2, 3] 1 2 3\n"
     ]
    }
   ],
   "source": [
    "print(t, a, b, c)"
   ]
  },
  {
   "cell_type": "code",
   "execution_count": 65,
   "id": "6ed3826d",
   "metadata": {},
   "outputs": [
    {
     "data": {
      "text/plain": [
       "1"
      ]
     },
     "execution_count": 65,
     "metadata": {},
     "output_type": "execute_result"
    }
   ],
   "source": [
    "a"
   ]
  },
  {
   "cell_type": "code",
   "execution_count": 66,
   "id": "f7009406",
   "metadata": {},
   "outputs": [
    {
     "data": {
      "text/plain": [
       "2"
      ]
     },
     "execution_count": 66,
     "metadata": {},
     "output_type": "execute_result"
    }
   ],
   "source": [
    "b"
   ]
  },
  {
   "cell_type": "code",
   "execution_count": 67,
   "id": "ac242b88",
   "metadata": {},
   "outputs": [
    {
     "data": {
      "text/plain": [
       "3"
      ]
     },
     "execution_count": 67,
     "metadata": {},
     "output_type": "execute_result"
    }
   ],
   "source": [
    "c"
   ]
  },
  {
   "cell_type": "markdown",
   "id": "6cdde2a0",
   "metadata": {},
   "source": [
    "#### 7. 이차원 리스트\n",
    "* 리스트 안에 리스트를 만들어 행렬(Matrix)생성"
   ]
  },
  {
   "cell_type": "code",
   "execution_count": 79,
   "id": "69aa0af9",
   "metadata": {},
   "outputs": [],
   "source": [
    "kor_score = [12,23,34,45,56]\n",
    "math_score = [23,34,45,56,67]\n",
    "eng_score = [34,45,56,67,78]\n",
    "midterm_score = [kor_score,math_score, eng_score]"
   ]
  },
  {
   "cell_type": "code",
   "execution_count": 80,
   "id": "1db565af",
   "metadata": {},
   "outputs": [
    {
     "data": {
      "text/plain": [
       "[[12, 23, 34, 45, 56], [23, 34, 45, 56, 67], [34, 45, 56, 67, 78]]"
      ]
     },
     "execution_count": 80,
     "metadata": {},
     "output_type": "execute_result"
    }
   ],
   "source": [
    "midterm_score"
   ]
  },
  {
   "cell_type": "markdown",
   "id": "b2abe6cf",
   "metadata": {},
   "source": [
    "midterm_score는 2 dimension(2차원 리스트)라고 한다."
   ]
  },
  {
   "cell_type": "code",
   "execution_count": 70,
   "id": "7b26174e",
   "metadata": {},
   "outputs": [
    {
     "name": "stdout",
     "output_type": "stream",
     "text": [
      "23\n"
     ]
    }
   ],
   "source": [
    "print(midterm_score[0][1])"
   ]
  },
  {
   "cell_type": "markdown",
   "id": "b54e8a9c",
   "metadata": {},
   "source": [
    "* 이차원 리스트를 복사하는 방법?\\\n",
    "=> 아까와 같은 방법으로 하면 되지 않을까 ?"
   ]
  },
  {
   "cell_type": "code",
   "execution_count": 71,
   "id": "5f2d8dd5",
   "metadata": {},
   "outputs": [
    {
     "data": {
      "text/plain": [
       "[[12, 23, 34, 45, 56], [23, 34, 45, 56, 67], [34, 45, 56, 67, 78]]"
      ]
     },
     "execution_count": 71,
     "metadata": {},
     "output_type": "execute_result"
    }
   ],
   "source": [
    "midterm_score"
   ]
  },
  {
   "cell_type": "code",
   "execution_count": 72,
   "id": "c24d6c6e",
   "metadata": {},
   "outputs": [],
   "source": [
    "midterm_copy = midterm_score[:]"
   ]
  },
  {
   "cell_type": "code",
   "execution_count": 73,
   "id": "31989d65",
   "metadata": {},
   "outputs": [
    {
     "data": {
      "text/plain": [
       "[[12, 23, 34, 45, 56], [23, 34, 45, 56, 67], [34, 45, 56, 67, 78]]"
      ]
     },
     "execution_count": 73,
     "metadata": {},
     "output_type": "execute_result"
    }
   ],
   "source": [
    "midterm_copy\n",
    "# 이렇게만 보면 복사하는 것과 같다."
   ]
  },
  {
   "cell_type": "code",
   "execution_count": 74,
   "id": "e4e26ef5",
   "metadata": {},
   "outputs": [],
   "source": [
    "midterm_score[0][2] = 100\n",
    "# midterm_score의 kor_score의 34를 100으로 바꿨을 떄"
   ]
  },
  {
   "cell_type": "code",
   "execution_count": 75,
   "id": "9c3fe51f",
   "metadata": {},
   "outputs": [
    {
     "data": {
      "text/plain": [
       "[[12, 23, 100, 45, 56], [23, 34, 45, 56, 67], [34, 45, 56, 67, 78]]"
      ]
     },
     "execution_count": 75,
     "metadata": {},
     "output_type": "execute_result"
    }
   ],
   "source": [
    "midterm_score"
   ]
  },
  {
   "cell_type": "code",
   "execution_count": 76,
   "id": "1378a6ea",
   "metadata": {},
   "outputs": [
    {
     "data": {
      "text/plain": [
       "[[12, 23, 100, 45, 56], [23, 34, 45, 56, 67], [34, 45, 56, 67, 78]]"
      ]
     },
     "execution_count": 76,
     "metadata": {},
     "output_type": "execute_result"
    }
   ],
   "source": [
    "# 그렇다면 midterm_copy?\n",
    "midterm_copy\n",
    "\n",
    "# 값이 바뀌어 있다."
   ]
  },
  {
   "cell_type": "markdown",
   "id": "4915395a",
   "metadata": {},
   "source": [
    "**복사가 일어나는 [ : ] 방식이 one dimension은 가능한데 two dimension에서는 불가능하다.**\n",
    "\n",
    "### 복사하는 방법은 copy를 import 하면 된다."
   ]
  },
  {
   "cell_type": "code",
   "execution_count": 78,
   "id": "50143720",
   "metadata": {},
   "outputs": [],
   "source": [
    "import copy"
   ]
  },
  {
   "cell_type": "code",
   "execution_count": 84,
   "id": "ba68c2c3",
   "metadata": {},
   "outputs": [
    {
     "data": {
      "text/plain": [
       "[[12, 23, 34, 45, 56], [23, 34, 45, 56, 67], [34, 45, 56, 67, 78]]"
      ]
     },
     "execution_count": 84,
     "metadata": {},
     "output_type": "execute_result"
    }
   ],
   "source": [
    "kor_score = [12,23,34,45,56]\n",
    "math_score = [23,34,45,56,67]\n",
    "eng_score = [34,45,56,67,78]\n",
    "midterm_score = [kor_score,math_score, eng_score]\n",
    "midterm_score"
   ]
  },
  {
   "cell_type": "code",
   "execution_count": 85,
   "id": "206f058d",
   "metadata": {},
   "outputs": [
    {
     "data": {
      "text/plain": [
       "[[12, 23, 34, 45, 56], [23, 34, 45, 56, 67], [34, 45, 56, 67, 78]]"
      ]
     },
     "execution_count": 85,
     "metadata": {},
     "output_type": "execute_result"
    }
   ],
   "source": [
    "midterm_copy = copy.deepcopy(midterm_score)\n",
    "midterm_copy"
   ]
  },
  {
   "cell_type": "code",
   "execution_count": 86,
   "id": "3eb76566",
   "metadata": {},
   "outputs": [
    {
     "data": {
      "text/plain": [
       "[[100, 23, 34, 45, 56], [23, 34, 45, 56, 67], [34, 45, 56, 67, 78]]"
      ]
     },
     "execution_count": 86,
     "metadata": {},
     "output_type": "execute_result"
    }
   ],
   "source": [
    "midterm_copy[0][0] = 100\n",
    "midterm_copy"
   ]
  },
  {
   "cell_type": "code",
   "execution_count": 87,
   "id": "3d398e0c",
   "metadata": {},
   "outputs": [
    {
     "data": {
      "text/plain": [
       "[[12, 23, 34, 45, 56], [23, 34, 45, 56, 67], [34, 45, 56, 67, 78]]"
      ]
     },
     "execution_count": 87,
     "metadata": {},
     "output_type": "execute_result"
    }
   ],
   "source": [
    "midterm_score\n",
    "# 값이 다르다는 걸 확인할 수 있다."
   ]
  },
  {
   "cell_type": "markdown",
   "id": "c2ef565e",
   "metadata": {},
   "source": [
    "## Function and Console I/O\n",
    "### Function\n",
    "- 어떤 일을 수행하는 코드의 덩어리\n",
    "- 반복적인 수행을 1회만 작성 후 호출\n",
    "- 코드를 논리적인 단위로 분리 / 코드 = 하나의 보고서, 개조식으로 작성된 글로 생각\n",
    "- 캡슐화 : 인터페이스만 알면 타인의 코드 사용\n",
    "\n",
    "#### 함수 선언 문법\n",
    "- 함수 이름, parameter, indentation(들여쓰기), return value(optional)"
   ]
  },
  {
   "cell_type": "code",
   "execution_count": 2,
   "id": "1283f54e",
   "metadata": {},
   "outputs": [
    {
     "name": "stdout",
     "output_type": "stream",
     "text": [
      "사각형 x의 길이 :  10\n",
      "사각형 y의 길이 :  20\n",
      "사각형의 넓이 : 200\n"
     ]
    }
   ],
   "source": [
    "# 함수 선언 예시\n",
    "def calculate_rectangle_area(x, y):\n",
    "    return x*y  # return이 있기에 반환이 된다.\n",
    "\n",
    "rectangle_x = 10\n",
    "rectangle_y = 20\n",
    "print('사각형 x의 길이 : ',rectangle_x)\n",
    "print('사각형 y의 길이 : ',rectangle_y)\n",
    "\n",
    "# 넓이를 구하는 함수 호출\n",
    "print('사각형의 넓이 :',calculate_rectangle_area(rectangle_x,rectangle_y))"
   ]
  },
  {
   "cell_type": "markdown",
   "id": "02586d74",
   "metadata": {},
   "source": [
    "- parameter : 함수의 입력 값 인터페이스"
   ]
  },
  {
   "cell_type": "code",
   "execution_count": 3,
   "id": "9baef74f",
   "metadata": {},
   "outputs": [],
   "source": [
    "def df(x):  # x가 parameter\n",
    "    return 2*x+7"
   ]
  },
  {
   "cell_type": "markdown",
   "id": "41832bf1",
   "metadata": {},
   "source": [
    "- argument : 실제 parameter에 대입된 값"
   ]
  },
  {
   "cell_type": "code",
   "execution_count": 4,
   "id": "28865f70",
   "metadata": {},
   "outputs": [
    {
     "name": "stdout",
     "output_type": "stream",
     "text": [
      "11\n"
     ]
    }
   ],
   "source": [
    "print(df(2))  # 2가 argument"
   ]
  },
  {
   "cell_type": "markdown",
   "id": "2b3ecf00",
   "metadata": {},
   "source": [
    "- parameter 유무, 반환값(return)유무에 따라 함수의 형태가 다르다.\n",
    "\n",
    "||parameter 없음|parameter 존재|\n",
    "|---:|:---|:---|\n",
    "|반환 값 없음|함수내의 수행문만 수행|parameter를 사용, 수행문만 수행|\n",
    "|반환 값 존재|parameter없이, 수행문 수행 후 결과값 반환|parameter를 사용하여 수행문 수행 후 결과값 반환|\n",
    "\n"
   ]
  },
  {
   "cell_type": "code",
   "execution_count": 5,
   "id": "f6112015",
   "metadata": {},
   "outputs": [
    {
     "name": "stdout",
     "output_type": "stream",
     "text": [
      "20\n"
     ]
    }
   ],
   "source": [
    "# 예시\n",
    "def f(x):\n",
    "    print(x + 10)\n",
    "    \n",
    "f(10)"
   ]
  },
  {
   "cell_type": "code",
   "execution_count": 6,
   "id": "7b5e7acb",
   "metadata": {},
   "outputs": [
    {
     "name": "stdout",
     "output_type": "stream",
     "text": [
      "20\n"
     ]
    }
   ],
   "source": [
    "c = f(10)"
   ]
  },
  {
   "cell_type": "code",
   "execution_count": 8,
   "id": "6482e7d0",
   "metadata": {},
   "outputs": [
    {
     "name": "stdout",
     "output_type": "stream",
     "text": [
      "None\n"
     ]
    }
   ],
   "source": [
    "c\n",
    "print(c)"
   ]
  },
  {
   "cell_type": "markdown",
   "id": "52bfc492",
   "metadata": {},
   "source": [
    "- c의 값이 안 나오는 이유는 화면에 f(x)의 print값만 표시해줄 뿐 아무런 반환 값이 없기에 할당이 되지 않은 것."
   ]
  },
  {
   "cell_type": "code",
   "execution_count": 9,
   "id": "aa374752",
   "metadata": {},
   "outputs": [
    {
     "data": {
      "text/plain": [
       "20"
      ]
     },
     "execution_count": 9,
     "metadata": {},
     "output_type": "execute_result"
    }
   ],
   "source": [
    "def f(x):\n",
    "    return x +10\n",
    "f(10)"
   ]
  },
  {
   "cell_type": "code",
   "execution_count": 10,
   "id": "baf358ad",
   "metadata": {},
   "outputs": [],
   "source": [
    "c = f(10)"
   ]
  },
  {
   "cell_type": "code",
   "execution_count": 11,
   "id": "366a1fef",
   "metadata": {},
   "outputs": [
    {
     "data": {
      "text/plain": [
       "20"
      ]
     },
     "execution_count": 11,
     "metadata": {},
     "output_type": "execute_result"
    }
   ],
   "source": [
    "c\n",
    "# return이 되어서 c에 할당이 됐다."
   ]
  },
  {
   "cell_type": "code",
   "execution_count": 12,
   "id": "8e2e0e1a",
   "metadata": {},
   "outputs": [
    {
     "data": {
      "text/plain": [
       "20"
      ]
     },
     "execution_count": 12,
     "metadata": {},
     "output_type": "execute_result"
    }
   ],
   "source": [
    "f(10)"
   ]
  },
  {
   "cell_type": "markdown",
   "id": "e4312a5e",
   "metadata": {},
   "source": [
    "- list에서의 특징 확인"
   ]
  },
  {
   "cell_type": "code",
   "execution_count": 13,
   "id": "4dd7429d",
   "metadata": {},
   "outputs": [
    {
     "data": {
      "text/plain": [
       "[5, 4, 3, 2, 1]"
      ]
     },
     "execution_count": 13,
     "metadata": {},
     "output_type": "execute_result"
    }
   ],
   "source": [
    "list_ex = [5,4,3,2,1]\n",
    "list_ex"
   ]
  },
  {
   "cell_type": "code",
   "execution_count": 14,
   "id": "ac7c71c6",
   "metadata": {},
   "outputs": [
    {
     "data": {
      "text/plain": [
       "[1, 2, 3, 4, 5]"
      ]
     },
     "execution_count": 14,
     "metadata": {},
     "output_type": "execute_result"
    }
   ],
   "source": [
    "sorted(list_ex)"
   ]
  },
  {
   "cell_type": "code",
   "execution_count": 15,
   "id": "d0bac371",
   "metadata": {},
   "outputs": [
    {
     "data": {
      "text/plain": [
       "[5, 4, 3, 2, 1]"
      ]
     },
     "execution_count": 15,
     "metadata": {},
     "output_type": "execute_result"
    }
   ],
   "source": [
    "list_ex"
   ]
  },
  {
   "cell_type": "markdown",
   "id": "9d830de6",
   "metadata": {},
   "source": [
    "- 값이 변하지 않는 이유는 sorted는 return값이 있어서 그런것\n",
    "- list의 값을 sorting해주고 복사한 다음 return으로 반환을 해준 것이다."
   ]
  },
  {
   "cell_type": "code",
   "execution_count": 16,
   "id": "4e0a9b3f",
   "metadata": {},
   "outputs": [],
   "source": [
    "list_ex.sort()\n",
    "# 변화만 일어날 뿐 화면에 뜨지 않는다.\n",
    "# Return값이 없기 때문"
   ]
  },
  {
   "cell_type": "code",
   "execution_count": 17,
   "id": "c8367518",
   "metadata": {},
   "outputs": [
    {
     "data": {
      "text/plain": [
       "[1, 2, 3, 4, 5]"
      ]
     },
     "execution_count": 17,
     "metadata": {},
     "output_type": "execute_result"
    }
   ],
   "source": [
    "list_ex\n",
    "# 값이 변경됨."
   ]
  },
  {
   "cell_type": "markdown",
   "id": "11583f62",
   "metadata": {},
   "source": [
    "**주의!!**"
   ]
  },
  {
   "cell_type": "code",
   "execution_count": 20,
   "id": "130563ef",
   "metadata": {},
   "outputs": [
    {
     "name": "stdout",
     "output_type": "stream",
     "text": [
      "20\n"
     ]
    }
   ],
   "source": [
    "def f(x):\n",
    "    return print(x+10)\n",
    "\n",
    "f(10)"
   ]
  },
  {
   "cell_type": "code",
   "execution_count": 21,
   "id": "535b0351",
   "metadata": {},
   "outputs": [
    {
     "name": "stdout",
     "output_type": "stream",
     "text": [
      "20\n"
     ]
    }
   ],
   "source": [
    "c = f(10)"
   ]
  },
  {
   "cell_type": "code",
   "execution_count": 23,
   "id": "5d48cbce",
   "metadata": {},
   "outputs": [
    {
     "name": "stdout",
     "output_type": "stream",
     "text": [
      "None\n"
     ]
    }
   ],
   "source": [
    "c\n",
    "print(c)"
   ]
  },
  {
   "cell_type": "markdown",
   "id": "916bac3f",
   "metadata": {},
   "source": [
    "print에는 return값이 없기 때문이다. \n",
    "계산한 값이 print를 통해 보여지고 return이 없어 none이 나온 값을 함수에서 return을 하게 된 것 그래서 c의 값은 none으로 표기가 된 것이다."
   ]
  },
  {
   "cell_type": "markdown",
   "id": "74dba9f5",
   "metadata": {},
   "source": [
    "### console I/O\n",
    "- 어떻게 프로그램과 데이터를 주고 받을 것인가?\n",
    "\n",
    "#### 콘솔창 입출력 I - input\n",
    "- input()함수는 콘솔창에서 문자열을 입력 받는 함수"
   ]
  },
  {
   "cell_type": "code",
   "execution_count": 24,
   "id": "8ec30bc5",
   "metadata": {},
   "outputs": [
    {
     "name": "stdout",
     "output_type": "stream",
     "text": [
      "enter your name:\n",
      "phs\n",
      "hi phs how are you today?\n"
     ]
    }
   ],
   "source": [
    "print('enter your name:')\n",
    "somebody = input()  # 콘솔창에서 입력한 값을 somebody에 저장\n",
    "print(\"hi {} how are you today?\".format(somebody))"
   ]
  },
  {
   "cell_type": "code",
   "execution_count": 26,
   "id": "b242c80b",
   "metadata": {},
   "outputs": [
    {
     "name": "stdout",
     "output_type": "stream",
     "text": [
      "enter your age:\n",
      "567890\n",
      "i'm 567890 years old\n"
     ]
    }
   ],
   "source": [
    "# input은 기본으로 string으로 받기 때문에 형 변환을 해줘야 한다.\n",
    "print('enter your age:')\n",
    "someage = int(input())\n",
    "print(\"i'm {} years old\".format(someage))"
   ]
  },
  {
   "cell_type": "markdown",
   "id": "a02a8718",
   "metadata": {},
   "source": [
    "#### print문을 활용해서 결과 formatting하기\n",
    "- 프린트 문은 기본적인 출력 외에 출력의 양식을 형식을 지정 가능하다.\n",
    "1. %string\n",
    "2. format()\n",
    "3. fstring"
   ]
  },
  {
   "cell_type": "markdown",
   "id": "13b9db68",
   "metadata": {},
   "source": [
    "#### old school formating"
   ]
  },
  {
   "cell_type": "code",
   "execution_count": 32,
   "id": "a1cd5ace",
   "metadata": {},
   "outputs": [
    {
     "name": "stdout",
     "output_type": "stream",
     "text": [
      "one 2 43.23413\n",
      "one 2\n"
     ]
    }
   ],
   "source": [
    "print('%s %d %2.5f'%('one',2,43.23413413))\n",
    "print('{} {}'.format('one',2))"
   ]
  },
  {
   "cell_type": "markdown",
   "id": "bdf75915",
   "metadata": {},
   "source": [
    "#### padding\n",
    "- 여유공간을 지정하여 글자배열 + 소수점 자릿수를 맞추기"
   ]
  },
  {
   "cell_type": "code",
   "execution_count": 40,
   "id": "038d614f",
   "metadata": {},
   "outputs": [
    {
     "name": "stdout",
     "output_type": "stream",
     "text": [
      "product:     apple, Price per unit:5.24300\n",
      "product:     apple, Price per unit:5.24300\n"
     ]
    }
   ],
   "source": [
    "print('product:%10s, Price per unit:%.5f'%('apple',5.243))\n",
    "\n",
    "print('product:%10s, Price per unit:%.5f'%('apple',5.243))"
   ]
  },
  {
   "cell_type": "markdown",
   "id": "b453dc10",
   "metadata": {},
   "source": [
    "#### f-string"
   ]
  },
  {
   "cell_type": "code",
   "execution_count": 50,
   "id": "57dc3109",
   "metadata": {},
   "outputs": [
    {
     "name": "stdout",
     "output_type": "stream",
     "text": [
      "Hello , phs. you are 11\n",
      "phs                 \n",
      "                 phs\n",
      "*****************phs\n",
      "phs*****************\n",
      "********phs*********\n",
      "3.12\n"
     ]
    }
   ],
   "source": [
    "name = \"phs\"\n",
    "age  = 11\n",
    "print(f'Hello , {name}. you are {age}')\n",
    "print(f'{name:20}')\n",
    "print(f'{name:>20}')\n",
    "print(f'{name:*>20}')\n",
    "print(f'{name:*<20}')\n",
    "print(f'{name:*^20}')\n",
    "\n",
    "number = 3.123123123123\n",
    "print(f'{number:.2f}')"
   ]
  },
  {
   "cell_type": "markdown",
   "id": "77156877",
   "metadata": {},
   "source": [
    "### Lab : Fahrenheit Converter(섭씨와 화씨)"
   ]
  },
  {
   "cell_type": "code",
   "execution_count": 54,
   "id": "adf7355a",
   "metadata": {},
   "outputs": [
    {
     "name": "stdout",
     "output_type": "stream",
     "text": [
      "본 프로그램은 섭씨를 화씨로 변환해주는 프로그램입니다.\n",
      "변환하고 싶은 섭씨 온도를 입력해주세요 : \n",
      "123123123123\n",
      "섭씨온도 : 123123123123.00\n",
      "화씨온도 : 221621621653.40\n"
     ]
    }
   ],
   "source": [
    "def c_to_f(x):\n",
    "    cal = ((9/5)*x)+32\n",
    "    return cal\n",
    "\n",
    "print('본 프로그램은 섭씨를 화씨로 변환해주는 프로그램입니다.')\n",
    "print('변환하고 싶은 섭씨 온도를 입력해주세요 : ')\n",
    "c_temp = float(input())\n",
    "\n",
    "print(f\"섭씨온도 : {c_temp:.2f}\")\n",
    "print(f'화씨온도 : {c_to_f(c_temp):.2f}')"
   ]
  },
  {
   "cell_type": "markdown",
   "id": "57fc0987",
   "metadata": {},
   "source": [
    "## Conditionals(조건문) and Loops(반복문)\n",
    "### conditionals(조건문)\n",
    "- 조건에 따라 특정한 동작을 하게하는 명령어\n",
    "- **조건을 나타내는 기준**과 **실행해야 할 명령**으로 구성\n",
    "- 조건의 참/거짓에 따라 실행해야 할 명령이 수행되거나 되지 않음\n",
    "- if, else, elif등의 예약어를 사용\n",
    "\n",
    "#### 비교 연산자\n",
    "- <, >, ==, is, !=, is not, >=, <=\n",
    "\n",
    "##### 비교 연산자 중 특이한 점!\n",
    "- 같음을 표시하는 것은 2개가 있다.\n",
    "- ==, is\n",
    "- x와 y가 같은지 검사하는데 <u>**is같은 경우**</u>에는 <u>**값**</u>과 <u>**메모리 주소**</u>를 같이 비교를 한다!"
   ]
  },
  {
   "cell_type": "code",
   "execution_count": 60,
   "id": "bfbfe3a4",
   "metadata": {},
   "outputs": [
    {
     "name": "stdout",
     "output_type": "stream",
     "text": [
      "x = 100 , y = 100\n",
      "x == y: True\n",
      "x is y: True\n"
     ]
    }
   ],
   "source": [
    "# 예\n",
    "x = 100\n",
    "y = 100\n",
    "print('x = 100 , y = 100')\n",
    "print('x == y:',x == y)\n",
    "print('x is y:',x is y)"
   ]
  },
  {
   "cell_type": "code",
   "execution_count": 61,
   "id": "25b29a62",
   "metadata": {},
   "outputs": [
    {
     "name": "stdout",
     "output_type": "stream",
     "text": [
      "x2 = 300 , y2 = 300\n",
      "x2 == y: True\n",
      "x2 is y: False\n"
     ]
    }
   ],
   "source": [
    "x2 = 300\n",
    "y2 = 300\n",
    "print('x2 = 300 , y2 = 300')\n",
    "print('x2 == y:',x2 == y2)\n",
    "print('x2 is y:',x2 is y2)"
   ]
  },
  {
   "cell_type": "markdown",
   "id": "58cc6e65",
   "metadata": {},
   "source": [
    "### is 연산은 memory의 주소를 비교하기 때문에 False가 뜬다.\n",
    "- -5 ~ 256까지 python에서 실행이 되면 메모리 공간에 해당 숫자를 저장한다.\n",
    "- -5 ~ 256은 자주 사용하는 숫자로 정했었다. 그래서 정적 메모리로 잡아 놓기 때문에 저 사이의 숫자들은 같은 메모리 주소를 사용하게 된다.|"
   ]
  },
  {
   "cell_type": "markdown",
   "id": "405aec95",
   "metadata": {},
   "source": [
    "#### 논리 키워드 사용\n",
    "- and, or, not\n",
    "- boolean type으로 return된다."
   ]
  },
  {
   "cell_type": "code",
   "execution_count": 62,
   "id": "bc7c1967",
   "metadata": {},
   "outputs": [
    {
     "data": {
      "text/plain": [
       "False"
      ]
     },
     "execution_count": 62,
     "metadata": {},
     "output_type": "execute_result"
    }
   ],
   "source": [
    "boolean_list = [True, True, False, True, True]\n",
    "all(boolean_list)"
   ]
  },
  {
   "cell_type": "code",
   "execution_count": 63,
   "id": "5c1b503f",
   "metadata": {},
   "outputs": [
    {
     "data": {
      "text/plain": [
       "True"
      ]
     },
     "execution_count": 63,
     "metadata": {},
     "output_type": "execute_result"
    }
   ],
   "source": [
    "boolean_list = [True, True, False, True, True]\n",
    "any(boolean_list)"
   ]
  },
  {
   "cell_type": "markdown",
   "id": "925f6bc5",
   "metadata": {},
   "source": [
    "* 삼항 연산자(Ternary operator)\n",
    "    - 조건문을 사용하여 참일 경우와 거짓일 경우의 결과를 한줄로 표현\n",
    "    - "
   ]
  },
  {
   "cell_type": "code",
   "execution_count": 64,
   "id": "25f82338",
   "metadata": {},
   "outputs": [
    {
     "name": "stdout",
     "output_type": "stream",
     "text": [
      "True\n"
     ]
    }
   ],
   "source": [
    "value = 12\n",
    "is_even = True if value%2 ==0 else False\n",
    "print(is_even)"
   ]
  },
  {
   "cell_type": "code",
   "execution_count": 99,
   "id": "4618833d",
   "metadata": {},
   "outputs": [
    {
     "name": "stdout",
     "output_type": "stream",
     "text": [
      "예제\n",
      "태어난 연도를 계산하여 학교 종류를 맞추는 프로그램\n",
      "당신이 태어난 연도를 입력하세요\n",
      "1992\n",
      "학생이 아닙니다.\n"
     ]
    }
   ],
   "source": [
    "print('예제')\n",
    "print('태어난 연도를 계산하여 학교 종류를 맞추는 프로그램')\n",
    "print('당신이 태어난 연도를 입력하세요')\n",
    "birth = int(input())\n",
    "def cal_age(x):\n",
    "    return 2022 - x +1    \n",
    "\n",
    "def school_conditional(x):\n",
    "    if (26 >= x and x >= 20):  # and 조건으로 나눠서 표시를 해주는게 좋다.\n",
    "        print('대학생')\n",
    "    elif (20> x and x >= 17):\n",
    "        print('고등학생')\n",
    "    elif (17> x and x >=14):\n",
    "        print('중학생')\n",
    "    elif (14> x and x >=8):\n",
    "        print('초등학생')\n",
    "    else:\n",
    "        print('학생이 아닙니다.')\n",
    "    \n",
    "\n",
    "if len(str(birth))==4:\n",
    "    age = cal_age(birth)\n",
    "    school_conditional(age)\n",
    "else:\n",
    "    print('연도 4자리를 입력하세요!')"
   ]
  },
  {
   "cell_type": "markdown",
   "id": "566a65c0",
   "metadata": {},
   "source": [
    "### Loops\n",
    "- 정해진 동작을 반복적으로 수행하게 하는 명령문\n",
    "- **반복 시작 조건**, **종료 조건**, **수행 명령**으로 구성됨\n",
    "- for, while 등의 명령 키워드 사용\n",
    "\n",
    "#### for loop"
   ]
  },
  {
   "cell_type": "code",
   "execution_count": 75,
   "id": "aa1ac451",
   "metadata": {},
   "outputs": [
    {
     "name": "stdout",
     "output_type": "stream",
     "text": [
      "기본적인 반복문\n",
      "hello count 1\n",
      "hello count 2\n",
      "hello count 3\n",
      "hello count 4\n",
      "hello count 5\n"
     ]
    }
   ],
   "source": [
    "print('기본적인 반복문')\n",
    "for looper in [1,2,3,4,5]:\n",
    "    print(f'hello count {looper}')"
   ]
  },
  {
   "cell_type": "markdown",
   "id": "6005bc04",
   "metadata": {},
   "source": [
    "- range()를 사용하기"
   ]
  },
  {
   "cell_type": "code",
   "execution_count": 93,
   "id": "3b165efe",
   "metadata": {},
   "outputs": [
    {
     "name": "stdout",
     "output_type": "stream",
     "text": [
      "hello count 1\n",
      "hello count 2\n",
      "hello count 3\n",
      "hello count 4\n",
      "hello count 5\n",
      "hello count 6\n",
      "hello count 7\n",
      "hello count 8\n",
      "hello count 9\n",
      "hello count 10\n"
     ]
    }
   ],
   "source": [
    "for i in range(0,10):\n",
    "    print(f'hello count {i+1}')"
   ]
  },
  {
   "cell_type": "markdown",
   "id": "bd3a8390",
   "metadata": {},
   "source": [
    "## [알아두면 상식] 반복문\n",
    "### 반복문 변수명\n",
    "- 임시적인 반복 변수는 대부분 i,j,k로 정함\n",
    "- 이것은 수학에서 변수를 x,y,z로 정화는 것과 유사한 관례\n",
    "\n",
    "### 0부터 시작하는 반복문\n",
    "- 반복문은 대부분 0부터 반복을 시작\n",
    "- 이것도 일종의 관례로 1부터 시작하는 언어도 존재\n",
    "- 2진수가 0부터 시작하기 때문에 0부터 시작하는 걸 권장\n",
    "\n",
    "### 무한 loop\n",
    "- 반복 명령이 끝나지 않는 프로그램 오류\n",
    "- CPU와 메모리 등 컴퓨터의 리소스를 과다하게 점유"
   ]
  },
  {
   "cell_type": "code",
   "execution_count": 82,
   "id": "02d999d9",
   "metadata": {
    "scrolled": false
   },
   "outputs": [
    {
     "name": "stdout",
     "output_type": "stream",
     "text": [
      "문자열을 한자씩 리스트로 처리 - 시퀀스형 자료형\n",
      "a\n",
      "b\n",
      "c\n",
      "d\n",
      "\n",
      "각각의 문자열 리스트로 처리\n",
      "asd\n",
      "sdf\n",
      "dfa\n"
     ]
    }
   ],
   "source": [
    "print('문자열을 한자씩 리스트로 처리 - 시퀀스형 자료형')\n",
    "for i in \"abcd\":\n",
    "    print(i)\n",
    "print()\n",
    "print('각각의 문자열 리스트로 처리')\n",
    "for i in ['asd','sdf','dfa']:\n",
    "    print(i)"
   ]
  },
  {
   "cell_type": "code",
   "execution_count": 84,
   "id": "b5f41f19",
   "metadata": {},
   "outputs": [
    {
     "name": "stdout",
     "output_type": "stream",
     "text": [
      "간격을 두고 세기\n",
      "0\n",
      "2\n",
      "4\n",
      "6\n",
      "8\n",
      "\n",
      "역순으로 반복문 수행\n",
      "10\n",
      "9\n",
      "8\n",
      "7\n",
      "6\n",
      "5\n",
      "4\n",
      "3\n",
      "2\n",
      "1\n"
     ]
    }
   ],
   "source": [
    "print('간격을 두고 세기')\n",
    "for i in range(0,10,2):\n",
    "    print(i)\n",
    "print()\n",
    "print('역순으로 반복문 수행')\n",
    "for i in range(10,0,-1):\n",
    "    print(i)"
   ]
  },
  {
   "cell_type": "markdown",
   "id": "4ea9e16d",
   "metadata": {},
   "source": [
    "### while문\n",
    "- for와는 다르게 ***조건이 만족하는 동안*** 반복 명령문을 수행\n",
    "- for문은 반복 실행 횟수를 명확히 알 때 보통 사용\n",
    "- while문은 반복 실행횟수가 명확하지 않을 때 사용"
   ]
  },
  {
   "cell_type": "code",
   "execution_count": 94,
   "id": "67aca143",
   "metadata": {},
   "outputs": [
    {
     "name": "stdout",
     "output_type": "stream",
     "text": [
      "0 : hello\n",
      "1 : hello\n",
      "2 : hello\n",
      "3 : hello\n",
      "4 : hello\n",
      "5 : hello\n",
      "6 : hello\n",
      "7 : hello\n",
      "8 : hello\n",
      "9 : hello\n"
     ]
    }
   ],
   "source": [
    "# 예시\n",
    "i = 0\n",
    "while i < 10:\n",
    "    print(f\"{i} : hello\")\n",
    "    i += 1"
   ]
  },
  {
   "cell_type": "markdown",
   "id": "785f92b1",
   "metadata": {},
   "source": [
    "### 반복의 제어 - break, continue\n",
    "- break"
   ]
  },
  {
   "cell_type": "code",
   "execution_count": 96,
   "id": "90e109cc",
   "metadata": {},
   "outputs": [
    {
     "name": "stdout",
     "output_type": "stream",
     "text": [
      "0\n",
      "1\n",
      "2\n",
      "3\n",
      "4\n",
      "EOP\n"
     ]
    }
   ],
   "source": [
    "for i in range(10):\n",
    "    if i ==5:\n",
    "        break\n",
    "    print(i)\n",
    "print('EOP')"
   ]
  },
  {
   "cell_type": "code",
   "execution_count": 97,
   "id": "58e5ea09",
   "metadata": {},
   "outputs": [
    {
     "name": "stdout",
     "output_type": "stream",
     "text": [
      "0\n",
      "1\n",
      "2\n",
      "3\n",
      "4\n",
      "6\n",
      "7\n",
      "8\n",
      "9\n",
      "EOP\n"
     ]
    }
   ],
   "source": [
    "for i in range(10):\n",
    "    if i ==5:\n",
    "        continue\n",
    "    print(i)\n",
    "print('EOP')"
   ]
  },
  {
   "cell_type": "code",
   "execution_count": 100,
   "id": "9418e939",
   "metadata": {},
   "outputs": [
    {
     "name": "stdout",
     "output_type": "stream",
     "text": [
      "0\n",
      "1\n",
      "2\n",
      "3\n",
      "4\n",
      "5\n",
      "6\n",
      "7\n",
      "8\n",
      "9\n",
      "EOP\n"
     ]
    }
   ],
   "source": [
    "for i in range(10):\n",
    "    print(i,)\n",
    "else:\n",
    "    print('EOP')"
   ]
  },
  {
   "cell_type": "code",
   "execution_count": 105,
   "id": "cde78266",
   "metadata": {},
   "outputs": [
    {
     "name": "stdout",
     "output_type": "stream",
     "text": [
      "예제\n",
      "구구단 몇 단을 계산할까요?\n",
      "2\n",
      "구구단 2단을 계산합니다.\n",
      "2 X 1 = 2\n",
      "2 X 2 = 4\n",
      "2 X 3 = 6\n",
      "2 X 4 = 8\n",
      "2 X 5 = 10\n",
      "2 X 6 = 12\n",
      "2 X 7 = 14\n",
      "2 X 8 = 16\n",
      "2 X 9 = 18\n"
     ]
    }
   ],
   "source": [
    "print(\"예제\")\n",
    "print('구구단 몇 단을 계산할까요?')\n",
    "def multiplication_table(x):\n",
    "    print(f'구구단 {x}단을 계산합니다.')\n",
    "    for i in range(1,10):\n",
    "        answer = i * x\n",
    "        print(f\"{x} X {i} = {answer}\")\n",
    "        \n",
    "number = int(input())\n",
    "multiplication_table(number)"
   ]
  },
  {
   "cell_type": "code",
   "execution_count": 106,
   "id": "0a08a773",
   "metadata": {},
   "outputs": [
    {
     "name": "stdout",
     "output_type": "stream",
     "text": [
      "2\n",
      "구구단 2단을 계산합니다.\n",
      "2 X 1 = 2\n",
      "2 X 2 = 4\n",
      "2 X 3 = 6\n",
      "2 X 4 = 8\n",
      "2 X 5 = 10\n",
      "2 X 6 = 12\n",
      "2 X 7 = 14\n",
      "2 X 8 = 16\n",
      "2 X 9 = 18\n"
     ]
    }
   ],
   "source": [
    "def multiplication _table(x):\n",
    "    print(f'구구단 {x}단을 계산합니다.')\n",
    "    i = 1\n",
    "    while i < 10:\n",
    "        answer = i * x\n",
    "        print(f\"{x} X {i} = {answer}\")\n",
    "        i += 1\n",
    "        \n",
    "number = int(input())\n",
    "multiplication_table(number)"
   ]
  },
  {
   "cell_type": "markdown",
   "id": "e2f303dd",
   "metadata": {},
   "source": [
    "### loop review\n",
    "- loop은 복잡하기 때문에 중간중간 코드를 확인할 필요가 있다."
   ]
  },
  {
   "cell_type": "code",
   "execution_count": 111,
   "id": "ca259e40",
   "metadata": {},
   "outputs": [
    {
     "name": "stdout",
     "output_type": "stream",
     "text": [
      "REVERSE #1 \n",
      "REVERSE #2 i\n",
      "REVERSE #1 i\n",
      "REVERSE #2  i\n",
      "REVERSE #1  i\n",
      "REVERSE #2 l i\n",
      "REVERSE #1 l i\n",
      "REVERSE #2 ol i\n",
      "REVERSE #1 ol i\n",
      "REVERSE #2 vol i\n",
      "REVERSE #1 vol i\n",
      "REVERSE #2 evol i\n",
      "REVERSE #1 evol i\n",
      "REVERSE #2  evol i\n",
      "REVERSE #1  evol i\n",
      "REVERSE #2 y evol i\n",
      "REVERSE #1 y evol i\n",
      "REVERSE #2 oy evol i\n",
      "REVERSE #1 oy evol i\n",
      "REVERSE #2 uoy evol i\n"
     ]
    }
   ],
   "source": [
    "sentence  = \"i love you\"\n",
    "reverse_sentence = ''\n",
    "for char in sentence:\n",
    "    print(\"REVERSE #1\",reverse_sentence)\n",
    "    reverse_sentence = char + reverse_sentence\n",
    "    print(\"REVERSE #2\",reverse_sentence)"
   ]
  },
  {
   "cell_type": "code",
   "execution_count": 12,
   "id": "7a633c47",
   "metadata": {},
   "outputs": [
    {
     "name": "stdout",
     "output_type": "stream",
     "text": [
      "예제 2진수로 변환하기\n",
      "수를 입력하세요! :100\n",
      "1100100\n",
      "CPU times: user 12.7 ms, sys: 10.1 ms, total: 22.8 ms\n",
      "Wall time: 1.99 s\n"
     ]
    }
   ],
   "source": [
    "%%time\n",
    "print('예제 2진수로 변환하기')\n",
    "# 내가 작성한 코드...\n",
    "def decimal(num):\n",
    "    result = ''\n",
    "    while (num > 0):  # while을 쓴 이유는 반복하는 횟수를 알 수 없기에 while을 사용한 것.\n",
    "        result = str(num % 2) + result\n",
    "        num = num // 2\n",
    "        if num < 2:  # 몫이 2 밑으로 가면 더이상 할 수 없기에 끝내야 한다.\n",
    "            result = str(num)+result\n",
    "            break\n",
    "    print(result)\n",
    "\n",
    "num = int(input('수를 입력하세요! : '))\n",
    "decimal(num)\n"
   ]
  },
  {
   "cell_type": "code",
   "execution_count": 13,
   "id": "43b35710",
   "metadata": {},
   "outputs": [
    {
     "name": "stdout",
     "output_type": "stream",
     "text": [
      "수를 입력하세요! :100\n",
      "1100100\n",
      "CPU times: user 8.5 ms, sys: 7.3 ms, total: 15.8 ms\n",
      "Wall time: 1.02 s\n"
     ]
    }
   ],
   "source": [
    "%%time\n",
    "\n",
    "# 강의 코드    \n",
    "def decimalNew(num):\n",
    "    n_result = ''\n",
    "    while(num > 0):\n",
    "        i = num%2\n",
    "        num = num//2\n",
    "        n_result = str(i)+n_result  # if 구문을 사용하지 않아도 되는 이유!! 1이 되어봤자 몫은 0이기 때문에 그거에 대한 나머지 값만 갖고오고 루프를 끝내버린다.\n",
    "    print(n_result)\n",
    "    \n",
    "num = int(input('수를 입력하세요! : '))\n",
    "decimalNew(num)"
   ]
  },
  {
   "cell_type": "markdown",
   "id": "a2b7903f",
   "metadata": {},
   "source": [
    "## loop & control lab\n",
    "### 가변적인 중첩 반복문\n",
    "- 실제 프로그램에서는 반복문은 사용자의 입력에 따라 가변적으로 반복되고 하나의 반복이 아닌 중복되어 반복이 일어난다."
   ]
  },
  {
   "cell_type": "code",
   "execution_count": 42,
   "id": "df0f9fbf",
   "metadata": {},
   "outputs": [
    {
     "name": "stdout",
     "output_type": "stream",
     "text": [
      "숫자를 맞춰보세요!(1~100)\n",
      "숫자 입력하기 : 100\n",
      "숫자가 큽니다.\n",
      "숫자 입력하기 : 200\n",
      "숫자가 큽니다.\n",
      "숫자 입력하기 : 30\n",
      "숫자가 작습니다!\n",
      "숫자 입력하기 : 40\n",
      "숫자가 작습니다!\n",
      "숫자 입력하기 : 50\n",
      "숫자가 큽니다.\n",
      "숫자 입력하기 : 45\n",
      "숫자가 작습니다!\n",
      "숫자 입력하기 : 46\n",
      "숫자가 작습니다!\n",
      "숫자 입력하기 : 47\n",
      "숫자가 작습니다!\n",
      "숫자 입력하기 : 48\n",
      "숫자가 작습니다!\n",
      "숫자 입력하기 : 49\n",
      "정답입니다!!!!! 입력한 숫자는 49\n"
     ]
    }
   ],
   "source": [
    "print('연습')\n",
    "answer = random.randint(1,101)\n",
    "print('숫자를 맞춰보세요!(1~100)')\n",
    "i=1\n",
    "while(i>0) :\n",
    "    numb = int(input('숫자 입력하기 : '))\n",
    "    if numb > answer:\n",
    "        print('숫자가 큽니다.')\n",
    "    elif numb < answer:\n",
    "        print('숫자가 작습니다!')\n",
    "    else:\n",
    "        print(f'정답입니다!!!!! 입력한 숫자는 {numb}')\n",
    "        break\n",
    "    i += 1"
   ]
  },
  {
   "cell_type": "code",
   "execution_count": 53,
   "id": "ee9ace2b",
   "metadata": {
    "scrolled": false
   },
   "outputs": [
    {
     "name": "stdout",
     "output_type": "stream",
     "text": [
      "연습\n",
      "구구단 몇 단을 계산할까요(1~9)\n",
      "10\n",
      "구구단을 종료합니다.\n"
     ]
    }
   ],
   "source": [
    "print('연습')\n",
    "print('구구단 몇 단을 계산할까요(1~9)')\n",
    "\n",
    "def multi_matrix(numb):\n",
    "    print(f'*****구구단 {numb}단 시작!!*****')\n",
    "    for i in range(1,10):\n",
    "        print(f'{numb}X{i}={numb*i}')\n",
    "    print(f'*****구구단 {numb}단 끝!!*****')\n",
    "\n",
    "while(True):\n",
    "    numb = int(input())\n",
    "    if 10> numb and numb > 0:\n",
    "        multi_matrix(numb)\n",
    "    else:\n",
    "        print('구구단을 종료합니다.')\n",
    "        break"
   ]
  },
  {
   "cell_type": "markdown",
   "id": "992e0471",
   "metadata": {},
   "source": [
    "## debugging\n",
    "- 코드의 오류를 발견하여 수정하는 과정\n",
    "- 오류의 '원인'을 알고 '해결책'을 찾아야 한다.\n",
    "- **문법적 에러**를 찾기 위한 에러 메시지 분석\n",
    "- **논리적 에러**를 찾기 위한 테스트도 중요\n",
    "\n",
    "### 논리적 에러\n",
    "- 뜻대로 실행이 안되는 코드\n",
    "- 중간중간 프린터 문을 찍어서 확인\n",
    "- loop review 처럼 해보기"
   ]
  },
  {
   "cell_type": "code",
   "execution_count": 57,
   "id": "799255a9",
   "metadata": {},
   "outputs": [
    {
     "ename": "NameError",
     "evalue": "name 'python' is not defined",
     "output_type": "error",
     "traceback": [
      "\u001b[0;31m---------------------------------------------------------------------------\u001b[0m",
      "\u001b[0;31mNameError\u001b[0m                                 Traceback (most recent call last)",
      "\u001b[0;32m/var/folders/28/zb5jqy4s6kn2xld_bfr5mpdw0000gn/T/ipykernel_48055/2460438362.py\u001b[0m in \u001b[0;36m<module>\u001b[0;34m\u001b[0m\n\u001b[0;32m----> 1\u001b[0;31m \u001b[0mprint\u001b[0m\u001b[0;34m(\u001b[0m\u001b[0mpython\u001b[0m\u001b[0;34m.\u001b[0m\u001b[0m__name__\u001b[0m\u001b[0;34m)\u001b[0m\u001b[0;34m\u001b[0m\u001b[0;34m\u001b[0m\u001b[0m\n\u001b[0m",
      "\u001b[0;31mNameError\u001b[0m: name 'python' is not defined"
     ]
    }
   ],
   "source": []
  },
  {
   "cell_type": "code",
   "execution_count": null,
   "id": "fb2fa91d",
   "metadata": {},
   "outputs": [],
   "source": []
  }
 ],
 "metadata": {
  "kernelspec": {
   "display_name": "Python 3 (ipykernel)",
   "language": "python",
   "name": "python3"
  },
  "language_info": {
   "codemirror_mode": {
    "name": "ipython",
    "version": 3
   },
   "file_extension": ".py",
   "mimetype": "text/x-python",
   "name": "python",
   "nbconvert_exporter": "python",
   "pygments_lexer": "ipython3",
   "version": "3.9.7"
  }
 },
 "nbformat": 4,
 "nbformat_minor": 5
}
