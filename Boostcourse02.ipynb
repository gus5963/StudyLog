{
 "cells": [
  {
   "cell_type": "markdown",
   "id": "f18bd761",
   "metadata": {},
   "source": [
    "# Python Object-Oriented Programming\n",
    "- 객체지향 프로그래밍\n",
    "- 객체 : 실생활에서 일종의 물건. 속성(attribute)과 행동(action)을 가짐\n",
    "- OOP는 이러한 객체 개념을 프로그램으로 표현. **속성은 변수(variable), 행동은 함수(method)**로 표현됨\n",
    "- 파이썬 역시 객체지향 프로그램 언어\n",
    "- OOP는 설계도에 해당하는 **클래스(class)와 실제 구현체인 인스턴스(instance)**로 나뉨\n",
    "\n",
    "### class 구현\n",
    "- attribute 추가는 \\_\\_init__ , self와 함께!! \\\n",
    "=> \\_\\_init__은 객체 초기화 예약 함수\\\n",
    "=> \\_\\_str__은 특별한 예약 함수로서 print문으로 객체를 출력할 때 \\_\\_str__에 작성한 return 값이 출력 된다.\\\n",
    "=> \\_\\_add__는 두 개를 더해서 출력해준다.\\\n",
    "=> parameter에 있는 self는 **생성된 instance 자신**을 얘기한다. 즉, 밑에서의 phs라는 instance를 만들었으면 class 내부에 있는 self는 phs를 의미하게 되는 것.\n",
    "- \\_\\_ 의 의미!\\\n",
    "=> \\_\\_는 **특수한 예약 함수나 변수** 그리고 **함수명 변경(맨글링)**으로 사용. 예) \\_\\_main__, \\_\\_add__, \\_\\_str__, \\_\\_eq__\n",
    "- python magic method\\\n",
    "=> https://corikachu.github.io/articles/python/python-magic-method\n"
   ]
  },
  {
   "cell_type": "code",
   "execution_count": 56,
   "id": "60a701a4",
   "metadata": {},
   "outputs": [
    {
     "name": "stdout",
     "output_type": "stream",
     "text": [
      "축구선수 정보를 class로 구현하기\n"
     ]
    }
   ],
   "source": [
    "print('축구선수 정보를 class로 구현하기')\n",
    "class SoccerPlayer(object):\n",
    "    def __init__(self, name, position, back_number):\n",
    "        self.name = name  # self에 소속되어 있는 name에다가 name을 할당하는 것.\n",
    "        self.position = position\n",
    "        self.back_number = back_number\n",
    "    \n",
    "    def __str__(self):\n",
    "        return f\"Hello! My name is {self.name}. i play in {self.position} in center. My number is {self.back_number}\"\n",
    "    \n",
    "    def __add__(self, other):\n",
    "        return self.name + other.name\n",
    "    \n",
    "    def change_back_number(self, new_number):\n",
    "        print(f'선수의 등번호를 변경합니다. {self.back_number} => {new_number}')\n",
    "        self.back_number = new_number"
   ]
  },
  {
   "cell_type": "code",
   "execution_count": 57,
   "id": "acc989d5",
   "metadata": {},
   "outputs": [
    {
     "name": "stdout",
     "output_type": "stream",
     "text": [
      "__str__의 결괏값\n",
      "Hello! My name is PHS. i play in MF in center. My number is 10\n",
      "Hello! My name is YJH. i play in WF in center. My number is 13\n"
     ]
    }
   ],
   "source": [
    "phs = SoccerPlayer(\"PHS\",\"MF\",10)\n",
    "yjh = SoccerPlayer(\"YJH\",\"WF\",13)\n",
    "# phs와 yjh는 instance이다. 객체라고 불린다.\n",
    "print('__str__의 결괏값')\n",
    "print(phs)\n",
    "print(yjh)"
   ]
  },
  {
   "cell_type": "code",
   "execution_count": 58,
   "id": "a61c6607",
   "metadata": {},
   "outputs": [
    {
     "name": "stdout",
     "output_type": "stream",
     "text": [
      "__add__를 한 결괏값\n",
      "PHSYJH\n"
     ]
    }
   ],
   "source": [
    "print('__add__를 한 결괏값')\n",
    "print(phs + yjh)"
   ]
  },
  {
   "cell_type": "code",
   "execution_count": 59,
   "id": "ba6f90d3",
   "metadata": {},
   "outputs": [
    {
     "name": "stdout",
     "output_type": "stream",
     "text": [
      "등번호 변경 함수 사용\n",
      "선수의 등번호를 변경합니다. 10 => 11\n",
      "Hello! My name is PHS. i play in MF in center. My number is 11\n"
     ]
    }
   ],
   "source": [
    "print('등번호 변경 함수 사용')\n",
    "phs.change_back_number(11)\n",
    "print(phs)"
   ]
  },
  {
   "cell_type": "markdown",
   "id": "879e2b73",
   "metadata": {},
   "source": [
    "## OOP Implementation Example\n",
    "\n",
    "#### 노트북\n",
    "- 노트를 정리하는 프로그램\n",
    "- 사용자는 노트에 뭔가를 적을 수 있다.\n",
    "- 노트에는 컨텐츠(str)가 있고, 내용을 제거(remove)할 수 있다.\n",
    "- 두 개의 노트북을 합쳐 하나로 만들 수 있다.(note + note)\n",
    "- 노트는 노트북에 삽입된다.\n",
    "- 노트북은 노트가 삽입 될 때 페이지(attr)를 생성하며 최고 300페이지까지 저장이 가능하다.\n",
    "- 300페이지가 넘으면 더이상 노트를 삽입하지 못한다."
   ]
  },
  {
   "cell_type": "code",
   "execution_count": 411,
   "id": "a0034f2f",
   "metadata": {},
   "outputs": [],
   "source": [
    "class NoteBook(object):\n",
    "    def __init__(self, title):\n",
    "        self.title = title\n",
    "        self.page_number = 1\n",
    "        self.note = {}\n",
    "    \n",
    "    \n",
    "    def add_note(self, new_note):\n",
    "        if self.page_number <= 300:\n",
    "            if self.page_number in self.note.keys():\n",
    "                while self.page_number in self.note.keys():\n",
    "                    print(f'{self.page_number}페이지에 내용이 있습니다.')\n",
    "                    self.page_number += 1\n",
    "                print(f'{self.page_number}페이지에 삽입 했습니다.')\n",
    "                self.note[self.page_number] = new_note\n",
    "                self.page_number += 1\n",
    "            else:\n",
    "                print(f'{self.page_number}페이지에 삽입 했습니다.')\n",
    "                self.note[self.page_number] = new_note\n",
    "                self.page_number += 1                \n",
    "        else:\n",
    "            print('page가 가득 찼습니다.')\n",
    "\n",
    "    \n",
    "    def remove_note(self, page_number):\n",
    "        if page_number in self.note.keys():\n",
    "            del self.note[page_number]\n",
    "            print(f'{page_number}페이지를 삭제했습니다.')            \n",
    "            self.page_number = page_number\n",
    "        else:\n",
    "            print('해당 페이지가 없습니다.')\n",
    "    \n",
    "    def get_page_number(self):\n",
    "        return len(self.note.keys())"
   ]
  },
  {
   "cell_type": "code",
   "execution_count": 412,
   "id": "aa1bca64",
   "metadata": {},
   "outputs": [],
   "source": [
    "class Note(object):\n",
    "    def __init__(self, content = None):\n",
    "        self.content = content\n",
    "    \n",
    "    \n",
    "    def create_content(self, content):\n",
    "        self.content = content\n",
    "            \n",
    "    \n",
    "    def remove_content(self):\n",
    "        self.content = ''\n",
    "        \n",
    "        \n",
    "    def __add__(self, other):\n",
    "        return self.content + other\n",
    "    \n",
    "    \n",
    "    def __str__(self):\n",
    "        return self.content"
   ]
  },
  {
   "cell_type": "code",
   "execution_count": 413,
   "id": "ffa01392",
   "metadata": {},
   "outputs": [],
   "source": [
    "note01 = Note('hi my name is phs welcome to my new note')\n",
    "note02 = Note()"
   ]
  },
  {
   "cell_type": "code",
   "execution_count": 414,
   "id": "23c6e546",
   "metadata": {},
   "outputs": [
    {
     "name": "stdout",
     "output_type": "stream",
     "text": [
      "hi my name is phs welcome to my new note\n"
     ]
    }
   ],
   "source": [
    "print(note01)"
   ]
  },
  {
   "cell_type": "code",
   "execution_count": 415,
   "id": "be8ec4de",
   "metadata": {},
   "outputs": [],
   "source": [
    "note01.remove_content()"
   ]
  },
  {
   "cell_type": "code",
   "execution_count": 416,
   "id": "e71ba9df",
   "metadata": {},
   "outputs": [],
   "source": [
    "note01.create_content('hello world')"
   ]
  },
  {
   "cell_type": "code",
   "execution_count": 417,
   "id": "f5f137d1",
   "metadata": {},
   "outputs": [
    {
     "name": "stdout",
     "output_type": "stream",
     "text": [
      "hello world\n"
     ]
    }
   ],
   "source": [
    "print(note01)"
   ]
  },
  {
   "cell_type": "code",
   "execution_count": 418,
   "id": "9275a8c7",
   "metadata": {},
   "outputs": [],
   "source": [
    "note02.create_content('Incheon is good')"
   ]
  },
  {
   "cell_type": "code",
   "execution_count": 419,
   "id": "db763cb5",
   "metadata": {},
   "outputs": [
    {
     "name": "stdout",
     "output_type": "stream",
     "text": [
      "Incheon is good\n"
     ]
    }
   ],
   "source": [
    "print(note02)"
   ]
  },
  {
   "cell_type": "code",
   "execution_count": 420,
   "id": "d4075d72",
   "metadata": {},
   "outputs": [],
   "source": [
    "notebook = NoteBook('newtitle')"
   ]
  },
  {
   "cell_type": "code",
   "execution_count": 440,
   "id": "4aca4d9e",
   "metadata": {},
   "outputs": [
    {
     "name": "stdout",
     "output_type": "stream",
     "text": [
      "6페이지에 삽입 했습니다.\n"
     ]
    }
   ],
   "source": [
    "notebook.add_note(note01.content)"
   ]
  },
  {
   "cell_type": "code",
   "execution_count": 441,
   "id": "e7facece",
   "metadata": {},
   "outputs": [
    {
     "name": "stdout",
     "output_type": "stream",
     "text": [
      "7페이지에 내용이 있습니다.\n",
      "8페이지에 내용이 있습니다.\n",
      "9페이지에 내용이 있습니다.\n",
      "10페이지에 내용이 있습니다.\n",
      "11페이지에 내용이 있습니다.\n",
      "12페이지에 내용이 있습니다.\n",
      "13페이지에 삽입 했습니다.\n"
     ]
    }
   ],
   "source": [
    "notebook.add_note(note02.content)"
   ]
  },
  {
   "cell_type": "code",
   "execution_count": 448,
   "id": "740cf218",
   "metadata": {},
   "outputs": [
    {
     "name": "stdout",
     "output_type": "stream",
     "text": [
      "노트 전체 확인\n"
     ]
    },
    {
     "data": {
      "text/plain": [
       "{1: 'hello world',\n",
       " 2: 'Incheon is good',\n",
       " 3: 'hello world',\n",
       " 4: 'Incheon is good',\n",
       " 5: 'hello world',\n",
       " 7: 'hello world',\n",
       " 8: 'Incheon is good',\n",
       " 9: 'hello world',\n",
       " 10: 'Incheon is good',\n",
       " 11: 'hello world',\n",
       " 12: 'Incheon is good',\n",
       " 6: 'hello world',\n",
       " 13: 'Incheon is good'}"
      ]
     },
     "execution_count": 448,
     "metadata": {},
     "output_type": "execute_result"
    }
   ],
   "source": [
    "print('노트 전체 확인')\n",
    "notebook.note"
   ]
  },
  {
   "cell_type": "code",
   "execution_count": 439,
   "id": "7d361842",
   "metadata": {},
   "outputs": [
    {
     "name": "stdout",
     "output_type": "stream",
     "text": [
      "6페이지를 삭제했습니다.\n"
     ]
    }
   ],
   "source": [
    "notebook.remove_note(6)"
   ]
  },
  {
   "cell_type": "code",
   "execution_count": 444,
   "id": "0c32ec0b",
   "metadata": {},
   "outputs": [
    {
     "data": {
      "text/plain": [
       "'newtitle'"
      ]
     },
     "execution_count": 444,
     "metadata": {},
     "output_type": "execute_result"
    }
   ],
   "source": [
    "notebook.title"
   ]
  },
  {
   "cell_type": "code",
   "execution_count": 447,
   "id": "648ad3d5",
   "metadata": {},
   "outputs": [
    {
     "data": {
      "text/plain": [
       "13"
      ]
     },
     "execution_count": 447,
     "metadata": {},
     "output_type": "execute_result"
    }
   ],
   "source": [
    "notebook.get_page_number()"
   ]
  },
  {
   "cell_type": "markdown",
   "id": "c524d240",
   "metadata": {},
   "source": [
    "## OOP charicteristic\n",
    "- 실제 세상을 모델링하기 위해 필요한 것들\\\n",
    "=> inheritance(상속)\\\n",
    "=> polymorphism(다형성)\\\n",
    "=> visibility\n",
    "\n",
    "### Inheritance(상속)\n",
    "- 부모 클래스로 부터 속성과 Method를 물려받은 자식 클래스를 생성하는 것."
   ]
  },
  {
   "cell_type": "code",
   "execution_count": 459,
   "id": "f90e3958",
   "metadata": {},
   "outputs": [],
   "source": [
    "class Person(object):\n",
    "    def __init__(self, name, age):\n",
    "        self.name = name\n",
    "        self.age = age\n",
    "        \n",
    "        \n",
    "    def about_me(self):  # 새로운 메서드 추가\n",
    "        print(f'저의 이름은 {self.name}이며 나이는 {self.age} 입니다.')\n",
    "        \n",
    "    \n",
    "    def __str__(self):\n",
    "        return f'저의 이름은 {self.name}이며 나이는 {self.age} 입니다.'    \n"
   ]
  },
  {
   "cell_type": "code",
   "execution_count": 460,
   "id": "093c8099",
   "metadata": {},
   "outputs": [],
   "source": [
    "class Korean(Person):  # 부모 클래스 Person으로부터 상속\n",
    "    def __init__(self, name, age, salary, hire_date):\n",
    "        super().__init__(name, age)  # 부모객체 사용\n",
    "        self.salary = salary         # 속성값 추가\n",
    "        self.hire_date = hire_date   # 속성값 추가\n",
    "        \n",
    "    def do_work(self):  # 새로운 Method cnrk\n",
    "        print(f'저! {self.name}는 일을 열심히 합니다!')\n",
    "        \n",
    "    \n",
    "    def about_me(self):  # 부모 클래스 함수 재정의\n",
    "        super().about_me()  # 부모 클래스 함수 사용\n",
    "        print(f'제 월급은 {self.salary}입니다. 저는 {self.hire_date}에 입사했습니다.')"
   ]
  },
  {
   "cell_type": "code",
   "execution_count": 465,
   "id": "fa65d150",
   "metadata": {},
   "outputs": [
    {
     "name": "stdout",
     "output_type": "stream",
     "text": [
      "저의 이름은 PHS이며 나이는 11 입니다.\n",
      "저의 이름은 PHS이며 나이는 13 입니다.\n",
      "저의 이름은 PHS이며 나이는 11 입니다.\n",
      "제 월급은 20000000입니다. 저는 9월에 입사했습니다.\n",
      "저! PHS는 일을 열심히 합니다!\n"
     ]
    }
   ],
   "source": [
    "first_person = Person('PHS',13)\n",
    "first_korean = Korean('PHS', 11, 20000000, '9월')\n",
    "print(first_korean)\n",
    "first_person.about_me()\n",
    "first_korean.about_me()\n",
    "first_korean.do_work()"
   ]
  },
  {
   "cell_type": "markdown",
   "id": "f0d080e2",
   "metadata": {},
   "source": [
    "### Polymorphism(다형성)\n",
    "- 같은 이름의 메소드의 내부 로직을 다르게 작성\n",
    "- Dynamic Typing 특성으로 인해 파이썬에서는 같은 부모클래스의 상속에서 주로 발생\n",
    "- 중요한 OOP의 개념 그러나 너무 깊이는 알 필요 없다.\\\n",
    "=> 함수명은 같은데 함수 안에 인터페이스와 코드가 조금씩 다르게 코드를 짤 수 있는거 / 같은 일을 하는데 세부적인 구현이 다른 것"
   ]
  },
  {
   "cell_type": "code",
   "execution_count": 466,
   "id": "3e7bd215",
   "metadata": {},
   "outputs": [],
   "source": [
    "class Animal(object):\n",
    "    def __init__(self, name):\n",
    "        self.name = name\n",
    "        \n",
    "    \n",
    "    def talk(self):  # Abstract method, defined by convent only\n",
    "        raise NotImplementedError('Subclass must implement abstract method')"
   ]
  },
  {
   "cell_type": "code",
   "execution_count": 467,
   "id": "d9863f86",
   "metadata": {},
   "outputs": [],
   "source": [
    "class Cat(Animal):\n",
    "    def talk(self):\n",
    "        return 'Meow!'\n",
    "    \n",
    "    \n",
    "class Dog(Animal):\n",
    "    def talk(self):\n",
    "        return \"Woof! Woof!\""
   ]
  },
  {
   "cell_type": "code",
   "execution_count": 470,
   "id": "150ea0d5",
   "metadata": {},
   "outputs": [
    {
     "name": "stdout",
     "output_type": "stream",
     "text": [
      "Mi:Meow!\n",
      "Paul:Meow!\n",
      "Chon:Woof! Woof!\n"
     ]
    }
   ],
   "source": [
    "animals = [Cat('Mi'), Cat('Paul'), Dog('Chon')]\n",
    "\n",
    "for animal in animals:\n",
    "    print(animal.name+\":\"+animal.talk())\n",
    "\n",
    "# 같은 함수명인 Talk이지만 다른 값을 갖고온다."
   ]
  },
  {
   "cell_type": "markdown",
   "id": "229dac5b",
   "metadata": {},
   "source": [
    "### Visibility\n",
    "- 객체의 정보를 볼 수 있는 레벨을 조절하는 것\n",
    "- ***누구나 객체 안에 모든 변수를 볼 필요가 없다.***\n",
    "    1. 객체를 사용하는 사용자가 임의의 정보 수정\n",
    "    2. 필요 없는 정보에는 접근할 필요가 없음\n",
    "    3. 만약 제품으로 판매한다면? 소스의 보호\n",
    "    \n",
    "#### Encapsulation\n",
    "- 캡슐화 또는 정보 은닉(imformation hiding)\n",
    "- Class 를 설계할 때, 클리스 간 간섭/정보공유의 최소화\n",
    "- 심판 클래스가 축구선수 클래스 가족 정보를 알아야 하나?\n",
    "- 캡슐을 던지듯, 인터페이스만 알아서 써야 함\n",
    "- \\_\\_를 앞에 붙이면 된다."
   ]
  },
  {
   "cell_type": "markdown",
   "id": "2be06381",
   "metadata": {},
   "source": [
    "example 1\n",
    "- product 객체를 inventory 객체에 추가\n",
    "- inventory에는 오직 Product 객체만 들어감\n",
    "- inventory에 product가 몇 개인지 확인이 필요\n",
    "- inventory에 product items는 **직접 접근불가**"
   ]
  },
  {
   "cell_type": "code",
   "execution_count": 471,
   "id": "14fb57c5",
   "metadata": {},
   "outputs": [],
   "source": [
    "class Product(object):\n",
    "    pass"
   ]
  },
  {
   "cell_type": "code",
   "execution_count": 472,
   "id": "056ecde4",
   "metadata": {},
   "outputs": [],
   "source": [
    "class Inventory(object):\n",
    "    def __init__(self):\n",
    "        self.__items = []  # items 앞에 __를 붙여서 은닉화 시켰음 그러면 직접 접근이 불가능하다.\n",
    "                           # private 변수로 선언 타객체가 접근 못 함"
   ]
  },
  {
   "cell_type": "markdown",
   "id": "b9ed4504",
   "metadata": {},
   "source": [
    "example 2\n",
    "- product 객체를 inventory 객체에 추가\n",
    "- inventory에는 오직 Product 객체만 들어감\n",
    "- inventory에 product가 몇 개인지 확인이 필요\n",
    "- inventory에 product items **접근 허용**\n",
    "- 대표적인 방법인 @property를 사용한다."
   ]
  },
  {
   "cell_type": "code",
   "execution_count": 474,
   "id": "e3d7e223",
   "metadata": {},
   "outputs": [],
   "source": [
    "class Inventory(object):\n",
    "    def __init__(self):\n",
    "        self.__items = []\n",
    "        \n",
    "    \n",
    "    @property  # property decorator 숨겨진 변수를 반환하게 해준다.\n",
    "    def items(self):\n",
    "        return self.__items\n",
    "\n",
    "    \n",
    "    \n",
    "# 내부로는(__init__) 접근은 안되지만 외부로는(def items()) 접근이 가능하게 된다."
   ]
  },
  {
   "cell_type": "markdown",
   "id": "9061f950",
   "metadata": {},
   "source": [
    "## decorate\n",
    "- first-class objects\n",
    "- inner function\n",
    "- decorator\n",
    "\n",
    "### first-class objects\n",
    "- 일등함수 또는 일급 객체\n",
    "- 변수나 데이터 구조에 할당이 가능한 객체\n",
    "- 파라미터로 전달이 가능 + 리턴 값으로 사용\n",
    "- ***파이썬의 함수는 일급함수***\n",
    "\n",
    "\n",
    "### inner function\n",
    "- 함수 내에 또 다른 함수가 존재\n",
    "```\n",
    "def print_msg(msg):\n",
    "    def printer():\n",
    "        print(msg)\n",
    "    printer()\n",
    "print_msg('hello world')  # hello world\n",
    "```\n",
    "- closures : inner function을 return 값으로 반환\n",
    "```\n",
    "def print_msg(msg):\n",
    "    def printer():\n",
    "        print(msg)\n",
    "    return printer\n",
    "another = print_msg('hello world')\n",
    "another()  # hello world\n",
    "```\n",
    "=> 같은 목적, 비슷한 목적을 갖은 다양한 변형이 되있는 함수를 만들어 낼 수 있다.\n",
    "\n",
    "\n",
    "### decorator\n",
    "- 복잡한 클로져 함수를 간단하게 해준다.\n",
    "```\n",
    "def star(func):\n",
    "    def inner(*args, **kwargs):\n",
    "        print('*'*30)\n",
    "        func(*args, **kwargs)\n",
    "        print('*'*30)\n",
    "    return inner\n",
    "    ```\n",
    "    ```\n",
    "@star\n",
    "def printer(msg):\n",
    "    print(msg)\n",
    "printer('hello')\n",
    "```\n",
    "=> @star를 해 놓으면 밑에 있는 printer 함수가 위의 star함수의 파라미터로 들어가게 된다."
   ]
  },
  {
   "cell_type": "code",
   "execution_count": 494,
   "id": "928c3fe5",
   "metadata": {},
   "outputs": [
    {
     "name": "stdout",
     "output_type": "stream",
     "text": [
      "******************************\n",
      "hello\n",
      "******************************\n"
     ]
    }
   ],
   "source": [
    "def star(func):\n",
    "    def inner(*args, **kwargs):\n",
    "#         print(args[1]*30)\n",
    "        print(kwargs['mark']*30)\n",
    "#         print(args)\n",
    "#         print(kwargs)\n",
    "        func(*args, **kwargs)\n",
    "#         print(args)\n",
    "#         print(kwargs)\n",
    "        print(kwargs['mark']*30)\n",
    "#         print(args[1]*30)\n",
    "    return inner\n",
    "\n",
    "@star\n",
    "def printer(msg, mark):\n",
    "    print(msg)\n",
    "    \n",
    "# printer('hello', 'T')    \n",
    "printer(msg ='hello', mark = '*')"
   ]
  },
  {
   "cell_type": "markdown",
   "id": "48d24cd4",
   "metadata": {},
   "source": [
    "=> 다단계 형태로도 제작이 가능하다"
   ]
  },
  {
   "cell_type": "code",
   "execution_count": 496,
   "id": "3da4a5e8",
   "metadata": {},
   "outputs": [
    {
     "name": "stdout",
     "output_type": "stream",
     "text": [
      "******************************\n",
      "%%%%%%%%%%%%%%%%%%%%%%%%%%%%%%\n",
      "hello\n",
      "%%%%%%%%%%%%%%%%%%%%%%%%%%%%%%\n",
      "******************************\n"
     ]
    }
   ],
   "source": [
    "def star(func):\n",
    "    def inner(*args, **kwargs):\n",
    "        print('*'*30)\n",
    "        func(*args, **kwargs)\n",
    "        print('*'*30)\n",
    "    return inner\n",
    "\n",
    "\n",
    "def percent(func):\n",
    "    def inner(*args, **kwargs):\n",
    "        print('%'*30)\n",
    "        func(*args, **kwargs)\n",
    "        print('%'*30)\n",
    "    return inner\n",
    "\n",
    "@star\n",
    "@percent  # percent 먼저 들어간다\n",
    "def printer(msg):\n",
    "    print(msg)\n",
    "    \n",
    "printer('hello')    "
   ]
  },
  {
   "cell_type": "code",
   "execution_count": 497,
   "id": "10c05d55",
   "metadata": {},
   "outputs": [],
   "source": [
    "def generate_power(exponent):\n",
    "    def wrapper(f):\n",
    "        def inner(*args):\n",
    "            result = f(*args)\n",
    "            return exponent**result\n",
    "        return inner\n",
    "    return wrapper\n",
    "\n",
    "@generate_power(2)\n",
    "def raise_two(n):\n",
    "    return n**2"
   ]
  },
  {
   "cell_type": "code",
   "execution_count": 503,
   "id": "f1f4c018",
   "metadata": {},
   "outputs": [
    {
     "data": {
      "text/plain": [
       "33554432"
      ]
     },
     "execution_count": 503,
     "metadata": {},
     "output_type": "execute_result"
    }
   ],
   "source": [
    "raise_two(5)"
   ]
  },
  {
   "cell_type": "markdown",
   "id": "60a32b1b",
   "metadata": {},
   "source": [
    "# Module and Project\n",
    "- 객체 < 모듈 < 프로젝트\n",
    "\n",
    "## Module\n",
    "- 어떤 대상의 부분 혹은 조각\\\n",
    "=> 레고 한 블럭을 모듈이라 하면 완성체는 페키지라 보면 된다.\n",
    "- 프로그램에서는 작은 프로그램 조각들, 모듈들을 모아서 하나의 큰 프로그램을 개발함\n",
    "- 프로그램을 모듈화 시키면 다른 프로그램이 사용하기 쉬움 ex) 카카오톡 게임을 위한 카카오톡 접속 모듈\n",
    "- 모듈화를 잘 하면 남들이 사용하기 쉬워진다.\n",
    "\n",
    "#### 패키지\n",
    "- 모듈을 모아놓은 단위, 하나의 프로그램이다.\n",
    "\n",
    "### module 만들기\n",
    "- 파이썬의 module == py파일을 의미\n",
    "- 같은 폴더에 module에 해당하는 .py파일과 사용하는 .py을 저장한 후 \n",
    "- import 문을 사용해서 Module을 호출 => import 하게 되면 해당 module의 모든 코드 메모리를 로딩한다.\n",
    "- \\_\\_pycache__ 란?\\\n",
    "py 파일이 한 번 실행하게 되면 바이트 파일로 pyc 파일이 생성됩니다.\n",
    "즉, 다음에 실행할 때는 다시 인터프리터가 컴파일하는게 아니라 pyc파일이 있으면 즉시 실행합니다.\n",
    "프로그램 실행이 절약되겠죠??\n",
    "- namespace\\\n",
    "=> **lias 설정하기 - 모듈명을 별칭으로 쓰기 ex) import tensorflow as tf**\\\n",
    "=> 모듈에서 특정 함수 또는 클래스만 호출하기 ex) from tensorflow import keras\\\n",
    "=> 모듈에서 모든 함수 또는 클래스 호출하기 ex) from tensorflow import *\n",
    "\n",
    "- bulit-in func in python\\\n",
    "=> import random\\\n",
    "=> import time\\\n",
    "=> import urllib.request\n",
    "등등\n",
    "\n",
    "\n",
    "## Package\n",
    "- 하나의 대형 프로젝트를 만드는 코드의 묶음\n",
    "- 다양한 모듈들의 합, 폴더로 연결됨,\n",
    "- \\_\\_init__, \\_\\_main__ 등 키워드 파일명이 사용됨\n",
    "- 다양한 오픈 소스들이 모두 패키지로 관리됨\n",
    "\n",
    "#### 폴더별 \\_\\_init__.py 구성하기\n",
    "- 현재 폴더가 패키지임을 알리는 초기화 스크립트\n",
    "- 하위 폴더와 py 파일(모듈)을 모두 포함함\n",
    "- import와 \\_\\_all__ keyword사용"
   ]
  },
  {
   "cell_type": "code",
   "execution_count": 504,
   "id": "0e1b1ca2",
   "metadata": {},
   "outputs": [
    {
     "name": "stdout",
     "output_type": "stream",
     "text": [
      "# packages in environment at /Users/phs/opt/anaconda3:\r\n",
      "#\r\n",
      "# Name                    Version                   Build  Channel\r\n",
      "_anaconda_depends         2022.05                  py39_0  \r\n",
      "_ipyw_jlab_nb_ext_conf    0.1.0            py39hecd8cb5_0  \r\n",
      "_py-xgboost-mutex         2.0                       cpu_0    conda-forge\r\n",
      "absl-py                   1.1.0                    pypi_0    pypi\r\n",
      "aiohttp                   3.8.1            py39hca72f7f_1  \r\n",
      "aiosignal                 1.2.0              pyhd3eb1b0_0  \r\n",
      "alabaster                 0.7.12             pyhd3eb1b0_0  \r\n",
      "altgraph                  0.17               pyhd3eb1b0_0  \r\n",
      "anaconda                  custom                   py39_1  \r\n",
      "anaconda-client           1.9.0            py39hecd8cb5_0  \r\n",
      "anaconda-navigator        2.2.0            py39hecd8cb5_0  \r\n",
      "anaconda-project          0.10.1             pyhd3eb1b0_0  \r\n",
      "anyio                     2.2.0            py39hecd8cb5_1  \r\n",
      "appdirs                   1.4.4              pyhd3eb1b0_0  \r\n",
      "applaunchservices         0.2.1              pyhd3eb1b0_0  \r\n",
      "appnope                   0.1.2           py39hecd8cb5_1001  \r\n",
      "appscript                 1.1.2            py39h9ed2024_0  \r\n",
      "argh                      0.26.2           py39hecd8cb5_0  \r\n",
      "argon2-cffi               20.1.0           py39h9ed2024_1  \r\n",
      "argon2-cffi-bindings      21.2.0           py39hca72f7f_0  \r\n",
      "arrow                     0.13.1           py39hecd8cb5_0  \r\n",
      "asgiref                   3.4.1              pyhd3eb1b0_0  \r\n",
      "asn1crypto                1.4.0                      py_0  \r\n",
      "astroid                   2.6.6            py39hecd8cb5_0  \r\n",
      "astropy                   4.3.1            py39hf9932de_0  \r\n",
      "asttokens                 2.0.5              pyhd3eb1b0_0  \r\n",
      "astunparse                1.6.3                    pypi_0    pypi\r\n",
      "async-timeout             4.0.1              pyhd3eb1b0_0  \r\n",
      "async_generator           1.10               pyhd3eb1b0_0  \r\n",
      "atomicwrites              1.4.0                      py_0  \r\n",
      "attrs                     21.2.0             pyhd3eb1b0_0  \r\n",
      "audioread                 2.1.9                    pypi_0    pypi\r\n",
      "automat                   20.2.0                     py_0  \r\n",
      "autopep8                  1.5.7              pyhd3eb1b0_0  \r\n",
      "babel                     2.9.1              pyhd3eb1b0_0  \r\n",
      "backcall                  0.2.0              pyhd3eb1b0_0  \r\n",
      "backports                 1.0                pyhd3eb1b0_2  \r\n",
      "backports.functools_lru_cache 1.6.4              pyhd3eb1b0_0  \r\n",
      "backports.shutil_get_terminal_size 1.0.0              pyhd3eb1b0_3  \r\n",
      "backports.tempfile        1.0                pyhd3eb1b0_1  \r\n",
      "backports.weakref         1.0.post1                  py_1  \r\n",
      "bcrypt                    3.2.0            py39h9ed2024_0  \r\n",
      "beautifulsoup4            4.10.0             pyh06a4308_0  \r\n",
      "binaryornot               0.4.4              pyhd3eb1b0_1  \r\n",
      "bitarray                  2.3.0            py39h9ed2024_1  \r\n",
      "bkcharts                  0.2              py39hecd8cb5_0  \r\n",
      "black                     19.10b0                    py_0  \r\n",
      "blas                      1.0                         mkl  \r\n",
      "bleach                    4.0.0              pyhd3eb1b0_0  \r\n",
      "blosc                     1.21.0               h2842e9f_0  \r\n",
      "bokeh                     2.4.1            py39hecd8cb5_0  \r\n",
      "boto                      2.49.0           py39hecd8cb5_0  \r\n",
      "boto3                     1.24.2           py39hecd8cb5_0  \r\n",
      "botocore                  1.27.2           py39hecd8cb5_0  \r\n",
      "bottleneck                1.3.2            py39he3068b8_1  \r\n",
      "branca                    0.4.2              pyhd8ed1ab_0    conda-forge\r\n",
      "brotli                    1.0.9                hb1e8313_2  \r\n",
      "brotlipy                  0.7.0           py39h9ed2024_1003  \r\n",
      "brunsli                   0.1                  h23ab428_0  \r\n",
      "bzip2                     1.0.8                h1de35cc_0  \r\n",
      "c-ares                    1.17.1               h9ed2024_0  \r\n",
      "ca-certificates           2022.4.26            hecd8cb5_0  \r\n",
      "cached-property           1.5.2                      py_0  \r\n",
      "cachetools                5.2.0                    pypi_0    pypi\r\n",
      "cairo                     1.14.12              hc4e6be7_4    anaconda\r\n",
      "certifi                   2022.5.18.1      py39hecd8cb5_0  \r\n",
      "cffi                      1.14.6           py39h2125817_0  \r\n",
      "cfitsio                   3.470                hee0f690_6  \r\n",
      "chardet                   4.0.0           py39hecd8cb5_1003  \r\n",
      "charls                    2.2.0                h23ab428_0  \r\n",
      "charset-normalizer        2.0.4              pyhd3eb1b0_0  \r\n",
      "click                     8.0.3              pyhd3eb1b0_0  \r\n",
      "cloudpickle               2.0.0              pyhd3eb1b0_0  \r\n",
      "clyent                    1.2.2            py39hecd8cb5_1  \r\n",
      "colorama                  0.4.4              pyhd3eb1b0_0  \r\n",
      "colorcet                  3.0.0            py39hecd8cb5_0  \r\n",
      "conda                     4.13.0           py39hecd8cb5_0  \r\n",
      "conda-build               3.21.9           py39hecd8cb5_0  \r\n",
      "conda-content-trust       0.1.1              pyhd3eb1b0_0  \r\n",
      "conda-env                 2.6.0                         1  \r\n",
      "conda-pack                0.6.0              pyhd3eb1b0_0  \r\n",
      "conda-package-handling    1.7.3            py39h9ed2024_1  \r\n",
      "conda-repo-cli            1.0.4              pyhd3eb1b0_0  \r\n",
      "conda-token               0.3.0              pyhd3eb1b0_0  \r\n",
      "conda-verify              3.4.2                      py_1  \r\n",
      "constantly                15.1.0             pyh2b92418_0  \r\n",
      "contextlib2               0.6.0.post1        pyhd3eb1b0_0  \r\n",
      "cookiecutter              1.7.2              pyhd3eb1b0_0  \r\n",
      "cryptography              3.4.8            py39h2fd3fbb_0  \r\n",
      "cssselect                 1.1.0              pyhd3eb1b0_0  \r\n",
      "curl                      7.78.0               h7bc2e8c_0  \r\n",
      "cycler                    0.10.0           py39hecd8cb5_0  \r\n",
      "cython                    0.29.24          py39he9d5cce_0  \r\n",
      "cytoolz                   0.11.0           py39h9ed2024_0  \r\n",
      "daal4py                   2021.3.0         py39h01d92e1_0  \r\n",
      "dal                       2021.3.0           hecd8cb5_555  \r\n",
      "dask                      2021.10.0          pyhd3eb1b0_0  \r\n",
      "dask-core                 2021.10.0          pyhd3eb1b0_0  \r\n",
      "dataclasses               0.6                      pypi_0    pypi\r\n",
      "datashader                0.13.0             pyhd3eb1b0_1  \r\n",
      "datashape                 0.5.4            py39hecd8cb5_1  \r\n",
      "debugpy                   1.4.1            py39h23ab428_0  \r\n",
      "decorator                 5.1.0              pyhd3eb1b0_0  \r\n",
      "defusedxml                0.7.1              pyhd3eb1b0_0  \r\n",
      "diff-match-patch          20200713           pyhd3eb1b0_0  \r\n",
      "dill                      0.3.5.1                  pypi_0    pypi\r\n",
      "distributed               2021.10.0        py39hecd8cb5_0  \r\n",
      "django                    3.2.5              pyhd3eb1b0_0  \r\n",
      "dm-tree                   0.1.7                    pypi_0    pypi\r\n",
      "docutils                  0.17.1           py39hecd8cb5_1  \r\n",
      "entrypoints               0.3              py39hecd8cb5_0  \r\n",
      "et_xmlfile                1.1.0            py39hecd8cb5_0  \r\n",
      "etils                     0.6.0                    pypi_0    pypi\r\n",
      "executing                 0.8.3              pyhd3eb1b0_0  \r\n",
      "expat                     2.2.10               hb1e8313_2    anaconda\r\n",
      "fastcache                 1.1.0            py39h9ed2024_0  \r\n",
      "filelock                  3.3.1              pyhd3eb1b0_1  \r\n",
      "fire                      0.4.0                    pypi_0    pypi\r\n",
      "flake8                    3.9.2              pyhd3eb1b0_0  \r\n",
      "flask                     1.1.2              pyhd3eb1b0_0  \r\n",
      "flatbuffers               1.12                     pypi_0    pypi\r\n",
      "folium                    0.12.1.post1       pyhd8ed1ab_1    conda-forge\r\n",
      "fontconfig                2.13.0               h5d5b041_1    anaconda\r\n",
      "fonttools                 4.25.0             pyhd3eb1b0_0  \r\n",
      "freetype                  2.10.4               ha233b18_0  \r\n",
      "fribidi                   1.0.10               haf1e3a3_0    anaconda\r\n",
      "frozenlist                1.2.0            py39hca72f7f_0  \r\n",
      "fsspec                    2021.8.1           pyhd3eb1b0_0  \r\n",
      "future                    0.18.2           py39hecd8cb5_1  \r\n",
      "gast                      0.4.0                    pypi_0    pypi\r\n",
      "gensim                    3.8.3            py39h23ab428_2  \r\n",
      "get_terminal_size         1.0.0                h7520d66_0  \r\n",
      "gettext                   0.19.8.1             h15daf44_3    anaconda\r\n",
      "gevent                    21.8.0           py39h9ed2024_1  \r\n",
      "giflib                    5.2.1                haf1e3a3_0  \r\n",
      "gin-config                0.5.0                    pypi_0    pypi\r\n",
      "glib                      2.56.2               hd9629dc_0    anaconda\r\n",
      "glob2                     0.7                pyhd3eb1b0_0  \r\n",
      "gmp                       6.2.1                h23ab428_2  \r\n",
      "gmpy2                     2.0.8            py39h4b98818_3  \r\n",
      "google-api-core           2.8.2                    pypi_0    pypi\r\n",
      "google-api-python-client  2.51.0                   pypi_0    pypi\r\n",
      "google-auth               2.7.0                    pypi_0    pypi\r\n",
      "google-auth-httplib2      0.1.0                    pypi_0    pypi\r\n",
      "google-auth-oauthlib      0.4.6                    pypi_0    pypi\r\n",
      "google-cloud-bigquery     3.2.0                    pypi_0    pypi\r\n",
      "google-cloud-bigquery-storage 2.13.2                   pypi_0    pypi\r\n",
      "google-cloud-core         2.3.1                    pypi_0    pypi\r\n",
      "google-cloud-storage      1.43.0           py39hecd8cb5_0  \r\n",
      "google-crc32c             1.3.0                    pypi_0    pypi\r\n",
      "google-pasta              0.2.0                    pypi_0    pypi\r\n",
      "google-resumable-media    2.3.3                    pypi_0    pypi\r\n",
      "googleapis-common-protos  1.56.2                   pypi_0    pypi\r\n",
      "googlemaps                2.5.1                      py_0    conda-forge\r\n",
      "graphite2                 1.3.14               h38d11af_0    anaconda\r\n",
      "graphviz                  2.40.1               hefbbd9a_2    anaconda\r\n",
      "greenlet                  1.1.1            py39h23ab428_0  \r\n",
      "grpcio                    1.46.3                   pypi_0    pypi\r\n",
      "grpcio-status             1.46.3                   pypi_0    pypi\r\n",
      "h11                       0.13.0             pyhd8ed1ab_0    conda-forge\r\n",
      "h5py                      3.2.1            py39h90fc2a2_0  \r\n",
      "harfbuzz                  1.8.8                hb8d4a28_0    anaconda\r\n",
      "hdf5                      1.10.6               hdbbcd12_0  \r\n",
      "heapdict                  1.0.1              pyhd3eb1b0_0  \r\n",
      "holoviews                 1.14.8             pyhd3eb1b0_0  \r\n",
      "html5lib                  1.1                pyhd3eb1b0_0  \r\n",
      "httplib2                  0.20.4                   pypi_0    pypi\r\n",
      "hvplot                    0.7.3              pyhd3eb1b0_1  \r\n",
      "hyperlink                 21.0.0             pyhd3eb1b0_0  \r\n",
      "icu                       58.2                 h0a44026_3  \r\n",
      "idna                      3.2                pyhd3eb1b0_0  \r\n",
      "imagecodecs               2021.8.26        py39ha952a84_0  \r\n",
      "imageio                   2.9.0              pyhd3eb1b0_0  \r\n",
      "imagesize                 1.2.0              pyhd3eb1b0_0  \r\n",
      "imbalanced-learn          0.7.0                      py_1    conda-forge\r\n",
      "importlib-metadata        4.8.1            py39hecd8cb5_0  \r\n",
      "importlib-resources       5.8.0                    pypi_0    pypi\r\n",
      "importlib_metadata        4.8.1                hd3eb1b0_0  \r\n",
      "incremental               21.3.0             pyhd3eb1b0_0  \r\n",
      "inflection                0.5.1            py39hecd8cb5_0  \r\n",
      "iniconfig                 1.1.1              pyhd3eb1b0_0  \r\n",
      "intake                    0.6.5              pyhd3eb1b0_0  \r\n",
      "intel-openmp              2021.4.0          hecd8cb5_3538  \r\n",
      "intervaltree              3.1.0              pyhd3eb1b0_0  \r\n",
      "ipykernel                 6.4.1            py39hecd8cb5_1  \r\n",
      "ipython                   7.29.0           py39h01d92e1_0  \r\n",
      "ipython_genutils          0.2.0              pyhd3eb1b0_1  \r\n",
      "ipywidgets                7.6.5              pyhd3eb1b0_1  \r\n",
      "isort                     5.9.3              pyhd3eb1b0_0  \r\n",
      "itemadapter               0.3.0              pyhd3eb1b0_0  \r\n",
      "itemloaders               1.0.4              pyhd3eb1b0_1  \r\n",
      "itsdangerous              2.0.1              pyhd3eb1b0_0  \r\n",
      "jbig                      2.1                  h4d881f8_0  \r\n",
      "jdcal                     1.4.1              pyhd3eb1b0_0  \r\n",
      "jedi                      0.18.0           py39hecd8cb5_1  \r\n",
      "jinja2                    2.11.3             pyhd3eb1b0_0  \r\n",
      "jinja2-time               0.2.0              pyhd3eb1b0_2  \r\n",
      "jmespath                  0.10.0             pyhd3eb1b0_0  \r\n",
      "joblib                    1.1.0              pyhd3eb1b0_0  \r\n",
      "jpeg                      9d                   h9ed2024_0  \r\n",
      "jq                        1.6               h9ed2024_1000  \r\n",
      "json5                     0.9.6              pyhd3eb1b0_0  \r\n",
      "jsonschema                3.2.0              pyhd3eb1b0_2  \r\n",
      "jupyter                   1.0.0            py39hecd8cb5_7  \r\n",
      "jupyter_client            6.1.12             pyhd3eb1b0_0  \r\n",
      "jupyter_console           6.4.0              pyhd3eb1b0_0  \r\n",
      "jupyter_core              4.8.1            py39hecd8cb5_0  \r\n",
      "jupyter_server            1.4.1            py39hecd8cb5_0  \r\n",
      "jupyterlab                3.2.1              pyhd3eb1b0_1  \r\n",
      "jupyterlab_pygments       0.1.2                      py_0  \r\n",
      "jupyterlab_server         2.8.2              pyhd3eb1b0_0  \r\n",
      "jupyterlab_widgets        1.0.0              pyhd3eb1b0_1  \r\n",
      "jxrlib                    1.1                  haf1e3a3_2  \r\n",
      "kaggle                    1.5.12                   pypi_0    pypi\r\n",
      "keras                     2.9.0                    pypi_0    pypi\r\n",
      "keras-preprocessing       1.1.2                    pypi_0    pypi\r\n",
      "keyring                   23.1.0           py39hecd8cb5_0  \r\n",
      "kiwisolver                1.3.1            py39h23ab428_0  \r\n",
      "krb5                      1.19.2               hcd88c3b_0  \r\n",
      "lazy-object-proxy         1.6.0            py39h9ed2024_0  \r\n",
      "lcms2                     2.12                 hf1fd2bf_0  \r\n",
      "lerc                      3.0                  he9d5cce_0  \r\n",
      "libaec                    1.0.4                hb1e8313_1  \r\n",
      "libarchive                3.4.2                haa3ed63_0  \r\n",
      "libclang                  14.0.1                   pypi_0    pypi\r\n",
      "libcrc32c                 1.1.1                hb1e8313_2  \r\n",
      "libcurl                   7.78.0               hb8e4fae_0  \r\n",
      "libcxx                    12.0.0               h2f01273_0  \r\n",
      "libdeflate                1.8                  h9ed2024_5  \r\n",
      "libedit                   3.1.20210910         hca72f7f_0  \r\n",
      "libev                     4.33                 h9ed2024_1  \r\n",
      "libffi                    3.3                  hb1e8313_2  \r\n",
      "libgfortran               3.0.1                h93005f0_2  \r\n",
      "libiconv                  1.16                 h1de35cc_0  \r\n",
      "libidn2                   2.3.2                h9ed2024_0  \r\n",
      "liblief                   0.10.1               h23ab428_1  \r\n",
      "libllvm11                 11.1.0               h9b2ccf5_0  \r\n",
      "libnghttp2                1.41.0               h7580e61_2  \r\n",
      "libpng                    1.6.37               ha441bb4_0  \r\n",
      "libpq                     12.9                 h1c9f633_1  \r\n",
      "libprotobuf               3.19.1               h8346a28_0  \r\n",
      "librosa                   0.8.1                    pypi_0    pypi\r\n",
      "libsodium                 1.0.18               h1de35cc_0  \r\n",
      "libspatialindex           1.9.3                h23ab428_0  \r\n",
      "libssh2                   1.9.0                ha12b0ac_1  \r\n",
      "libtiff                   4.2.0                h87d7836_0  \r\n",
      "libunistring              0.9.10               h9ed2024_0  \r\n",
      "libuv                     1.40.0               haf1e3a3_0  \r\n",
      "libwebp                   1.2.0                hacca55c_0  \r\n",
      "libwebp-base              1.2.0                h9ed2024_0  \r\n",
      "libxgboost                1.5.1            cpu_h598c753_2    conda-forge\r\n",
      "libxml2                   2.9.12               hcdb78fc_0  \r\n",
      "libxslt                   1.1.34               h83b36ba_0  \r\n",
      "libzopfli                 1.0.3                hb1e8313_0  \r\n",
      "lightgbm                  3.3.2            py39h1e675f4_0    conda-forge\r\n",
      "llvm-openmp               12.0.0               h0dcd299_1  \r\n",
      "llvmlite                  0.36.0                   pypi_0    pypi\r\n",
      "locket                    0.2.1            py39hecd8cb5_1  \r\n",
      "lxml                      4.6.3            py39h26b266a_0  \r\n",
      "lz4-c                     1.9.3                h23ab428_1  \r\n",
      "lzo                       2.10                 haf1e3a3_2  \r\n",
      "macholib                  1.14               pyhd3eb1b0_1  \r\n",
      "markdown                  3.3.7                    pypi_0    pypi\r\n",
      "markupsafe                1.1.1            py39h9ed2024_0  \r\n",
      "matplotlib                3.4.3            py39hecd8cb5_0  \r\n",
      "matplotlib-base           3.4.3            py39h0a11d32_0  \r\n",
      "matplotlib-inline         0.1.2              pyhd3eb1b0_2  \r\n",
      "mccabe                    0.6.1            py39hecd8cb5_1  \r\n",
      "missingno                 0.4.2                      py_1    conda-forge\r\n",
      "mistune                   0.8.4           py39h9ed2024_1000  \r\n",
      "mkl                       2021.4.0           hecd8cb5_637  \r\n",
      "mkl-service               2.4.0            py39h9ed2024_0  \r\n",
      "mkl_fft                   1.3.1            py39h4ab4a9b_0  \r\n",
      "mkl_random                1.2.2            py39hb2f4e1b_0  \r\n",
      "mock                      4.0.3              pyhd3eb1b0_0  \r\n",
      "more-itertools            8.10.0             pyhd3eb1b0_0  \r\n",
      "mpc                       1.1.0                h6ef4df4_1  \r\n",
      "mpfr                      4.0.2                h9066e36_1  \r\n",
      "mpi                       1.0                       mpich  \r\n",
      "mpich                     3.3.2                hc856adb_0  \r\n",
      "mpmath                    1.2.1            py39hecd8cb5_0  \r\n",
      "msgpack-python            1.0.2            py39hf7b0b51_1  \r\n",
      "multidict                 5.2.0            py39hca72f7f_2  \r\n",
      "multipledispatch          0.6.0            py39hecd8cb5_0  \r\n",
      "munkres                   1.1.4                      py_0  \r\n",
      "mypy_extensions           0.4.3            py39hecd8cb5_0  \r\n",
      "navigator-updater         0.2.1            py39hecd8cb5_0  \r\n",
      "nbclassic                 0.2.6              pyhd3eb1b0_0  \r\n",
      "nbclient                  0.5.3              pyhd3eb1b0_0  \r\n",
      "nbconvert                 6.1.0            py39hecd8cb5_0  \r\n",
      "nbformat                  5.1.3              pyhd3eb1b0_0  \r\n",
      "ncurses                   6.3                  hca72f7f_1  \r\n",
      "nest-asyncio              1.5.1              pyhd3eb1b0_0  \r\n",
      "networkx                  2.6.3              pyhd3eb1b0_0  \r\n",
      "neural-structured-learning 1.3.1                    pypi_0    pypi\r\n",
      "nltk                      3.6.5              pyhd3eb1b0_0  \r\n",
      "nose                      1.3.7           pyhd3eb1b0_1006  \r\n",
      "notebook                  6.4.5            py39hecd8cb5_0  \r\n",
      "numba                     0.53.0                   pypi_0    pypi\r\n",
      "numexpr                   2.7.3            py39h5873af2_1  \r\n",
      "numpy                     1.20.3           py39h4b4dc7a_0  \r\n",
      "numpy-base                1.20.3           py39he0bd621_0  \r\n",
      "numpydoc                  1.1.0              pyhd3eb1b0_1  \r\n",
      "oauthlib                  3.2.0                    pypi_0    pypi\r\n",
      "olefile                   0.46               pyhd3eb1b0_0  \r\n",
      "oniguruma                 6.9.7.1              h9ed2024_0  \r\n",
      "opencv-python-headless    4.6.0.66                 pypi_0    pypi\r\n",
      "openjpeg                  2.4.0                h66ea3da_0  \r\n",
      "openpyxl                  3.0.9              pyhd3eb1b0_0  \r\n",
      "openssl                   1.1.1o               hca72f7f_0  \r\n",
      "opt-einsum                3.3.0                    pypi_0    pypi\r\n",
      "outcome                   1.1.0              pyhd8ed1ab_0    conda-forge\r\n",
      "packaging                 20.9                     pypi_0    pypi\r\n",
      "pandas                    1.3.4            py39h743cdd8_0  \r\n",
      "pandocfilters             1.4.3            py39hecd8cb5_1  \r\n",
      "panel                     0.13.0           py39hecd8cb5_0  \r\n",
      "pango                     1.42.4               h060686c_0    anaconda\r\n",
      "param                     1.12.0             pyhd3eb1b0_0  \r\n",
      "parsel                    1.6.0            py39hecd8cb5_0  \r\n",
      "parso                     0.8.2              pyhd3eb1b0_0  \r\n",
      "partd                     1.2.0              pyhd3eb1b0_0  \r\n",
      "path                      16.0.0           py39hecd8cb5_0  \r\n",
      "path.py                   12.5.0               hd3eb1b0_0  \r\n",
      "pathlib2                  2.3.6            py39hecd8cb5_2  \r\n",
      "pathspec                  0.7.0                      py_0  \r\n",
      "patsy                     0.5.2            py39hecd8cb5_0  \r\n",
      "pcre                      8.44                 hb1e8313_0    anaconda\r\n",
      "pep8                      1.7.1            py39hecd8cb5_0  \r\n",
      "pexpect                   4.8.0              pyhd3eb1b0_3  \r\n",
      "pickleshare               0.7.5           pyhd3eb1b0_1003  \r\n",
      "pillow                    8.4.0            py39h98e4679_0  \r\n",
      "pip                       21.2.4           py39hecd8cb5_0  \r\n",
      "pixman                    0.40.0               haf1e3a3_0    anaconda\r\n",
      "pkginfo                   1.7.1            py39hecd8cb5_0  \r\n",
      "plotly                    5.6.0              pyhd3eb1b0_0  \r\n",
      "pluggy                    0.13.1           py39hecd8cb5_0  \r\n",
      "ply                       3.11             py39hecd8cb5_0  \r\n",
      "pooch                     1.6.0                    pypi_0    pypi\r\n",
      "poyo                      0.5.0              pyhd3eb1b0_0  \r\n",
      "prometheus_client         0.11.0             pyhd3eb1b0_0  \r\n",
      "promise                   2.3                      pypi_0    pypi\r\n",
      "prompt-toolkit            3.0.20             pyhd3eb1b0_0  \r\n",
      "prompt_toolkit            3.0.20               hd3eb1b0_0  \r\n",
      "protego                   0.1.16                     py_0  \r\n",
      "proto-plus                1.20.6                   pypi_0    pypi\r\n",
      "protobuf                  3.19.4                   pypi_0    pypi\r\n",
      "psutil                    5.8.0            py39h9ed2024_1  \r\n",
      "psycopg2                  2.8.6            py39hbcfaee0_1  \r\n",
      "ptyprocess                0.7.0              pyhd3eb1b0_2  \r\n",
      "pure_eval                 0.2.2              pyhd3eb1b0_0  \r\n",
      "py                        1.10.0             pyhd3eb1b0_0  \r\n",
      "py-cpuinfo                8.0.0                    pypi_0    pypi\r\n",
      "py-lief                   0.10.1           py39h23ab428_1  \r\n",
      "py-xgboost                1.5.1           cpu_py39hb0a6171_2    conda-forge\r\n",
      "pyarrow                   8.0.0                    pypi_0    pypi\r\n",
      "pyasn1                    0.4.8              pyhd3eb1b0_0  \r\n",
      "pyasn1-modules            0.2.8                    pypi_0    pypi\r\n",
      "pybind11                  2.9.2                    pypi_0    pypi\r\n",
      "pycocotools               2.0.4                    pypi_0    pypi\r\n",
      "pycodestyle               2.7.0              pyhd3eb1b0_0  \r\n",
      "pycosat                   0.6.3            py39h9ed2024_0  \r\n",
      "pycparser                 2.20                       py_2  \r\n",
      "pycryptodome              3.12.0           py39h05f8d05_0  \r\n",
      "pyct                      0.4.6            py39hecd8cb5_0  \r\n",
      "pycurl                    7.44.1           py39hbcfaee0_1  \r\n",
      "pydispatcher              2.0.5            py39hecd8cb5_2  \r\n",
      "pydocstyle                6.1.1              pyhd3eb1b0_0  \r\n",
      "pyerfa                    2.0.0            py39h9ed2024_0  \r\n",
      "pyflakes                  2.3.1              pyhd3eb1b0_0  \r\n",
      "pygments                  2.10.0             pyhd3eb1b0_0  \r\n",
      "pyhamcrest                2.0.2              pyhd3eb1b0_2  \r\n",
      "pyinstaller               3.6              py39h7bc2e8c_6  \r\n",
      "pyjwt                     2.1.0            py39hecd8cb5_0  \r\n",
      "pylint                    2.9.6            py39hecd8cb5_1  \r\n",
      "pyls-spyder               0.4.0              pyhd3eb1b0_0  \r\n",
      "pymongo                   3.12.0           py39h23ab428_0  \r\n",
      "pyodbc                    4.0.31           py39h23ab428_0  \r\n",
      "pyopenssl                 21.0.0             pyhd3eb1b0_1  \r\n",
      "pyparsing                 3.0.4              pyhd3eb1b0_0  \r\n",
      "pyqt                      5.9.2            py39h23ab428_6  \r\n",
      "pyrsistent                0.18.0           py39hca72f7f_0  \r\n",
      "pysocks                   1.7.1            py39hecd8cb5_0  \r\n",
      "pytables                  3.6.1            py39h648f197_1  \r\n",
      "pytest                    6.2.4            py39hecd8cb5_2  \r\n",
      "python                    3.9.7                h88f2d9e_1  \r\n",
      "python-dateutil           2.8.2              pyhd3eb1b0_0  \r\n",
      "python-fastjsonschema     2.15.1             pyhd3eb1b0_0  \r\n",
      "python-graphviz           0.16               pyhd3eb1b0_1  \r\n",
      "python-libarchive-c       2.9                pyhd3eb1b0_1  \r\n",
      "python-lsp-black          1.0.0              pyhd3eb1b0_0  \r\n",
      "python-lsp-jsonrpc        1.0.0              pyhd3eb1b0_0  \r\n",
      "python-lsp-server         1.2.4              pyhd3eb1b0_0  \r\n",
      "python-slugify            5.0.2              pyhd3eb1b0_0  \r\n",
      "python-snappy             0.6.0            py39h23ab428_3  \r\n",
      "python.app                3                py39hca72f7f_0  \r\n",
      "python_abi                3.9                      2_cp39    conda-forge\r\n",
      "pytz                      2021.3             pyhd3eb1b0_0  \r\n",
      "pyviz_comms               2.0.2              pyhd3eb1b0_0  \r\n",
      "pywavelets                1.1.1            py39he3068b8_4  \r\n",
      "pyyaml                    6.0              py39hca72f7f_1  \r\n",
      "pyzmq                     22.2.1           py39h23ab428_1  \r\n",
      "qdarkstyle                3.0.2              pyhd3eb1b0_0  \r\n",
      "qstylizer                 0.1.10             pyhd3eb1b0_0  \r\n",
      "qt                        5.9.7                h468cd18_1  \r\n",
      "qtawesome                 1.0.2              pyhd3eb1b0_0  \r\n",
      "qtconsole                 5.1.1              pyhd3eb1b0_0  \r\n",
      "qtpy                      1.10.0             pyhd3eb1b0_0  \r\n",
      "queuelib                  1.5.0            py39hecd8cb5_0  \r\n",
      "readline                  8.1                  h9ed2024_0  \r\n",
      "regex                     2021.8.3         py39h9ed2024_0  \r\n",
      "requests                  2.26.0             pyhd3eb1b0_0  \r\n",
      "requests-file             1.5.1              pyhd3eb1b0_0  \r\n",
      "requests-oauthlib         1.3.1                    pypi_0    pypi\r\n",
      "resampy                   0.2.2                    pypi_0    pypi\r\n",
      "ripgrep                   12.1.1                        0  \r\n",
      "rope                      0.19.0             pyhd3eb1b0_0  \r\n",
      "rsa                       4.8                      pypi_0    pypi\r\n",
      "rtree                     0.9.7            py39hecd8cb5_1  \r\n",
      "ruamel_yaml               0.15.100         py39h9ed2024_0  \r\n",
      "s3transfer                0.6.0            py39hecd8cb5_0  \r\n",
      "scikit-image              0.18.3           py39hae1ba45_0  \r\n",
      "scikit-learn              0.24.2           py39hb2f4e1b_0  \r\n",
      "scikit-learn-intelex      2021.3.0         py39hecd8cb5_0  \r\n",
      "scipy                     1.7.1            py39h88652d9_2  \r\n",
      "scrapy                    2.6.1            py39hecd8cb5_0  \r\n",
      "seaborn                   0.11.2             pyhd3eb1b0_0  \r\n",
      "selenium                  4.1.0              pyhd8ed1ab_0    conda-forge\r\n",
      "send2trash                1.8.0              pyhd3eb1b0_1  \r\n",
      "sentencepiece             0.1.96                   pypi_0    pypi\r\n",
      "service_identity          18.1.0             pyhd3eb1b0_1  \r\n",
      "setuptools                58.0.4           py39hecd8cb5_0  \r\n",
      "simplegeneric             0.8.1            py39hecd8cb5_2  \r\n",
      "singledispatch            3.7.0           pyhd3eb1b0_1001  \r\n",
      "sip                       4.19.13          py39h23ab428_0  \r\n",
      "six                       1.16.0             pyhd3eb1b0_0  \r\n",
      "smart_open                5.2.1            py39hecd8cb5_0  \r\n",
      "snappy                    1.1.8                hb1e8313_0  \r\n",
      "sniffio                   1.2.0            py39hecd8cb5_1  \r\n",
      "snowballstemmer           2.1.0              pyhd3eb1b0_0  \r\n",
      "sortedcollections         2.1.0              pyhd3eb1b0_0  \r\n",
      "sortedcontainers          2.4.0              pyhd3eb1b0_0  \r\n",
      "sounddevice               0.4.4                    pypi_0    pypi\r\n",
      "soundfile                 0.10.3.post1             pypi_0    pypi\r\n",
      "soupsieve                 2.2.1              pyhd3eb1b0_0  \r\n",
      "sphinx                    4.2.0              pyhd3eb1b0_1  \r\n",
      "sphinxcontrib             1.0              py39hecd8cb5_1  \r\n",
      "sphinxcontrib-applehelp   1.0.2              pyhd3eb1b0_0  \r\n",
      "sphinxcontrib-devhelp     1.0.2              pyhd3eb1b0_0  \r\n",
      "sphinxcontrib-htmlhelp    2.0.0              pyhd3eb1b0_0  \r\n",
      "sphinxcontrib-jsmath      1.0.1              pyhd3eb1b0_0  \r\n",
      "sphinxcontrib-qthelp      1.0.3              pyhd3eb1b0_0  \r\n",
      "sphinxcontrib-serializinghtml 1.1.5              pyhd3eb1b0_0  \r\n",
      "sphinxcontrib-websupport  1.2.4                      py_0  \r\n",
      "spyder                    5.1.5            py39hecd8cb5_1  \r\n",
      "spyder-kernels            2.1.3            py39hecd8cb5_0  \r\n",
      "sqlalchemy                1.4.22           py39h9ed2024_0  \r\n",
      "sqlite                    3.36.0               hce871da_0  \r\n",
      "sqlparse                  0.4.1                      py_0  \r\n",
      "stack_data                0.2.0              pyhd3eb1b0_0  \r\n",
      "statsmodels               0.12.2           py39h9ed2024_0  \r\n",
      "sympy                     1.9              py39hecd8cb5_0  \r\n",
      "tabulate                  0.8.9            py39hecd8cb5_0  \r\n",
      "tbb                       2021.4.0             haf03e11_0  \r\n",
      "tbb4py                    2021.4.0         py39haf03e11_0  \r\n",
      "tblib                     1.7.0              pyhd3eb1b0_0  \r\n",
      "tenacity                  8.0.1            py39hecd8cb5_0  \r\n",
      "tensorboard               2.9.0                    pypi_0    pypi\r\n",
      "tensorboard-data-server   0.6.1                    pypi_0    pypi\r\n",
      "tensorboard-plugin-wit    1.8.1                    pypi_0    pypi\r\n",
      "tensorflow                2.9.1                    pypi_0    pypi\r\n",
      "tensorflow-addons         0.17.1                   pypi_0    pypi\r\n",
      "tensorflow-datasets       4.6.0                    pypi_0    pypi\r\n",
      "tensorflow-estimator      2.9.0                    pypi_0    pypi\r\n",
      "tensorflow-hub            0.12.0                   pypi_0    pypi\r\n",
      "tensorflow-io-gcs-filesystem 0.26.0                   pypi_0    pypi\r\n",
      "tensorflow-metadata       1.8.0                    pypi_0    pypi\r\n",
      "tensorflow-model-optimization 0.7.2                    pypi_0    pypi\r\n",
      "tensorflowjs              3.18.0                   pypi_0    pypi\r\n",
      "termcolor                 1.1.0                    pypi_0    pypi\r\n",
      "terminado                 0.9.4            py39hecd8cb5_0  \r\n",
      "testpath                  0.5.0              pyhd3eb1b0_0  \r\n",
      "text-unidecode            1.3                pyhd3eb1b0_0  \r\n",
      "textdistance              4.2.1              pyhd3eb1b0_0  \r\n",
      "tf-models-official        2.3.0                    pypi_0    pypi\r\n",
      "tf-slim                   1.1.0                    pypi_0    pypi\r\n",
      "tflite-model-maker        0.3.4                    pypi_0    pypi\r\n",
      "tflite-support            0.4.1                    pypi_0    pypi\r\n",
      "threadpoolctl             2.2.0              pyh0d69192_0  \r\n",
      "three-merge               0.1.1              pyhd3eb1b0_0  \r\n",
      "tifffile                  2021.7.2           pyhd3eb1b0_2  \r\n",
      "tinycss                   0.4             pyhd3eb1b0_1002  \r\n",
      "tk                        8.6.11               h7bc2e8c_0  \r\n",
      "tldextract                3.2.0              pyhd3eb1b0_0  \r\n",
      "toml                      0.10.2             pyhd3eb1b0_0  \r\n",
      "tomli                     1.2.2              pyhd3eb1b0_0  \r\n",
      "toolz                     0.11.1             pyhd3eb1b0_0  \r\n",
      "tornado                   6.1              py39h9ed2024_0  \r\n",
      "tqdm                      4.62.3             pyhd3eb1b0_1  \r\n",
      "traitlets                 5.1.0              pyhd3eb1b0_0  \r\n",
      "trio                      0.20.0           py39h6e9494a_1    conda-forge\r\n",
      "trio-websocket            0.9.2              pyhd8ed1ab_0    conda-forge\r\n",
      "twisted                   22.2.0           py39hca72f7f_0  \r\n",
      "typed-ast                 1.4.3            py39h9ed2024_1  \r\n",
      "typeguard                 2.13.3                   pypi_0    pypi\r\n",
      "typing-extensions         3.10.0.2             hd3eb1b0_0  \r\n",
      "typing_extensions         3.10.0.2           pyh06a4308_0  \r\n",
      "tzdata                    2021e                hda174b7_0  \r\n",
      "ujson                     4.0.2            py39h23ab428_0  \r\n",
      "unicodecsv                0.14.1           py39hecd8cb5_0  \r\n",
      "unidecode                 1.2.0              pyhd3eb1b0_0  \r\n",
      "unixodbc                  2.3.9                haf1e3a3_0  \r\n",
      "uritemplate               4.1.1                    pypi_0    pypi\r\n",
      "urllib3                   1.25.11                  pypi_0    pypi\r\n",
      "w3lib                     1.21.0             pyhd3eb1b0_0  \r\n",
      "watchdog                  2.1.3            py39hd5f6b7e_0  \r\n",
      "wcwidth                   0.2.5              pyhd3eb1b0_0  \r\n",
      "webencodings              0.5.1            py39hecd8cb5_1  \r\n",
      "websocket-client          0.58.0           py39hecd8cb5_4  \r\n",
      "werkzeug                  2.0.2              pyhd3eb1b0_0  \r\n",
      "wget                      1.20.1               h051b688_0  \r\n",
      "wheel                     0.37.0             pyhd3eb1b0_1  \r\n",
      "whichcraft                0.6.1              pyhd3eb1b0_0  \r\n",
      "widgetsnbextension        3.5.1            py39hecd8cb5_0  \r\n",
      "wrapt                     1.12.1           py39h9ed2024_1  \r\n",
      "wsproto                   1.1.0            py39h6e9494a_0    conda-forge\r\n",
      "wurlitzer                 2.1.1            py39hecd8cb5_0  \r\n",
      "xarray                    0.20.1             pyhd3eb1b0_1  \r\n",
      "xgboost                   1.5.1           cpu_py39h037b50c_2    conda-forge\r\n",
      "xlrd                      2.0.1              pyhd3eb1b0_0  \r\n",
      "xlsxwriter                3.0.1              pyhd3eb1b0_0  \r\n",
      "xlwings                   0.24.9           py39hecd8cb5_0  \r\n",
      "xlwt                      1.3.0            py39hecd8cb5_0  \r\n",
      "xmltodict                 0.12.0             pyhd3eb1b0_0  \r\n",
      "xz                        5.2.5                h1de35cc_0  \r\n",
      "yaml                      0.2.5                haf1e3a3_0  \r\n",
      "yapf                      0.31.0             pyhd3eb1b0_0  \r\n",
      "yarl                      1.6.3            py39h9ed2024_0  \r\n",
      "zeromq                    4.3.4                h23ab428_0  \r\n",
      "zfp                       0.5.5                h23ab428_6  \r\n",
      "zict                      2.0.0              pyhd3eb1b0_0  \r\n",
      "zipp                      3.6.0              pyhd3eb1b0_0  \r\n",
      "zlib                      1.2.11               h1de35cc_3  \r\n",
      "zope                      1.0              py39hecd8cb5_1  \r\n",
      "zope.event                4.5.0            py39hecd8cb5_0  \r\n",
      "zope.interface            5.4.0            py39h9ed2024_0  \r\n",
      "zstd                      1.4.9                h322a384_0  \r\n"
     ]
    },
    {
     "name": "stdout",
     "output_type": "stream",
     "text": [
      "\n",
      "Note: you may need to restart the kernel to use updated packages.\n"
     ]
    }
   ],
   "source": []
  },
  {
   "cell_type": "code",
   "execution_count": null,
   "id": "ca53c529",
   "metadata": {},
   "outputs": [],
   "source": []
  }
 ],
 "metadata": {
  "kernelspec": {
   "display_name": "Python 3 (ipykernel)",
   "language": "python",
   "name": "python3"
  },
  "language_info": {
   "codemirror_mode": {
    "name": "ipython",
    "version": 3
   },
   "file_extension": ".py",
   "mimetype": "text/x-python",
   "name": "python",
   "nbconvert_exporter": "python",
   "pygments_lexer": "ipython3",
   "version": "3.9.7"
  }
 },
 "nbformat": 4,
 "nbformat_minor": 5
}
