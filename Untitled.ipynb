{
 "cells": [
  {
   "cell_type": "code",
   "execution_count": 3,
   "id": "0cca75a0",
   "metadata": {},
   "outputs": [],
   "source": [
    "import torch\n",
    "import numpy as np"
   ]
  },
  {
   "cell_type": "markdown",
   "id": "29f74bcf",
   "metadata": {},
   "source": [
    "# PyTorch Basic Tensor Manipulation\n",
    "- Vector, Matrix and Tensor\n",
    "- NumPy Review\n",
    "- PyTorch Tensor Allocation\n",
    "- Matrix Multiplication\n",
    "- Other Basic Ops\n",
    "\n",
    "## Vector, Matrix and Tensor\n",
    "### PyTorch Tensor Shape Convention\n",
    "- 2D Tensor (typical simple setting)\n",
    "    - |t| = (batch size, dim)\n",
    "- 3D Tensor (typical computer vision)\n",
    "    - |t| = (batch size, width, height)\n",
    "- 3D Tensor (typical natural language processing)\n",
    "    - |t| = (batch size, length, dim \n",
    "\n",
    "### PyTroch Tensor\n",
    "- pytorch에서 tensor를 만드는 것은 numpy와 동일하다.\n",
    "- torch.FloatTensor()를 이용하면 1차원 2차원 3차원 등 을 많들 수 있다."
   ]
  },
  {
   "cell_type": "code",
   "execution_count": 7,
   "id": "8dbf1c69",
   "metadata": {},
   "outputs": [
    {
     "name": "stdout",
     "output_type": "stream",
     "text": [
      "tensor([0., 1., 2., 3., 4., 5., 6.]) <class 'torch.Tensor'>\n",
      "[0. 1. 2. 3. 4. 5. 6.] <class 'numpy.ndarray'>\n"
     ]
    }
   ],
   "source": [
    "one_dim_torch = torch.FloatTensor([0.,1.,2.,3.,4.,5.,6.])\n",
    "print(one_dim_torch, type(one_dim_torch))\n",
    "one_dim_np = np.array([0.,1.,2.,3.,4.,5.,6.])\n",
    "print(one_dim_np,type(one_dim_np))"
   ]
  },
  {
   "cell_type": "code",
   "execution_count": 9,
   "id": "8fa553aa",
   "metadata": {},
   "outputs": [
    {
     "name": "stdout",
     "output_type": "stream",
     "text": [
      "1\n",
      "torch.Size([7])\n",
      "torch.Size([7])\n",
      "tensor(0.) tensor(6.)\n"
     ]
    }
   ],
   "source": [
    "print(one_dim_torch.dim())\n",
    "print(one_dim_torch.shape)\n",
    "print(one_dim_torch.size())\n",
    "print(one_dim_torch[0],one_dim_torch[-1])"
   ]
  },
  {
   "cell_type": "code",
   "execution_count": null,
   "id": "b43b43f8",
   "metadata": {},
   "outputs": [],
   "source": []
  }
 ],
 "metadata": {
  "kernelspec": {
   "display_name": "Python 3 (ipykernel)",
   "language": "python",
   "name": "python3"
  },
  "language_info": {
   "codemirror_mode": {
    "name": "ipython",
    "version": 3
   },
   "file_extension": ".py",
   "mimetype": "text/x-python",
   "name": "python",
   "nbconvert_exporter": "python",
   "pygments_lexer": "ipython3",
   "version": "3.9.7"
  }
 },
 "nbformat": 4,
 "nbformat_minor": 5
}
