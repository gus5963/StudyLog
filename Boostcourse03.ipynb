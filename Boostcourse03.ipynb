{
 "cells": [
  {
   "cell_type": "code",
   "execution_count": 4,
   "id": "76ed2850",
   "metadata": {},
   "outputs": [],
   "source": [
    "import numpy as np\n",
    "import random"
   ]
  },
  {
   "cell_type": "markdown",
   "id": "42015703",
   "metadata": {},
   "source": [
    "Numerical Python - Numpy\n",
    "==\n",
    "- 파이썬의 고성능 과학 계산용 페키지\n",
    "- Matrix와 Vector와 같은 Array연산의 사실상의 표준\n",
    "\n",
    "## Numpy 특징\n",
    "- 일반 list에 비해 빠르고, 메모리 효율적\n",
    "- 반복문 없이 데이터 배열에 대한 처리를 지원함\n",
    "- 선형대수와 관련된 다양한 기능을 제공항\n",
    "- c, c++, 포트란 등의 언어와 통합가능\n",
    "\n",
    "## ndarray\n",
    "- numpy 는 np.array 함수를 활용하여 배열을 생성한다. => ndarray\n",
    "- numpy는 하나의 데이터 type만 배열에 넣을 수 있음\n",
    "- list와 가장 큰 차이점, Dynamic typing not supported\n",
    "- C의 Array를 사용하여 배열을 생성함"
   ]
  },
  {
   "cell_type": "code",
   "execution_count": 5,
   "id": "8036e489",
   "metadata": {},
   "outputs": [
    {
     "name": "stdout",
     "output_type": "stream",
     "text": [
      "[1. 2. 3. 4.]\n"
     ]
    },
    {
     "data": {
      "text/plain": [
       "array([1., 2., 3., 4.])"
      ]
     },
     "metadata": {},
     "output_type": "display_data"
    },
    {
     "name": "stdout",
     "output_type": "stream",
     "text": [
      "(4,)\n"
     ]
    }
   ],
   "source": [
    "test_array = np.array([1,2,3,4],float)  # data type을 설정하게되면 다 통일된다.\n",
    "print(test_array)\n",
    "display(test_array)\n",
    "type(test_array[3])\n",
    "print(test_array.shape)  # Array의 shape"
   ]
  },
  {
   "cell_type": "markdown",
   "id": "adf122e0",
   "metadata": {},
   "source": [
    "- array shape\\\n",
    "=> (deep, row, column)\\\n",
    "=> ndim(number of dimension), size(data의 개수)"
   ]
  },
  {
   "cell_type": "markdown",
   "id": "00ca72a8",
   "metadata": {},
   "source": [
    "## Handling shape\n",
    "- handling은 array의 shape의 크기를 변경함(element의 개수는 동일하지만 dimension만 달라진다.)\\\n",
    "=> 만일 reshape을 할 때 -1을 사용할 수 있다.\n",
    "\n",
    "### flatten\n",
    "- 다차원 array를 1차원 array로 만들어 준다. (2,2,2) => flatten => (8,)"
   ]
  },
  {
   "cell_type": "code",
   "execution_count": 14,
   "id": "24da22a7",
   "metadata": {},
   "outputs": [
    {
     "name": "stdout",
     "output_type": "stream",
     "text": [
      "2d => 3d\n",
      "(2, 4)\n",
      "<class 'numpy.ndarray'>\n",
      "2\n",
      "3d\n",
      "(2, 2, 2)\n",
      "<class 'numpy.ndarray'>\n",
      "3\n"
     ]
    }
   ],
   "source": [
    "print('2d => 3d')\n",
    "test_matrix = np.array([[1,2,3,4,],[5,6,7,8]])\n",
    "print(test_matrix.shape)\n",
    "print(type(test_matrix))\n",
    "print(test_matrix.ndim)\n",
    "print('3d')\n",
    "reshape_matrix = np.array(test_matrix).reshape(2,2,2)\n",
    "print(reshape_matrix.shape)\n",
    "print(type(reshape_matrix))\n",
    "print(reshape_matrix.ndim)"
   ]
  },
  {
   "cell_type": "markdown",
   "id": "fba3ef53",
   "metadata": {},
   "source": [
    "## Indexing & slicing\n",
    "### indexing\n",
    "- list와 달리 2차원 배열에서 [0,0]과 같은 표기법을 제공한다.\n",
    "- Matrix일 경우 앞은 row, 뒤는 column을 의미한다."
   ]
  },
  {
   "cell_type": "code",
   "execution_count": 15,
   "id": "61ed3551",
   "metadata": {},
   "outputs": [
    {
     "name": "stdout",
     "output_type": "stream",
     "text": [
      "[[1 2 3 4]\n",
      " [5 6 7 8]]\n",
      "4\n",
      "4\n",
      "[[ 1  2  3 11]\n",
      " [ 5  6  7  8]]\n",
      "[[  1   2   3 111]\n",
      " [  5   6   7   8]]\n"
     ]
    }
   ],
   "source": [
    "print(test_matrix)\n",
    "print(test_matrix[0,3])\n",
    "print(test_matrix[0][3])\n",
    "test_matrix[0,3] = 11\n",
    "print(test_matrix)\n",
    "test_matrix[0,3] = 111\n",
    "print(test_matrix)"
   ]
  },
  {
   "cell_type": "markdown",
   "id": "0d7d997e",
   "metadata": {},
   "source": [
    "### slicing\n",
    "- list와 달리 행과 열 부분을 나눠서 slicing이 가능함\n",
    "- matrix의 부분집합을 추출할 때 유용"
   ]
  },
  {
   "cell_type": "code",
   "execution_count": 27,
   "id": "d9056817",
   "metadata": {},
   "outputs": [
    {
     "name": "stdout",
     "output_type": "stream",
     "text": [
      "[[  1   2   3 111]\n",
      " [  5   6   7   8]]\n",
      "[[1 2]\n",
      " [5 6]]\n",
      "[[  3 111]\n",
      " [  7   8]]\n",
      "[6 7]\n",
      "[[  1   2   3 111]\n",
      " [  5   6   7   8]]\n"
     ]
    }
   ],
   "source": [
    "print(test_matrix)\n",
    "print(test_matrix[:,:2])  # 모든 행을 갖고오고 열은 처음부터 1번까지 slicing\n",
    "print(test_matrix[:,2:])  # 모든 행을 갖고오고 열은 2번부터 끝까지 slicing\n",
    "print(test_matrix[1,1:3]) # 1번 행을 갖고오고 열은 1,2번까지 slicing\n",
    "print(test_matrix[0:2])  # 0 ~ 1번 행의 전체 slicing"
   ]
  },
  {
   "cell_type": "markdown",
   "id": "ab5b3220",
   "metadata": {},
   "source": [
    "## create function\n",
    "### arange\n",
    "- array의 범위를 지정하여 값의 list를 생성하는 명령어"
   ]
  },
  {
   "cell_type": "code",
   "execution_count": 37,
   "id": "ea3977a6",
   "metadata": {
    "scrolled": true
   },
   "outputs": [
    {
     "name": "stdout",
     "output_type": "stream",
     "text": [
      "<class 'numpy.ndarray'> | 1 | [ 0  1  2  3  4  5  6  7  8  9 10 11 12 13 14 15 16 17 18 19 20 21 22 23\n",
      " 24 25 26 27 28 29]\n",
      "<class 'numpy.ndarray'> | 2 | [[ 0  2  4  6  8]\n",
      " [10 12 14 16 18]\n",
      " [20 22 24 26 28]]\n",
      "<class 'numpy.ndarray'> | 2 |\n",
      " [[ 0  1  2  3  4]\n",
      " [ 5  6  7  8  9]\n",
      " [10 11 12 13 14]\n",
      " [15 16 17 18 19]\n",
      " [20 21 22 23 24]\n",
      " [25 26 27 28 29]]\n"
     ]
    }
   ],
   "source": [
    "a = np.arange(30)\n",
    "print(type(a),'|',a.ndim,'|',a)\n",
    "a_v2 = np.arange(0,30,2).reshape(-1,5)\n",
    "print(type(a_v2),'|',a_v2.ndim,'|',a_v2)\n",
    "b = np.arange(30).reshape(-1,5)\n",
    "print(type(b),'|',b.ndim,'|\\n',b)"
   ]
  },
  {
   "cell_type": "markdown",
   "id": "7a7bb1f4",
   "metadata": {},
   "source": [
    "### tip!\n",
    "python에서는 step을 float로 할 수 없다.\\\n",
    "range(0,5,0.5) 입력 시 : TypeError: 'float' object cannot be interpreted as an integer\n",
    "\n",
    "따라서 list로 묶어서 활용하고 싶다면 np.arange()를 활용하여 뒤에 .tolist()함수만 작성해주면 만들 수 있다.\\\n",
    "np.arange(0,5,0.5).tolist() 입력 시 : [0.0, 0.5, 1.0, 1.5, 2.0, 2.5, 3.0, 3.5, 4.0, 4.5]"
   ]
  },
  {
   "cell_type": "markdown",
   "id": "1c44cba2",
   "metadata": {},
   "source": [
    "### ones, zeros and empty\n",
    "- zeros -0으로 가득찬 ndarray생성"
   ]
  },
  {
   "cell_type": "code",
   "execution_count": 44,
   "id": "906ae7ce",
   "metadata": {},
   "outputs": [
    {
     "data": {
      "text/plain": [
       "array([0, 0, 0, 0, 0, 0, 0, 0, 0, 0])"
      ]
     },
     "execution_count": 44,
     "metadata": {},
     "output_type": "execute_result"
    }
   ],
   "source": [
    "np.zeros(shape=(10,),dtype=int) # 10 - zero vector 생성"
   ]
  },
  {
   "cell_type": "code",
   "execution_count": 46,
   "id": "e490f8bd",
   "metadata": {},
   "outputs": [
    {
     "data": {
      "text/plain": [
       "array([[0., 0., 0., 0., 0.],\n",
       "       [0., 0., 0., 0., 0.],\n",
       "       [0., 0., 0., 0., 0.]])"
      ]
     },
     "execution_count": 46,
     "metadata": {},
     "output_type": "execute_result"
    }
   ],
   "source": [
    "np.zeros((3,5))  # 2 by 5 zero matrix 생성"
   ]
  },
  {
   "cell_type": "markdown",
   "id": "845e9a02",
   "metadata": {},
   "source": [
    "### random sampling\n",
    "- 데이터 분포에 따른 sampling으로 array를 생성"
   ]
  },
  {
   "cell_type": "code",
   "execution_count": 48,
   "id": "3f62b91b",
   "metadata": {},
   "outputs": [
    {
     "data": {
      "text/plain": [
       "array([[0.63875202, 0.00441052, 0.10537645, 0.72843861, 0.72970474],\n",
       "       [0.51263976, 0.72221837, 0.69097375, 0.28428014, 0.16278034]])"
      ]
     },
     "execution_count": 48,
     "metadata": {},
     "output_type": "execute_result"
    }
   ],
   "source": [
    "np.random.uniform(0,1,10).reshape(2,5)  # 균등분포"
   ]
  },
  {
   "cell_type": "code",
   "execution_count": 49,
   "id": "1b310508",
   "metadata": {},
   "outputs": [
    {
     "data": {
      "text/plain": [
       "array([[-1.09132893,  0.35240742, -0.21049697,  1.33381672, -0.98655211],\n",
       "       [ 0.1550189 , -0.73283567,  2.22891171,  1.22766913,  2.09133645]])"
      ]
     },
     "execution_count": 49,
     "metadata": {},
     "output_type": "execute_result"
    }
   ],
   "source": [
    "np.random.normal(0,1,10).reshape(2,5)  # 균등분포"
   ]
  },
  {
   "cell_type": "markdown",
   "id": "173631a1",
   "metadata": {},
   "source": [
    "## operation function\n",
    "### sum\n",
    "- list의 sum과 동일\n",
    "\n",
    "### axis\n",
    "- 모든 operation function을 실행할 때, 기준이 되는 dimension 축\n",
    "- axis = 0 (행), axis = 1 (열)\n",
    "- 살짝 헷갈릴 수 있다... 그냥 여러번 넣고 지우고 하면서 조정하면 된다."
   ]
  },
  {
   "cell_type": "code",
   "execution_count": 58,
   "id": "8af2bc3f",
   "metadata": {},
   "outputs": [
    {
     "name": "stdout",
     "output_type": "stream",
     "text": [
      "[[  1   2   3 111]\n",
      " [  5   6   7   8]]\n",
      "axis = 0, 각 행의 합\n",
      "[  6   8  10 119]\n",
      "axis = 1, 각 열의 합\n",
      "[117  26]\n"
     ]
    }
   ],
   "source": [
    "print(test_matrix)\n",
    "print('axis = 0, 행의 합')\n",
    "print(test_matrix.sum(axis=0))\n",
    "print('axis = 1, 열의 합')\n",
    "print(test_matrix.sum(axis=1))"
   ]
  },
  {
   "cell_type": "markdown",
   "id": "74bbf7a8",
   "metadata": {},
   "source": [
    "### Mathematical functions\n",
    "- 다양한 식들이 있다.\n",
    "\n",
    "### concatenate\n",
    "- numpy array를 합치는 함수\n",
    "- vstack, hstack, concatenate\n",
    "- 많이 사용된다..."
   ]
  },
  {
   "cell_type": "code",
   "execution_count": 61,
   "id": "46a377db",
   "metadata": {},
   "outputs": [
    {
     "name": "stdout",
     "output_type": "stream",
     "text": [
      "[[1 2 3]\n",
      " [4 5 6]]\n"
     ]
    }
   ],
   "source": [
    "a = np.array([1,2,3])\n",
    "b = np.array([4,5,6])\n",
    "print(np.vstack((a,b)))"
   ]
  },
  {
   "cell_type": "code",
   "execution_count": 62,
   "id": "e772454c",
   "metadata": {},
   "outputs": [
    {
     "name": "stdout",
     "output_type": "stream",
     "text": [
      "[[1 4]\n",
      " [2 5]\n",
      " [3 6]]\n"
     ]
    }
   ],
   "source": [
    "a = np.array([[1],[2],[3]])\n",
    "b = np.array([[4],[5],[6]])\n",
    "print(np.hstack((a,b)))"
   ]
  },
  {
   "cell_type": "code",
   "execution_count": 64,
   "id": "72490715",
   "metadata": {},
   "outputs": [
    {
     "name": "stdout",
     "output_type": "stream",
     "text": [
      "[[1]\n",
      " [2]\n",
      " [3]\n",
      " [4]\n",
      " [5]\n",
      " [6]]\n"
     ]
    }
   ],
   "source": [
    "a = np.array([[1],[2],[3]])\n",
    "b = np.array([[4],[5],[6]])\n",
    "print(np.concatenate((a,b),axis=0))  # 행을 기준으로 연결"
   ]
  },
  {
   "cell_type": "code",
   "execution_count": 65,
   "id": "600dd668",
   "metadata": {},
   "outputs": [
    {
     "name": "stdout",
     "output_type": "stream",
     "text": [
      "[[1 2 3]\n",
      " [4 5 6]]\n"
     ]
    }
   ],
   "source": [
    "a = np.array([[1,2,3]])\n",
    "b = np.array([[4,5,6]])\n",
    "print(np.concatenate((a,b),axis=0))  # 행을 기준으로 연결"
   ]
  },
  {
   "cell_type": "code",
   "execution_count": 66,
   "id": "d7157248",
   "metadata": {},
   "outputs": [
    {
     "name": "stdout",
     "output_type": "stream",
     "text": [
      "[[1 4]\n",
      " [2 5]\n",
      " [3 6]]\n"
     ]
    }
   ],
   "source": [
    "a = np.array([[1],[2],[3]])\n",
    "b = np.array([[4],[5],[6]])\n",
    "print(np.concatenate((a,b),axis=1))  # 열을 기준으로 연결"
   ]
  },
  {
   "cell_type": "code",
   "execution_count": 68,
   "id": "fc7bbda9",
   "metadata": {},
   "outputs": [
    {
     "name": "stdout",
     "output_type": "stream",
     "text": [
      "[[1 2 3 4 5 6]]\n"
     ]
    }
   ],
   "source": [
    "a = np.array([[1,2,3]])\n",
    "b = np.array([[4,5,6]])\n",
    "print(np.concatenate((a,b),axis=1))  # 열을 기준으로 연결"
   ]
  },
  {
   "cell_type": "markdown",
   "id": "e4caea63",
   "metadata": {},
   "source": [
    "### operations b/t arrays\n",
    "- numpy는 array간의 기본적인 사칙 연산을 지원한다."
   ]
  },
  {
   "cell_type": "code",
   "execution_count": 71,
   "id": "b975bb78",
   "metadata": {},
   "outputs": [
    {
     "name": "stdout",
     "output_type": "stream",
     "text": [
      "[[  1   2   3 111]\n",
      " [  5   6   7   8]]\n",
      "test_matrix + test_matrix\n",
      "[[  2   4   6 222]\n",
      " [ 10  12  14  16]]\n",
      "test_matrix - test_matrix\n",
      "[[0 0 0 0]\n",
      " [0 0 0 0]]\n",
      "test_matrix * test_matrix\n",
      "[[    1     4     9 12321]\n",
      " [   25    36    49    64]]\n",
      "test_matrix / test_matrix\n",
      "[[1. 1. 1. 1.]\n",
      " [1. 1. 1. 1.]]\n"
     ]
    }
   ],
   "source": [
    "print(test_matrix)\n",
    "print('test_matrix + test_matrix')\n",
    "print(test_matrix+test_matrix)\n",
    "print('test_matrix - test_matrix')\n",
    "print(test_matrix-test_matrix)\n",
    "print('test_matrix * test_matrix')\n",
    "print(test_matrix*test_matrix)\n",
    "print('test_matrix / test_matrix')\n",
    "print(test_matrix/test_matrix)"
   ]
  },
  {
   "cell_type": "markdown",
   "id": "283995e8",
   "metadata": {},
   "source": [
    "### transpose\n",
    "- transpose 또는 T attribute를 사용\n",
    "- 전체 역 행렬 (2,3) => (3,2)\n",
    "\n",
    "### broadcasting\n",
    "- shape이 다른 배열간 연산을 지원"
   ]
  },
  {
   "cell_type": "code",
   "execution_count": 82,
   "id": "660af1b5",
   "metadata": {},
   "outputs": [
    {
     "name": "stdout",
     "output_type": "stream",
     "text": [
      "broadcasting\n",
      "test_matrix\n",
      " [[  1   2   3 111]\n",
      " [  5   6   7   8]]\n",
      "scalar 3\n"
     ]
    },
    {
     "data": {
      "text/plain": [
       "array([[  4,   5,   6, 114],\n",
       "       [  8,   9,  10,  11]])"
      ]
     },
     "execution_count": 82,
     "metadata": {},
     "output_type": "execute_result"
    }
   ],
   "source": [
    "print('broadcasting')\n",
    "print('test_matrix\\n',test_matrix)\n",
    "scalar = 3\n",
    "print('scalar',scalar)\n",
    "test_matrix + scalar  # matrix 각 element에 scalar가 더해짐"
   ]
  },
  {
   "cell_type": "code",
   "execution_count": 74,
   "id": "c587de32",
   "metadata": {},
   "outputs": [
    {
     "data": {
      "text/plain": [
       "array([[ -2,  -1,   0, 108],\n",
       "       [  2,   3,   4,   5]])"
      ]
     },
     "execution_count": 74,
     "metadata": {},
     "output_type": "execute_result"
    }
   ],
   "source": [
    "test_matrix - scalar  # matrix - scalar 뺄셈"
   ]
  },
  {
   "cell_type": "code",
   "execution_count": 75,
   "id": "583fd217",
   "metadata": {},
   "outputs": [
    {
     "data": {
      "text/plain": [
       "array([[ -2,  -1,   0, 108],\n",
       "       [  2,   3,   4,   5]])"
      ]
     },
     "execution_count": 75,
     "metadata": {},
     "output_type": "execute_result"
    }
   ],
   "source": [
    "test_matrix * scalar  # matrix - scalar 곱셈"
   ]
  },
  {
   "cell_type": "code",
   "execution_count": 76,
   "id": "bd696150",
   "metadata": {},
   "outputs": [
    {
     "data": {
      "text/plain": [
       "array([[ -2,  -1,   0, 108],\n",
       "       [  2,   3,   4,   5]])"
      ]
     },
     "execution_count": 76,
     "metadata": {},
     "output_type": "execute_result"
    }
   ],
   "source": [
    "test_matrix / scalar  # matrix - scalar 나눗셈"
   ]
  },
  {
   "cell_type": "code",
   "execution_count": 77,
   "id": "b1bac54f",
   "metadata": {},
   "outputs": [
    {
     "data": {
      "text/plain": [
       "array([[ 0,  0,  1, 37],\n",
       "       [ 1,  2,  2,  2]])"
      ]
     },
     "execution_count": 77,
     "metadata": {},
     "output_type": "execute_result"
    }
   ],
   "source": [
    "test_matrix // scalar  # matrix - scalar 몫"
   ]
  },
  {
   "cell_type": "code",
   "execution_count": 78,
   "id": "3cbbfd75",
   "metadata": {},
   "outputs": [
    {
     "data": {
      "text/plain": [
       "array([[1, 2, 0, 0],\n",
       "       [2, 0, 1, 2]])"
      ]
     },
     "execution_count": 78,
     "metadata": {},
     "output_type": "execute_result"
    }
   ],
   "source": [
    "test_matrix % scalar  # matrix - scalar 나머지"
   ]
  },
  {
   "cell_type": "code",
   "execution_count": 83,
   "id": "c458c9b4",
   "metadata": {},
   "outputs": [
    {
     "data": {
      "text/plain": [
       "array([[      1,       8,      27, 1367631],\n",
       "       [    125,     216,     343,     512]])"
      ]
     },
     "execution_count": 83,
     "metadata": {},
     "output_type": "execute_result"
    }
   ],
   "source": [
    "test_matrix ** scalar  # matrix - scalar 제곱"
   ]
  },
  {
   "cell_type": "markdown",
   "id": "3a3fb1b9",
   "metadata": {},
   "source": [
    "- scalar - vector 외에도 vector - matrixr간의 연산도 지원한다."
   ]
  },
  {
   "cell_type": "markdown",
   "id": "f3ecbfa5",
   "metadata": {},
   "source": [
    "### numpy performance\n",
    "- 일반적으로 속도는 아래 순.\\\n",
    "=> for loop < list comprehension < numpy\n",
    "- 1억번의 loop이 돌 떄 약 4배 이상의 성능차이를 보인다.\n",
    "- numpy는 c로 구현되어 있어, 성능을 확보하는 대신 파이썬의 가장 큰 특징인 dynamic typing을 포기함\n",
    "- 대용량 계산에서는 가장 흔히 사용된다.\n",
    "- concatenate 처럼 계산이 아닌, 할당에서는 연산 속도의 이점이 없기 때문에 list로 먼저 한다음 ndarray로 변환을 해주는 것이 좋다."
   ]
  },
  {
   "cell_type": "markdown",
   "id": "d17561b7",
   "metadata": {},
   "source": [
    "## comparisons\n",
    "- any & all\n",
    "- broadcasting 과 같이 element하나하나식 비교를 해서 T | F를 보여준다."
   ]
  },
  {
   "cell_type": "code",
   "execution_count": 88,
   "id": "b2a7b77d",
   "metadata": {},
   "outputs": [
    {
     "data": {
      "text/plain": [
       "array([1, 2, 3, 4, 5, 6, 7, 8, 9])"
      ]
     },
     "execution_count": 88,
     "metadata": {},
     "output_type": "execute_result"
    }
   ],
   "source": [
    "a = np.array([1,2,3,4,5,6,7,8,9])\n",
    "a"
   ]
  },
  {
   "cell_type": "code",
   "execution_count": 89,
   "id": "5646ca05",
   "metadata": {},
   "outputs": [
    {
     "data": {
      "text/plain": [
       "array([False, False, False, False, False,  True,  True,  True,  True])"
      ]
     },
     "execution_count": 89,
     "metadata": {},
     "output_type": "execute_result"
    }
   ],
   "source": [
    "a > 5"
   ]
  },
  {
   "cell_type": "markdown",
   "id": "a3d95430",
   "metadata": {},
   "source": [
    "### np.where\n",
    "- where(condition, True , False)\n",
    "- 보통 T | F를 사용하지 않고 condition만 넣어 True에 해당하는 index 값만 갖고오는 형식으로 자주 활용한다."
   ]
  },
  {
   "cell_type": "code",
   "execution_count": 92,
   "id": "181a16be",
   "metadata": {},
   "outputs": [
    {
     "data": {
      "text/plain": [
       "array([ 0,  3, -1])"
      ]
     },
     "execution_count": 92,
     "metadata": {},
     "output_type": "execute_result"
    }
   ],
   "source": [
    "a = np.array([0,3,-1])\n",
    "a"
   ]
  },
  {
   "cell_type": "code",
   "execution_count": 95,
   "id": "49213766",
   "metadata": {},
   "outputs": [
    {
     "data": {
      "text/plain": [
       "array([2, 3, 2])"
      ]
     },
     "execution_count": 95,
     "metadata": {},
     "output_type": "execute_result"
    }
   ],
   "source": [
    "np.where(a>0, 3, 2)"
   ]
  },
  {
   "cell_type": "code",
   "execution_count": 96,
   "id": "e27c2a47",
   "metadata": {},
   "outputs": [
    {
     "data": {
      "text/plain": [
       "(array([1]),)"
      ]
     },
     "execution_count": 96,
     "metadata": {},
     "output_type": "execute_result"
    }
   ],
   "source": [
    "print('index 값 반환')\n",
    "np.where(a>0)  # True에 해당하는 index인 1번을 갖고 왔다."
   ]
  },
  {
   "cell_type": "code",
   "execution_count": 100,
   "id": "32c194ed",
   "metadata": {},
   "outputs": [
    {
     "name": "stdout",
     "output_type": "stream",
     "text": [
      "Null 값 확인\n"
     ]
    },
    {
     "data": {
      "text/plain": [
       "array([False,  True, False])"
      ]
     },
     "execution_count": 100,
     "metadata": {},
     "output_type": "execute_result"
    }
   ],
   "source": [
    "print('Null 값 확인')\n",
    "a = np.array([1,np.NaN,np.Inf],float)\n",
    "np.isnan(a)  # null 값이 있는지 확인하는 방법\n"
   ]
  },
  {
   "cell_type": "markdown",
   "id": "a8f58cbf",
   "metadata": {},
   "source": [
    "### arg.max, arg.min\n",
    "- 최대값과 최소값의 index를 갖고오는 방법\n",
    "- 2차원 경우 axis를 넣어주면 해당 축을 기준으로 최소, 최대값을 반환해준다."
   ]
  },
  {
   "cell_type": "code",
   "execution_count": 116,
   "id": "cddff89e",
   "metadata": {},
   "outputs": [
    {
     "name": "stdout",
     "output_type": "stream",
     "text": [
      "argmax : 8 402\n",
      "argmin : 6 30\n"
     ]
    }
   ],
   "source": [
    "a = np.array([random.randint(0,500) for i in range(10)])\n",
    "print('argmax :',np.argmax(a),a[np.argmax(a)])\n",
    "print('argmin :',np.argmin(a),a[np.argmin(a)])"
   ]
  },
  {
   "cell_type": "code",
   "execution_count": 123,
   "id": "06fd1813",
   "metadata": {},
   "outputs": [
    {
     "name": "stdout",
     "output_type": "stream",
     "text": [
      "[[    1    14    35   234     1    53     2]\n",
      " [   12    34   341  3215   134  3134 41423]]\n",
      "argmax axis = 1 : [3 6]\n",
      "argmin axis = 1 : [0 0]\n",
      "argmax axis = 0 : [1 1 1 1 1 1 1]\n",
      "argmin axis = 0 : [0 0 0 0 0 0 0]\n"
     ]
    }
   ],
   "source": [
    "b = np.array([[1,14,35,234,1,53,2],[12,34,341,3215,134,3134,41423]])\n",
    "print(b)\n",
    "print('argmax axis = 1 :',np.argmax(b, axis=1))\n",
    "print('argmin axis = 1 :',np.argmin(b, axis=1))\n",
    "print('argmax axis = 0 :',np.argmax(b, axis=0))\n",
    "print('argmin axis = 0 :',np.argmin(b, axis=0))"
   ]
  },
  {
   "cell_type": "markdown",
   "id": "05847e37",
   "metadata": {},
   "source": [
    "# 제일 많이 하는 실수!!!! numpy에 for 문을 써서 값을 찾으려 하는 것!!!"
   ]
  },
  {
   "cell_type": "markdown",
   "id": "23f13924",
   "metadata": {},
   "source": [
    "## boolean index\n",
    "- numpy 배열은 특정 조건에 따른 값을 배열 형태로 추출할 수 있음\n",
    "- comparison operation 함수들도 모두 사용이 가능\n",
    "- boolean type으로 값을 갖고온 다음 astype을 활용하여 int 로 변환화는 방식도 있다."
   ]
  },
  {
   "cell_type": "code",
   "execution_count": 128,
   "id": "63ddf1ac",
   "metadata": {},
   "outputs": [
    {
     "name": "stdout",
     "output_type": "stream",
     "text": [
      "[291 208 350 312 373 264  30 184 402 139]\n",
      "[ True  True  True  True  True  True False False  True False]\n"
     ]
    }
   ],
   "source": [
    "print(a)\n",
    "print(a>200)"
   ]
  },
  {
   "cell_type": "code",
   "execution_count": 129,
   "id": "2e16fdc4",
   "metadata": {},
   "outputs": [
    {
     "data": {
      "text/plain": [
       "array([291, 208, 350, 312, 373, 264, 402])"
      ]
     },
     "execution_count": 129,
     "metadata": {},
     "output_type": "execute_result"
    }
   ],
   "source": [
    "a[a>200]  # True에 해당하는 index의 element 값만 갖고오도록 한다."
   ]
  },
  {
   "cell_type": "markdown",
   "id": "b588bc15",
   "metadata": {},
   "source": [
    "## Fancy index\n",
    "- numpy는 array를 index value로 사용해서 값을 추출하는 방법\n",
    "- matrix 형태의 데이터도 가능하다."
   ]
  },
  {
   "cell_type": "code",
   "execution_count": 130,
   "id": "d0967156",
   "metadata": {},
   "outputs": [
    {
     "data": {
      "text/plain": [
       "array([2., 2., 4., 6., 8., 6., 6., 4., 2.])"
      ]
     },
     "execution_count": 130,
     "metadata": {},
     "output_type": "execute_result"
    }
   ],
   "source": [
    "a = np.array([2,4,6,8], float)\n",
    "b = np.array([0,0,1,2,3,2,2,1,0], int)  # 반드시 integer로 선언\n",
    "a[b]  # bracket index, b 배열의 값을 index로 하여 a의 값들을 추출함"
   ]
  },
  {
   "cell_type": "code",
   "execution_count": 131,
   "id": "04adea1e",
   "metadata": {},
   "outputs": [
    {
     "data": {
      "text/plain": [
       "array([2., 2., 4., 6., 8., 6., 6., 4., 2.])"
      ]
     },
     "execution_count": 131,
     "metadata": {},
     "output_type": "execute_result"
    }
   ],
   "source": [
    "a.take(b)  # take 함수 : bracket index와 같은 효과  / take를 활용하는 것을 추천,"
   ]
  },
  {
   "cell_type": "markdown",
   "id": "e6975a5b",
   "metadata": {},
   "source": [
    "# Vector\n",
    "- 숫자를 원소로 갖는 list, array이다.\n",
    "- 열벡터, 행벡터 \n",
    "- 벡터는 n차원 공간에서의 한 점을 나타낸다.\n",
    "- 벡터는 원점으로부터 상대적 위치를 표현\n",
    "- 벡터에 스칼라(숫자)를 곱해주면 방향은 같고 길이만 변하게 된다. 단, 스칼라곱이 0보다 작을면 반대 방향이 됨\n",
    "- 벡터끼리 같은 모양을 가지면 덧셈, 뺄셈, 성분곱을 할 수 있다.\n",
    "\n",
    "## 벡터의 노름(norm)\n",
    "- || || 기호는 노름이라 부름 / L1, L2 노름이 있다.\n",
    "- 원점에서부터의 거리를 말한다.\n",
    "- 임의의 차원 n에 대해 성립하는 것을 명심\n",
    "- L1-노름은 각 성분의 **변화량의 절대값**을 모두 더한다.\n",
    "- L2-노름은 **피타고라스 정리**를 이용해 **유클리드 거리**를 계산"
   ]
  },
  {
   "cell_type": "code",
   "execution_count": 1,
   "id": "a4b6540a",
   "metadata": {},
   "outputs": [
    {
     "name": "stdout",
     "output_type": "stream",
     "text": [
      "L1, L2 norm\n"
     ]
    }
   ],
   "source": [
    "print('L1, L2 norm')\n",
    "\n",
    "def l1_norm(x):\n",
    "    x_norm = np.abs(x)  # 절대값\n",
    "    x_norm = np.sum(x_norm)\n",
    "    return x_norm\n",
    " \n",
    "def l2_norm(x):  # 피타고라스 정리\n",
    "    x_norm = x*x  # 성분곱\n",
    "    x_norm = np.sum(x_norm)\n",
    "    x_norm = np.sqrt(x_norm)\n",
    "    return x_norm"
   ]
  },
  {
   "cell_type": "markdown",
   "id": "a4919edc",
   "metadata": {},
   "source": [
    "### 왜 다른 노름을 소개하나?\n",
    "- 노름의 종류에 따라 공간상에서 표현되는 기하학적 성질이 달라진다.\\\n",
    "=> l1-노름상의 원과 l2-노름상의 원이 다르게 표현된다.\n",
    "- 머신러닝에선 각 성질들이 필요할 때가 있으므로 둘 다 사용한다.\\\n",
    "=> l1-노름 : Robust 학습, Lasso 회귀 / l2-노름 : Laplace 근사, Ridge 회귀\n",
    "\n",
    "### 두 벡터 사이의 거리\n",
    "- L1, L2 - 노름을 이용해 두 벡터 사이의 거리를 계산할 수 있다.\n",
    "- 두 벡터 사이의 거리를 계산할 때는 벡터의 뺄셈을 이용한다.\n",
    "\n",
    "### 두 벡터 사이의 각도\n",
    "- 두 벡터 사이의 거리를 이용하여 각도도 계산할 수 있지만 **L2-노름에서만** 가능하다.\n",
    "- 제 2코사인 법칙에 의해 두 벡터 사이의 각도를 계산할 수 있다. \n",
    "- 분자를 쉽게 계산하는 방법이 내적이다. \\\n",
    "=> 내적(inner product)은 두벡터들의 연산들의 성분곱을 취한다음 성분곱을 취한 벡터들의 모든 성분들을 다 더해주는 연산\n"
   ]
  },
  {
   "cell_type": "code",
   "execution_count": 2,
   "id": "473b93ba",
   "metadata": {},
   "outputs": [
    {
     "name": "stdout",
     "output_type": "stream",
     "text": [
      "내적은 np.inner를 이용해서 계산한다.\n"
     ]
    }
   ],
   "source": [
    "print('내적은 np.inner를 이용해서 계산한다.')\n",
    "\n",
    "def angle(x,y):\n",
    "    v = np.inner(x,y) / (l2_norm(x) * l2_norm(y))  # inner를 이용하여 두 백터 사이의 내적을 구한다\n",
    "    theta = np.arccos(v)  # 아크 코사인\n",
    "    return theta"
   ]
  },
  {
   "cell_type": "markdown",
   "id": "c82ef8da",
   "metadata": {},
   "source": [
    "### 내적은 어떻게 해석??\n",
    "- 내적은 정사영(orthogonal projection)된 벡터의 길이와 관련있다.\\\n",
    "    => 정사영(Proj(x)) 은 벡터 y로 정사영된 벡터 x의 그림자를 의미\\\n",
    "    => Proj(x)의 길이는 코사인 법칙에 의해 ||x||*cosθ 가 된다.\n",
    "- 내적은 정사영의 길이를 벡터 y의 길이 ||y||만큼 조정한 값이다.\\\n",
    "    => 내적은 두 벡터의 유사도(similarity)를 측정하는데 사용 가능하다.\n",
    "    => 머신러닝에서는 두 데이터가 얼만큼 유사한가 또는 두 페턴이 얼만큼 유사한가를 보통 배울 때 두 벡터의 내적을 이용함으로서 유사도를 측정하여 두 벡터가 얼마나 유사한지를 확인할 수 있다."
   ]
  },
  {
   "cell_type": "markdown",
   "id": "3e712fe4",
   "metadata": {},
   "source": [
    "# 행렬(matrix)\n",
    "- 벡터를 원소로 갖는 2차원 배열\n",
    "- 행(row)과 열(column)이라는 index를 갖는다.\n",
    "- 행렬끼리 같은 모양을 가지면 덧셈, 뺄셈, 성분곱을 계산할 수 있습니다. 또한 스칼라곱도 벡터와 차이가 없다.\n",
    "\n",
    "\n",
    "## 행렬 이해하기 1번\n",
    "- 벡터가 공간에서 한 점을 의미한다면 행렬은 **여러 점들**을 나타낸다.\n",
    "- 행렬의 행벡터 Xi는 i번째 데이터를 의미\n",
    "- 행렬의 Xij는 i번째 데이터의 j번째 변수의 값\n",
    "\n",
    "\n",
    "## 행렬곱셉(Matrix multiplication)\n",
    "- 행렬곱셈은 **i번째 행벡터와 j번재 *열벡터* 사이의 내적**을 성분으로 가지는 행렬을 계산한다.\n",
    "- X의 행과 Y의 행이 있다. XY를 할 경우, 행렬곱은 X의 열의 개수와 Y의 행의 개수가 같아야 한다."
   ]
  },
  {
   "cell_type": "code",
   "execution_count": 5,
   "id": "4d0ba6aa",
   "metadata": {},
   "outputs": [],
   "source": [
    "X = np.array([[1,2,3],\n",
    "              [-1,-3,3],\n",
    "              [0,3,-6]])\n",
    "Y = np.array([[5,4],\n",
    "              [3,4],\n",
    "              [1,1]])"
   ]
  },
  {
   "cell_type": "code",
   "execution_count": 7,
   "id": "12cc0689",
   "metadata": {},
   "outputs": [
    {
     "name": "stdout",
     "output_type": "stream",
     "text": [
      "그냥 성분곱을 할 경우에는 ValueError가 발생\n"
     ]
    },
    {
     "ename": "ValueError",
     "evalue": "operands could not be broadcast together with shapes (3,3) (3,2) ",
     "output_type": "error",
     "traceback": [
      "\u001b[0;31m---------------------------------------------------------------------------\u001b[0m",
      "\u001b[0;31mValueError\u001b[0m                                Traceback (most recent call last)",
      "\u001b[0;32m/var/folders/28/zb5jqy4s6kn2xld_bfr5mpdw0000gn/T/ipykernel_17078/2292747801.py\u001b[0m in \u001b[0;36m<module>\u001b[0;34m\u001b[0m\n\u001b[1;32m      1\u001b[0m \u001b[0mprint\u001b[0m\u001b[0;34m(\u001b[0m\u001b[0;34m'그냥 성분곱을 할 경우에는 ValueError가 발생'\u001b[0m\u001b[0;34m)\u001b[0m\u001b[0;34m\u001b[0m\u001b[0;34m\u001b[0m\u001b[0m\n\u001b[0;32m----> 2\u001b[0;31m \u001b[0mX\u001b[0m \u001b[0;34m*\u001b[0m \u001b[0mY\u001b[0m\u001b[0;34m\u001b[0m\u001b[0;34m\u001b[0m\u001b[0m\n\u001b[0m",
      "\u001b[0;31mValueError\u001b[0m: operands could not be broadcast together with shapes (3,3) (3,2) "
     ]
    }
   ],
   "source": [
    "print('그냥 성분곱을 할 경우에는 ValueError가 발생')\n",
    "X * Y"
   ]
  },
  {
   "cell_type": "markdown",
   "id": "24849211",
   "metadata": {},
   "source": [
    "행렬곱셈을 하게되면 결괏값이 나온다.\\\n",
    "```\n",
    "X @ Y\n",
    "```\n",
    "\n",
    "[[ 14,  15],\\\n",
    "[-11, -13],\\\n",
    "[  3,   6]]\n",
    "\n",
    "14가 나온 이유는 X의 1행과 Y의 1열의 각 element들이 서로 곱한다음 총 합을 구한 값.\\\n",
    "1\\*5 + 2\\*3 + 3\\*1 = 14\n"
   ]
  },
  {
   "cell_type": "markdown",
   "id": "389d7077",
   "metadata": {},
   "source": [
    "## 행렬도 내적이 있을까?\n",
    "- numpy의 np.inner는 **i번째 행 벡터와, j번째 행벡터 사이의 내적**을 성분으로 가지는 행렬을 계산한다.\n",
    "- 수학에서 말하는 내적과는 다르므로 주의!!!! \n",
    "- 계산하려는 두 행렬의 행벡터의 길이가 같아야 한다."
   ]
  },
  {
   "cell_type": "code",
   "execution_count": 10,
   "id": "71bef093",
   "metadata": {},
   "outputs": [],
   "source": [
    "X = np.array([[1,2,3],\n",
    "              [-1,-3,3],\n",
    "              [0,3,-6]])\n",
    "Y = np.array([[5,4,3],\n",
    "              [4,1,1]])"
   ]
  },
  {
   "cell_type": "code",
   "execution_count": 11,
   "id": "3d53fad5",
   "metadata": {},
   "outputs": [
    {
     "ename": "ValueError",
     "evalue": "operands could not be broadcast together with shapes (3,3) (2,3) ",
     "output_type": "error",
     "traceback": [
      "\u001b[0;31m---------------------------------------------------------------------------\u001b[0m",
      "\u001b[0;31mValueError\u001b[0m                                Traceback (most recent call last)",
      "\u001b[0;32m/var/folders/28/zb5jqy4s6kn2xld_bfr5mpdw0000gn/T/ipykernel_17078/2111249966.py\u001b[0m in \u001b[0;36m<module>\u001b[0;34m\u001b[0m\n\u001b[0;32m----> 1\u001b[0;31m \u001b[0mX\u001b[0m \u001b[0;34m*\u001b[0m \u001b[0mY\u001b[0m\u001b[0;34m\u001b[0m\u001b[0;34m\u001b[0m\u001b[0m\n\u001b[0m",
      "\u001b[0;31mValueError\u001b[0m: operands could not be broadcast together with shapes (3,3) (2,3) "
     ]
    }
   ],
   "source": [
    "X * Y"
   ]
  },
  {
   "cell_type": "code",
   "execution_count": 12,
   "id": "c3910945",
   "metadata": {},
   "outputs": [
    {
     "ename": "ValueError",
     "evalue": "matmul: Input operand 1 has a mismatch in its core dimension 0, with gufunc signature (n?,k),(k,m?)->(n?,m?) (size 2 is different from 3)",
     "output_type": "error",
     "traceback": [
      "\u001b[0;31m---------------------------------------------------------------------------\u001b[0m",
      "\u001b[0;31mValueError\u001b[0m                                Traceback (most recent call last)",
      "\u001b[0;32m/var/folders/28/zb5jqy4s6kn2xld_bfr5mpdw0000gn/T/ipykernel_17078/4017963195.py\u001b[0m in \u001b[0;36m<module>\u001b[0;34m\u001b[0m\n\u001b[0;32m----> 1\u001b[0;31m \u001b[0mX\u001b[0m \u001b[0;34m@\u001b[0m \u001b[0mY\u001b[0m\u001b[0;34m\u001b[0m\u001b[0;34m\u001b[0m\u001b[0m\n\u001b[0m",
      "\u001b[0;31mValueError\u001b[0m: matmul: Input operand 1 has a mismatch in its core dimension 0, with gufunc signature (n?,k),(k,m?)->(n?,m?) (size 2 is different from 3)"
     ]
    }
   ],
   "source": [
    "X @ Y"
   ]
  },
  {
   "cell_type": "markdown",
   "id": "ac16e72d",
   "metadata": {},
   "source": [
    "```\n",
    "np.inner(X,Y)\n",
    "```\n",
    "[[22,  9],\\\n",
    " [-8, -4],\\\n",
    " [-6, -3]]\n",
    " \n",
    "22가 나온 이유는 X의 1행과 Y의 1행의 같은 위치에 있는 element끼리 곱한다음 총 합을 구한 값\\\n",
    "1\\*5 + 2\\*4 + 3\\*3 = 22"
   ]
  },
  {
   "cell_type": "markdown",
   "id": "94e529d4",
   "metadata": {},
   "source": [
    "## 행렬 이해하기 2\n",
    "- 행렬은 **벡터공간에서 사용되는 연산자(operator)**로 이해한다.\n",
    "- 행렬곱을 통해 벡터를 **다른 차원의 공간**으로 보낼 수 있다.\n",
    "- 행렬곱을 통해 패턴을 추출할 수 있고 데이터를 압출할 수도 있다.\\\n",
    "    => 모든 선형변환(linear transform)은 행렬곱으로 계산할 수 있다.\n",
    "- 딥러닝 선형변환과 비선형 함수들의 합성으로 이루어져있기 때문에 행렬곱을 잘 알아야 한다.\n",
    "\n",
    "## 역행렬\n",
    "- 어떤 행렬 A의 연산을 거꾸로 되돌리는 행렬을 역행렬(inverse matrix)이라 부르고 A^-1라 표기한다. 역행렬은 행과 열 숫자가 같고 행렬식(determinant)이 0이 아닌 경우에만 계산할 수 있다.\n",
    "- 역행렬은 n(행) = m(열)일 때만 가능하고 행렬 A의 행렬식이 0이 되면 안된다.\n",
    "\n",
    "n차원에 있는 X 벡터가 A라는 행렬(operator)를 통해 N이라는 차원으로 이동하여 Z 벡터로 됐을 경우 다시 그 것을 n차원의 x벡터로 되돌리는 것을 역행렬이라 한다.\n",
    "\n",
    "```\n",
    "A*A^-1 = A^-1*A = I\n",
    "```\n",
    "I는 항등행렬 : 임의의 벡터 또는 행렬에 곱했줬을 때 자기 자신이 나오는 것을 말한다.\n",
    "\n",
    "- np.linalg.inv로 구할 수 있다.\n",
    "- 만일 역행렬을 계산할 수 없다면 **유사역행렬(pseudo-inverse)**또는 **무어펜로즈(Moore-Penrose) 역행렬** A^+을 이용\\\n",
    "    => n ≥ m인 경우와 n ≤ m 인 경우에 따라 곱하는 순서가 다르다."
   ]
  },
  {
   "cell_type": "code",
   "execution_count": 22,
   "id": "2f4cb774",
   "metadata": {},
   "outputs": [],
   "source": [
    "X = np.array([[2,5,3],[-4,0,6],[1,-3,2]])"
   ]
  },
  {
   "cell_type": "code",
   "execution_count": 23,
   "id": "b54b3275",
   "metadata": {},
   "outputs": [
    {
     "data": {
      "text/plain": [
       "array([[ 0.12676056, -0.13380282,  0.21126761],\n",
       "       [ 0.09859155,  0.00704225, -0.16901408],\n",
       "       [ 0.08450704,  0.07746479,  0.14084507]])"
      ]
     },
     "execution_count": 23,
     "metadata": {},
     "output_type": "execute_result"
    }
   ],
   "source": [
    "np.linalg.inv(X)  # np.linalg.inv()를 활용하여 역행렬을 구할 수 있는지 확인"
   ]
  },
  {
   "cell_type": "code",
   "execution_count": 24,
   "id": "f21f495d",
   "metadata": {},
   "outputs": [
    {
     "data": {
      "text/plain": [
       "array([[ 1.00000000e+00,  0.00000000e+00,  0.00000000e+00],\n",
       "       [ 0.00000000e+00,  1.00000000e+00,  0.00000000e+00],\n",
       "       [-5.55111512e-17,  5.55111512e-17,  1.00000000e+00]])"
      ]
     },
     "execution_count": 24,
     "metadata": {},
     "output_type": "execute_result"
    }
   ],
   "source": [
    "X @ np.linalg.inv(X)  # 항등행렬을 구할 수 있다."
   ]
  },
  {
   "cell_type": "markdown",
   "id": "72812795",
   "metadata": {},
   "source": [
    "### 유사역행렬(pseudo - inverse)\n",
    "- n ≥ m 이면 A^+ * A = I가 성립\n",
    "- n ≤ m 이면 A * A^+ = I가 성립"
   ]
  },
  {
   "cell_type": "code",
   "execution_count": 29,
   "id": "dabc2e33",
   "metadata": {},
   "outputs": [],
   "source": [
    "Y = np.array([[0,1],[-2,1],[-2,0]])  \n",
    "# n ≥ m 인 상황이다."
   ]
  },
  {
   "cell_type": "code",
   "execution_count": 30,
   "id": "33cd5cd4",
   "metadata": {},
   "outputs": [
    {
     "data": {
      "text/plain": [
       "array([[ 0.16666667, -0.16666667, -0.33333333],\n",
       "       [ 0.66666667,  0.33333333, -0.33333333]])"
      ]
     },
     "execution_count": 30,
     "metadata": {},
     "output_type": "execute_result"
    }
   ],
   "source": [
    "np.linalg.pinv(Y)"
   ]
  },
  {
   "cell_type": "code",
   "execution_count": 33,
   "id": "e26b6f1c",
   "metadata": {},
   "outputs": [],
   "source": [
    "# Y @ np.linalg.pinv(Y)\n",
    "# n ≥ m 인 경우여서 위와 같은 식은 성립되지 못한다."
   ]
  },
  {
   "cell_type": "code",
   "execution_count": 32,
   "id": "598aba9b",
   "metadata": {},
   "outputs": [
    {
     "data": {
      "text/plain": [
       "array([[ 1.00000000e+00,  1.11022302e-16],\n",
       "       [-2.22044605e-16,  1.00000000e+00]])"
      ]
     },
     "execution_count": 32,
     "metadata": {},
     "output_type": "execute_result"
    }
   ],
   "source": [
    "np.linalg.pinv(Y) @ Y"
   ]
  },
  {
   "cell_type": "markdown",
   "id": "bb1e4b88",
   "metadata": {},
   "source": [
    "## 응용1 : 연립방정식 풀기\n",
    "- np.linalg.pinv()를 이용하면 연립방정식의 해를 구할 수 있다.\\\n",
    "n ≤ m 인 경우 : 식이 변수 개수보다 작거나 같아야 함\n",
    "\n",
    "## 응용2 : 선형회귀분석\n",
    "- np.linalg.pinv()를 이용하면 데이터를 선형모델(linear model)로 해석하는 선형회귀식을 찾을 수 있다.\\\n",
    "n ≥ m 인 경우 : 식이 변수 개수보다 많거나 같아야 함\n",
    "\n",
    "X \\* β(계수 벡터) = y\n",
    " 이때 어떤 β를 써야 점들을 잘 표현하는 선형모델식을 찾을 수 있느냐라고 물어보는 것이 선형회귀분석\n",
    " 그래서 이때 β를 어떻게 찾아야 할까?\n",
    "\n",
    "선형회귀분석은 연립방정식과 달리 행이 더 많기 때문에 방정식을 푸는것은 불가능하다. 우리가 할 수 있는 것은 β를 곱해줬을 때 이 X \\* β라 표현되는 선이 주어진 데이터를 최대한 잘 표현할 수 있는 선을 찾는 것이 최선이다.\n",
    "Q. 그럼 가장 최선이 되는 선형회귀식을 찾을 수 있나??\n",
    "- X \\* β = ŷ(y hat) ≈ y\n",
    "- 무어펠로즈 역행렬을 이용하면 y에 근접하는 ŷ를 찾을 수 있다. 가장 최소화 되는 것이 예측을 가장 잘했다라고 볼 수 있다.\n",
    "- sklearn의 LinearRegression과 같은 결과를 가져올 수 있다.\n",
    "\n",
    "그런데 같은 방법이지만 결과가 다르게 될 경우가 있다.\\\n",
    "이 경우에는 y절편(intercept)항을 고려해줘야 한다.\n",
    "- sklearn에서 제공하는 LinearRegression은 y절편에 자동으로 더해줘 추정을 해주기 때문이다. 그래서 Moore-penrose 역행렬을 할 경우 직접 추가해줘서 구해야 한다."
   ]
  },
  {
   "cell_type": "code",
   "execution_count": null,
   "id": "83ed283a",
   "metadata": {},
   "outputs": [],
   "source": []
  }
 ],
 "metadata": {
  "kernelspec": {
   "display_name": "Python 3 (ipykernel)",
   "language": "python",
   "name": "python3"
  },
  "language_info": {
   "codemirror_mode": {
    "name": "ipython",
    "version": 3
   },
   "file_extension": ".py",
   "mimetype": "text/x-python",
   "name": "python",
   "nbconvert_exporter": "python",
   "pygments_lexer": "ipython3",
   "version": "3.9.7"
  }
 },
 "nbformat": 4,
 "nbformat_minor": 5
}
