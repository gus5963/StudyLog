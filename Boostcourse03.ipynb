{
 "cells": [
  {
   "cell_type": "code",
   "execution_count": 2,
   "id": "76ed2850",
   "metadata": {},
   "outputs": [],
   "source": [
    "import numpy as np\n",
    "import random\n",
    "import sympy as sym\n",
    "from sympy.abc import x, y"
   ]
  },
  {
   "cell_type": "markdown",
   "id": "42015703",
   "metadata": {},
   "source": [
    "Numerical Python - Numpy\n",
    "==\n",
    "- 파이썬의 고성능 과학 계산용 페키지\n",
    "- Matrix와 Vector와 같은 Array연산의 사실상의 표준\n",
    "\n",
    "## Numpy 특징\n",
    "- 일반 list에 비해 빠르고, 메모리 효율적\n",
    "- 반복문 없이 데이터 배열에 대한 처리를 지원함\n",
    "- 선형대수와 관련된 다양한 기능을 제공항\n",
    "- c, c++, 포트란 등의 언어와 통합가능\n",
    "\n",
    "## ndarray\n",
    "- numpy 는 np.array 함수를 활용하여 배열을 생성한다. => ndarray\n",
    "- numpy는 하나의 데이터 type만 배열에 넣을 수 있음\n",
    "- list와 가장 큰 차이점, Dynamic typing not supported\n",
    "- C의 Array를 사용하여 배열을 생성함"
   ]
  },
  {
   "cell_type": "code",
   "execution_count": 5,
   "id": "8036e489",
   "metadata": {},
   "outputs": [
    {
     "name": "stdout",
     "output_type": "stream",
     "text": [
      "[1. 2. 3. 4.]\n"
     ]
    },
    {
     "data": {
      "text/plain": [
       "array([1., 2., 3., 4.])"
      ]
     },
     "metadata": {},
     "output_type": "display_data"
    },
    {
     "name": "stdout",
     "output_type": "stream",
     "text": [
      "(4,)\n"
     ]
    }
   ],
   "source": [
    "test_array = np.array([1,2,3,4],float)  # data type을 설정하게되면 다 통일된다.\n",
    "print(test_array)\n",
    "display(test_array)\n",
    "type(test_array[3])\n",
    "print(test_array.shape)  # Array의 shape"
   ]
  },
  {
   "cell_type": "markdown",
   "id": "adf122e0",
   "metadata": {},
   "source": [
    "- array shape\\\n",
    "=> (deep, row, column)\\\n",
    "=> ndim(number of dimension), size(data의 개수)"
   ]
  },
  {
   "cell_type": "markdown",
   "id": "00ca72a8",
   "metadata": {},
   "source": [
    "## Handling shape\n",
    "- handling은 array의 shape의 크기를 변경함(element의 개수는 동일하지만 dimension만 달라진다.)\\\n",
    "=> 만일 reshape을 할 때 -1을 사용할 수 있다.\n",
    "\n",
    "### flatten\n",
    "- 다차원 array를 1차원 array로 만들어 준다. (2,2,2) => flatten => (8,)"
   ]
  },
  {
   "cell_type": "code",
   "execution_count": 14,
   "id": "24da22a7",
   "metadata": {},
   "outputs": [
    {
     "name": "stdout",
     "output_type": "stream",
     "text": [
      "2d => 3d\n",
      "(2, 4)\n",
      "<class 'numpy.ndarray'>\n",
      "2\n",
      "3d\n",
      "(2, 2, 2)\n",
      "<class 'numpy.ndarray'>\n",
      "3\n"
     ]
    }
   ],
   "source": [
    "print('2d => 3d')\n",
    "test_matrix = np.array([[1,2,3,4,],[5,6,7,8]])\n",
    "print(test_matrix.shape)\n",
    "print(type(test_matrix))\n",
    "print(test_matrix.ndim)\n",
    "print('3d')\n",
    "reshape_matrix = np.array(test_matrix).reshape(2,2,2)\n",
    "print(reshape_matrix.shape)\n",
    "print(type(reshape_matrix))\n",
    "print(reshape_matrix.ndim)"
   ]
  },
  {
   "cell_type": "markdown",
   "id": "fba3ef53",
   "metadata": {},
   "source": [
    "## Indexing & slicing\n",
    "### indexing\n",
    "- list와 달리 2차원 배열에서 [0,0]과 같은 표기법을 제공한다.\n",
    "- Matrix일 경우 앞은 row, 뒤는 column을 의미한다."
   ]
  },
  {
   "cell_type": "code",
   "execution_count": 15,
   "id": "61ed3551",
   "metadata": {},
   "outputs": [
    {
     "name": "stdout",
     "output_type": "stream",
     "text": [
      "[[1 2 3 4]\n",
      " [5 6 7 8]]\n",
      "4\n",
      "4\n",
      "[[ 1  2  3 11]\n",
      " [ 5  6  7  8]]\n",
      "[[  1   2   3 111]\n",
      " [  5   6   7   8]]\n"
     ]
    }
   ],
   "source": [
    "print(test_matrix)\n",
    "print(test_matrix[0,3])\n",
    "print(test_matrix[0][3])\n",
    "test_matrix[0,3] = 11\n",
    "print(test_matrix)\n",
    "test_matrix[0,3] = 111\n",
    "print(test_matrix)"
   ]
  },
  {
   "cell_type": "markdown",
   "id": "0d7d997e",
   "metadata": {},
   "source": [
    "### slicing\n",
    "- list와 달리 행과 열 부분을 나눠서 slicing이 가능함\n",
    "- matrix의 부분집합을 추출할 때 유용"
   ]
  },
  {
   "cell_type": "code",
   "execution_count": 27,
   "id": "d9056817",
   "metadata": {},
   "outputs": [
    {
     "name": "stdout",
     "output_type": "stream",
     "text": [
      "[[  1   2   3 111]\n",
      " [  5   6   7   8]]\n",
      "[[1 2]\n",
      " [5 6]]\n",
      "[[  3 111]\n",
      " [  7   8]]\n",
      "[6 7]\n",
      "[[  1   2   3 111]\n",
      " [  5   6   7   8]]\n"
     ]
    }
   ],
   "source": [
    "print(test_matrix)\n",
    "print(test_matrix[:,:2])  # 모든 행을 갖고오고 열은 처음부터 1번까지 slicing\n",
    "print(test_matrix[:,2:])  # 모든 행을 갖고오고 열은 2번부터 끝까지 slicing\n",
    "print(test_matrix[1,1:3]) # 1번 행을 갖고오고 열은 1,2번까지 slicing\n",
    "print(test_matrix[0:2])  # 0 ~ 1번 행의 전체 slicing"
   ]
  },
  {
   "cell_type": "markdown",
   "id": "ab5b3220",
   "metadata": {},
   "source": [
    "## create function\n",
    "### arange\n",
    "- array의 범위를 지정하여 값의 list를 생성하는 명령어"
   ]
  },
  {
   "cell_type": "code",
   "execution_count": 37,
   "id": "ea3977a6",
   "metadata": {
    "scrolled": true
   },
   "outputs": [
    {
     "name": "stdout",
     "output_type": "stream",
     "text": [
      "<class 'numpy.ndarray'> | 1 | [ 0  1  2  3  4  5  6  7  8  9 10 11 12 13 14 15 16 17 18 19 20 21 22 23\n",
      " 24 25 26 27 28 29]\n",
      "<class 'numpy.ndarray'> | 2 | [[ 0  2  4  6  8]\n",
      " [10 12 14 16 18]\n",
      " [20 22 24 26 28]]\n",
      "<class 'numpy.ndarray'> | 2 |\n",
      " [[ 0  1  2  3  4]\n",
      " [ 5  6  7  8  9]\n",
      " [10 11 12 13 14]\n",
      " [15 16 17 18 19]\n",
      " [20 21 22 23 24]\n",
      " [25 26 27 28 29]]\n"
     ]
    }
   ],
   "source": [
    "a = np.arange(30)\n",
    "print(type(a),'|',a.ndim,'|',a)\n",
    "a_v2 = np.arange(0,30,2).reshape(-1,5)\n",
    "print(type(a_v2),'|',a_v2.ndim,'|',a_v2)\n",
    "b = np.arange(30).reshape(-1,5)\n",
    "print(type(b),'|',b.ndim,'|\\n',b)"
   ]
  },
  {
   "cell_type": "markdown",
   "id": "7a7bb1f4",
   "metadata": {},
   "source": [
    "### tip!\n",
    "python에서는 step을 float로 할 수 없다.\\\n",
    "range(0,5,0.5) 입력 시 : TypeError: 'float' object cannot be interpreted as an integer\n",
    "\n",
    "따라서 list로 묶어서 활용하고 싶다면 np.arange()를 활용하여 뒤에 .tolist()함수만 작성해주면 만들 수 있다.\\\n",
    "np.arange(0,5,0.5).tolist() 입력 시 : [0.0, 0.5, 1.0, 1.5, 2.0, 2.5, 3.0, 3.5, 4.0, 4.5]"
   ]
  },
  {
   "cell_type": "markdown",
   "id": "1c44cba2",
   "metadata": {},
   "source": [
    "### ones, zeros and empty\n",
    "- zeros -0으로 가득찬 ndarray생성"
   ]
  },
  {
   "cell_type": "code",
   "execution_count": 44,
   "id": "906ae7ce",
   "metadata": {},
   "outputs": [
    {
     "data": {
      "text/plain": [
       "array([0, 0, 0, 0, 0, 0, 0, 0, 0, 0])"
      ]
     },
     "execution_count": 44,
     "metadata": {},
     "output_type": "execute_result"
    }
   ],
   "source": [
    "np.zeros(shape=(10,),dtype=int) # 10 - zero vector 생성"
   ]
  },
  {
   "cell_type": "code",
   "execution_count": 46,
   "id": "e490f8bd",
   "metadata": {},
   "outputs": [
    {
     "data": {
      "text/plain": [
       "array([[0., 0., 0., 0., 0.],\n",
       "       [0., 0., 0., 0., 0.],\n",
       "       [0., 0., 0., 0., 0.]])"
      ]
     },
     "execution_count": 46,
     "metadata": {},
     "output_type": "execute_result"
    }
   ],
   "source": [
    "np.zeros((3,5))  # 2 by 5 zero matrix 생성"
   ]
  },
  {
   "cell_type": "markdown",
   "id": "845e9a02",
   "metadata": {},
   "source": [
    "### random sampling\n",
    "- 데이터 분포에 따른 sampling으로 array를 생성"
   ]
  },
  {
   "cell_type": "code",
   "execution_count": 48,
   "id": "3f62b91b",
   "metadata": {},
   "outputs": [
    {
     "data": {
      "text/plain": [
       "array([[0.63875202, 0.00441052, 0.10537645, 0.72843861, 0.72970474],\n",
       "       [0.51263976, 0.72221837, 0.69097375, 0.28428014, 0.16278034]])"
      ]
     },
     "execution_count": 48,
     "metadata": {},
     "output_type": "execute_result"
    }
   ],
   "source": [
    "np.random.uniform(0,1,10).reshape(2,5)  # 균등분포"
   ]
  },
  {
   "cell_type": "code",
   "execution_count": 49,
   "id": "1b310508",
   "metadata": {},
   "outputs": [
    {
     "data": {
      "text/plain": [
       "array([[-1.09132893,  0.35240742, -0.21049697,  1.33381672, -0.98655211],\n",
       "       [ 0.1550189 , -0.73283567,  2.22891171,  1.22766913,  2.09133645]])"
      ]
     },
     "execution_count": 49,
     "metadata": {},
     "output_type": "execute_result"
    }
   ],
   "source": [
    "np.random.normal(0,1,10).reshape(2,5)  # 균등분포"
   ]
  },
  {
   "cell_type": "markdown",
   "id": "173631a1",
   "metadata": {},
   "source": [
    "## operation function\n",
    "### sum\n",
    "- list의 sum과 동일\n",
    "\n",
    "### axis\n",
    "- 모든 operation function을 실행할 때, 기준이 되는 dimension 축\n",
    "- axis = 0 (행), axis = 1 (열)\n",
    "- 살짝 헷갈릴 수 있다... 그냥 여러번 넣고 지우고 하면서 조정하면 된다."
   ]
  },
  {
   "cell_type": "code",
   "execution_count": 58,
   "id": "8af2bc3f",
   "metadata": {},
   "outputs": [
    {
     "name": "stdout",
     "output_type": "stream",
     "text": [
      "[[  1   2   3 111]\n",
      " [  5   6   7   8]]\n",
      "axis = 0, 각 행의 합\n",
      "[  6   8  10 119]\n",
      "axis = 1, 각 열의 합\n",
      "[117  26]\n"
     ]
    }
   ],
   "source": [
    "print(test_matrix)\n",
    "print('axis = 0, 행의 합')\n",
    "print(test_matrix.sum(axis=0))\n",
    "print('axis = 1, 열의 합')\n",
    "print(test_matrix.sum(axis=1))"
   ]
  },
  {
   "cell_type": "markdown",
   "id": "74bbf7a8",
   "metadata": {},
   "source": [
    "### Mathematical functions\n",
    "- 다양한 식들이 있다.\n",
    "\n",
    "### concatenate\n",
    "- numpy array를 합치는 함수\n",
    "- vstack, hstack, concatenate\n",
    "- 많이 사용된다..."
   ]
  },
  {
   "cell_type": "code",
   "execution_count": 61,
   "id": "46a377db",
   "metadata": {},
   "outputs": [
    {
     "name": "stdout",
     "output_type": "stream",
     "text": [
      "[[1 2 3]\n",
      " [4 5 6]]\n"
     ]
    }
   ],
   "source": [
    "a = np.array([1,2,3])\n",
    "b = np.array([4,5,6])\n",
    "print(np.vstack((a,b)))"
   ]
  },
  {
   "cell_type": "code",
   "execution_count": 62,
   "id": "e772454c",
   "metadata": {},
   "outputs": [
    {
     "name": "stdout",
     "output_type": "stream",
     "text": [
      "[[1 4]\n",
      " [2 5]\n",
      " [3 6]]\n"
     ]
    }
   ],
   "source": [
    "a = np.array([[1],[2],[3]])\n",
    "b = np.array([[4],[5],[6]])\n",
    "print(np.hstack((a,b)))"
   ]
  },
  {
   "cell_type": "code",
   "execution_count": 64,
   "id": "72490715",
   "metadata": {},
   "outputs": [
    {
     "name": "stdout",
     "output_type": "stream",
     "text": [
      "[[1]\n",
      " [2]\n",
      " [3]\n",
      " [4]\n",
      " [5]\n",
      " [6]]\n"
     ]
    }
   ],
   "source": [
    "a = np.array([[1],[2],[3]])\n",
    "b = np.array([[4],[5],[6]])\n",
    "print(np.concatenate((a,b),axis=0))  # 행을 기준으로 연결"
   ]
  },
  {
   "cell_type": "code",
   "execution_count": 65,
   "id": "600dd668",
   "metadata": {},
   "outputs": [
    {
     "name": "stdout",
     "output_type": "stream",
     "text": [
      "[[1 2 3]\n",
      " [4 5 6]]\n"
     ]
    }
   ],
   "source": [
    "a = np.array([[1,2,3]])\n",
    "b = np.array([[4,5,6]])\n",
    "print(np.concatenate((a,b),axis=0))  # 행을 기준으로 연결"
   ]
  },
  {
   "cell_type": "code",
   "execution_count": 66,
   "id": "d7157248",
   "metadata": {},
   "outputs": [
    {
     "name": "stdout",
     "output_type": "stream",
     "text": [
      "[[1 4]\n",
      " [2 5]\n",
      " [3 6]]\n"
     ]
    }
   ],
   "source": [
    "a = np.array([[1],[2],[3]])\n",
    "b = np.array([[4],[5],[6]])\n",
    "print(np.concatenate((a,b),axis=1))  # 열을 기준으로 연결"
   ]
  },
  {
   "cell_type": "code",
   "execution_count": 68,
   "id": "fc7bbda9",
   "metadata": {},
   "outputs": [
    {
     "name": "stdout",
     "output_type": "stream",
     "text": [
      "[[1 2 3 4 5 6]]\n"
     ]
    }
   ],
   "source": [
    "a = np.array([[1,2,3]])\n",
    "b = np.array([[4,5,6]])\n",
    "print(np.concatenate((a,b),axis=1))  # 열을 기준으로 연결"
   ]
  },
  {
   "cell_type": "markdown",
   "id": "e4caea63",
   "metadata": {},
   "source": [
    "### operations b/t arrays\n",
    "- numpy는 array간의 기본적인 사칙 연산을 지원한다."
   ]
  },
  {
   "cell_type": "code",
   "execution_count": 71,
   "id": "b975bb78",
   "metadata": {},
   "outputs": [
    {
     "name": "stdout",
     "output_type": "stream",
     "text": [
      "[[  1   2   3 111]\n",
      " [  5   6   7   8]]\n",
      "test_matrix + test_matrix\n",
      "[[  2   4   6 222]\n",
      " [ 10  12  14  16]]\n",
      "test_matrix - test_matrix\n",
      "[[0 0 0 0]\n",
      " [0 0 0 0]]\n",
      "test_matrix * test_matrix\n",
      "[[    1     4     9 12321]\n",
      " [   25    36    49    64]]\n",
      "test_matrix / test_matrix\n",
      "[[1. 1. 1. 1.]\n",
      " [1. 1. 1. 1.]]\n"
     ]
    }
   ],
   "source": [
    "print(test_matrix)\n",
    "print('test_matrix + test_matrix')\n",
    "print(test_matrix+test_matrix)\n",
    "print('test_matrix - test_matrix')\n",
    "print(test_matrix-test_matrix)\n",
    "print('test_matrix * test_matrix')\n",
    "print(test_matrix*test_matrix)\n",
    "print('test_matrix / test_matrix')\n",
    "print(test_matrix/test_matrix)"
   ]
  },
  {
   "cell_type": "markdown",
   "id": "283995e8",
   "metadata": {},
   "source": [
    "### transpose\n",
    "- transpose 또는 T attribute를 사용\n",
    "- 전체 역 행렬 (2,3) => (3,2)\n",
    "\n",
    "### broadcasting\n",
    "- shape이 다른 배열간 연산을 지원"
   ]
  },
  {
   "cell_type": "code",
   "execution_count": 82,
   "id": "660af1b5",
   "metadata": {},
   "outputs": [
    {
     "name": "stdout",
     "output_type": "stream",
     "text": [
      "broadcasting\n",
      "test_matrix\n",
      " [[  1   2   3 111]\n",
      " [  5   6   7   8]]\n",
      "scalar 3\n"
     ]
    },
    {
     "data": {
      "text/plain": [
       "array([[  4,   5,   6, 114],\n",
       "       [  8,   9,  10,  11]])"
      ]
     },
     "execution_count": 82,
     "metadata": {},
     "output_type": "execute_result"
    }
   ],
   "source": [
    "print('broadcasting')\n",
    "print('test_matrix\\n',test_matrix)\n",
    "scalar = 3\n",
    "print('scalar',scalar)\n",
    "test_matrix + scalar  # matrix 각 element에 scalar가 더해짐"
   ]
  },
  {
   "cell_type": "code",
   "execution_count": 74,
   "id": "c587de32",
   "metadata": {},
   "outputs": [
    {
     "data": {
      "text/plain": [
       "array([[ -2,  -1,   0, 108],\n",
       "       [  2,   3,   4,   5]])"
      ]
     },
     "execution_count": 74,
     "metadata": {},
     "output_type": "execute_result"
    }
   ],
   "source": [
    "test_matrix - scalar  # matrix - scalar 뺄셈"
   ]
  },
  {
   "cell_type": "code",
   "execution_count": 75,
   "id": "583fd217",
   "metadata": {},
   "outputs": [
    {
     "data": {
      "text/plain": [
       "array([[ -2,  -1,   0, 108],\n",
       "       [  2,   3,   4,   5]])"
      ]
     },
     "execution_count": 75,
     "metadata": {},
     "output_type": "execute_result"
    }
   ],
   "source": [
    "test_matrix * scalar  # matrix - scalar 곱셈"
   ]
  },
  {
   "cell_type": "code",
   "execution_count": 76,
   "id": "bd696150",
   "metadata": {},
   "outputs": [
    {
     "data": {
      "text/plain": [
       "array([[ -2,  -1,   0, 108],\n",
       "       [  2,   3,   4,   5]])"
      ]
     },
     "execution_count": 76,
     "metadata": {},
     "output_type": "execute_result"
    }
   ],
   "source": [
    "test_matrix / scalar  # matrix - scalar 나눗셈"
   ]
  },
  {
   "cell_type": "code",
   "execution_count": 77,
   "id": "b1bac54f",
   "metadata": {},
   "outputs": [
    {
     "data": {
      "text/plain": [
       "array([[ 0,  0,  1, 37],\n",
       "       [ 1,  2,  2,  2]])"
      ]
     },
     "execution_count": 77,
     "metadata": {},
     "output_type": "execute_result"
    }
   ],
   "source": [
    "test_matrix // scalar  # matrix - scalar 몫"
   ]
  },
  {
   "cell_type": "code",
   "execution_count": 78,
   "id": "3cbbfd75",
   "metadata": {},
   "outputs": [
    {
     "data": {
      "text/plain": [
       "array([[1, 2, 0, 0],\n",
       "       [2, 0, 1, 2]])"
      ]
     },
     "execution_count": 78,
     "metadata": {},
     "output_type": "execute_result"
    }
   ],
   "source": [
    "test_matrix % scalar  # matrix - scalar 나머지"
   ]
  },
  {
   "cell_type": "code",
   "execution_count": 83,
   "id": "c458c9b4",
   "metadata": {},
   "outputs": [
    {
     "data": {
      "text/plain": [
       "array([[      1,       8,      27, 1367631],\n",
       "       [    125,     216,     343,     512]])"
      ]
     },
     "execution_count": 83,
     "metadata": {},
     "output_type": "execute_result"
    }
   ],
   "source": [
    "test_matrix ** scalar  # matrix - scalar 제곱"
   ]
  },
  {
   "cell_type": "markdown",
   "id": "3a3fb1b9",
   "metadata": {},
   "source": [
    "- scalar - vector 외에도 vector - matrixr간의 연산도 지원한다."
   ]
  },
  {
   "cell_type": "markdown",
   "id": "f3ecbfa5",
   "metadata": {},
   "source": [
    "### numpy performance\n",
    "- 일반적으로 속도는 아래 순.\\\n",
    "=> for loop < list comprehension < numpy\n",
    "- 1억번의 loop이 돌 떄 약 4배 이상의 성능차이를 보인다.\n",
    "- numpy는 c로 구현되어 있어, 성능을 확보하는 대신 파이썬의 가장 큰 특징인 dynamic typing을 포기함\n",
    "- 대용량 계산에서는 가장 흔히 사용된다.\n",
    "- concatenate 처럼 계산이 아닌, 할당에서는 연산 속도의 이점이 없기 때문에 list로 먼저 한다음 ndarray로 변환을 해주는 것이 좋다."
   ]
  },
  {
   "cell_type": "markdown",
   "id": "d17561b7",
   "metadata": {},
   "source": [
    "## comparisons\n",
    "- any & all\n",
    "- broadcasting 과 같이 element하나하나식 비교를 해서 T | F를 보여준다."
   ]
  },
  {
   "cell_type": "code",
   "execution_count": 88,
   "id": "b2a7b77d",
   "metadata": {},
   "outputs": [
    {
     "data": {
      "text/plain": [
       "array([1, 2, 3, 4, 5, 6, 7, 8, 9])"
      ]
     },
     "execution_count": 88,
     "metadata": {},
     "output_type": "execute_result"
    }
   ],
   "source": [
    "a = np.array([1,2,3,4,5,6,7,8,9])\n",
    "a"
   ]
  },
  {
   "cell_type": "code",
   "execution_count": 89,
   "id": "5646ca05",
   "metadata": {},
   "outputs": [
    {
     "data": {
      "text/plain": [
       "array([False, False, False, False, False,  True,  True,  True,  True])"
      ]
     },
     "execution_count": 89,
     "metadata": {},
     "output_type": "execute_result"
    }
   ],
   "source": [
    "a > 5"
   ]
  },
  {
   "cell_type": "markdown",
   "id": "a3d95430",
   "metadata": {},
   "source": [
    "### np.where\n",
    "- where(condition, True , False)\n",
    "- 보통 T | F를 사용하지 않고 condition만 넣어 True에 해당하는 index 값만 갖고오는 형식으로 자주 활용한다."
   ]
  },
  {
   "cell_type": "code",
   "execution_count": 92,
   "id": "181a16be",
   "metadata": {},
   "outputs": [
    {
     "data": {
      "text/plain": [
       "array([ 0,  3, -1])"
      ]
     },
     "execution_count": 92,
     "metadata": {},
     "output_type": "execute_result"
    }
   ],
   "source": [
    "a = np.array([0,3,-1])\n",
    "a"
   ]
  },
  {
   "cell_type": "code",
   "execution_count": 95,
   "id": "49213766",
   "metadata": {},
   "outputs": [
    {
     "data": {
      "text/plain": [
       "array([2, 3, 2])"
      ]
     },
     "execution_count": 95,
     "metadata": {},
     "output_type": "execute_result"
    }
   ],
   "source": [
    "np.where(a>0, 3, 2)"
   ]
  },
  {
   "cell_type": "code",
   "execution_count": 96,
   "id": "e27c2a47",
   "metadata": {},
   "outputs": [
    {
     "data": {
      "text/plain": [
       "(array([1]),)"
      ]
     },
     "execution_count": 96,
     "metadata": {},
     "output_type": "execute_result"
    }
   ],
   "source": [
    "print('index 값 반환')\n",
    "np.where(a>0)  # True에 해당하는 index인 1번을 갖고 왔다."
   ]
  },
  {
   "cell_type": "code",
   "execution_count": 100,
   "id": "32c194ed",
   "metadata": {},
   "outputs": [
    {
     "name": "stdout",
     "output_type": "stream",
     "text": [
      "Null 값 확인\n"
     ]
    },
    {
     "data": {
      "text/plain": [
       "array([False,  True, False])"
      ]
     },
     "execution_count": 100,
     "metadata": {},
     "output_type": "execute_result"
    }
   ],
   "source": [
    "print('Null 값 확인')\n",
    "a = np.array([1,np.NaN,np.Inf],float)\n",
    "np.isnan(a)  # null 값이 있는지 확인하는 방법\n"
   ]
  },
  {
   "cell_type": "markdown",
   "id": "a8f58cbf",
   "metadata": {},
   "source": [
    "### arg.max, arg.min\n",
    "- 최대값과 최소값의 index를 갖고오는 방법\n",
    "- 2차원 경우 axis를 넣어주면 해당 축을 기준으로 최소, 최대값을 반환해준다."
   ]
  },
  {
   "cell_type": "code",
   "execution_count": 116,
   "id": "cddff89e",
   "metadata": {},
   "outputs": [
    {
     "name": "stdout",
     "output_type": "stream",
     "text": [
      "argmax : 8 402\n",
      "argmin : 6 30\n"
     ]
    }
   ],
   "source": [
    "a = np.array([random.randint(0,500) for i in range(10)])\n",
    "print('argmax :',np.argmax(a),a[np.argmax(a)])\n",
    "print('argmin :',np.argmin(a),a[np.argmin(a)])"
   ]
  },
  {
   "cell_type": "code",
   "execution_count": 123,
   "id": "06fd1813",
   "metadata": {},
   "outputs": [
    {
     "name": "stdout",
     "output_type": "stream",
     "text": [
      "[[    1    14    35   234     1    53     2]\n",
      " [   12    34   341  3215   134  3134 41423]]\n",
      "argmax axis = 1 : [3 6]\n",
      "argmin axis = 1 : [0 0]\n",
      "argmax axis = 0 : [1 1 1 1 1 1 1]\n",
      "argmin axis = 0 : [0 0 0 0 0 0 0]\n"
     ]
    }
   ],
   "source": [
    "b = np.array([[1,14,35,234,1,53,2],[12,34,341,3215,134,3134,41423]])\n",
    "print(b)\n",
    "print('argmax axis = 1 :',np.argmax(b, axis=1))\n",
    "print('argmin axis = 1 :',np.argmin(b, axis=1))\n",
    "print('argmax axis = 0 :',np.argmax(b, axis=0))\n",
    "print('argmin axis = 0 :',np.argmin(b, axis=0))"
   ]
  },
  {
   "cell_type": "markdown",
   "id": "05847e37",
   "metadata": {},
   "source": [
    "# 제일 많이 하는 실수!!!! numpy에 for 문을 써서 값을 찾으려 하는 것!!!"
   ]
  },
  {
   "cell_type": "markdown",
   "id": "23f13924",
   "metadata": {},
   "source": [
    "## boolean index\n",
    "- numpy 배열은 특정 조건에 따른 값을 배열 형태로 추출할 수 있음\n",
    "- comparison operation 함수들도 모두 사용이 가능\n",
    "- boolean type으로 값을 갖고온 다음 astype을 활용하여 int 로 변환화는 방식도 있다."
   ]
  },
  {
   "cell_type": "code",
   "execution_count": 128,
   "id": "63ddf1ac",
   "metadata": {},
   "outputs": [
    {
     "name": "stdout",
     "output_type": "stream",
     "text": [
      "[291 208 350 312 373 264  30 184 402 139]\n",
      "[ True  True  True  True  True  True False False  True False]\n"
     ]
    }
   ],
   "source": [
    "print(a)\n",
    "print(a>200)"
   ]
  },
  {
   "cell_type": "code",
   "execution_count": 129,
   "id": "2e16fdc4",
   "metadata": {},
   "outputs": [
    {
     "data": {
      "text/plain": [
       "array([291, 208, 350, 312, 373, 264, 402])"
      ]
     },
     "execution_count": 129,
     "metadata": {},
     "output_type": "execute_result"
    }
   ],
   "source": [
    "a[a>200]  # True에 해당하는 index의 element 값만 갖고오도록 한다."
   ]
  },
  {
   "cell_type": "markdown",
   "id": "b588bc15",
   "metadata": {},
   "source": [
    "## Fancy index\n",
    "- numpy는 array를 index value로 사용해서 값을 추출하는 방법\n",
    "- matrix 형태의 데이터도 가능하다."
   ]
  },
  {
   "cell_type": "code",
   "execution_count": 130,
   "id": "d0967156",
   "metadata": {},
   "outputs": [
    {
     "data": {
      "text/plain": [
       "array([2., 2., 4., 6., 8., 6., 6., 4., 2.])"
      ]
     },
     "execution_count": 130,
     "metadata": {},
     "output_type": "execute_result"
    }
   ],
   "source": [
    "a = np.array([2,4,6,8], float)\n",
    "b = np.array([0,0,1,2,3,2,2,1,0], int)  # 반드시 integer로 선언\n",
    "a[b]  # bracket index, b 배열의 값을 index로 하여 a의 값들을 추출함"
   ]
  },
  {
   "cell_type": "code",
   "execution_count": 131,
   "id": "04adea1e",
   "metadata": {},
   "outputs": [
    {
     "data": {
      "text/plain": [
       "array([2., 2., 4., 6., 8., 6., 6., 4., 2.])"
      ]
     },
     "execution_count": 131,
     "metadata": {},
     "output_type": "execute_result"
    }
   ],
   "source": [
    "a.take(b)  # take 함수 : bracket index와 같은 효과  / take를 활용하는 것을 추천,"
   ]
  },
  {
   "cell_type": "markdown",
   "id": "e6975a5b",
   "metadata": {},
   "source": [
    "# Vector\n",
    "- 숫자를 원소로 갖는 list, array이다.\n",
    "- 열벡터, 행벡터 \n",
    "- 벡터는 n차원 공간에서의 한 점을 나타낸다.\n",
    "- 벡터는 원점으로부터 상대적 위치를 표현\n",
    "- 벡터에 스칼라(숫자)를 곱해주면 방향은 같고 길이만 변하게 된다. 단, 스칼라곱이 0보다 작을면 반대 방향이 됨\n",
    "- 벡터끼리 같은 모양을 가지면 덧셈, 뺄셈, 성분곱을 할 수 있다.\n",
    "\n",
    "## 벡터의 노름(norm)\n",
    "- || || 기호는 노름이라 부름 / L1, L2 노름이 있다.\n",
    "- 원점에서부터의 거리를 말한다.\n",
    "- 임의의 차원 n에 대해 성립하는 것을 명심\n",
    "- L1-노름은 각 성분의 **변화량의 절대값**을 모두 더한다.\n",
    "- L2-노름은 **피타고라스 정리**를 이용해 **유클리드 거리**를 계산"
   ]
  },
  {
   "cell_type": "code",
   "execution_count": 11,
   "id": "a4b6540a",
   "metadata": {},
   "outputs": [
    {
     "name": "stdout",
     "output_type": "stream",
     "text": [
      "L1, L2 norm\n"
     ]
    }
   ],
   "source": [
    "print('L1, L2 norm')\n",
    "\n",
    "def l1_norm(x):\n",
    "    x_norm = np.abs(x)  # 절대값\n",
    "    x_norm = np.sum(x_norm)\n",
    "    return x_norm\n",
    " \n",
    "def l2_norm(x):  # 피타고라스 정리\n",
    "    x_norm = x*x  # 성분곱\n",
    "    x_norm = np.sum(x_norm)\n",
    "    x_norm = np.sqrt(x_norm)\n",
    "    return x_norm"
   ]
  },
  {
   "cell_type": "code",
   "execution_count": 25,
   "id": "672fb83b",
   "metadata": {},
   "outputs": [
    {
     "data": {
      "text/plain": [
       "-1.0"
      ]
     },
     "execution_count": 25,
     "metadata": {},
     "output_type": "execute_result"
    }
   ],
   "source": [
    "x = np.array([-3,0])\n",
    "y = np.array([0,4])\n",
    "l2_norm(x)-l2_norm(y)"
   ]
  },
  {
   "cell_type": "markdown",
   "id": "a4919edc",
   "metadata": {},
   "source": [
    "### 왜 다른 노름을 소개하나?\n",
    "- 노름의 종류에 따라 공간상에서 표현되는 기하학적 성질이 달라진다.\\\n",
    "=> l1-노름상의 원과 l2-노름상의 원이 다르게 표현된다.\n",
    "- 머신러닝에선 각 성질들이 필요할 때가 있으므로 둘 다 사용한다.\\\n",
    "=> l1-노름 : Robust 학습, Lasso 회귀 / l2-노름 : Laplace 근사, Ridge 회귀\n",
    "\n",
    "### 두 벡터 사이의 거리\n",
    "- L1, L2 - 노름을 이용해 두 벡터 사이의 거리를 계산할 수 있다.\n",
    "- 두 벡터 사이의 거리를 계산할 때는 벡터의 뺄셈을 이용한다.\n",
    "\n",
    "### 두 벡터 사이의 각도\n",
    "- 두 벡터 사이의 거리를 이용하여 각도도 계산할 수 있지만 **L2-노름에서만** 가능하다.\n",
    "- 제 2코사인 법칙에 의해 두 벡터 사이의 각도를 계산할 수 있다. \n",
    "- 분자를 쉽게 계산하는 방법이 내적이다. \\\n",
    "=> 내적(inner product)은 두벡터들의 연산들의 성분곱을 취한다음 성분곱을 취한 벡터들의 모든 성분들을 다 더해주는 연산\n"
   ]
  },
  {
   "cell_type": "code",
   "execution_count": 12,
   "id": "473b93ba",
   "metadata": {},
   "outputs": [
    {
     "name": "stdout",
     "output_type": "stream",
     "text": [
      "내적은 np.inner를 이용해서 계산한다.\n"
     ]
    }
   ],
   "source": [
    "print('내적은 np.inner를 이용해서 계산한다.')\n",
    "\n",
    "def angle(x,y):\n",
    "    v = np.inner(x,y) / (l2_norm(x) * l2_norm(y))  # inner를 이용하여 두 백터 사이의 내적을 구한다\n",
    "    theta = np.arccos(v)  # 아크 코사인\n",
    "    return theta"
   ]
  },
  {
   "cell_type": "code",
   "execution_count": 24,
   "id": "daea2535",
   "metadata": {},
   "outputs": [
    {
     "data": {
      "text/plain": [
       "0.0"
      ]
     },
     "execution_count": 24,
     "metadata": {},
     "output_type": "execute_result"
    }
   ],
   "source": [
    "x=np.array([1,-1,1,-1])\n",
    "y=np.array([4,-4,4,-4])\n",
    "angle(x,y)"
   ]
  },
  {
   "cell_type": "markdown",
   "id": "c82ef8da",
   "metadata": {},
   "source": [
    "### 내적은 어떻게 해석??\n",
    "- 내적은 정사영(orthogonal projection)된 벡터의 길이와 관련있다.\\\n",
    "    => 정사영(Proj(x)) 은 벡터 y로 정사영된 벡터 x의 그림자를 의미\\\n",
    "    => Proj(x)의 길이는 코사인 법칙에 의해 ||x||*cosθ 가 된다.\n",
    "- 내적은 정사영의 길이를 벡터 y의 길이 ||y||만큼 조정한 값이다.\\\n",
    "    => 내적은 두 벡터의 유사도(similarity)를 측정하는데 사용 가능하다.\n",
    "    => 머신러닝에서는 두 데이터가 얼만큼 유사한가 또는 두 페턴이 얼만큼 유사한가를 보통 배울 때 두 벡터의 내적을 이용함으로서 유사도를 측정하여 두 벡터가 얼마나 유사한지를 확인할 수 있다."
   ]
  },
  {
   "cell_type": "markdown",
   "id": "3e712fe4",
   "metadata": {},
   "source": [
    "# 행렬(matrix)\n",
    "- 벡터를 원소로 갖는 2차원 배열\n",
    "- 행(row)과 열(column)이라는 index를 갖는다.\n",
    "- 행렬끼리 같은 모양을 가지면 덧셈, 뺄셈, 성분곱을 계산할 수 있습니다. 또한 스칼라곱도 벡터와 차이가 없다.\n",
    "\n",
    "\n",
    "## 행렬 이해하기 1번\n",
    "- 벡터가 공간에서 한 점을 의미한다면 행렬은 **여러 점들**을 나타낸다.\n",
    "- 행렬의 행벡터 Xi는 i번째 데이터를 의미\n",
    "- 행렬의 Xij는 i번째 데이터의 j번째 변수의 값\n",
    "\n",
    "\n",
    "## 행렬곱셉(Matrix multiplication)\n",
    "- 행렬곱셈은 **i번째 행벡터와 j번재 *열벡터* 사이의 내적**을 성분으로 가지는 행렬을 계산한다.\n",
    "- X의 행과 Y의 행이 있다. XY를 할 경우, 행렬곱은 X의 열의 개수와 Y의 행의 개수가 같아야 한다."
   ]
  },
  {
   "cell_type": "code",
   "execution_count": 5,
   "id": "4d0ba6aa",
   "metadata": {},
   "outputs": [],
   "source": [
    "X = np.array([[1,2,3],\n",
    "              [-1,-3,3],\n",
    "              [0,3,-6]])\n",
    "Y = np.array([[5,4],\n",
    "              [3,4],\n",
    "              [1,1]])"
   ]
  },
  {
   "cell_type": "code",
   "execution_count": 7,
   "id": "12cc0689",
   "metadata": {},
   "outputs": [
    {
     "name": "stdout",
     "output_type": "stream",
     "text": [
      "그냥 성분곱을 할 경우에는 ValueError가 발생\n"
     ]
    },
    {
     "ename": "ValueError",
     "evalue": "operands could not be broadcast together with shapes (3,3) (3,2) ",
     "output_type": "error",
     "traceback": [
      "\u001b[0;31m---------------------------------------------------------------------------\u001b[0m",
      "\u001b[0;31mValueError\u001b[0m                                Traceback (most recent call last)",
      "\u001b[0;32m/var/folders/28/zb5jqy4s6kn2xld_bfr5mpdw0000gn/T/ipykernel_17078/2292747801.py\u001b[0m in \u001b[0;36m<module>\u001b[0;34m\u001b[0m\n\u001b[1;32m      1\u001b[0m \u001b[0mprint\u001b[0m\u001b[0;34m(\u001b[0m\u001b[0;34m'그냥 성분곱을 할 경우에는 ValueError가 발생'\u001b[0m\u001b[0;34m)\u001b[0m\u001b[0;34m\u001b[0m\u001b[0;34m\u001b[0m\u001b[0m\n\u001b[0;32m----> 2\u001b[0;31m \u001b[0mX\u001b[0m \u001b[0;34m*\u001b[0m \u001b[0mY\u001b[0m\u001b[0;34m\u001b[0m\u001b[0;34m\u001b[0m\u001b[0m\n\u001b[0m",
      "\u001b[0;31mValueError\u001b[0m: operands could not be broadcast together with shapes (3,3) (3,2) "
     ]
    }
   ],
   "source": [
    "print('그냥 성분곱을 할 경우에는 ValueError가 발생')\n",
    "X * Y"
   ]
  },
  {
   "cell_type": "markdown",
   "id": "24849211",
   "metadata": {},
   "source": [
    "행렬곱셈을 하게되면 결괏값이 나온다.\\\n",
    "```\n",
    "X @ Y\n",
    "```\n",
    "\n",
    "[[ 14,  15],\\\n",
    "[-11, -13],\\\n",
    "[  3,   6]]\n",
    "\n",
    "14가 나온 이유는 X의 1행과 Y의 1열의 각 element들이 서로 곱한다음 총 합을 구한 값.\\\n",
    "1\\*5 + 2\\*3 + 3\\*1 = 14\n"
   ]
  },
  {
   "cell_type": "markdown",
   "id": "389d7077",
   "metadata": {},
   "source": [
    "## 행렬도 내적이 있을까?\n",
    "- numpy의 np.inner는 **i번째 행 벡터와, j번째 행벡터 사이의 내적**을 성분으로 가지는 행렬을 계산한다.\n",
    "- 수학에서 말하는 내적과는 다르므로 주의!!!! \n",
    "- 계산하려는 두 행렬의 행벡터의 길이가 같아야 한다."
   ]
  },
  {
   "cell_type": "code",
   "execution_count": 10,
   "id": "71bef093",
   "metadata": {},
   "outputs": [],
   "source": [
    "X = np.array([[1,2,3],\n",
    "              [-1,-3,3],\n",
    "              [0,3,-6]])\n",
    "Y = np.array([[5,4,3],\n",
    "              [4,1,1]])"
   ]
  },
  {
   "cell_type": "code",
   "execution_count": 11,
   "id": "3d53fad5",
   "metadata": {},
   "outputs": [
    {
     "ename": "ValueError",
     "evalue": "operands could not be broadcast together with shapes (3,3) (2,3) ",
     "output_type": "error",
     "traceback": [
      "\u001b[0;31m---------------------------------------------------------------------------\u001b[0m",
      "\u001b[0;31mValueError\u001b[0m                                Traceback (most recent call last)",
      "\u001b[0;32m/var/folders/28/zb5jqy4s6kn2xld_bfr5mpdw0000gn/T/ipykernel_17078/2111249966.py\u001b[0m in \u001b[0;36m<module>\u001b[0;34m\u001b[0m\n\u001b[0;32m----> 1\u001b[0;31m \u001b[0mX\u001b[0m \u001b[0;34m*\u001b[0m \u001b[0mY\u001b[0m\u001b[0;34m\u001b[0m\u001b[0;34m\u001b[0m\u001b[0m\n\u001b[0m",
      "\u001b[0;31mValueError\u001b[0m: operands could not be broadcast together with shapes (3,3) (2,3) "
     ]
    }
   ],
   "source": [
    "X * Y"
   ]
  },
  {
   "cell_type": "code",
   "execution_count": 12,
   "id": "c3910945",
   "metadata": {},
   "outputs": [
    {
     "ename": "ValueError",
     "evalue": "matmul: Input operand 1 has a mismatch in its core dimension 0, with gufunc signature (n?,k),(k,m?)->(n?,m?) (size 2 is different from 3)",
     "output_type": "error",
     "traceback": [
      "\u001b[0;31m---------------------------------------------------------------------------\u001b[0m",
      "\u001b[0;31mValueError\u001b[0m                                Traceback (most recent call last)",
      "\u001b[0;32m/var/folders/28/zb5jqy4s6kn2xld_bfr5mpdw0000gn/T/ipykernel_17078/4017963195.py\u001b[0m in \u001b[0;36m<module>\u001b[0;34m\u001b[0m\n\u001b[0;32m----> 1\u001b[0;31m \u001b[0mX\u001b[0m \u001b[0;34m@\u001b[0m \u001b[0mY\u001b[0m\u001b[0;34m\u001b[0m\u001b[0;34m\u001b[0m\u001b[0m\n\u001b[0m",
      "\u001b[0;31mValueError\u001b[0m: matmul: Input operand 1 has a mismatch in its core dimension 0, with gufunc signature (n?,k),(k,m?)->(n?,m?) (size 2 is different from 3)"
     ]
    }
   ],
   "source": [
    "X @ Y"
   ]
  },
  {
   "cell_type": "markdown",
   "id": "ac16e72d",
   "metadata": {},
   "source": [
    "```\n",
    "np.inner(X,Y)\n",
    "```\n",
    "[[22,  9],\\\n",
    " [-8, -4],\\\n",
    " [-6, -3]]\n",
    " \n",
    "22가 나온 이유는 X의 1행과 Y의 1행의 같은 위치에 있는 element끼리 곱한다음 총 합을 구한 값\\\n",
    "1\\*5 + 2\\*4 + 3\\*3 = 22"
   ]
  },
  {
   "cell_type": "markdown",
   "id": "94e529d4",
   "metadata": {},
   "source": [
    "## 행렬 이해하기 2\n",
    "- 행렬은 **벡터공간에서 사용되는 연산자(operator)**로 이해한다.\n",
    "- 행렬곱을 통해 벡터를 **다른 차원의 공간**으로 보낼 수 있다.\n",
    "- 행렬곱을 통해 패턴을 추출할 수 있고 데이터를 압출할 수도 있다.\\\n",
    "    => 모든 선형변환(linear transform)은 행렬곱으로 계산할 수 있다.\n",
    "- 딥러닝 선형변환과 비선형 함수들의 합성으로 이루어져있기 때문에 행렬곱을 잘 알아야 한다.\n",
    "\n",
    "## 역행렬\n",
    "- 어떤 행렬 A의 연산을 거꾸로 되돌리는 행렬을 역행렬(inverse matrix)이라 부르고 A^-1라 표기한다. 역행렬은 행과 열 숫자가 같고 행렬식(determinant)이 0이 아닌 경우에만 계산할 수 있다.\n",
    "- 역행렬은 n(행) = m(열)일 때만 가능하고 행렬 A의 행렬식이 0이 되면 안된다.\n",
    "\n",
    "n차원에 있는 X 벡터가 A라는 행렬(operator)를 통해 N이라는 차원으로 이동하여 Z 벡터로 됐을 경우 다시 그 것을 n차원의 x벡터로 되돌리는 것을 역행렬이라 한다.\n",
    "\n",
    "```\n",
    "A*A^-1 = A^-1*A = I\n",
    "```\n",
    "I는 항등행렬 : 임의의 벡터 또는 행렬에 곱했줬을 때 자기 자신이 나오는 것을 말한다.\n",
    "\n",
    "- np.linalg.inv로 구할 수 있다.\n",
    "- 만일 역행렬을 계산할 수 없다면 **유사역행렬(pseudo-inverse)**또는 **무어펜로즈(Moore-Penrose) 역행렬** A^+을 이용\\\n",
    "    => n ≥ m인 경우와 n ≤ m 인 경우에 따라 곱하는 순서가 다르다."
   ]
  },
  {
   "cell_type": "code",
   "execution_count": 22,
   "id": "2f4cb774",
   "metadata": {},
   "outputs": [],
   "source": [
    "X = np.array([[2,5,3],[-4,0,6],[1,-3,2]])"
   ]
  },
  {
   "cell_type": "code",
   "execution_count": 23,
   "id": "b54b3275",
   "metadata": {},
   "outputs": [
    {
     "data": {
      "text/plain": [
       "array([[ 0.12676056, -0.13380282,  0.21126761],\n",
       "       [ 0.09859155,  0.00704225, -0.16901408],\n",
       "       [ 0.08450704,  0.07746479,  0.14084507]])"
      ]
     },
     "execution_count": 23,
     "metadata": {},
     "output_type": "execute_result"
    }
   ],
   "source": [
    "np.linalg.inv(X)  # np.linalg.inv()를 활용하여 역행렬을 구할 수 있는지 확인"
   ]
  },
  {
   "cell_type": "code",
   "execution_count": 24,
   "id": "f21f495d",
   "metadata": {},
   "outputs": [
    {
     "data": {
      "text/plain": [
       "array([[ 1.00000000e+00,  0.00000000e+00,  0.00000000e+00],\n",
       "       [ 0.00000000e+00,  1.00000000e+00,  0.00000000e+00],\n",
       "       [-5.55111512e-17,  5.55111512e-17,  1.00000000e+00]])"
      ]
     },
     "execution_count": 24,
     "metadata": {},
     "output_type": "execute_result"
    }
   ],
   "source": [
    "X @ np.linalg.inv(X)  # 항등행렬을 구할 수 있다."
   ]
  },
  {
   "cell_type": "markdown",
   "id": "72812795",
   "metadata": {},
   "source": [
    "### 유사역행렬(pseudo - inverse)\n",
    "- n ≥ m 이면 A^+ * A = I가 성립\n",
    "- n ≤ m 이면 A * A^+ = I가 성립"
   ]
  },
  {
   "cell_type": "code",
   "execution_count": 29,
   "id": "dabc2e33",
   "metadata": {},
   "outputs": [],
   "source": [
    "Y = np.array([[0,1],[-2,1],[-2,0]])  \n",
    "# n ≥ m 인 상황이다."
   ]
  },
  {
   "cell_type": "code",
   "execution_count": 30,
   "id": "33cd5cd4",
   "metadata": {},
   "outputs": [
    {
     "data": {
      "text/plain": [
       "array([[ 0.16666667, -0.16666667, -0.33333333],\n",
       "       [ 0.66666667,  0.33333333, -0.33333333]])"
      ]
     },
     "execution_count": 30,
     "metadata": {},
     "output_type": "execute_result"
    }
   ],
   "source": [
    "np.linalg.pinv(Y)"
   ]
  },
  {
   "cell_type": "code",
   "execution_count": 33,
   "id": "e26b6f1c",
   "metadata": {},
   "outputs": [],
   "source": [
    "# Y @ np.linalg.pinv(Y)\n",
    "# n ≥ m 인 경우여서 위와 같은 식은 성립되지 못한다."
   ]
  },
  {
   "cell_type": "code",
   "execution_count": 32,
   "id": "598aba9b",
   "metadata": {},
   "outputs": [
    {
     "data": {
      "text/plain": [
       "array([[ 1.00000000e+00,  1.11022302e-16],\n",
       "       [-2.22044605e-16,  1.00000000e+00]])"
      ]
     },
     "execution_count": 32,
     "metadata": {},
     "output_type": "execute_result"
    }
   ],
   "source": [
    "np.linalg.pinv(Y) @ Y"
   ]
  },
  {
   "cell_type": "markdown",
   "id": "bb1e4b88",
   "metadata": {},
   "source": [
    "## 응용1 : 연립방정식 풀기\n",
    "- np.linalg.pinv()를 이용하면 연립방정식의 해를 구할 수 있다.\\\n",
    "n ≤ m 인 경우 : 식이 변수 개수보다 작거나 같아야 함\n",
    "\n",
    "## 응용2 : 선형회귀분석\n",
    "- np.linalg.pinv()를 이용하면 데이터를 선형모델(linear model)로 해석하는 선형회귀식을 찾을 수 있다.\\\n",
    "n ≥ m 인 경우 : 식이 변수 개수보다 많거나 같아야 함\n",
    "\n",
    "X \\* β(계수 벡터) = y\n",
    " 이때 어떤 β를 써야 점들을 잘 표현하는 선형모델식을 찾을 수 있느냐라고 물어보는 것이 선형회귀분석\n",
    " 그래서 이때 β를 어떻게 찾아야 할까?\n",
    "\n",
    "선형회귀분석은 연립방정식과 달리 행이 더 많기 때문에 방정식을 푸는것은 불가능하다. 우리가 할 수 있는 것은 β를 곱해줬을 때 이 X \\* β라 표현되는 선이 주어진 데이터를 최대한 잘 표현할 수 있는 선을 찾는 것이 최선이다.\n",
    "Q. 그럼 가장 최선이 되는 선형회귀식을 찾을 수 있나??\n",
    "- X \\* β = ŷ(y hat) ≈ y\n",
    "- 무어펠로즈 역행렬을 이용하면 y에 근접하는 ŷ를 찾을 수 있다. 가장 최소화 되는 것이 예측을 가장 잘했다라고 볼 수 있다.\n",
    "- sklearn의 LinearRegression과 같은 결과를 가져올 수 있다.\n",
    "\n",
    "그런데 같은 방법이지만 결과가 다르게 될 경우가 있다.\\\n",
    "이 경우에는 y절편(intercept)항을 고려해줘야 한다.\n",
    "- sklearn에서 제공하는 LinearRegression은 y절편에 자동으로 더해줘 추정을 해주기 때문이다. 그래서 Moore-penrose 역행렬을 할 경우 직접 추가해줘서 구해야 한다."
   ]
  },
  {
   "cell_type": "markdown",
   "id": "def50862",
   "metadata": {},
   "source": [
    "# 경사하강법(순한맛)\n",
    "\n",
    "## 1. 미분?\n",
    "- **변수의 움직임에 따른 함수값의 변화를 측정하기 위한 도구**로 최적화에서 제일 많이 사용하는 기법이다.\n",
    "- 미분은 함수 f의 주어진 점(x,f(x))에서의 접선의 기울기를 구한다.\n",
    "- 한 점에서 접선의 기울기를 알면 어느 방향으로 점을 움직여야 함수값이 증가하는지 / 감소하는지 알 수 있다 .\n",
    "    - 증가시키고 싶다면 미분값을 더하고 / 감소하시키고 싶다면 미분값을 뺀다.\n",
    "- 미분값을 더하면 경사상승법(gradient ascent)이라 하며 함수의 극대값의 위치를 구할 때 사용한다.\n",
    "- 미분값을 빼면 경사하강법(gradient descent)이라 하며 함수의 극소값의 위치를 구할 때 사용한다.\n",
    "- 경사상승 / 경사하강 방법은 극값에 도달하면 움직임이 멈춘다. 극값에선 미분값이 0이므로 더 이상 업데이트가 안 된다. 그러므로 목적함수 최적화가 자동으로 끝난다."
   ]
  },
  {
   "cell_type": "code",
   "execution_count": 2,
   "id": "ccdc0a3f",
   "metadata": {},
   "outputs": [
    {
     "data": {
      "text/latex": [
       "$\\displaystyle \\operatorname{Poly}{\\left( 2 x + 2, x, domain=\\mathbb{Z} \\right)}$"
      ],
      "text/plain": [
       "Poly(2*x + 2, x, domain='ZZ')"
      ]
     },
     "execution_count": 2,
     "metadata": {},
     "output_type": "execute_result"
    }
   ],
   "source": [
    "sym.diff(sym.poly(x**2 + 2*x + 3),x)"
   ]
  },
  {
   "cell_type": "markdown",
   "id": "7db18134",
   "metadata": {},
   "source": [
    "## 경사하강법 : 알고리즘\n",
    "Input : gradient, init, lr, eps, Output : var\n",
    "- gradient : 미분을 계산하는 함수\n",
    "- init : 시작점, lr : 학습률, eps : 알고리즘 종료조건\n",
    "- 컴퓨터로 계산할 때 미분이 정확히 0이 되는 것은 불가능 하므로 eps보다 작을 때 종료하는 조건이 반드시 필요.\n",
    "\n",
    "```\n",
    "var = init\n",
    "grad = gradient(var)\n",
    "while(abs(grad) > eps):\n",
    "    var = var - lr*grad   #1\n",
    "    grad = gradient(var)  #2\n",
    "```\n",
    "\\#1 이 부분이 x - f'(x)을 계산하는 부분. lr 은 학습률로서 미분을 통해 업데이트하는 속도를 조절한다.\n",
    "\\#2 종료 조건이 성립하기 전까지 미분값을 계속 업데이트"
   ]
  },
  {
   "cell_type": "markdown",
   "id": "2d6b2645",
   "metadata": {},
   "source": [
    "## 만일 변수가 벡터이면?\n",
    "- 미분(differentiation)은 변수의 움직임에 따른 함수값의 변화를 측정하기 위한 도구로 최적화에서 제일 많이 사용하는 기법이다.\n",
    "- 벡터가 입력인 다변수 함수의 경우 편미분(partial differentiation)을 사용한다.\\\n",
    "    => 특정 방향의 좌표축으로 이동하는 형식의 미분\n",
    "- 각 변수 별로 편미분을 계산한 그레디언트(gradient)벡터를 이용하여 경사하강/경사상승법에 사용할 수 있다.\n",
    "```\n",
    "∇𝑓 = (∂x1𝑓,∂x2𝑓, ... , ∂xd𝑓)\n",
    "∇ : nabla\n",
    "```\n",
    "앞서 사용한 미분값인 𝑓'(x) 대신 벡터 ∇𝑓를 사용하여 변수 x = (x1,x2,x3,...,xd)를 동시에 업데이트 가능!\n",
    "\n",
    "## 그레디언트 벡터란?\n",
    "- ∇𝑓(x,y)는 각 점 (x,y)에서 가장 빨리 증가하는 방향으로 흐르게 된다.\n",
    "- -∇𝑓는 ∇(-𝑓)랑 같고 이는 각점에서 가장 빨리 감소하게 되는 방향과 같다.\n",
    "\n",
    "## 그레디언트 벡터 경사하강법 : 알고리즘\n",
    "Input : gradient, init, lr, eps, Output : var\n",
    "- gradient : **그레디언트 벡터**를 계산하는 함수\n",
    "- init : 시작점, lr : 학습률, eps : 알고리즘 종료조건\n",
    "- 컴퓨터로 계산할 때 미분이 정확히 0이 되는 것은 불가능 하므로 eps보다 작을 때 종료하는 조건이 반드시 필요.\n",
    "```\n",
    "var = init\n",
    "grad = gradient(var)\n",
    "while(norm(grad) > eps):\n",
    "    var = var - lr*grad   #1\n",
    "    grad = gradient(var)  #2\n",
    "``` \n",
    "경사하강법 알고리즘은 그대로 적용된다. 그러나 벡터는 절대값 대신 노름(norm)을 계산해서 종료조건을 설정해야 한다."
   ]
  },
  {
   "cell_type": "code",
   "execution_count": 13,
   "id": "222c211a",
   "metadata": {},
   "outputs": [
    {
     "data": {
      "text/latex": [
       "$\\displaystyle 2 x + 2 y - \\sin{\\left(x + 2 y \\right)}$"
      ],
      "text/plain": [
       "2*x + 2*y - sin(x + 2*y)"
      ]
     },
     "execution_count": 13,
     "metadata": {},
     "output_type": "execute_result"
    }
   ],
   "source": [
    "sym.diff(sym.poly(x**2 + 2*x*y + 3)+sym.cos(x+2*y),x)"
   ]
  },
  {
   "cell_type": "markdown",
   "id": "21e7a90b",
   "metadata": {},
   "source": [
    "# 경사하강법 기반 선형회귀 알고리즘\n",
    "Input : X, y, lr, T, Output : beta\n",
    "- norm : L2-노름을 계산하는 함수\n",
    "- lr : 학습률, T : 학습횟수\n",
    "\n",
    "```\n",
    "for t in range(T):\n",
    "    error = y - X @ beta\n",
    "    grad = - transpose(X) @ error\n",
    "    beta = beta - lr * grad\n",
    "```\n",
    "종료조건을 일정 학습횟수로 변경한 점만 빼고 앞에서 배운 경사하강법 알고리즘과 같다.\n",
    "\n",
    "- 이러한 경사하강법 알고리즘으로 역행렬을 이용하지 않고 회귀계수를 계산할 수 있다.\n",
    "- 그러나 경사하강법 알고리즘에선 학습률과 학습횟수가 중요한 hyperparameter가 된다\n",
    "\n",
    "## 경사하강법은 만능일까?\n",
    "- 이론적으로 경사하강법은 미분가능하고 볼록(convex)한 함수에 대해선 **적절한 학습률과 학습횟수를 선택했을 때 수렴이 보장**되어 있다.\n",
    "- 특히 선형회귀의 경우 목적식을 L2-노름을 사용하는데, L2-노름을 사용하는 성형회귀는 회귀계수 𝛽에 대해 볼록함수이기 때문에 알고리즘을 충분히 돌리면 수렴이 보장된다.\n",
    "- 하지만 비선형회귀 문제의 경우 목적식이 볼록하지 않을 수 있으므로 수렴이 항상 보장되지는 않는다. 특히 딥러닝을 사용하는 경우 목적식은 대부분 볼록함수가 아니다.\n",
    "\n",
    "\n",
    "## 확률적 경사하강법(SGD; Stochastic Gradient Descent)\n",
    "- 모든 데이터를 사용해서 업데이트(gradient)하는 대신 데이터 한개 또는 일부 활용한 후 업데이트(gradient)한다.\\\n",
    "=> 데이터 일부를 활용한다면 mini-batch SGD라 하고 한개만 활용한다면 그냥 SGD라 부른다. 요즘  대부분 mini-batch SGD\n",
    "- 볼록이 아닌 (Non-convex) 목적식은 SGD를 통해 최적화할 수 있다.\n",
    "- SGD라고 해서 만능은 아니지만 딥러닝의 경우 SGD가 경사하강법보다 실증적으로 더 낫다고 검증되었다.\n",
    "- SGD는 데이터의 일부를 가지고 패러미터를 업데이트하기 때문에 연산자원을 좀 더 효울적으로 활용하는데 도움이 된다.\n",
    "- 확률적 경사하강법은 경사하강법의 학습률과 학습횟수가 중요한거에 더하여 mini batch도 중요하다."
   ]
  },
  {
   "cell_type": "markdown",
   "id": "7904d954",
   "metadata": {},
   "source": [
    "## 확률적 경사하강법의 원리 : 미니배치 연산\n",
    "- step을 하나씩 하나씩 경사하강법을 순차적으로 적용하면 목적식의 모양이 고정되지 않고 매번 미니배치를 샘플링할 때마다 목적식의 모양이 바뀌게 된다. 그래서 바뀐 모양에서의 그래디언트 벡터를 계산하기 때문에 다른 값이 나오게 되지만 방향은 얼추 비슷한 방향으로 갈 수 가 있다. \n",
    "- 이러한 원리로 non-convex일 경우 극소점, 극대점에 도착을 해서 미분값 그래디언트 벡터 값이 0벡터가 나온다고 하더라도 확률적 경사하강법을 이용하면 극소점이나 극대점에서 목적식이 확률적으로 바뀌기 때문에 더이상 극소점, 극대점이 아니게 된다. 그래서 확률적으로 극소점, 극대점이 아니게 되면 경사하강법 원리상 원래 경사하강법에서 사용했던 그래디언트 벡터가 0이라 하더라도 목적식이 바뀐상테에서 그래디언트 벡터를 계산하게되면 값이 0이 아니기 때문에 극소점에서 탈출을 할 수 있게 된다. 이걸 이용해서 확률적 경사하강법은 non-convex라 하더라도 최소점을 찾는데 사용이 된다."
   ]
  },
  {
   "cell_type": "markdown",
   "id": "6ec12459",
   "metadata": {},
   "source": [
    "## 확률적 경사하강법의 원리 : 하드웨어\n",
    "- 256 X 256 X 3 X 1,000,000 ≈ 2^37 bytes  의 이미지 데이터 가 있다.\n",
    "- 만일 일반적인 경사하강법처럼 모든 데이터를 업로드 하면 메모리가 부족하여 Out-of-memory가 발생\n",
    "- 대신 미니배치로 데이터를 쪼갠다면 일부 이미지데이터로만 업로드 후 GPU에서 행렬 연산과 모델 패러미터를 업데이트하는 동안 CPU는 전처리와 GPU에서 업로드할 데이터를 준비한다. 그래서 빠르게 연산도 가능하고 하드웨어 적으로 극복을 할 수가 있다."
   ]
  },
  {
   "cell_type": "markdown",
   "id": "ae04d9a7",
   "metadata": {},
   "source": [
    "# 비선형모델\n",
    "- 딥러닝에서 표현되는 화살표들은 선형모델에서 표현되는 가중치 w라 생각하면 된다\n",
    "\n",
    "\n",
    "## 분류\n",
    "### 소프트맥스 연산\n",
    "- 모델의 출력을 확률로 해석할 수 있게 변환해 주는 연산\n",
    "- 분류 문제를 풀 때 선형모델과 소프트맥스 함수를 결합하여 예측\n",
    "```\n",
    "softmax(O) = softmax(Wx+b)\n",
    "```\n",
    "- 그러나 추론을 할 때는 one-hot 백터로 최대값을 가진 주소만 1로 출력하는 연산을 사용해서 softmax를 사용하지 않는다.\n",
    "    - 학습은 softmax, 추론은 one-hot"
   ]
  },
  {
   "cell_type": "code",
   "execution_count": 3,
   "id": "de3036f8",
   "metadata": {},
   "outputs": [],
   "source": [
    "def softmax(vec):\n",
    "    denumerator = np.exp(vec - np.max(vec,axis=-1,keepdims=True))\n",
    "    numerator = np.sum(denumerator, axis=-1, keepdims=True)\n",
    "    val = denumerator/numerator\n",
    "    return val"
   ]
  },
  {
   "cell_type": "code",
   "execution_count": 4,
   "id": "629ed63d",
   "metadata": {},
   "outputs": [
    {
     "data": {
      "text/plain": [
       "array([[2.44728471e-01, 6.65240956e-01, 9.00305732e-02],\n",
       "       [9.00305732e-02, 2.44728471e-01, 6.65240956e-01],\n",
       "       [2.06106005e-09, 4.53978686e-05, 9.99954600e-01]])"
      ]
     },
     "execution_count": 4,
     "metadata": {},
     "output_type": "execute_result"
    }
   ],
   "source": [
    "vec = np.array([[1,2,0],[-1,0,1],[-10,0,10]])\n",
    "softmax(vec)"
   ]
  },
  {
   "cell_type": "code",
   "execution_count": 5,
   "id": "7e658803",
   "metadata": {},
   "outputs": [],
   "source": [
    "def one_hot(val,dim):\n",
    "    return [np.eye(dim)[_] for _ in val]  # np.eye = 대각행렬 I와 같은 것."
   ]
  },
  {
   "cell_type": "code",
   "execution_count": 8,
   "id": "b7e0b881",
   "metadata": {},
   "outputs": [],
   "source": [
    "def one_hot_encoding(vec):\n",
    "    vec_dim = vec.shape[1]\n",
    "    vec_argmax = np.argmax(vec,axis=-1)\n",
    "    return one_hot(vec_argmax, vec_dim)"
   ]
  },
  {
   "cell_type": "code",
   "execution_count": 16,
   "id": "67f8cf93",
   "metadata": {},
   "outputs": [
    {
     "name": "stdout",
     "output_type": "stream",
     "text": [
      "3\n",
      "[1 2 2]\n",
      "[array([0., 1., 0.]), array([0., 0., 1.]), array([0., 0., 1.])]\n",
      "[array([0., 1., 0.]), array([0., 0., 1.]), array([0., 0., 1.])]\n"
     ]
    }
   ],
   "source": [
    "print(vec.shape[1])\n",
    "print(np.argmax(vec, axis=-1))\n",
    "print(one_hot_encoding(vec))\n",
    "print(one_hot_encoding(softmax(vec)))"
   ]
  },
  {
   "cell_type": "markdown",
   "id": "80b3c18a",
   "metadata": {},
   "source": [
    "## 활성화 함수(activation function)\n",
    "- 선형모델이나 행렬곱을 사용하지 않고 비선형 함수로서 선형모델로 나오는 각각의 출력물인 각각의 원소에 적용된다.\n",
    "- softmax와 차이점을 본다면 출력물 모든값에 다 고려를 해서 출력을 하는 반면 activation은 다른 주소에 있는 출력값을 고려하지 않고 오로지 해당하는 주소의 출력값만 갖고 계산을 하여 벡터를 input으로 받지 않고 하나의 실수값만 input으로 받는다.\n",
    "- 딥러닝에서는 선형모델로 나온 출력물을 비선형모델로 전환시킬 수 있다. 변형을 시킨 벡터를 잠재벡터 또는 히든벡터라 하며 뉴런(신경망)이라 한다.\n",
    "### 정리\n",
    "- 활성함수(activation function)는 실수값을 받아서 실수값을 출력하는 비선형 함수로서 딥러닝에서 매우 중요한 개념이다.\n",
    "- 활성함수를 쓰지 않으면 딥러닝은 선형모형과 차이가 없다.\n",
    "- 시그모이드(sigmoid) 함수나 tanh 함수는 전통적으로 많이 쓰이던 활성함수지만 딥러닝에서는 ReLU함수를 많이 쓰고 있다.\n",
    "- 신경망은 선형모델과 활성함수(activation function)를 합성한 함수이다.\n",
    "- 선형모델과 활성함수를 반복적으로 사용하는 것이 오늘날의 딥러닝의 기본적인 모습\n",
    "- 가중치 행렬이 n개면 n층(n-layer) 신경망이라 한다. 그래서 신경망이 여러층 합성된 함수인 다층(Multi-layer)퍼셉트론(MLP)라 한다.\n",
    "- 활성화 함수를 씌울때 활성화 함수는 각 벡터에 개별적으로 적용이되는 것이고 각 벡터에 적용할 때도 각 벡터에 들어가는 요소들에 개별적으로 들어가게 된다.\n",
    "- MLP의 패러미터는 L개의 가중치 행렬 W(L),...,W(2),W(1)과 L개의 y 절편 b(L),...,b(2),b(1)로 이루어져 있다.\n",
    "- ℓ = 1,...,L 까지 순차적인 신경망 계산을 순전파(Forward propagation)라 부른다.\n",
    "#### Forward propagation은 학습이 아니라 주어진 입력이 왔을 때 출력을 내뱉는 과정을 표현하는 연산이다.\n",
    "\n",
    "### 순차적으로 표현한다면\n",
    "X(input) => W1(가중치 행렬) => Z1 => activation function => H(잠재벡터) => W2(가중치 행렬) => Z2 => ... => Zℓ\n",
    "\n",
    "\n",
    "### 왜 층을 여러개 쌓는가?\n",
    "- 이론적으로는 2층 신경망으로도 임의의 연속함수를 근사할 수 있다. 그러나 실제로는 그렇지 않다.\n",
    "- 층이 깊을수록 목적함수를 근사하는데 필요한 뉴런(노드)의 숫자가 훨씬 빨리 줄어들어 좀 더 효율적으로 학습이 가능하다.\n",
    "    - 층이 깊을수록 적은 패러미터로도 복잡한 함수를 표현할 수 있다.\n",
    "    - 층이 얇으면 필요한 뉴런의 숫자가 기하급수적으로 늘어나서 넓은(wide) 신경망이 되어야 한다.\n",
    "- 주의할점!\n",
    "    - 층이 깊다고 해서 복잡한 함수로 근사는 할 수 있지만 그렇다고 해서 최적화가 더 쉽다고는 할 수 없다. 좀더 복잡한 함수를 표현하면 할 수록 최적화는 많은 노력을 기울여야 한다. 그래서 층이 깊으면 깊을 수록 딥러닝 학습은 어려워 질 수 있다."
   ]
  },
  {
   "cell_type": "markdown",
   "id": "716521d8",
   "metadata": {},
   "source": [
    "# 딥러닝 학습원리 : 역전파 알고리즘(Back propagation)\n",
    "- 딥러닝은 역전파(back propagation) 알고리즘을 이용하여 각 층에 사용된 패러미터 {W, b}를 학습한다.\n",
    "- 손실함수를 L이라 했을 때 역전파 알고리즘의 목적은 각각의 가중치 행렬 W(ℓ)에 대해서 손실함수 L에 대한 미분을 계산할 때 사용된다. ∂L / ∂W(ℓ)\n",
    "- 역전파 알고리즘은 먼저 위층의 그레디언트를 계산한 다음에 점점 밑에 층으로 가면서 그레디언트 벡터를 계산하면서 업데이트를 하는 방식이다.\n",
    "- 각 층 패러미터의 그레디언트 벡터를 계산한 다음에 윗층부터 역순으로 그레디언트 벡터를 전달하면서 계산하게 된다.\n",
    "    - 역전파는 ℓ = L,...,1 순서로 연쇄법칙(합성함수의 미분법)을 통해 그레디언트 벡터를 전달한다.\n",
    "- 역전파 알고리즘은 합성함수 미분법인 연쇄법칙(chain-rule)기반 자동미분(auto-differentiation)을 사용한다. 이것이 오늘날 딥러닝 프레임워크에서 딥러닝을 학습시키는 방법.\n",
    "- 연쇄법칙의 작동원리가 그대로 동작하는 것이 바로 딥러닝에서 사용되는 역전파 알고리즘.\n",
    "- 각 노드의 텐서(각 뉴런에 해당하는 값)값을 컴퓨터가 기억해야 미분 계산이 가능하기 때문에 순전파보다 역전파가 메모리를 더 많이 사용한다.\n",
    "- 딥러닝을 학습시킬때는 이렇게 계산한(연쇄법칙을 이용한 계산) 각각의 가중치 행렬에 대한 그레디언트 벡터를 SGD이용해서 각각의 패러미터들을 mini-batch로 번갈아가며 학습을 하게되고 번갈아가며 학습을 하게 되므로서 주어진 목적식을 최소화하는 패러미터들을 찾을 수 있고 이러한 원리가 딥러닝의 학습 원리....\n",
    "\n",
    "## 정리\n",
    "딥러닝은 선형모델과 활성함수로 이루어진 층이 여러개로 이루어진 합성함수이며, 합성함수다보니 그레디언트를 계산하려면 연쇄법칙이 필요한 것이고, 연쇄법칙을 적용한 학습방법 알고리즘이 역전파(back propagation)이다. 즉 back propagation을 활용하여 그레디언트를 계산\n"
   ]
  },
  {
   "cell_type": "code",
   "execution_count": null,
   "id": "3b22dfbb",
   "metadata": {},
   "outputs": [],
   "source": []
  }
 ],
 "metadata": {
  "kernelspec": {
   "display_name": "Python 3 (ipykernel)",
   "language": "python",
   "name": "python3"
  },
  "language_info": {
   "codemirror_mode": {
    "name": "ipython",
    "version": 3
   },
   "file_extension": ".py",
   "mimetype": "text/x-python",
   "name": "python",
   "nbconvert_exporter": "python",
   "pygments_lexer": "ipython3",
   "version": "3.9.7"
  }
 },
 "nbformat": 4,
 "nbformat_minor": 5
}
