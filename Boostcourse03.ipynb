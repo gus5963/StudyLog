{
 "cells": [
  {
   "cell_type": "markdown",
   "id": "42015703",
   "metadata": {},
   "source": [
    "# Numerical Python - Numpy\n",
    "- 파이썬의 고성능 과학 계산용 페키지\n",
    "- Matrix와 Vector와 같은 Array연산의 사실상의 표준\n",
    "## Numpy 특징\n",
    "- 일반 list에 비해 빠르고, 메모리 효율적\n",
    "- 반복문 없이 데이터 배열에 대한 처리를 지원함\n",
    "- 선형대수와 관련된 다양한 기능을 제공항\n",
    "- c, c++, 포트란 등의 언어와 통합가능\n",
    "## ndarray\n",
    "- numpy 는 np.array 함수를 활용하여 배열을 생성한다. => ndarray\n",
    "- numpy는 하나의 데이터 type만 배열에 넣을 수 있음\n",
    "- list와 가장 큰 차이점, Dynamic typing not supported\n",
    "- C의 Array를 사용하여 배열을 생성함"
   ]
  },
  {
   "cell_type": "code",
   "execution_count": 5,
   "id": "8036e489",
   "metadata": {},
   "outputs": [
    {
     "name": "stdout",
     "output_type": "stream",
     "text": [
      "[1. 2. 3. 4.]\n"
     ]
    },
    {
     "data": {
      "text/plain": [
       "array([1., 2., 3., 4.])"
      ]
     },
     "metadata": {},
     "output_type": "display_data"
    },
    {
     "name": "stdout",
     "output_type": "stream",
     "text": [
      "(4,)\n"
     ]
    }
   ],
   "source": [
    "import numpy as np\n",
    "test_array = np.array([1,2,3,4],float)  # data type을 설정하게되면 다 통일된다.\n",
    "print(test_array)\n",
    "display(test_array)\n",
    "type(test_array[3])\n",
    "print(test_array.shape)  # Array의 shape"
   ]
  },
  {
   "cell_type": "code",
   "execution_count": null,
   "id": "bc8e374c",
   "metadata": {},
   "outputs": [],
   "source": []
  }
 ],
 "metadata": {
  "kernelspec": {
   "display_name": "Python 3 (ipykernel)",
   "language": "python",
   "name": "python3"
  },
  "language_info": {
   "codemirror_mode": {
    "name": "ipython",
    "version": 3
   },
   "file_extension": ".py",
   "mimetype": "text/x-python",
   "name": "python",
   "nbconvert_exporter": "python",
   "pygments_lexer": "ipython3",
   "version": "3.9.7"
  }
 },
 "nbformat": 4,
 "nbformat_minor": 5
}
