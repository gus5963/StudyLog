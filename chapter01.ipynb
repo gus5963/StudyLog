{
 "cells": [
  {
   "cell_type": "markdown",
   "id": "be373620",
   "metadata": {},
   "source": [
    "# PYTHON 이론 교육 복습"
   ]
  },
  {
   "cell_type": "markdown",
   "id": "d7e7f972",
   "metadata": {},
   "source": [
    "## 목차\n",
    "* python이란\n",
    "* 출력\n",
    "* 변수\n",
    "* 타입"
   ]
  },
  {
   "cell_type": "markdown",
   "id": "f3b7c445",
   "metadata": {},
   "source": [
    "#### 기계어 번역 방식 2가지\n",
    "1. 컴파일 방식  \n",
    "    장 : 모든 명령을 한꺼번에 번역해 놓고 일괄 실행하여 속도가 빠르다.  \n",
    "    단 : 번역과 링크까지 완료되어야 실행할 수 있어 프로그램을 완벽하게 작성해야 하며 구조가 복잡  \n",
    "      \n",
    "2. 인터프리터 방식  \n",
    "    장 : 명령을 하나씩 번역하여 즉시 실행하기 때문에 단순하다. 명령을 내리는 즉시 결과를 볼 수 있고 대화식으로 실행할 수 있어 간편  \n",
    "    단 : 명령어를 만날 때마다 즉시 번역해서 실행하기 때문에 속도가 느리다.\n",
    "  \n",
    "#### ***Python은 인터프리터 방식***\n"
   ]
  },
  {
   "cell_type": "markdown",
   "id": "f62e5371",
   "metadata": {},
   "source": [
    "python 실행 모드\n",
    "1. 대화식 모드  \n",
    "    - 명령을 기다리다 입력 즉시 응답한다. 즉 질문을 하면 대답을 하는 식\n",
    "    - 저장이나 실행 명령을 내릴 필요없이 명령만 입력하면 결과를 즉시 볼 수 있다.\n",
    "    - 단, 매번 직접 입력해야하기 때문에 길고 복잡한 프로그램을 짜기에는 불편\n",
    "    \n",
    "      \n",
    "2. 스크립트 모드  \n",
    "    - 텍스트 파일에 일련의 명령을 작성하여 한꺼번에 순차적으로 실행하는 방식\n",
    "    - 명령어가 파일에 저장되어 있어 필요할 때 약간씩 바꿔가며 실행해 볼 수 있다.\n",
    "   "
   ]
  },
  {
   "cell_type": "markdown",
   "id": "b9eea97c",
   "metadata": {},
   "source": [
    "## 출력\n",
    "\n",
    "print(출력 내용, [, sep = 구분자] [, end = 끝 문자])\n",
    "\n",
    "기본 형식에서 [] 괄호로 싼 부분은 필요할 때만 적는 옵션값이어서 생략이 가능하다"
   ]
  },
  {
   "cell_type": "code",
   "execution_count": 11,
   "id": "546bc225",
   "metadata": {},
   "outputs": [
    {
     "name": "stdout",
     "output_type": "stream",
     "text": [
      "python starting...\n",
      "\n",
      "가나다\n",
      "라마바\n",
      "사아자\n",
      "\n"
     ]
    }
   ],
   "source": [
    "print('python starting...') \n",
    "print('''\n",
    "가나다\n",
    "라마바\n",
    "사아자\n",
    "''')"
   ]
  },
  {
   "cell_type": "code",
   "execution_count": 13,
   "id": "a7828bb2",
   "metadata": {},
   "outputs": [
    {
     "name": "stdout",
     "output_type": "stream",
     "text": [
      "PHS~\n",
      "my name is 'PHS'\n",
      "my name is \"PHS\"\n",
      "오늘은 뭘 먹을까?\n"
     ]
    }
   ],
   "source": [
    "print(\"PHS~\")\n",
    "print(\"my name is 'PHS'\")\n",
    "print('my name is \"PHS\"')\n",
    "print(\"오늘은\",\"뭘\",\"먹을까?\")"
   ]
  },
  {
   "cell_type": "code",
   "execution_count": 14,
   "id": "9534f696",
   "metadata": {},
   "outputs": [
    {
     "name": "stdout",
     "output_type": "stream",
     "text": [
      "p!y!t!h!o!n\n"
     ]
    }
   ],
   "source": [
    "# separator option 입력한 값 사이의 공백을 내가 원하는 식으로 채워 넣는 것\n",
    "print('p','y','t','h','o','n',sep='_')"
   ]
  },
  {
   "cell_type": "code",
   "execution_count": 17,
   "id": "1cf866f5",
   "metadata": {},
   "outputs": [
    {
     "name": "stdout",
     "output_type": "stream",
     "text": [
      "my name is\n",
      "PHS\n",
      "\n",
      "my name is PHS\n"
     ]
    }
   ],
   "source": [
    "# end option 입력한 줄 사이의 공백을 내가 원하는 식으로 채워 넣는 것\n",
    "print('my name is')\n",
    "print('PHS')\n",
    "print()\n",
    "print('my name is', end=' ')\n",
    "print('PHS')"
   ]
  },
  {
   "cell_type": "code",
   "execution_count": 18,
   "id": "e5cf7856",
   "metadata": {},
   "outputs": [
    {
     "name": "stdout",
     "output_type": "stream",
     "text": [
      "12^^34^^56-->78\n"
     ]
    }
   ],
   "source": [
    "print(12,34,56,sep='^^', end = '-->')\n",
    "print(78)"
   ]
  },
  {
   "cell_type": "markdown",
   "id": "faa1128a",
   "metadata": {},
   "source": [
    "### format  \n",
    "d, s, f\n",
    "\n",
    "* %d(정수)\n",
    "* %s(문자열)\n",
    "* %f(실수)\n",
    "* %c(문자하나)\n",
    "* %h(16진수)\n",
    "* %o(8진수)\n",
    "* %%(%문자사용)\n",
    "\n",
    "**assign은 순서대로 할당된다.**  \n",
    "* 순서를 정하고 싶으면 { } 안에 0 ~ 9까지 숫자를 할당"
   ]
  },
  {
   "cell_type": "code",
   "execution_count": 2,
   "id": "347c6616",
   "metadata": {},
   "outputs": [
    {
     "name": "stdout",
     "output_type": "stream",
     "text": [
      "나이 : 31 성별 : 남\n",
      "나이 : 24 성별 : 여\n"
     ]
    }
   ],
   "source": [
    "print('나이 : {} 성별 : {}'.format(31,'남'))\n",
    "print('나이 : {1} 성별 : {0}'.format('여',24))"
   ]
  },
  {
   "cell_type": "code",
   "execution_count": 4,
   "id": "3132564d",
   "metadata": {},
   "outputs": [
    {
     "name": "stdout",
     "output_type": "stream",
     "text": [
      "장소 : 아파트, 연락처 : 24343333, 몸무게 : 50.200000 kg\n"
     ]
    }
   ],
   "source": [
    "print('장소 : %s, 연락처 : %d, 몸무게 : %f kg'%('아파트',24343333,50.2))"
   ]
  },
  {
   "cell_type": "code",
   "execution_count": 48,
   "id": "7172011b",
   "metadata": {},
   "outputs": [
    {
     "name": "stdout",
     "output_type": "stream",
     "text": [
      "변수를 활용하여 포멧팅 해보기\n",
      "자장면 가격 : 5000원\n"
     ]
    }
   ],
   "source": [
    "print('변수를 활용하여 포멧팅 해보기')\n",
    "price = 5000\n",
    "print(\"자장면 가격 : %d원\"%price)"
   ]
  },
  {
   "cell_type": "code",
   "execution_count": 49,
   "id": "a5128799",
   "metadata": {
    "scrolled": true
   },
   "outputs": [
    {
     "name": "stdout",
     "output_type": "stream",
     "text": [
      "자릿수 지정 가능\n",
      "      nice\n",
      "nice      \n"
     ]
    }
   ],
   "source": [
    "print('자릿수 지정 가능')\n",
    "print('%10s'%('nice'))  # 왼쪽에 빈칸을 채워넣는다.\n",
    "print('%-10s'%('nice')) # 오른쪽에 빈칸을 채워넣는다."
   ]
  },
  {
   "cell_type": "code",
   "execution_count": 52,
   "id": "8d02c77b",
   "metadata": {
    "scrolled": true
   },
   "outputs": [
    {
     "name": "stdout",
     "output_type": "stream",
     "text": [
      "###123###\n",
      "###123###\n",
      "###123###\n",
      "###  123###\n",
      "###       123###\n",
      "123\n",
      "123\n",
      " 123\n",
      "  123\n",
      "    123\n"
     ]
    }
   ],
   "source": [
    "value = 123\n",
    "print(\"###%d###\"%value)  \n",
    "print(\"###%1d###\"%value)\n",
    "print(\"###%3d###\"%value)\n",
    "print(\"###%5d###\"%value)\n",
    "print(\"###%10d###\"%value)\n",
    "print(\"%d\"%value)\n",
    "print(\"%1d\"%value)\n",
    "print(\"%4d\"%value)\n",
    "print(\"%5d\"%value)\n",
    "print(\"%7d\"%value)"
   ]
  },
  {
   "cell_type": "code",
   "execution_count": 56,
   "id": "f0569496",
   "metadata": {},
   "outputs": [
    {
     "name": "stdout",
     "output_type": "stream",
     "text": [
      "가격:    300원\n",
      "가격:   1000원\n",
      "가격:  30000원\n",
      "가격:300    원\n",
      "가격:1000   원\n",
      "가격:30000  원\n"
     ]
    }
   ],
   "source": [
    "price = [300, 1000, 30000]\n",
    "for i in price:\n",
    "    print(\"가격:%7d원\"%i)\n",
    "for i in price:\n",
    "    print(\"가격:%-7d원\"%i)"
   ]
  },
  {
   "cell_type": "code",
   "execution_count": 12,
   "id": "0ae0ea4d",
   "metadata": {
    "scrolled": true
   },
   "outputs": [
    {
     "name": "stdout",
     "output_type": "stream",
     "text": [
      "자릿수를 초과하면 문자열을 그대로 다 출력하게 된다.\n",
      "pythonIsVeryGood\n",
      "\n",
      "지정한 자릿수를 초과하는 문자열을 절삭하려면 . 을 사용하면 된다.\n",
      "python\n"
     ]
    }
   ],
   "source": [
    "print('자릿수를 초과하면 문자열을 그대로 다 출력하게 된다.')\n",
    "print('%6s'%('pythonIsVeryGood'))\n",
    "print()\n",
    "print('지정한 자릿수를 초과하는 문자열을 절삭하려면 . 을 사용하면 된다.')\n",
    "print('%.6s'%('pythonIsVeryGood'))"
   ]
  },
  {
   "cell_type": "code",
   "execution_count": 17,
   "id": "520c236c",
   "metadata": {},
   "outputs": [
    {
     "name": "stdout",
     "output_type": "stream",
     "text": [
      "3.141592\n",
      "<class 'tuple'>\n",
      "3.14\n"
     ]
    }
   ],
   "source": [
    "# %f(floating) 기본적으로 실수는 6자리까지만 출력하고 이후 자리수는 반올림 (6부터 올림)\n",
    "print('%f' %(3.141592, ))\n",
    "floatt = (3.141592,)\n",
    "print('floatt type is :',type(floatt))\n",
    "'''\n",
    "실수도 동일하게 자릿수를 정할 수 있다. \n",
    "정수부분과 소수부분 따로 구분지어서 정하는 것도 가능함\n",
    "'''\n",
    "print('%1.2f' %(3.141592, ))"
   ]
  },
  {
   "cell_type": "code",
   "execution_count": 60,
   "id": "311ac0bd",
   "metadata": {},
   "outputs": [
    {
     "name": "stdout",
     "output_type": "stream",
     "text": [
      "이름 : PHS, 나이 : 23, 키 : 100\n"
     ]
    }
   ],
   "source": [
    "boy = {'name':'PHS','age':23,'height':100}\n",
    "print('이름 : {0[name]}, 나이 : {0[age]}, 키 : {0[height]}'.format(boy))"
   ]
  },
  {
   "cell_type": "code",
   "execution_count": 71,
   "id": "6af6a7fc",
   "metadata": {},
   "outputs": [
    {
     "name": "stdout",
     "output_type": "stream",
     "text": [
      "이름 : PHS, 나이 : 23, 키 : 100.300000\n",
      "이름 : PHS  , 나이 :       23, 키 :   100.30\n",
      "별다른 정렬 지정이 없으면 문자열은 왼쪽, 수치값은 오른쪽 정렬\n",
      "정렬 지정은 < 왼쪽, > 오른쪽, ^ 가운데\n",
      "이름 :  PHS  , 나이 :       23, 키 : 100.30  \n",
      "이름 : #PHS##, 나이 : $$$$$$23, 키 : 100.30%%\n"
     ]
    }
   ],
   "source": [
    "name='PHS'\n",
    "age=23\n",
    "height=100.3\n",
    "print('이름 : {0:s}, 나이 : {1:d}, 키 : {2:f}'.format(name,age,height))\n",
    "print('이름 : {0:5s}, 나이 : {1:8d}, 키 : {2:8.2f}'.format(name,age,height))\n",
    "print('별다른 정렬 지정이 없으면 문자열은 왼쪽, 수치값은 오른쪽 정렬')\n",
    "print('정렬 지정은 < 왼쪽, > 오른쪽, ^ 가운데')\n",
    "print('이름 : {0:^6s}, 나이 : {1:>8d}, 키 : {2:<8.2f}'.format(name,age,height))\n",
    "print('이름 : {0:#^6s}, 나이 : {1:$>8d}, 키 : {2:%<8.2f}'.format(name,age,height))"
   ]
  },
  {
   "cell_type": "markdown",
   "id": "e7fab802",
   "metadata": {},
   "source": [
    "## 변수  \n",
    "데이터를 담는 그릇과 같다.  \n",
    "  \n",
    "**변수 선언 방법**\n",
    "- Camel Case : numberOfCollageGraduates ★\n",
    "- Pascal Case : NumberOfCollageGraduates\n",
    "- Snake Case : number_of_collage_graduates ★\n",
    "\n",
    "<u>***변수의 타입 체크는 정말 중요!***</u>\n",
    "\n",
    "<h3 style=\"color:red;\">주의!</h3>  \n",
    "<p>1. 숫자로 시작할 수 없다.</p>\n",
    "<p>2. 특수문자 _ 허용</p>\n",
    "<p>3. 대소문자를 구별한다.</p>  \n",
    "<p>4. 예약어는 변수로 사용할 수 없다.(keyword.kwlist에서 확인가능)</p>"
   ]
  },
  {
   "cell_type": "code",
   "execution_count": 27,
   "id": "054d76c4",
   "metadata": {},
   "outputs": [
    {
     "name": "stdout",
     "output_type": "stream",
     "text": [
      "2022 1 30 <class 'int'> <class 'int'> <class 'int'>\n",
      "오늘은 2022년 1월 30일 입니다.\n"
     ]
    }
   ],
   "source": [
    "year   = 2022\n",
    "months = 1\n",
    "days   = 30\n",
    "print(year, months, days, type(year), type(months), type(days))\n",
    "print('오늘은 {}년 {}월 {}일 입니다.' .format(year, months, days))"
   ]
  },
  {
   "cell_type": "code",
   "execution_count": 29,
   "id": "b771513b",
   "metadata": {},
   "outputs": [],
   "source": [
    "intValue   = 123\n",
    "floatValue = 3.14\n",
    "boolValue  = True\n",
    "strValue   = 'PHS'"
   ]
  },
  {
   "cell_type": "code",
   "execution_count": 39,
   "id": "4f7132c9",
   "metadata": {},
   "outputs": [
    {
     "name": "stdout",
     "output_type": "stream",
     "text": [
      "intValue type : <class 'int'>\n",
      "floatValue type :<class 'float'>\n",
      "boolValue type : <class 'bool'>\n",
      "strValue type : <class 'str'>\n",
      "126.14\n",
      "123PHS\n"
     ]
    }
   ],
   "source": [
    "print('intValue type : {}\\nfloatValue type :{}\\nboolValue type : {}\\nstrValue type : {}'.format(type(intValue),type(floatValue),type(boolValue),type(strValue)))\n",
    "print(intValue + floatValue)\n",
    "#print(intValue + strValue)  # 불가능\n",
    "# 형변환 숫자에서 문자열로 변환 가능\n",
    "print( str(intValue) + strValue)"
   ]
  },
  {
   "cell_type": "code",
   "execution_count": 42,
   "id": "603590fc",
   "metadata": {
    "scrolled": true
   },
   "outputs": [
    {
     "name": "stdout",
     "output_type": "stream",
     "text": [
      "string => boolean : False <class 'bool'>\n",
      "boolean => int : 0 <class 'int'>\n",
      "string => boolean : True <class 'bool'>\n",
      "boolean => int : 1 <class 'int'>\n"
     ]
    }
   ],
   "source": [
    "# 파이썬은 모든 변수를 boolean으로 바꿀 수 있다.\n",
    "name = ''\n",
    "names = 'good'\n",
    "print('string => boolean :', bool(name),type(bool(name)) )\n",
    "print('boolean => int :', int(bool(name)),type(int(bool(name)) ))\n",
    "print('string => boolean :', bool(names),type(bool(names)) )\n",
    "print('boolean => int :',  int(bool(names)),type(int(bool(names)) ))"
   ]
  },
  {
   "cell_type": "markdown",
   "id": "7eff7b7e",
   "metadata": {},
   "source": [
    "## 타입\n",
    "### 1. 수치형\n",
    "- **정수형**  \n",
    "=> 98 / 1200 / -123  \n",
    "=> 2, 8 , 16진법\n",
    "| 진법 | 접두 | 사용가능한 숫자 | 예\n",
    "|---|:---:|---:|---:|\n",
    "|`16진법`|0x|0~9,a~f|0x2f|\n",
    "|`8진법`|0o|0~7|0o17|\n",
    "|`2진법`|0b|0,1|ob1101|\n",
    "\n",
    "- **실수형**  \n",
    "=> 67.5 / 89.76 / -3.14  \n",
    "=> 가수e지수 9,64e12(9.64*10^12)\n",
    "- **복소수형**  \n",
    "=> 실수부 + 허수부j\n",
    "\n",
    "### 2. 문자열\n",
    "- **문자열**  \n",
    "=> \"Hello World\" / 'hello World' / \"my name is 'PHS' \"\n",
    "- **확장열**  \n",
    "| 확장열 | 설명 |\n",
    "|---|:---:|\n",
    "|`\\n` | 개행|\n",
    "|`\\t` | 탭|\n",
    "|`\\\"` | 큰따옴표|\n",
    "|`\\'` | 작은따옴표|\n",
    "|`\\\\` | \\ 문자사용|  \n",
    "\n",
    "    =>  파일경로 표기 : print(r\"c:\\temp\\new.txt\") *r(Raw) 을 사용*\n",
    "- **긴문자열**  \n",
    "=> `\"\"\" \"\"\"` 사용  \n",
    "=> 행 계속 문자는 `\\` 를 사용한다.  \n",
    "\n",
    "### 3. 그 외의 타입\n",
    "- **진위형**  \n",
    "=>  True / False  \n",
    "- **컬렉션 소개**  \n",
    "=> ['a','b','c','d','e','f']  \n",
    "=> ('a','b','c','d','e','f','g')\n"
   ]
  },
  {
   "cell_type": "code",
   "execution_count": null,
   "id": "66f2d89e",
   "metadata": {},
   "outputs": [],
   "source": []
  }
 ],
 "metadata": {
  "kernelspec": {
   "display_name": "Python 3 (ipykernel)",
   "language": "python",
   "name": "python3"
  },
  "language_info": {
   "codemirror_mode": {
    "name": "ipython",
    "version": 3
   },
   "file_extension": ".py",
   "mimetype": "text/x-python",
   "name": "python",
   "nbconvert_exporter": "python",
   "pygments_lexer": "ipython3",
   "version": "3.9.7"
  }
 },
 "nbformat": 4,
 "nbformat_minor": 5
}
