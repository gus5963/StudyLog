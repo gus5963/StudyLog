{
 "cells": [
  {
   "cell_type": "markdown",
   "id": "f7fdaadf",
   "metadata": {},
   "source": [
    "# 목차\n",
    "* 문자열 분리\n",
    "* List\n",
    "* Tuple\n",
    "* Dictionary\n",
    "* Set\n",
    "* mutable & immutable"
   ]
  },
  {
   "cell_type": "markdown",
   "id": "8cf559cd",
   "metadata": {},
   "source": [
    "## 문자열 분리"
   ]
  },
  {
   "cell_type": "markdown",
   "id": "ab8f5d52",
   "metadata": {},
   "source": [
    "### Index"
   ]
  },
  {
   "cell_type": "code",
   "execution_count": 9,
   "id": "c82625bb",
   "metadata": {},
   "outputs": [
    {
     "name": "stdout",
     "output_type": "stream",
     "text": [
      "p\n",
      "n\n"
     ]
    }
   ],
   "source": [
    "s = 'python'\n",
    "print(s[0])  # 앞에서 셀 때는 0부터\n",
    "print(s[-1]) # 뒤에서 셀 떄는 -1부터"
   ]
  },
  {
   "cell_type": "markdown",
   "id": "0d9e12fa",
   "metadata": {},
   "source": [
    "**※ 파이썬의 문자열은 immutable이여서 다른 문자를 대입하거나 삽입, 삭제 할 수 없다.**"
   ]
  },
  {
   "cell_type": "code",
   "execution_count": 12,
   "id": "4eac022c",
   "metadata": {},
   "outputs": [
    {
     "ename": "TypeError",
     "evalue": "'str' object does not support item assignment",
     "output_type": "error",
     "traceback": [
      "\u001b[0;31m---------------------------------------------------------------------------\u001b[0m",
      "\u001b[0;31mTypeError\u001b[0m                                 Traceback (most recent call last)",
      "\u001b[0;32m/var/folders/28/zb5jqy4s6kn2xld_bfr5mpdw0000gn/T/ipykernel_35129/58290242.py\u001b[0m in \u001b[0;36m<module>\u001b[0;34m\u001b[0m\n\u001b[0;32m----> 1\u001b[0;31m \u001b[0ms\u001b[0m\u001b[0;34m[\u001b[0m\u001b[0;36m2\u001b[0m\u001b[0;34m]\u001b[0m \u001b[0;34m=\u001b[0m \u001b[0;34m's'\u001b[0m\u001b[0;34m\u001b[0m\u001b[0;34m\u001b[0m\u001b[0m\n\u001b[0m",
      "\u001b[0;31mTypeError\u001b[0m: 'str' object does not support item assignment"
     ]
    }
   ],
   "source": [
    "s[2] = 's'"
   ]
  },
  {
   "cell_type": "markdown",
   "id": "7aae0940",
   "metadata": {},
   "source": [
    "### Slice\n",
    "[ begin : end : step ]  \n",
    "-> begin 위치는 **<u>포함</u>**, end 위치는 미포함되어 **<u>직전까지만</u>** 추출  \n",
    "-> begin이 빈칸일 경우 맨 처음부터  \n",
    "-> end가 빈칸일 경우 맨 뒤까지"
   ]
  },
  {
   "cell_type": "code",
   "execution_count": 25,
   "id": "3a178d38",
   "metadata": {},
   "outputs": [
    {
     "name": "stdout",
     "output_type": "stream",
     "text": [
      "bcde\n",
      "cdefghijklmnopqrstuvwxyz\n",
      "abcd\n",
      "acegi\n",
      "z\n",
      "xy\n",
      "acegikmoqsuwy\n",
      "bdfhjlnprtvxz\n",
      "zyxwvutsrqponmlkjihgfedcba\n",
      "zxvtrpnljhfdb\n",
      "ywusqomkigeca\n"
     ]
    }
   ],
   "source": [
    "s='abcdefghijklmnopqrstuvwxyz'\n",
    "print(s[1:5])\n",
    "print(s[2:])\n",
    "print(s[:4])\n",
    "print(s[0:10:2])\n",
    "print(s[-1:])\n",
    "print(s[-3:-1])\n",
    "print(s[::2])    # 홀수번째\n",
    "print(s[1::2])   # 짝수번째\n",
    "print(s[::-1])   # 역순\n",
    "print(s[::-2])   # 역순 홀수번째\n",
    "print(s[-2::-2]) # 역순 짝수번째"
   ]
  },
  {
   "cell_type": "markdown",
   "id": "bdaa8100",
   "metadata": {},
   "source": [
    "## List"
   ]
  },
  {
   "cell_type": "code",
   "execution_count": 7,
   "id": "83efd11e",
   "metadata": {},
   "outputs": [
    {
     "name": "stdout",
     "output_type": "stream",
     "text": [
      "elements type : <class 'tuple'>\n",
      "ex01 type :  <class 'list'>\n",
      "ex02 type :  <class 'list'>\n",
      "ex02 = ex01 Ture or False : True\n"
     ]
    }
   ],
   "source": [
    "# list( ) or [ ]\n",
    "elements = 'PHS','Phs','pHs','phS'\n",
    "ex01 = list(elements)\n",
    "ex02 = ['PHS','Phs','pHs','phS']\n",
    "print('elements type :',type(elements))\n",
    "print('ex01 type : ',type(ex01))\n",
    "print('ex02 type : ',type(ex02))\n",
    "print('ex02 = ex01 Ture or False :',type(ex01)==type(ex02))"
   ]
  },
  {
   "cell_type": "code",
   "execution_count": null,
   "id": "be81b212",
   "metadata": {},
   "outputs": [],
   "source": []
  }
 ],
 "metadata": {
  "kernelspec": {
   "display_name": "Python 3 (ipykernel)",
   "language": "python",
   "name": "python3"
  },
  "language_info": {
   "codemirror_mode": {
    "name": "ipython",
    "version": 3
   },
   "file_extension": ".py",
   "mimetype": "text/x-python",
   "name": "python",
   "nbconvert_exporter": "python",
   "pygments_lexer": "ipython3",
   "version": "3.9.7"
  }
 },
 "nbformat": 4,
 "nbformat_minor": 5
}
